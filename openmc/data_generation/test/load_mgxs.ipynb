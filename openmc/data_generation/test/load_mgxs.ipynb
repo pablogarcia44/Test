{
 "cells": [
  {
   "cell_type": "code",
   "execution_count": 1,
   "id": "4ca83729-56d3-4e6b-9f91-027f6d3d6943",
   "metadata": {},
   "outputs": [],
   "source": [
    "import sys\n",
    "import os \n",
    "import openmc\n",
    "import numpy as np\n",
    "import matplotlib.pyplot as plt\n",
    "import openmc.mgxs as mgxs\n",
    "import pandas as pd\n",
    "from IPython.display import Image\n",
    "import glob"
   ]
  },
  {
   "cell_type": "markdown",
   "id": "7c208c33-a3cc-4715-88d2-50a9afc179fa",
   "metadata": {},
   "source": [
    "### Import Output datas"
   ]
  },
  {
   "cell_type": "code",
   "execution_count": 2,
   "id": "0e73644f-6a21-4123-85ff-1ca450011b09",
   "metadata": {},
   "outputs": [
    {
     "name": "stderr",
     "output_type": "stream",
     "text": [
      "/home/pablo/anaconda3/envs/openmc-env/lib/python3.12/site-packages/openmc/mixin.py:70: IDWarning: Another Material instance already exists with id=1.\n",
      "  warn(msg, IDWarning)\n",
      "/home/pablo/anaconda3/envs/openmc-env/lib/python3.12/site-packages/openmc/mixin.py:70: IDWarning: Another Material instance already exists with id=2.\n",
      "  warn(msg, IDWarning)\n",
      "/home/pablo/anaconda3/envs/openmc-env/lib/python3.12/site-packages/openmc/mixin.py:70: IDWarning: Another Material instance already exists with id=3.\n",
      "  warn(msg, IDWarning)\n",
      "/home/pablo/anaconda3/envs/openmc-env/lib/python3.12/site-packages/openmc/mixin.py:70: IDWarning: Another Surface instance already exists with id=1.\n",
      "  warn(msg, IDWarning)\n",
      "/home/pablo/anaconda3/envs/openmc-env/lib/python3.12/site-packages/openmc/mixin.py:70: IDWarning: Another Surface instance already exists with id=2.\n",
      "  warn(msg, IDWarning)\n",
      "/home/pablo/anaconda3/envs/openmc-env/lib/python3.12/site-packages/openmc/mixin.py:70: IDWarning: Another Surface instance already exists with id=3.\n",
      "  warn(msg, IDWarning)\n",
      "/home/pablo/anaconda3/envs/openmc-env/lib/python3.12/site-packages/openmc/mixin.py:70: IDWarning: Another Surface instance already exists with id=4.\n",
      "  warn(msg, IDWarning)\n",
      "/home/pablo/anaconda3/envs/openmc-env/lib/python3.12/site-packages/openmc/mixin.py:70: IDWarning: Another Surface instance already exists with id=5.\n",
      "  warn(msg, IDWarning)\n",
      "/home/pablo/anaconda3/envs/openmc-env/lib/python3.12/site-packages/openmc/mixin.py:70: IDWarning: Another Surface instance already exists with id=6.\n",
      "  warn(msg, IDWarning)\n",
      "/home/pablo/anaconda3/envs/openmc-env/lib/python3.12/site-packages/openmc/mixin.py:70: IDWarning: Another Surface instance already exists with id=7.\n",
      "  warn(msg, IDWarning)\n",
      "/home/pablo/anaconda3/envs/openmc-env/lib/python3.12/site-packages/openmc/mixin.py:70: IDWarning: Another Surface instance already exists with id=8.\n",
      "  warn(msg, IDWarning)\n",
      "/home/pablo/anaconda3/envs/openmc-env/lib/python3.12/site-packages/openmc/mixin.py:70: IDWarning: Another Surface instance already exists with id=9.\n",
      "  warn(msg, IDWarning)\n",
      "/home/pablo/anaconda3/envs/openmc-env/lib/python3.12/site-packages/openmc/mixin.py:70: IDWarning: Another Surface instance already exists with id=10.\n",
      "  warn(msg, IDWarning)\n",
      "/home/pablo/anaconda3/envs/openmc-env/lib/python3.12/site-packages/openmc/mixin.py:70: IDWarning: Another Surface instance already exists with id=11.\n",
      "  warn(msg, IDWarning)\n",
      "/home/pablo/anaconda3/envs/openmc-env/lib/python3.12/site-packages/openmc/mixin.py:70: IDWarning: Another Surface instance already exists with id=12.\n",
      "  warn(msg, IDWarning)\n",
      "/home/pablo/anaconda3/envs/openmc-env/lib/python3.12/site-packages/openmc/mixin.py:70: IDWarning: Another Surface instance already exists with id=13.\n",
      "  warn(msg, IDWarning)\n",
      "/home/pablo/anaconda3/envs/openmc-env/lib/python3.12/site-packages/openmc/mixin.py:70: IDWarning: Another Lattice instance already exists with id=1.\n",
      "  warn(msg, IDWarning)\n",
      "/home/pablo/anaconda3/envs/openmc-env/lib/python3.12/site-packages/openmc/mixin.py:70: IDWarning: Another UniverseBase instance already exists with id=3.\n",
      "  warn(msg, IDWarning)\n",
      "/home/pablo/anaconda3/envs/openmc-env/lib/python3.12/site-packages/openmc/mixin.py:70: IDWarning: Another UniverseBase instance already exists with id=2.\n",
      "  warn(msg, IDWarning)\n",
      "/home/pablo/anaconda3/envs/openmc-env/lib/python3.12/site-packages/openmc/mixin.py:70: IDWarning: Another Cell instance already exists with id=1.\n",
      "  warn(msg, IDWarning)\n",
      "/home/pablo/anaconda3/envs/openmc-env/lib/python3.12/site-packages/openmc/mixin.py:70: IDWarning: Another Cell instance already exists with id=2.\n",
      "  warn(msg, IDWarning)\n",
      "/home/pablo/anaconda3/envs/openmc-env/lib/python3.12/site-packages/openmc/mixin.py:70: IDWarning: Another Cell instance already exists with id=3.\n",
      "  warn(msg, IDWarning)\n",
      "/home/pablo/anaconda3/envs/openmc-env/lib/python3.12/site-packages/openmc/mixin.py:70: IDWarning: Another Cell instance already exists with id=4.\n",
      "  warn(msg, IDWarning)\n",
      "/home/pablo/anaconda3/envs/openmc-env/lib/python3.12/site-packages/openmc/mixin.py:70: IDWarning: Another Cell instance already exists with id=5.\n",
      "  warn(msg, IDWarning)\n",
      "/home/pablo/anaconda3/envs/openmc-env/lib/python3.12/site-packages/openmc/mixin.py:70: IDWarning: Another Cell instance already exists with id=6.\n",
      "  warn(msg, IDWarning)\n",
      "/home/pablo/anaconda3/envs/openmc-env/lib/python3.12/site-packages/openmc/mixin.py:70: IDWarning: Another UniverseBase instance already exists with id=4.\n",
      "  warn(msg, IDWarning)\n",
      "/home/pablo/anaconda3/envs/openmc-env/lib/python3.12/site-packages/openmc/mixin.py:70: IDWarning: Another Filter instance already exists with id=132.\n",
      "  warn(msg, IDWarning)\n",
      "/home/pablo/anaconda3/envs/openmc-env/lib/python3.12/site-packages/openmc/mixin.py:70: IDWarning: Another Filter instance already exists with id=2.\n",
      "  warn(msg, IDWarning)\n",
      "/home/pablo/anaconda3/envs/openmc-env/lib/python3.12/site-packages/openmc/mixin.py:70: IDWarning: Another Filter instance already exists with id=11.\n",
      "  warn(msg, IDWarning)\n",
      "/home/pablo/anaconda3/envs/openmc-env/lib/python3.12/site-packages/openmc/mixin.py:70: IDWarning: Another Filter instance already exists with id=10.\n",
      "  warn(msg, IDWarning)\n",
      "/home/pablo/anaconda3/envs/openmc-env/lib/python3.12/site-packages/openmc/mixin.py:70: IDWarning: Another Filter instance already exists with id=15.\n",
      "  warn(msg, IDWarning)\n",
      "/home/pablo/anaconda3/envs/openmc-env/lib/python3.12/site-packages/openmc/mixin.py:70: IDWarning: Another Tally instance already exists with id=123.\n",
      "  warn(msg, IDWarning)\n",
      "/home/pablo/anaconda3/envs/openmc-env/lib/python3.12/site-packages/openmc/mixin.py:70: IDWarning: Another Tally instance already exists with id=110.\n",
      "  warn(msg, IDWarning)\n",
      "/home/pablo/anaconda3/envs/openmc-env/lib/python3.12/site-packages/openmc/mixin.py:70: IDWarning: Another Tally instance already exists with id=111.\n",
      "  warn(msg, IDWarning)\n",
      "/home/pablo/anaconda3/envs/openmc-env/lib/python3.12/site-packages/openmc/mixin.py:70: IDWarning: Another Tally instance already exists with id=118.\n",
      "  warn(msg, IDWarning)\n",
      "/home/pablo/anaconda3/envs/openmc-env/lib/python3.12/site-packages/openmc/mixin.py:70: IDWarning: Another Tally instance already exists with id=119.\n",
      "  warn(msg, IDWarning)\n"
     ]
    }
   ],
   "source": [
    "sp_file='/home/pablo/internship/perso/openmc/data_generation/statepoint_ce.h5'\n",
    "sm_file='/home/pablo/internship/perso/openmc/data_generation/summary_ce.h5'\n",
    "sm=openmc.Summary(sm_file)\n",
    "sp = openmc.StatePoint(sp_file)\n",
    "sp.link_with_summary(sm)\n",
    "model=openmc.model.Model\n",
    "model_file='/home/pablo/internship/perso/openmc/data_generation/model.xml'\n",
    "model=openmc.model.Model.from_model_xml(model_file)"
   ]
  },
  {
   "cell_type": "markdown",
   "id": "bbbb3f06-a975-4b07-a13f-0aad5059df71",
   "metadata": {},
   "source": [
    "### Recreate Library"
   ]
  },
  {
   "cell_type": "code",
   "execution_count": 3,
   "id": "fc61b7d5-71e3-4270-8c7b-bd8dc7cd54de",
   "metadata": {},
   "outputs": [
    {
     "name": "stderr",
     "output_type": "stream",
     "text": [
      "/home/pablo/anaconda3/envs/openmc-env/lib/python3.12/site-packages/openmc/mgxs/library.py:401: RuntimeWarning: The P0 correction will be ignored since the scattering order 3 is greater than zero\n",
      "  warn(msg, RuntimeWarning)\n"
     ]
    }
   ],
   "source": [
    "mgxs_lib = openmc.mgxs.Library(model.geometry)\n",
    "groups = openmc.mgxs.EnergyGroups(openmc.mgxs.GROUP_STRUCTURES['XMAS-172'])\n",
    "mgxs_lib.energy_groups = groups\n",
    "mgxs_lib.scatter_format = \"legendre\"\n",
    "mgxs_lib.legendre_order = 3\n",
    "mgxs_lib.mgxs_types = ['total', 'absorption', 'fission', 'nu-fission', 'chi', 'scatter matrix', 'nu-scatter matrix', 'inverse-velocity']\n",
    "mgxs_lib.tally_trigger =openmc.Trigger('std_dev', 1e-2)\n",
    "mgxs_lib.by_nuclide = False\n",
    "mgxs_lib.domain_type = 'cell'\n",
    "mgxs_lib.domains = model.geometry.get_all_material_cells().values()\n",
    "mgxs_lib.build_library()\n",
    "mgxs_lib.load_from_statepoint(sp)\n"
   ]
  },
  {
   "cell_type": "markdown",
   "id": "3f6d0d50-fcc3-4e20-8ea5-7e478fe8430f",
   "metadata": {},
   "source": [
    "mgxs_file='/home/pablo/internship/perso/openmc/data_generation/mgxs.h5'\n",
    "openmc.MGXSLibrary.from_hdf5(mgxs_file)\n",
    "print(openmc.MGXSLibrary.xsdatas)"
   ]
  },
  {
   "cell_type": "markdown",
   "id": "b08a1257-9f1b-49f5-ad1d-430d84616ef9",
   "metadata": {},
   "source": [
    "### Post Processing"
   ]
  },
  {
   "cell_type": "code",
   "execution_count": 4,
   "id": "fa62a909-811f-48b5-906d-d51ec3bbfc24",
   "metadata": {},
   "outputs": [],
   "source": [
    "def cell_domain(cell_name):\n",
    "    for k in range(len(mgxs_lib.domains)):\n",
    "        if mgxs_lib.domains[k].name==cell_name:\n",
    "            return(mgxs_lib.domains[k].id)"
   ]
  },
  {
   "cell_type": "code",
   "execution_count": 5,
   "id": "2d2e59fd-5718-46f8-8ff2-5f3325e0812a",
   "metadata": {},
   "outputs": [],
   "source": [
    "def mgxs_value(X,reaction,cell_type):  \n",
    "    cell_name=cell_type+'_'+str(X[0])+'_'+str(X[1])\n",
    "    cell=cell_domain(cell_name)\n",
    "    mgxs_plot = mgxs_lib.get_mgxs(cell, reaction)\n",
    "    mgxs=mgxs_plot.get_pandas_dataframe(xs_type='macro')['mean'].values\n",
    "    return(mgxs)"
   ]
  },
  {
   "cell_type": "code",
   "execution_count": 6,
   "id": "02c8718e-c4ac-424b-b213-b778b5649af7",
   "metadata": {},
   "outputs": [
    {
     "data": {
      "text/plain": [
       "array([3.05802987e-02, 2.91275214e-02, 2.65976512e-02, 2.29294364e-02,\n",
       "       2.28108959e-02, 2.29910014e-02, 2.17384163e-02, 1.70662918e-02,\n",
       "       1.30804906e-02, 1.26764773e-02, 1.27563460e-02, 1.23848879e-02,\n",
       "       1.24577109e-02, 1.26719530e-02, 1.25864115e-02, 1.14335035e-02,\n",
       "       7.33396966e-03, 2.42014994e-03, 1.51484289e-03, 1.31248752e-03,\n",
       "       1.19655605e-03, 9.63297205e-04, 8.02957527e-04, 7.67064182e-04,\n",
       "       7.67262030e-04, 7.75860440e-04, 8.06227102e-04, 8.23034996e-04,\n",
       "       8.30801071e-04, 8.52143386e-04, 8.88494004e-04, 9.57937330e-04,\n",
       "       1.01085755e-03, 1.05981829e-03, 1.12337227e-03, 1.18642180e-03,\n",
       "       1.23571726e-03, 1.29660070e-03, 1.35650290e-03, 1.39772831e-03,\n",
       "       1.42334284e-03, 1.55078855e-03, 1.66217250e-03, 1.82755230e-03,\n",
       "       2.02214398e-03, 2.08944988e-03, 2.28573042e-03, 2.61516449e-03,\n",
       "       2.94629709e-03, 3.21299889e-03, 3.52808078e-03, 3.65274960e-03,\n",
       "       4.29768154e-03, 3.95100073e-03, 5.28191031e-03, 5.81846097e-03,\n",
       "       5.16881083e-03, 6.16896612e-03, 7.91007357e-03, 9.08879946e-03,\n",
       "       8.15173087e-03, 9.75427591e-03, 1.35503060e-02, 1.31485203e-02,\n",
       "       1.01684686e-02, 1.51498619e-02, 1.75623921e-02, 2.36360337e-02,\n",
       "       2.38233619e-02, 3.22999456e-02, 3.70301823e-02, 2.15773616e-02,\n",
       "       2.24519511e-02, 2.73609131e-02, 7.67011284e-02, 2.67546995e-02,\n",
       "       1.27188896e-02, 2.72365647e-02, 3.52524601e-02, 1.58213706e-02,\n",
       "       4.24773118e-02, 2.49930813e-02, 3.50636828e-02, 1.15518521e-02,\n",
       "       3.51473841e-02, 1.27098933e-01, 3.05505785e-03, 2.65097499e-02,\n",
       "       1.26716113e-02, 4.87556591e-03, 3.63802951e-03, 1.65346063e-03,\n",
       "       1.90275867e-02, 1.19726009e-02, 1.91626957e-02, 5.44796309e-03,\n",
       "       5.17546594e-03, 6.06847296e-03, 6.70135691e-03, 7.50989398e-03,\n",
       "       8.98422766e-03, 1.51991970e-02, 1.24951697e-02, 9.31659347e-03,\n",
       "       9.22547746e-03, 9.41866030e-03, 9.71010771e-03, 1.01395122e-02,\n",
       "       1.05382287e-02, 1.08312559e-02, 1.18253880e-02, 1.38484077e-02,\n",
       "       1.59068566e-02, 1.90601015e-02, 4.27524260e-02, 6.85999277e-02,\n",
       "       7.57241998e-02, 7.54699773e-02, 7.21603281e-02, 6.59566073e-02,\n",
       "       5.78983355e-02, 5.31569855e-02, 5.04531343e-02, 4.69827927e-02,\n",
       "       4.46538786e-02, 4.32446428e-02, 4.16282441e-02, 4.01836521e-02,\n",
       "       3.92017345e-02, 3.81444029e-02, 3.76733379e-02, 3.77037612e-02,\n",
       "       3.80554252e-02, 3.91038945e-02, 4.22546210e-02, 4.78913844e-02,\n",
       "       5.41607816e-02, 5.79015640e-02, 6.40921376e-02, 7.44185943e-02,\n",
       "       8.12757616e-02, 9.22954228e-02, 1.11553623e-01, 1.21728118e-01,\n",
       "       1.26837838e-01, 1.33030197e-01, 1.33485585e-01, 1.27123115e-01,\n",
       "       1.23652965e-01, 1.24925755e-01, 1.28535448e-01, 1.36327468e-01,\n",
       "       1.42858970e-01, 1.51821045e-01, 1.66163661e-01, 1.76306375e-01,\n",
       "       1.89513633e-01, 2.02215458e-01, 2.13866565e-01, 2.33441361e-01,\n",
       "       2.54986689e-01, 2.80387103e-01, 3.10574087e-01, 3.41428807e-01,\n",
       "       3.74350675e-01, 4.16899906e-01, 4.75967288e-01, 5.66878758e-01,\n",
       "       6.93603719e-01, 8.30034119e-01, 1.01288835e+00, 1.49698463e+00])"
      ]
     },
     "execution_count": 6,
     "metadata": {},
     "output_type": "execute_result"
    }
   ],
   "source": [
    "mgxs_value((0,0),'fission','fuel')"
   ]
  },
  {
   "cell_type": "code",
   "execution_count": null,
   "id": "f8d415f9-b2bd-4cca-b7b5-f2cb9d35b551",
   "metadata": {},
   "outputs": [],
   "source": []
  }
 ],
 "metadata": {
  "kernelspec": {
   "display_name": "Python 3 (ipykernel)",
   "language": "python",
   "name": "python3"
  },
  "language_info": {
   "codemirror_mode": {
    "name": "ipython",
    "version": 3
   },
   "file_extension": ".py",
   "mimetype": "text/x-python",
   "name": "python",
   "nbconvert_exporter": "python",
   "pygments_lexer": "ipython3",
   "version": "3.12.3"
  }
 },
 "nbformat": 4,
 "nbformat_minor": 5
}
