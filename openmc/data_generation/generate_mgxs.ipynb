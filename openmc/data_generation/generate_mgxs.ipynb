{
 "cells": [
  {
   "cell_type": "markdown",
   "id": "cdd8a24a-a018-4a2b-aaed-7eae9c99a62b",
   "metadata": {},
   "source": [
    "# 3x3 assembly inputfile that: "
   ]
  },
  {
   "cell_type": "markdown",
   "id": "880099d7-f1e0-4a4f-9a03-3d4c52de6943",
   "metadata": {},
   "source": [
    "### Import module/Set up XS path/Create openMC model/Clean directory"
   ]
  },
  {
   "cell_type": "code",
   "execution_count": 1,
   "id": "e4b5e472-92fe-4d54-b9df-c70131c052a1",
   "metadata": {},
   "outputs": [],
   "source": [
    "import sys\n",
    "import os \n",
    "import openmc\n",
    "import numpy as np\n",
    "import matplotlib.pyplot as plt\n",
    "import openmc.mgxs as mgxs\n",
    "import pandas as pd\n",
    "from IPython.display import Image\n",
    "import glob"
   ]
  },
  {
   "cell_type": "markdown",
   "id": "1c6bc5c7-2dcc-40b3-98c0-f0b7fc3f5ac5",
   "metadata": {},
   "source": [
    "### Ragusa environnement"
   ]
  },
  {
   "cell_type": "markdown",
   "id": "99b24d1d-e008-48ce-bdee-c3878c477f87",
   "metadata": {},
   "source": [
    "import os\n",
    "\n",
    "# Add path to OpenMC binary\n",
    "# os.environ['PATH'] += r':/path/to/openmc/bin'\n",
    "os.environ['PATH'] += r':/Users/jean.ragusa/repo/openmc/local/bin'\n",
    "\n",
    "# Add location of OpenMC xs data\n",
    "%env OPENMC_CROSS_SECTIONS=/Users/jean.ragusa/repo/endfb-viii.0-hdf5/cross_sections.xml\n",
    "# %env OPENMC_CROSS_SECTIONS=/Users/jean.ragusa/repo/nndc_hdf5/cross_sections.xml"
   ]
  },
  {
   "cell_type": "markdown",
   "id": "e02f7d89-8f36-4c72-80d6-f1b53646d94e",
   "metadata": {},
   "source": [
    "### Pablo environnement"
   ]
  },
  {
   "cell_type": "code",
   "execution_count": 2,
   "id": "1e7cc449-037d-4c4f-aa2e-6f21e06bd185",
   "metadata": {},
   "outputs": [
    {
     "name": "stdout",
     "output_type": "stream",
     "text": [
      "env: OPENMC_CROSS_SECTIONS=/home/pablo/internship/xs_for_input/cross_sections.xml\n"
     ]
    }
   ],
   "source": [
    "%env OPENMC_CROSS_SECTIONS=/home/pablo/internship/xs_for_input/cross_sections.xml\n",
    "model=openmc.Model()\n",
    "\n",
    "clean_file_list = [\"model.xml\", \"materials.xml\", \"geometry.xml\",\"plots.xml\",\"geometry.xml\",\"settings.xml\",\"tallies.out\",\"summary.h5\",\"statepoint.50.h5\"]\n",
    "\n",
    "for file in clean_file_list :\n",
    "    path_file = os.path.join(os.getcwd(), file)\n",
    "    if os.path.exists(path_file):\n",
    "        os.remove(path_file)\n",
    "\n"
   ]
  },
  {
   "cell_type": "markdown",
   "id": "7b2a5c4c-b0cb-49df-a4a9-1b9cdee5609b",
   "metadata": {},
   "source": [
    "### Define Materials"
   ]
  },
  {
   "cell_type": "code",
   "execution_count": 3,
   "id": "50dee80c-d7a7-49e1-99ef-5094e87b5808",
   "metadata": {},
   "outputs": [],
   "source": [
    "uo2 = openmc.Material(name='uo2')\n",
    "uo2.add_nuclide('U235', 0.03)\n",
    "uo2.add_nuclide('U238', 0.97)\n",
    "uo2.add_nuclide('O16', 2.0)\n",
    "uo2.set_density('g/cm3', 10.0)\n",
    "zirconium = openmc.Material(name=\"zirconium\")\n",
    "zirconium.add_element('Zr', 1.0)\n",
    "zirconium.set_density('g/cm3', 6.6)\n",
    "water = openmc.Material(name=\"water\")\n",
    "water.add_nuclide('H1', 2.0)\n",
    "water.add_nuclide('O16', 1.0)\n",
    "water.set_density('g/cm3', 1.0)\n",
    "water.add_s_alpha_beta('c_H_in_H2O')\n",
    "\n",
    "    \n",
    "model.materials = openmc.Materials([uo2, zirconium, water]) \n",
    "model.materials.cross_sections = '/home/pablo/internship/xs_for_input/cross_sections.xml'\n",
    "\n",
    "model.materials.export_to_xml()"
   ]
  },
  {
   "cell_type": "markdown",
   "id": "ffd5255c-47f3-4394-836f-140dddeef018",
   "metadata": {},
   "source": [
    "### Create pincell"
   ]
  },
  {
   "cell_type": "code",
   "execution_count": 4,
   "id": "035e9bfb-7a4d-4a19-93bc-8e720035fd3b",
   "metadata": {},
   "outputs": [],
   "source": [
    "def pincell(index_x,index_y):\n",
    "    fuel_outer_radius = openmc.ZCylinder(r=0.39)\n",
    "    clad_inner_radius = openmc.ZCylinder(r=0.40)\n",
    "    clad_outer_radius = openmc.ZCylinder(r=0.46)\n",
    "    pitch = 1.26\n",
    "    \n",
    "    left = openmc.XPlane(-pitch/2, boundary_type='transmission')\n",
    "    right = openmc.XPlane(pitch/2, boundary_type='transmission')\n",
    "    bottom = openmc.YPlane(-pitch/2, boundary_type='transmission')\n",
    "    top = openmc.YPlane(pitch/2, boundary_type='transmission')\n",
    "    \n",
    "    fuel_region = -fuel_outer_radius\n",
    "    gap_region = +fuel_outer_radius & -clad_inner_radius\n",
    "    clad_region = +clad_inner_radius & -clad_outer_radius\n",
    "    water_region = +left & -right & +bottom & -top & +clad_outer_radius\n",
    "    \n",
    "    fuel = openmc.Cell(name='fuel'+'_'+str(index_x)+'_'+str(index_y))\n",
    "    fuel.fill = uo2\n",
    "    fuel.region = fuel_region\n",
    "    gap = openmc.Cell(name='gap'+'_'+str(index_x)+'_'+str(index_y))\n",
    "    gap.region = gap_region\n",
    "    clad = openmc.Cell(name='clad'+'_'+str(index_x)+'_'+str(index_y))\n",
    "    clad.fill = zirconium\n",
    "    clad.region = clad_region\n",
    "    moderator = openmc.Cell(name='moderator'+'_'+str(index_x)+'_'+str(index_y))\n",
    "    moderator.fill = water\n",
    "    moderator.region = water_region\n",
    "    \n",
    "    u = openmc.Universe(name='u'+'_'+str(index_x)+'_'+str(index_y),cells=(fuel, gap, clad, moderator))\n",
    "    return(u,fuel,gap,clad,moderator)"
   ]
  },
  {
   "cell_type": "markdown",
   "id": "54553cbc-a489-4d17-985b-5d3c7427e819",
   "metadata": {},
   "source": [
    "### Create guide tube"
   ]
  },
  {
   "cell_type": "code",
   "execution_count": 5,
   "id": "5bc2f291-46b1-4d26-96cd-be3b66cbb53b",
   "metadata": {},
   "outputs": [],
   "source": [
    "def guide(index_x,index_y):\n",
    "    \n",
    "    clad_inner_radius = openmc.ZCylinder(r=0.5610)\n",
    "    clad_outer_radius = openmc.ZCylinder(r=0.6020)\n",
    "    pitch = 1.26\n",
    "    \n",
    "    left = openmc.XPlane(-pitch/2, boundary_type='transmission')\n",
    "    right = openmc.XPlane(pitch/2, boundary_type='transmission')\n",
    "    bottom = openmc.YPlane(-pitch/2, boundary_type='transmission')\n",
    "    top = openmc.YPlane(pitch/2, boundary_type='transmission')\n",
    "    \n",
    "    \n",
    "    \n",
    "    clad_region = +clad_inner_radius & -clad_outer_radius\n",
    "    water_region = +left & -right & +bottom & -top & +clad_outer_radius\n",
    "    water_guide_region= -clad_inner_radius\n",
    "\n",
    "    water_guide = openmc.Cell(name='water_guide'+'_'+str(index_x)+'_'+str(index_y))\n",
    "    water_guide.fill = water\n",
    "    water_guide.region = water_guide_region\n",
    "    clad = openmc.Cell(name='clad_guide'+'_'+str(index_x)+'_'+str(index_y))\n",
    "    clad.fill = zirconium\n",
    "    clad.region = clad_region\n",
    "    moderator = openmc.Cell(name='moderator'+'_'+str(index_x)+'_'+str(index_y))\n",
    "    moderator.fill = water\n",
    "    moderator.region = water_region\n",
    "    \n",
    "    u = openmc.Universe(name='u_guide'+'_'+str(index_x)+'_'+str(index_y),cells=(water_guide, clad, moderator))\n",
    "    return(u,water_guide,water_guide,clad,moderator)"
   ]
  },
  {
   "cell_type": "markdown",
   "id": "6367df82-7c94-493c-b736-10a8d34cf7de",
   "metadata": {},
   "source": [
    "### Define assembly"
   ]
  },
  {
   "cell_type": "code",
   "execution_count": 6,
   "id": "f4ed7020-661c-42ed-8772-7786f6d55470",
   "metadata": {},
   "outputs": [],
   "source": [
    "assembly = openmc.RectLattice()\n",
    "pitch=1.26\n",
    "\n",
    "dr=2e-1 # cm of water that is outside assembly\n",
    "size=1 #size of the assembly \n",
    "pitch_assembly=size*pitch+2*dr #(17x1,26)\n",
    "assembly.pitch = (pitch,pitch)\n",
    "\n",
    "assembly.lower_left = (-size/2*pitch, -size/2*pitch)\n",
    "\n",
    "# Template for guide tube position \n",
    "# template_x = np.array([1])\n",
    "# template_y = np.array([1])\n",
    "\n",
    "\n",
    "#template 17x17\n",
    "template_x = np.array([5, 8, 11, 3, 13, 2, 5, 8, 11, 14, 2, 5, 8,\n",
    "                           11, 14, 2, 5, 8, 11, 14, 3, 13, 5, 8, 11])\n",
    "template_y = np.array([2, 2, 2, 3, 3, 5, 5, 5, 5, 5, 8, 8, 8, 8,\n",
    "                           8, 11, 11, 11, 11, 11, 13, 13, 14, 14, 14])\n",
    "\n",
    "\n",
    "\n",
    "A= np.empty((size, size), dtype=openmc.universe.Universe)\n",
    "\n",
    "for ix in range(size):\n",
    "    for iy in range(size):\n",
    "        indices_x = np.where(template_x == ix)[0]\n",
    "        indices_y = np.where(template_y == iy)[0]\n",
    "        if any(i in indices_y for i in indices_x):\n",
    "            A[ix][iy]=guide(ix,iy)[0]\n",
    "        else:\n",
    "            A[ix][iy]=pincell(ix,iy)[0]\n",
    "\n",
    "        \n",
    "assembly.universes = A\n",
    "\n",
    "moderator_outside = openmc.Cell()\n",
    "moderator_outside.fill = water\n",
    "all_water = openmc.Universe()\n",
    "all_water.add_cell(moderator_outside)\n",
    "assembly.outer=all_water\n",
    "\n",
    "\n",
    "# full assembly\n",
    "# min_x = openmc.XPlane(x0=-pitch_assembly/2, boundary_type='reflective')\n",
    "# max_x = openmc.XPlane(x0=+pitch_assembly/2, boundary_type='reflective')\n",
    "# min_y = openmc.YPlane(y0=-pitch_assembly/2, boundary_type='reflective')\n",
    "# max_y = openmc.YPlane(y0=+pitch_assembly/2, boundary_type='reflective')\n",
    "# min_z = openmc.ZPlane(z0=-10., boundary_type='reflective')\n",
    "# max_z = openmc.ZPlane(z0=+10., boundary_type='reflective')\n",
    "\n",
    "# 1/4 assembly\n",
    "min_x = openmc.XPlane(x0=-(size/2*pitch+dr), boundary_type='reflective')\n",
    "max_x = openmc.XPlane(x0=0, boundary_type='reflective')\n",
    "min_y = openmc.YPlane(y0=0, boundary_type='reflective')\n",
    "max_y = openmc.YPlane(y0=+(size/2*pitch+dr), boundary_type='reflective')\n",
    "min_z = openmc.ZPlane(z0=-10., boundary_type='reflective')\n",
    "max_z = openmc.ZPlane(z0=+10., boundary_type='reflective')\n",
    "\n",
    "\n",
    "root_cell = openmc.Cell(name='root cell', fill=assembly)\n",
    "root_cell.region = +min_x & -max_x & +min_y & -max_y & +min_z & -max_z\n",
    "\n",
    "model.geometry.root_universe = openmc.Universe(name='root universe')\n",
    "model.geometry.root_universe.add_cell(root_cell)\n",
    "\n",
    "model.geometry.export_to_xml()"
   ]
  },
  {
   "cell_type": "markdown",
   "id": "cb57e6ef-e360-4240-b603-5c9388897f2f",
   "metadata": {},
   "source": [
    "### Plot assembly"
   ]
  },
  {
   "cell_type": "code",
   "execution_count": 7,
   "id": "e0624b2a-f160-4fb4-8a69-995d9b7f7e65",
   "metadata": {},
   "outputs": [
    {
     "data": {
      "image/png": "[encoded data removed]",
      "text/plain": [
       "<IPython.core.display.Image object>"
      ]
     },
     "execution_count": 7,
     "metadata": {},
     "output_type": "execute_result"
    }
   ],
   "source": [
    "plot = openmc.Plot.from_geometry(model.geometry)\n",
    "plot.pixels = (500, 500)\n",
    "plot.width = (pitch_assembly+dr, pitch_assembly+dr)\n",
    "plot.origin = (0., 0., 0)\n",
    "plot.color_by = 'cell'\n",
    "# plot.colors = {\n",
    "#     water: 'blue',\n",
    "#     zirconium: 'black',\n",
    "#     helium: 'yellow',\n",
    "#     uo2_in: (100, 0, 0),\n",
    "#     uo2_out: (255, 0, 0)\n",
    "# }\n",
    "plot.to_ipython_image()"
   ]
  },
  {
   "cell_type": "markdown",
   "id": "90c73240-9aae-4a8e-ab35-fbc68032fb85",
   "metadata": {},
   "source": [
    "### Choose settings"
   ]
  },
  {
   "cell_type": "code",
   "execution_count": 8,
   "id": "42b13809-e8ac-45b5-8e4d-af2f00a57694",
   "metadata": {},
   "outputs": [],
   "source": [
    "\n",
    "\n",
    "bounds = [-pitch_assembly/2, 0, -10, 0, +pitch_assembly/2, 10]\n",
    "uniform_dist = openmc.stats.Box(bounds[:3], bounds[3:], only_fissionable=True)\n",
    "source = openmc.IndependentSource(space=uniform_dist)\n",
    "\n",
    "# source = openmc.IndependentSource()\n",
    "# source.space = openmc.stats.Point((0.1,0.1,0.))\n",
    "# source.angle = openmc.stats.Isotropic()\n",
    "# source.energy = openmc.stats.Discrete([10.0e6], [1.0])\n",
    "source.time = openmc.stats.Uniform(0, 1e-6)\n",
    "settings = openmc.Settings()\n",
    "settings.source = source\n",
    "settings = openmc.Settings()\n",
    "settings.source = source\n",
    "settings.batches = 50\n",
    "settings.inactive = 10\n",
    "settings.particles = 5000\n",
    "settings.output = {'tallies':True}\n",
    "model.settings = settings\n",
    "model.settings.export_to_xml()"
   ]
  },
  {
   "cell_type": "markdown",
   "id": "709977dc-3ea8-48a7-ab09-bb9cecc54ffa",
   "metadata": {},
   "source": [
    "### Define and choose energy group"
   ]
  },
  {
   "cell_type": "code",
   "execution_count": 9,
   "id": "fbc12bc6-1180-46b2-af7e-d54c0cedb555",
   "metadata": {},
   "outputs": [],
   "source": [
    "choose_group=openmc.mgxs.GROUP_STRUCTURES['XMAS-172']\n",
    "name_group='XMAS172'"
   ]
  },
  {
   "cell_type": "markdown",
   "id": "c4e87c13-a743-4039-b93c-001057d7b3af",
   "metadata": {},
   "source": [
    "### Create MGXS tallies for mgxs directory"
   ]
  },
  {
   "cell_type": "code",
   "execution_count": 10,
   "id": "a323cc06-df7d-48a6-9cf1-c79117dad6b0",
   "metadata": {
    "scrolled": true
   },
   "outputs": [
    {
     "name": "stderr",
     "output_type": "stream",
     "text": [
      "/home/pablo/anaconda3/envs/openmc-env/lib/python3.12/site-packages/openmc/mgxs/library.py:401: RuntimeWarning: The P0 correction will be ignored since the scattering order 3 is greater than zero\n",
      "  warn(msg, RuntimeWarning)\n",
      "/home/pablo/anaconda3/envs/openmc-env/lib/python3.12/site-packages/openmc/mixin.py:70: IDWarning: Another Filter instance already exists with id=132.\n",
      "  warn(msg, IDWarning)\n",
      "/home/pablo/anaconda3/envs/openmc-env/lib/python3.12/site-packages/openmc/mixin.py:70: IDWarning: Another Filter instance already exists with id=2.\n",
      "  warn(msg, IDWarning)\n",
      "/home/pablo/anaconda3/envs/openmc-env/lib/python3.12/site-packages/openmc/mixin.py:70: IDWarning: Another Filter instance already exists with id=10.\n",
      "  warn(msg, IDWarning)\n"
     ]
    }
   ],
   "source": [
    "mgxs_lib = openmc.mgxs.Library(model.geometry)\n",
    "groups = openmc.mgxs.EnergyGroups(choose_group)\n",
    "mgxs_lib.energy_groups = groups\n",
    "mgxs_lib.scatter_format = \"legendre\"\n",
    "mgxs_lib.legendre_order = 3\n",
    "mgxs_lib.mgxs_types = ['total', 'absorption', 'fission', 'nu-fission', 'chi', 'scatter matrix', 'nu-scatter matrix', 'inverse-velocity']\n",
    "mgxs_lib.tally_trigger =openmc.Trigger('std_dev', 1e-2)\n",
    "mgxs_lib.by_nuclide = False\n",
    "mgxs_lib.domain_type = 'cell'\n",
    "mgxs_lib.domains = model.geometry.get_all_material_cells().values()\n",
    "mgxs_lib.build_library()\n",
    "tallies = openmc.Tallies()\n",
    "mgxs_lib.add_to_tallies_file(tallies, merge=True)\n",
    "#tally_flux.merge_tallies()\n",
    "model.tallies = tallies\n",
    "#print(model.tallies)\n",
    "model.export_to_xml()"
   ]
  },
  {
   "cell_type": "code",
   "execution_count": 11,
   "id": "f1747f1e-0f2b-4e00-8dfb-79a0a0cd9cb5",
   "metadata": {},
   "outputs": [
    {
     "name": "stdout",
     "output_type": "stream",
     "text": [
      "[Machine2:03820] mca_base_component_repository_open: unable to open mca_btl_openib: librdmacm.so.1: cannot open shared object file: No such file or directory (ignored)\n",
      "                                %%%%%%%%%%%%%%%\n",
      "                           %%%%%%%%%%%%%%%%%%%%%%%%\n",
      "                        %%%%%%%%%%%%%%%%%%%%%%%%%%%%%%\n",
      "                      %%%%%%%%%%%%%%%%%%%%%%%%%%%%%%%%%%\n",
      "                    %%%%%%%%%%%%%%%%%%%%%%%%%%%%%%%%%%%%%%\n",
      "                   %%%%%%%%%%%%%%%%%%%%%%%%%%%%%%%%%%%%%%%%\n",
      "                                    %%%%%%%%%%%%%%%%%%%%%%%%\n",
      "                                     %%%%%%%%%%%%%%%%%%%%%%%%\n",
      "                 ###############      %%%%%%%%%%%%%%%%%%%%%%%%\n",
      "                ##################     %%%%%%%%%%%%%%%%%%%%%%%\n",
      "                ###################     %%%%%%%%%%%%%%%%%%%%%%%\n",
      "                ####################     %%%%%%%%%%%%%%%%%%%%%%\n",
      "                #####################     %%%%%%%%%%%%%%%%%%%%%\n",
      "                ######################     %%%%%%%%%%%%%%%%%%%%\n",
      "                #######################     %%%%%%%%%%%%%%%%%%\n",
      "                 #######################     %%%%%%%%%%%%%%%%%\n",
      "                 ######################     %%%%%%%%%%%%%%%%%\n",
      "                  ####################     %%%%%%%%%%%%%%%%%\n",
      "                    #################     %%%%%%%%%%%%%%%%%\n",
      "                     ###############     %%%%%%%%%%%%%%%%\n",
      "                       ############     %%%%%%%%%%%%%%%\n",
      "                          ########     %%%%%%%%%%%%%%\n",
      "                                      %%%%%%%%%%%\n",
      "\n",
      "                 | The OpenMC Monte Carlo Code\n",
      "       Copyright | 2011-2023 MIT, UChicago Argonne LLC, and contributors\n",
      "         License | https://docs.openmc.org/en/latest/license.html\n",
      "         Version | 0.14.0\n",
      "        Git SHA1 | e1a8ee7794b441c992426f17fafe216391cbba83\n",
      "       Date/Time | 2024-05-30 20:11:43\n",
      "   MPI Processes | 1\n",
      "  OpenMP Threads | 5\n",
      "\n",
      " Reading model XML file './model.xml' ...\n",
      " WARNING: Other XML file input(s) are present. These files may be ignored in\n",
      "          favor of the ./model.xml file.\n",
      " Reading cross sections XML file...\n",
      " Reading U235 from /home/pablo/internship/xs_for_input/jeff-3.3-hdf5/U235.h5\n",
      " Reading U238 from /home/pablo/internship/xs_for_input/jeff-3.3-hdf5/U238.h5\n",
      " Reading O16 from /home/pablo/internship/xs_for_input/jeff-3.3-hdf5/O16.h5\n",
      " Reading Zr90 from /home/pablo/internship/xs_for_input/jeff-3.3-hdf5/Zr90.h5\n",
      " Reading Zr91 from /home/pablo/internship/xs_for_input/jeff-3.3-hdf5/Zr91.h5\n",
      " Reading Zr92 from /home/pablo/internship/xs_for_input/jeff-3.3-hdf5/Zr92.h5\n",
      " Reading Zr94 from /home/pablo/internship/xs_for_input/jeff-3.3-hdf5/Zr94.h5\n",
      " Reading Zr96 from /home/pablo/internship/xs_for_input/jeff-3.3-hdf5/Zr96.h5\n",
      " Reading H1 from /home/pablo/internship/xs_for_input/jeff-3.3-hdf5/H1.h5\n",
      " Reading c_H_in_H2O from\n",
      " /home/pablo/internship/xs_for_input/jeff-3.3-hdf5/c_H_in_H2O.h5\n",
      " Minimum neutron data temperature: 294 K\n",
      " Maximum neutron data temperature: 294 K\n",
      " Preparing distributed cell instances...\n",
      " Reading plot XML file...\n",
      " Writing summary.h5 file...\n",
      " Maximum neutron transport energy: 20000000 eV for H1\n",
      " Initializing source particles...\n",
      "\n",
      " ====================>     K EIGENVALUE SIMULATION     <====================\n",
      "\n",
      "  Bat./Gen.      k            Average k\n",
      "  =========   ========   ====================\n",
      "        1/1    1.36314\n",
      "        2/1    1.33123\n",
      "        3/1    1.35673\n",
      "        4/1    1.36358\n",
      "        5/1    1.39816\n",
      "        6/1    1.37504\n",
      "        7/1    1.37838\n",
      "        8/1    1.34929\n",
      "        9/1    1.33344\n",
      "       10/1    1.37953\n",
      "       11/1    1.37957\n",
      "       12/1    1.37583    1.37770 +/- 0.00187\n",
      "       13/1    1.36021    1.37187 +/- 0.00593\n",
      "       14/1    1.31793    1.35838 +/- 0.01412\n",
      "       15/1    1.34078    1.35486 +/- 0.01149\n",
      "       16/1    1.37730    1.35860 +/- 0.01010\n",
      "       17/1    1.35961    1.35875 +/- 0.00854\n",
      "       18/1    1.32668    1.35474 +/- 0.00841\n",
      "       19/1    1.34456    1.35361 +/- 0.00750\n",
      "       20/1    1.37006    1.35525 +/- 0.00691\n",
      "       21/1    1.33931    1.35380 +/- 0.00642\n",
      "       22/1    1.34938    1.35344 +/- 0.00587\n",
      "       23/1    1.35928    1.35388 +/- 0.00542\n",
      "       24/1    1.34613    1.35333 +/- 0.00505\n",
      "       25/1    1.35732    1.35360 +/- 0.00470\n",
      "       26/1    1.34364    1.35297 +/- 0.00444\n",
      "       27/1    1.38006    1.35457 +/- 0.00447\n",
      "       28/1    1.37679    1.35580 +/- 0.00439\n",
      "       29/1    1.37069    1.35659 +/- 0.00423\n",
      "       30/1    1.33923    1.35572 +/- 0.00410\n",
      "       31/1    1.36453    1.35614 +/- 0.00392\n",
      "       32/1    1.33777    1.35530 +/- 0.00383\n",
      "       33/1    1.36734    1.35583 +/- 0.00370\n",
      "       34/1    1.41292    1.35820 +/- 0.00427\n",
      "       35/1    1.38696    1.35936 +/- 0.00425\n",
      "       36/1    1.36146    1.35944 +/- 0.00409\n",
      "       37/1    1.35504    1.35927 +/- 0.00393\n",
      "       38/1    1.35401    1.35909 +/- 0.00380\n",
      "       39/1    1.40996    1.36084 +/- 0.00406\n",
      "       40/1    1.38686    1.36171 +/- 0.00402\n",
      "       41/1    1.33578    1.36087 +/- 0.00398\n",
      "       42/1    1.33669    1.36011 +/- 0.00392\n",
      "       43/1    1.37805    1.36066 +/- 0.00384\n",
      "       44/1    1.37182    1.36099 +/- 0.00374\n",
      "       45/1    1.36196    1.36101 +/- 0.00363\n",
      "       46/1    1.38938    1.36180 +/- 0.00362\n",
      "       47/1    1.37791    1.36224 +/- 0.00354\n",
      "       48/1    1.38693    1.36289 +/- 0.00351\n",
      "       49/1    1.38258    1.36339 +/- 0.00346\n",
      "       50/1    1.36172    1.36335 +/- 0.00337\n",
      " Creating state point statepoint.50.h5...\n",
      "\n",
      " =======================>     TIMING STATISTICS     <=======================\n",
      "\n",
      " Total time for initialization     = 3.7046e+00 seconds\n",
      "   Reading cross sections          = 3.6705e+00 seconds\n",
      " Total time in simulation          = 8.7972e+00 seconds\n",
      "   Time in transport only          = 7.5988e+00 seconds\n",
      "   Time in inactive batches        = 1.1140e+00 seconds\n",
      "   Time in active batches          = 7.6832e+00 seconds\n",
      "   Time synchronizing fission bank = 1.7361e-02 seconds\n",
      "     Sampling source sites         = 1.4744e-02 seconds\n",
      "     SEND/RECV source sites        = 1.9666e-03 seconds\n",
      "   Time accumulating tallies       = 1.0442e+00 seconds\n",
      "   Time writing statepoints        = 1.0759e-01 seconds\n",
      " Total time for finalization       = 1.2010e+00 seconds\n",
      " Total time elapsed                = 1.3752e+01 seconds\n",
      " Calculation Rate (inactive)       = 44881.6 particles/second\n",
      " Calculation Rate (active)         = 26030.8 particles/second\n",
      "\n",
      " ============================>     RESULTS     <============================\n",
      "\n",
      " k-effective (Collision)     = 1.35997 +/- 0.00269\n",
      " k-effective (Track-length)  = 1.36335 +/- 0.00337\n",
      " k-effective (Absorption)    = 1.35523 +/- 0.00227\n",
      " Combined k-effective        = 1.35786 +/- 0.00190\n",
      " Leakage Fraction            = 0.00000 +/- 0.00000\n",
      "\n"
     ]
    }
   ],
   "source": [
    "statepoint_filename = model.run()"
   ]
  },
  {
   "cell_type": "code",
   "execution_count": 12,
   "id": "a9d60a46-2e74-4102-a111-b55abdc33413",
   "metadata": {},
   "outputs": [],
   "source": [
    "# Move the statepoint File\n",
    "ce_spfile = './statepoint_ce.h5'\n",
    "os.rename(statepoint_filename, ce_spfile)\n",
    "# Move the Summary file\n",
    "ce_sumfile = './summary_ce.h5'\n",
    "os.rename('summary.h5', ce_sumfile)\n",
    "\n",
    "# Load the statepoint file\n",
    "sp = openmc.StatePoint(ce_spfile, autolink=False)\n",
    "\n",
    "# Load the summary file in its new location\n",
    "su = openmc.Summary(ce_sumfile)\n",
    "sp.link_with_summary(su)\n",
    "\n",
    "mgxs_lib.load_from_statepoint(sp)"
   ]
  },
  {
   "cell_type": "code",
   "execution_count": 13,
   "id": "dcf0c50f-7954-4694-9f2a-ef50f1596f74",
   "metadata": {},
   "outputs": [
    {
     "name": "stderr",
     "output_type": "stream",
     "text": [
      "/home/pablo/anaconda3/envs/openmc-env/lib/python3.12/site-packages/openmc/mgxs_library.py:1644: RuntimeWarning: invalid value encountered in divide\n",
      "  self._multiplicity_matrix[i] = np.divide(nuscatt, scatt)\n"
     ]
    }
   ],
   "source": [
    "# Create a MGXS File which can then be written to disk\n",
    "mgxs_file = mgxs_lib.create_mg_library(xs_type='macro',xsdata_names=['fuel_0_0','gap_0_0','clad_0_0','moderator_0_0'])\n",
    "\n",
    "# Write the file to disk using the default filename of \"mgxs.h5\"\n",
    "mgxs_file.export_to_hdf5()"
   ]
  },
  {
   "cell_type": "code",
   "execution_count": 14,
   "id": "3bcfca65-df7c-422c-8639-947f062ac04d",
   "metadata": {},
   "outputs": [
    {
     "data": {
      "text/plain": [
       "{6: Cell\n",
       " \tID             =\t6\n",
       " \tName           =\troot cell\n",
       " \tFill           =\t1\n",
       " \tRegion         =\t(8 -9 10 -11 12 -13)\n",
       " \tRotation       =\tNone\n",
       " \tTranslation    =\tNone\n",
       " \tVolume         =\tNone,\n",
       " 1: Cell\n",
       " \tID             =\t1\n",
       " \tName           =\tfuel_0_0\n",
       " \tFill           =\tMaterial 1\n",
       " \tRegion         =\t-1\n",
       " \tRotation       =\tNone\n",
       " \tTemperature    =\tNone\n",
       " \tTranslation    =\tNone\n",
       " \tVolume         =\tNone,\n",
       " 2: Cell\n",
       " \tID             =\t2\n",
       " \tName           =\tgap_0_0\n",
       " \tFill           =\tNone\n",
       " \tRegion         =\t(1 -2)\n",
       " \tRotation       =\tNone\n",
       " \tTranslation    =\tNone\n",
       " \tVolume         =\tNone,\n",
       " 3: Cell\n",
       " \tID             =\t3\n",
       " \tName           =\tclad_0_0\n",
       " \tFill           =\tMaterial 2\n",
       " \tRegion         =\t(2 -3)\n",
       " \tRotation       =\tNone\n",
       " \tTemperature    =\tNone\n",
       " \tTranslation    =\tNone\n",
       " \tVolume         =\tNone,\n",
       " 4: Cell\n",
       " \tID             =\t4\n",
       " \tName           =\tmoderator_0_0\n",
       " \tFill           =\tMaterial 3\n",
       " \tRegion         =\t(4 -5 6 -7 3)\n",
       " \tRotation       =\tNone\n",
       " \tTemperature    =\tNone\n",
       " \tTranslation    =\tNone\n",
       " \tVolume         =\tNone,\n",
       " 5: Cell\n",
       " \tID             =\t5\n",
       " \tName           =\t\n",
       " \tFill           =\tMaterial 3\n",
       " \tRegion         =\tNone\n",
       " \tRotation       =\tNone\n",
       " \tTemperature    =\tNone\n",
       " \tTranslation    =\tNone\n",
       " \tVolume         =\tNone}"
      ]
     },
     "execution_count": 14,
     "metadata": {},
     "output_type": "execute_result"
    }
   ],
   "source": [
    "model.geometry.get_all_cells()\n"
   ]
  },
  {
   "cell_type": "code",
   "execution_count": null,
   "id": "53804345-043c-4c91-8d86-e5f3ddeb5787",
   "metadata": {},
   "outputs": [],
   "source": []
  }
 ],
 "metadata": {
  "kernelspec": {
   "display_name": "Python 3 (ipykernel)",
   "language": "python",
   "name": "python3"
  },
  "language_info": {
   "codemirror_mode": {
    "name": "ipython",
    "version": 3
   },
   "file_extension": ".py",
   "mimetype": "text/x-python",
   "name": "python",
   "nbconvert_exporter": "python",
   "pygments_lexer": "ipython3",
   "version": "3.12.3"
  }
 },
 "nbformat": 4,
 "nbformat_minor": 5
}
