{
 "cells": [
  {
   "cell_type": "code",
   "execution_count": 1,
   "id": "4bbfbc69-1aec-41dc-a344-0a79fa71d7d7",
   "metadata": {},
   "outputs": [],
   "source": [
    "import sys\n",
    "import os \n",
    "import openmc\n",
    "import numpy as np\n",
    "import matplotlib.pyplot as plt\n",
    "import openmc.mgxs as mgxs\n",
    "import pandas as pd\n",
    "from IPython.display import Image\n",
    "import glob"
   ]
  },
  {
   "cell_type": "markdown",
   "id": "c6bbeb73-e495-46c7-888f-bad4dbefd787",
   "metadata": {},
   "source": [
    "### Choose problem number"
   ]
  },
  {
   "cell_type": "code",
   "execution_count": 2,
   "id": "c8172935-0fd0-46da-a9d1-6c94a00b0755",
   "metadata": {},
   "outputs": [],
   "source": [
    "pb_num = '2A'"
   ]
  },
  {
   "cell_type": "markdown",
   "id": "03ce40af-c266-4d75-b3e2-606203ce327a",
   "metadata": {},
   "source": [
    "### Import output"
   ]
  },
  {
   "cell_type": "code",
   "execution_count": 3,
   "id": "b4f3971a-29b2-42c9-93f6-7e065902418a",
   "metadata": {
    "scrolled": true
   },
   "outputs": [
    {
     "name": "stderr",
     "output_type": "stream",
     "text": [
      "/opt/anaconda3/envs/openmc-env/lib/python3.12/site-packages/openmc/statepoint.py:671: RuntimeWarning: A Summary object has already been linked.\n",
      "  warnings.warn('A Summary object has already been linked.',\n",
      "/opt/anaconda3/envs/openmc-env/lib/python3.12/site-packages/openmc/mixin.py:70: IDWarning: Another Filter instance already exists with id=43.\n",
      "  warn(msg, IDWarning)\n",
      "/opt/anaconda3/envs/openmc-env/lib/python3.12/site-packages/openmc/mixin.py:70: IDWarning: Another Filter instance already exists with id=45.\n",
      "  warn(msg, IDWarning)\n",
      "/opt/anaconda3/envs/openmc-env/lib/python3.12/site-packages/openmc/mixin.py:70: IDWarning: Another Tally instance already exists with id=29.\n",
      "  warn(msg, IDWarning)\n",
      "/opt/anaconda3/envs/openmc-env/lib/python3.12/site-packages/openmc/mixin.py:70: IDWarning: Another Tally instance already exists with id=30.\n",
      "  warn(msg, IDWarning)\n"
     ]
    }
   ],
   "source": [
    "sp_file='/Users/pablogarcia44/repo/perso/openmc/17x17_assembly/vera/sp_'+pb_num+'.h5'\n",
    "sm_file='/Users/pablogarcia44/repo/perso/openmc/17x17_assembly/vera/sm_'+pb_num+'.h5'\n",
    "sm=openmc.Summary(sm_file)\n",
    "sp = openmc.StatePoint(sp_file)\n",
    "sp.link_with_summary(sm)\n",
    "model=openmc.model.Model\n",
    "model_file='/Users/pablogarcia44/repo/perso/openmc/17x17_assembly/vera/model_'+pb_num+'_72_families_power.xml'\n",
    "model=openmc.model.Model.from_model_xml(model_file)"
   ]
  },
  {
   "cell_type": "markdown",
   "id": "660440d1-1733-4b06-979f-2b59c897abf7",
   "metadata": {},
   "source": [
    "### Get Power and Flux values"
   ]
  },
  {
   "cell_type": "code",
   "execution_count": 4,
   "id": "f5893a6a-363e-4105-860e-d1b9c8828ced",
   "metadata": {},
   "outputs": [
    {
     "name": "stderr",
     "output_type": "stream",
     "text": [
      "/opt/anaconda3/envs/openmc-env/lib/python3.12/site-packages/openmc/statepoint.py:277: FutureWarning: The 'k_combined' property has been renamed to 'keff' and will be removed in a future version of OpenMC.\n",
      "  warnings.warn(\n"
     ]
    },
    {
     "data": {
      "text/plain": [
       "1.182466597818543+/-9.950602468868795e-05"
      ]
     },
     "execution_count": 4,
     "metadata": {},
     "output_type": "execute_result"
    }
   ],
   "source": [
    "sp.k_combined"
   ]
  },
  {
   "cell_type": "code",
   "execution_count": 5,
   "id": "b6cad964-6afb-4fe7-a8fe-5d9c839de629",
   "metadata": {},
   "outputs": [],
   "source": [
    "for index, tally in enumerate(sp.tallies):\n",
    "    if index==0:\n",
    "        t_power=sp.tallies[tally]\n",
    "    if index==1:\n",
    "        t_flux=sp.tallies[tally]\n",
    "\n",
    "\n",
    "def tally_cell(cell,x,y): \n",
    "    A=[]\n",
    "    cell_index = 99\n",
    "    cell_id=99\n",
    "    i=0\n",
    "    for all_cell in model.geometry.get_all_material_cells().values():\n",
    "        i=i+1\n",
    "        if all_cell.name==cell+'_'+str(x)+'_'+str(y):\n",
    "            cell_index=all_cell.id\n",
    "            cell_id=i-1\n",
    "    tally_data_reshaped =t_power.get_reshaped_data()\n",
    "    power=tally_data_reshaped[cell_id]\n",
    "    if x==8 or y==8:\n",
    "        A.append(2*power[0][0])\n",
    "    else : \n",
    "        A.append(power[0][0])\n",
    "    tally_data_reshaped =t_flux.get_reshaped_data()\n",
    "    flux=tally_data_reshaped[cell_id]\n",
    "    A.append([flux[0][0][0],flux[1][0][0]])\n",
    "    return(A)\n",
    "\n",
    "def power_cell(cell,x,y):\n",
    "    return(tally_cell(cell,x,y)[0])\n",
    "\n",
    "def flux_cell(cell,x,y):\n",
    "    return(tally_cell(cell,x,y)[1])\n",
    "\n",
    "\n",
    "\n"
   ]
  },
  {
   "cell_type": "code",
   "execution_count": 6,
   "id": "6fd8a544-1882-47f7-9e8a-dc6cff67b2e7",
   "metadata": {},
   "outputs": [
    {
     "name": "stdout",
     "output_type": "stream",
     "text": [
      "[1422270.3411219055, [0.039280026859822424, 0.11456681290337804]]\n",
      "1337952.2776923974\n",
      "[0.037112137990250565, 0.11568428211202086]\n"
     ]
    }
   ],
   "source": [
    "print(tally_cell('fuel',7,7))\n",
    "print(power_cell('fuel',0,0))\n",
    "print(flux_cell('fuel',0,0))"
   ]
  },
  {
   "cell_type": "markdown",
   "id": "1b576bcd-6922-42fe-a1c8-e163866aed07",
   "metadata": {},
   "source": [
    "### Mapping geom"
   ]
  },
  {
   "cell_type": "code",
   "execution_count": 7,
   "id": "7e572ae7-7727-41b7-8e8b-ed39d83552d0",
   "metadata": {},
   "outputs": [],
   "source": [
    "def flux_cell(cell,x,y):    \n",
    "    cell_index = 99\n",
    "    cell_id=99\n",
    "    i=0\n",
    "    for all_cell in model.geometry.get_all_material_cells().values():\n",
    "        i=i+1\n",
    "        if all_cell.name==cell+'_'+str(x)+'_'+str(y):\n",
    "            cell_index=all_cell.id\n",
    "            cell_id=i-1\n",
    "    tally_data_reshaped =t_flux.get_reshaped_data()\n",
    "    flux=tally_data_reshaped[cell_id]\n",
    "    flux_return=[flux[0][0][0],flux[1][0][0]]\n",
    "    return(flux_return)"
   ]
  },
  {
   "cell_type": "code",
   "execution_count": 8,
   "id": "87ea233b-d544-419f-93fe-895c084ea438",
   "metadata": {},
   "outputs": [],
   "source": [
    "GT=[(5,2),(8,2),(3,3),(2,5),(5,5),(8,5),(2,8),(5,8)]\n",
    "IT=[(8,8)]"
   ]
  },
  {
   "cell_type": "markdown",
   "id": "2f6418c1-9831-4552-a443-ff77a3e99424",
   "metadata": {},
   "source": [
    "### Mapping benchmark"
   ]
  },
  {
   "cell_type": "code",
   "execution_count": 9,
   "id": "b2563c53-58d6-40f8-ae38-7c0e05141856",
   "metadata": {},
   "outputs": [],
   "source": [
    "A2=[1.0364, 1.0089, \n",
    "1.0371, 1.0093, 1.0104, \n",
    "1.0368, 1.0386, \n",
    "1.0353, 1.0089, 1.0118, 1.0451, 1.0313,\n",
    "1.0328, 1.0053, 1.0089, 1.0458, 1.0516, \n",
    "1.0266, 1.0281, 1.0360, 1.0180, 0.9736, \n",
    "1.0122, 0.9880, 0.9880, 1.0115, 0.9837, 0.9649, 0.9483, 0.9389, \n",
    "0.9764, 0.9721, 0.9714, 0.9739, 0.9645, 0.9551, 0.9458, 0.9418, 0.9476]\n",
    "\n",
    "B2=[1.0355, 1.0113,\n",
    "1.0362, 1.0113, 1.0121, \n",
    "1.0359, 1.0373, \n",
    "1.0337, 1.0099, 1.0124, 1.0424, 1.0308, \n",
    "1.0308, 1.0066, 1.0095, 1.0427, 1.0474, \n",
    "1.0243, 1.0258, 1.0326, 1.0146, 0.9745, \n",
    "1.0103, 0.9893, 0.9893, 1.0099, 0.9839, 0.9666, 0.9503, 0.9406, \n",
    "0.9781, 0.9742, 0.9738, 0.9752, 0.9662, 0.9565, 0.9475, 0.9435, 0.9478]\n",
    "\n",
    "C2=[1.0357, 1.0109, \n",
    "1.0364, 1.0113, 1.0124, \n",
    "1.0364, 1.0375, \n",
    "1.0346, 1.0102, 1.0124, 1.0422, 1.0306, \n",
    "1.0306, 1.0066, 1.0095, 1.0426, 1.0473, \n",
    "1.0248, 1.0259, 1.0324, 1.0150, 0.9738, \n",
    "1.0102, 0.9891, 0.9891, 1.0102, 0.9840, 0.9666, 0.9494, 0.9411, \n",
    "0.9782, 0.9742, 0.9738, 0.9753, 0.9658, 0.9564, 0.9476, 0.9433, 0.9476 ]\n",
    "\n",
    "D2=[1.0360, 1.0115, \n",
    "1.0364, 1.0119, 1.0122, \n",
    "1.0364, 1.0379, \n",
    "1.0342, 1.0100, 1.0122, 1.0426, 1.0313, \n",
    "1.0305, 1.0067, 1.0097, 1.0419, 1.0474, \n",
    "1.0243, 1.0258, 1.0327, 1.0148, 0.9741, \n",
    "1.0111, 0.9895, 0.9891, 1.0100, 0.9836, 0.9657, 0.9499, 0.9404, \n",
    "0.9785, 0.9741, 0.9737, 0.9752, 0.9664, 0.9565, 0.9474, 0.9426, 0.9477]\n",
    "\n",
    "E2=[1.0170, 0.9930, \n",
    "0.9299, 0.9635, 0.9962, \n",
    "0.9331, 1.0250, \n",
    "0.9347, 0.9695, 1.0022, 1.0362, 1.0290, \n",
    "1.0290, 1.0034, 0.9751, 0.9523, 1.0226, \n",
    "1.0350, 0.9419, 0.9579, 1.0426, 1.0314, \n",
    "1.0578, 1.0222, 0.9763, 0.9355, 0.9787, 1.0146, 1.0246, 1.0290, \n",
    "1.0346, 1.0238, 1.0054, 0.9938, 1.0054, 1.0218, 1.0314, 1.0398, 1.0514]\n",
    "\n",
    "F2=[1.0783, 1.0428, \n",
    "0.9714, 0.9907, 0.9736, \n",
    "0.9333, 0.9262, \n",
    "0.9258, 0.9591, 0.9543, 0.9118, 0.9262, \n",
    "0.9280, 0.9617, 0.9587, 0.9127, 0.9070, \n",
    "0.9420, 0.9411, 0.9350, 0.9670, 1.0340, \n",
    "0.9744, 1.0047, 1.0060, 0.9793, 1.0191, 1.0502, 1.0831, 1.1094, \n",
    "1.0472, 1.0529, 1.0551, 1.0551, 1.0717, 1.0923, 1.1138, 1.1339, 1.1541] \n",
    "\n",
    "G2=[1.0732, 1.0353, \n",
    "0.9393, 0.9660, 0.9411,\n",
    "0.8855, 0.8762, \n",
    "0.8736, 0.9200, 0.9138, 0.8529, 0.8719, \n",
    "0.8784, 0.9273, 0.9212, 0.8559, 0.8507, \n",
    "0.9083, 0.9072, 0.9070, 0.9646, 1.0707, \n",
    "0.9646, 1.0058, 1.0098, 0.9778, 1.0394, 1.0944, 1.1525, 1.1999, \n",
    "1.0707, 1.0803, 1.0858, 1.0899, 1.1202, 1.1585, 1.2005, 1.2363, 1.2666]\n",
    "\n",
    "H2=[1.0607, 1.0215, \n",
    "0.9221, 0.9481, 0.9210, \n",
    "0.8646, 0.8547, \n",
    "0.8516, 0.9001, 0.8931, 0.8311, 0.8511, \n",
    "0.8589, 0.9093, 0.9032, 0.8361, 0.8344, \n",
    "0.8952, 0.8962, 0.9022, 0.9707, 1.0905, \n",
    "0.9609, 1.0041, 1.0104, 0.9802, 1.0495, 1.1144, 1.1840, 1.2416, \n",
    "1.0751, 1.0862, 1.0943, 1.1019, 1.1405, 1.1873, 1.2384, 1.2829, 1.3188]\n",
    "\n",
    "I2=[1.0045, 0.9929, \n",
    "1.0251, 1.0023, 1.0073, \n",
    "1.0334, 1.0367, \n",
    "1.0352, 1.0088, 1.0117, 1.0450, 1.0327, \n",
    "1.0327, 1.0070, 1.0102, 1.0457, 1.0515, \n",
    "1.0269, 1.0287, 1.0370, 1.0189, 0.9755, \n",
    "1.0128, 0.9900, 0.9903, 1.0128, 0.9856, 0.9679, 0.9513, 0.9415, \n",
    "0.9791, 0.9748, 0.9748, 0.9759, 0.9679, 0.9574, 0.9487, 0.9444, 0.9502] \n",
    "\n",
    "J2=[1.0415, 1.0226, \n",
    "0.9590, 0.9823, 0.9683, \n",
    "0.9305, 0.9248, \n",
    "0.9262, 0.9590, 0.9555, 0.9130, 0.9288, \n",
    "0.9288, 0.9630, 0.9595, 0.9143, 0.9086, \n",
    "0.9428, 0.9428, 0.9371, 0.9696, 1.0358, \n",
    "0.9762, 1.0060, 1.0077, 0.9805, 1.0213, 1.0529, 1.0849, 1.1121, \n",
    "1.0489, 1.0555, 1.0577, 1.0577, 1.0744, 1.0941, 1.1160, 1.1362, 1.1559]\n",
    "\n",
    "K2=[0.9765, 1.0637, \n",
    "0.9899, 1.0055, 0.9849, \n",
    "0.9455, 0.9388, \n",
    "0.9380, 0.9690, 0.9644, 0.9237, 0.9388, \n",
    "0.9388, 0.9707, 0.9673, 0.9246, 0.9195, \n",
    "0.9510, 0.9505, 0.9476, 0.9807, 1.0495, \n",
    "0.9811, 1.0105, 1.0122, 0.9874, 1.0285, 1.0645, 1.1073, 1.0159, \n",
    "1.0524, 1.0578, 1.0608, 1.0620, 1.0813, 1.1098, 1.0147, 1.0453, 1.0687]\n",
    "\n",
    "L2=[0.9481, 0.9967, \n",
    "1.0328, 1.0001, 0.9313,\n",
    "0.9556, 1.0286, \n",
    "0.9606, 1.0093, 1.0106, 0.9409, 0.9816, \n",
    "1.0475, 1.0219, 1.0160, 0.9405, 0.9388, \n",
    "0.9690, 1.0466, 0.9544, 1.0332, 0.9388, \n",
    "0.9644, 1.0198, 1.0273, 0.9648, 1.0152, 1.0223, 1.0093, 1.0076, \n",
    "1.0311, 1.0362, 1.0383, 1.0307, 1.0341, 1.0353, 1.0257, 1.0026, 0.9053]\n",
    "\n",
    "M2=[0.9833, 1.0389, \n",
    "0.9846, 1.0393, 1.0389, \n",
    "0.9833, 0.9824, \n",
    "0.9828, 1.0370, 1.0361, 0.9760, 1.0206, \n",
    "0.9814, 1.0361, 1.0343, 0.9714, 0.9696, \n",
    "0.9769, 0.9778, 0.9696, 0.9659, 1.0042, \n",
    "0.9728, 1.0193, 1.0297, 0.9792, 1.0170, 1.0170, 0.9441, 1.0152, \n",
    "1.0079, 0.9432, 1.0334, 1.0288, 0.9473, 1.0325, 1.0361, 1.0306, 0.9423]\n",
    "\n",
    "N2=[0.9756, 1.0258,\n",
    "0.8993, 0.9963, 1.0209, \n",
    "0.8923, 0.9657, \n",
    "0.8697, 0.9722, 1.0057, 0.9468, 0.9557, \n",
    "0.8678, 0.9644, 0.9700, 0.8651, 0.8467, \n",
    "0.8819, 0.8831, 0.8705, 0.9111, 1.0554, \n",
    "0.9247, 1.0155, 1.0180, 0.9318, 1.0367, 1.0824, 1.1272, 1.1538, \n",
    "1.0800, 1.0928, 1.0962, 1.0923, 1.1184, 1.1459, 1.1661, 1.1602, 1.0603]\n",
    "\n",
    "O2=[1.1049, 1.0710, \n",
    "1.0889, 1.0502, 1.0180, \n",
    "1.0408, 0.9805, \n",
    "1.0478, 0.9658, 0.2175, 0.9882, 1.0367, \n",
    "1.0726, 1.0225, 0.9772, 1.0555, 1.0812, \n",
    "1.0926, 1.0824, 1.0788, 0.9931, 0.2173, \n",
    "1.1053, 1.0779, 1.0722, 1.0918, 1.0478, 0.9931, 0.9254, 0.9641, \n",
    "1.0771, 1.0714, 1.0677, 1.0637, 1.0429, 1.0168, 0.9935, 0.9996, 1.0164]\n",
    "\n",
    "P2=[1.1688, 1.1116, \n",
    "1.1411, 1.0530, 0.2442, \n",
    "1.1180, 1.0636, \n",
    "1.0659, 1.0821, 1.0881, 1.0627, 0.2443, \n",
    "0.2459, 1.0401, 1.0950, 1.1088, 1.0608, \n",
    "1.1148, 1.1070, 1.0807, 1.0378, 0.2431, \n",
    "1.1476, 1.1088, 1.0332, 0.2440, 1.0078, 1.0406, 1.0050, 1.0608, \n",
    "1.1337, 1.1143, 1.0641, 0.9954, 1.0438, 1.0751, 1.0821, 1.1051, 1.1300]\n",
    "\n",
    "Q2=[1.0368, 1.0105, \n",
    "1.0371, 1.0113, 1.0120, \n",
    "1.0375, 1.0389, \n",
    "1.0353, 1.0098, 1.0124, 1.0448, 1.0331, \n",
    "1.0320, 1.0069, 1.0098, 1.0448, 1.0513, \n",
    "1.0258, 1.0273, 1.0357, 1.0160, 0.9726,\n",
    "1.0113, 0.9883, 0.9879, 1.0109, 0.9828, 0.9639, 0.9468, 0.9369, \n",
    "0.9774, 0.9726, 0.9723, 0.9745, 0.9646, 0.9548, 0.9457, 0.9413, 0.9479] "
   ]
  },
  {
   "cell_type": "code",
   "execution_count": 10,
   "id": "3da4d994-2c4e-4353-af6c-a4af7f58a503",
   "metadata": {},
   "outputs": [],
   "source": [
    "def map_bench(bench_list):\n",
    "    bench_result=[]\n",
    "    pos=[[0, 0], [1, 0], [2, 0], [3, 0], [4, 0], [5, 0], [6, 0], [7, 0], [8, 0], [1, 1], [2, 1], [3, 1], [4, 1], [5, 1], [6, 1], [7, 1], [8, 1], [2, 2], [3, 2], [4, 2], [6, 2], [7, 2], [4, 3], [5, 3], [6, 3], [7, 3], [8, 3], [4, 4], [5, 4], [6, 4], [7, 4], [8, 4], [6, 5], [7, 5], [6, 6], [7, 6], [8, 6], [7, 7], [8, 7]]\n",
    "    pos.reverse()\n",
    "    for k in range(len(bench_list)):\n",
    "        bench_result.append([pos[k][0],pos[k][1],bench_list[k]])\n",
    "    return(bench_result)\n",
    "\n",
    "bench_dict = {}\n",
    "bench_dict['2A'] = map_bench(A2)\n",
    "bench_dict['2B'] = map_bench(B2)\n",
    "bench_dict['2C'] = map_bench(C2)\n",
    "bench_dict['2D'] = map_bench(D2)\n",
    "bench_dict['2E'] = map_bench(E2)\n",
    "bench_dict['2F'] = map_bench(F2)\n",
    "bench_dict['2G'] = map_bench(G2)\n",
    "bench_dict['2H'] = map_bench(H2)\n",
    "bench_dict['2I'] = map_bench(I2)\n",
    "bench_dict['2J'] = map_bench(J2)\n",
    "bench_dict['2K'] = map_bench(K2)\n",
    "bench_dict['2L'] = map_bench(L2)\n",
    "bench_dict['2M'] = map_bench(M2)\n",
    "bench_dict['2N'] = map_bench(N2)\n",
    "bench_dict['2O'] = map_bench(O2)\n",
    "bench_dict['2P'] = map_bench(P2)\n",
    "bench_dict['2Q'] = map_bench(A2)\n"
   ]
  },
  {
   "cell_type": "markdown",
   "id": "1367e67f-7e95-4390-8a83-a86be1b0a9aa",
   "metadata": {},
   "source": [
    "### Create Power RD list"
   ]
  },
  {
   "cell_type": "code",
   "execution_count": 11,
   "id": "d412da45-1b00-4d44-96cb-86b38c9e71ca",
   "metadata": {},
   "outputs": [
    {
     "name": "stdout",
     "output_type": "stream",
     "text": [
      "[[ 8.00000000e+00  7.00000000e+00  1.03336102e+00  1.03613995e+00\n",
      "   1.03640000e+00 -2.93224222e-01]\n",
      " [ 7.00000000e+00  7.00000000e+00  1.00778893e+00  1.00776872e+00\n",
      "   1.00890000e+00 -1.10127059e-01]\n",
      " [ 8.00000000e+00  6.00000000e+00  1.03605564e+00  1.03634736e+00\n",
      "   1.03710000e+00 -1.00699925e-01]\n",
      " [ 7.00000000e+00  6.00000000e+00  1.00943697e+00  1.00893120e+00\n",
      "   1.00930000e+00  1.35706109e-02]\n",
      " [ 6.00000000e+00  6.00000000e+00  1.00932722e+00  1.00930698e+00\n",
      "   1.01040000e+00 -1.06173562e-01]\n",
      " [ 7.00000000e+00  5.00000000e+00  1.03571223e+00  1.03734592e+00\n",
      "   1.03680000e+00 -1.04916390e-01]\n",
      " [ 6.00000000e+00  5.00000000e+00  1.03851352e+00  1.03881745e+00\n",
      "   1.03860000e+00 -8.32630377e-03]\n",
      " [ 8.00000000e+00  4.00000000e+00  1.03440341e+00  1.03493275e+00\n",
      "   1.03530000e+00 -8.66015599e-02]\n",
      " [ 7.00000000e+00  4.00000000e+00  1.00840680e+00  1.00795437e+00\n",
      "   1.00890000e+00 -4.88845430e-02]\n",
      " [ 6.00000000e+00  4.00000000e+00  1.01144289e+00  1.01076182e+00\n",
      "   1.01180000e+00 -3.52948325e-02]\n",
      " [ 5.00000000e+00  4.00000000e+00  1.04353711e+00  1.04325724e+00\n",
      "   1.04510000e+00 -1.49544621e-01]\n",
      " [ 4.00000000e+00  4.00000000e+00  1.03058455e+00  1.03056388e+00\n",
      "   1.03130000e+00 -6.93740807e-02]\n",
      " [ 8.00000000e+00  3.00000000e+00  1.02981069e+00  1.03165780e+00\n",
      "   1.03280000e+00 -2.89437055e-01]\n",
      " [ 7.00000000e+00  3.00000000e+00  1.00526711e+00  1.00571511e+00\n",
      "   1.00530000e+00 -3.27117388e-03]\n",
      " [ 6.00000000e+00  3.00000000e+00  1.00875249e+00  1.00756050e+00\n",
      "   1.00890000e+00 -1.46204782e-02]\n",
      " [ 5.00000000e+00  3.00000000e+00  1.04491480e+00  1.04469392e+00\n",
      "   1.04580000e+00 -8.46435826e-02]\n",
      " [ 4.00000000e+00  3.00000000e+00  1.05085760e+00  1.05089136e+00\n",
      "   1.05160000e+00 -7.05969139e-02]\n",
      " [ 7.00000000e+00  2.00000000e+00  1.02593255e+00  1.02489232e+00\n",
      "   1.02660000e+00 -6.50154825e-02]\n",
      " [ 6.00000000e+00  2.00000000e+00  1.02713973e+00  1.02714695e+00\n",
      "   1.02810000e+00 -9.34026579e-02]\n",
      " [ 4.00000000e+00  2.00000000e+00  1.03597506e+00  1.03531744e+00\n",
      "   1.03600000e+00 -2.40756980e-03]\n",
      " [ 3.00000000e+00  2.00000000e+00  1.01628111e+00  1.01772849e+00\n",
      "   1.01800000e+00 -1.68849447e-01]\n",
      " [ 2.00000000e+00  2.00000000e+00  9.74062712e-01  9.74043179e-01\n",
      "   9.73600000e-01  4.75258917e-02]\n",
      " [ 8.00000000e+00  1.00000000e+00  1.01177507e+00  1.01011658e+00\n",
      "   1.01220000e+00 -4.19809680e-02]\n",
      " [ 7.00000000e+00  1.00000000e+00  9.86989842e-01  9.88213962e-01\n",
      "   9.88000000e-01 -1.02242712e-01]\n",
      " [ 6.00000000e+00  1.00000000e+00  9.87219186e-01  9.87277902e-01\n",
      "   9.88000000e-01 -7.90297743e-02]\n",
      " [ 5.00000000e+00  1.00000000e+00  1.00994372e+00  1.01042124e+00\n",
      "   1.01150000e+00 -1.53858816e-01]\n",
      " [ 4.00000000e+00  1.00000000e+00  9.83269119e-01  9.83531422e-01\n",
      "   9.83700000e-01 -4.38020525e-02]\n",
      " [ 3.00000000e+00  1.00000000e+00  9.66192355e-01  9.63364517e-01\n",
      "   9.64900000e-01  1.33936670e-01]\n",
      " [ 2.00000000e+00  1.00000000e+00  9.48341057e-01  9.47769922e-01\n",
      "   9.48300000e-01  4.32949265e-03]\n",
      " [ 1.00000000e+00  1.00000000e+00  9.39210192e-01  9.39191358e-01\n",
      "   9.38900000e-01  3.30377764e-02]\n",
      " [ 8.00000000e+00  0.00000000e+00  9.75144562e-01  9.76619044e-01\n",
      "   9.76400000e-01 -1.28578242e-01]\n",
      " [ 7.00000000e+00  0.00000000e+00  9.71769147e-01  9.71900056e-01\n",
      "   9.72100000e-01 -3.40348303e-02]\n",
      " [ 6.00000000e+00  0.00000000e+00  9.71473859e-01  9.71132527e-01\n",
      "   9.71400000e-01  7.60336084e-03]\n",
      " [ 5.00000000e+00  0.00000000e+00  9.73997365e-01  9.74489578e-01\n",
      "   9.73900000e-01  9.99742682e-03]\n",
      " [ 4.00000000e+00  0.00000000e+00  9.64549971e-01  9.64260663e-01\n",
      "   9.64500000e-01  5.18101137e-03]\n",
      " [ 3.00000000e+00  0.00000000e+00  9.55820933e-01  9.55120177e-01\n",
      "   9.55100000e-01  7.54825038e-02]\n",
      " [ 2.00000000e+00  0.00000000e+00  9.46504964e-01  9.45583986e-01\n",
      "   9.45800000e-01  7.45362183e-02]\n",
      " [ 1.00000000e+00  0.00000000e+00  9.42191469e-01  9.41208357e-01\n",
      "   9.41800000e-01  4.15660927e-02]\n",
      " [ 0.00000000e+00  0.00000000e+00  9.48043036e-01  9.48024025e-01\n",
      "   9.47600000e-01  4.67534514e-02]]\n"
     ]
    }
   ],
   "source": [
    "vera_result_list=bench_dict[pb_num]\n",
    "n_cell_fuel = len(vera_result_list)\n",
    "power_result = np.zeros((n_cell_fuel,6))\n",
    "\n",
    "# Create power_result(x,y,my_result,my_result_sym,vera_result,rd)\n",
    "for index, vera_pos_result in enumerate(vera_result_list):\n",
    "    x=vera_pos_result[0]\n",
    "    y=vera_pos_result[1]\n",
    "    my_result = power_cell('fuel',x,y)\n",
    "    my_result_sym = power_cell('fuel',y,x)\n",
    "    vera_result = vera_pos_result[2]\n",
    "    power_result[index][0]=x\n",
    "    power_result[index][1]=y\n",
    "    power_result[index][2]=my_result\n",
    "    power_result[index][3]=my_result_sym\n",
    "    power_result[index][4]=vera_result\n",
    "\n",
    "power_result[:, 2] /= np.mean(power_result[:, 2]) \n",
    "power_result[:, 3] /= np.mean(power_result[:, 3]) \n",
    "power_result[:, 5] = (100*(power_result[:, 2]-power_result[:, 4])/power_result[:, 4])\n",
    "\n",
    "print(power_result)"
   ]
  },
  {
   "cell_type": "markdown",
   "id": "8fbf41e8-fcec-4bf5-b9a4-54937bc37aa6",
   "metadata": {},
   "source": [
    "### Maximum rd"
   ]
  },
  {
   "cell_type": "code",
   "execution_count": 13,
   "id": "305f423b-970f-4231-8a2c-6160edbf4537",
   "metadata": {
    "scrolled": true
   },
   "outputs": [
    {
     "name": "stdout",
     "output_type": "stream",
     "text": [
      "3.0 1.0 0.13393667034639758\n"
     ]
    }
   ],
   "source": [
    "print(power_result[np.argmax(power_result[:, 5])][0],power_result[np.argmax(power_result[:, 5])][1],power_result[np.argmax(power_result[:, 5])][5])"
   ]
  },
  {
   "cell_type": "code",
   "execution_count": null,
   "id": "8ab26cbd-5a9f-4e53-8054-4eb9b412821f",
   "metadata": {},
   "outputs": [],
   "source": []
  }
 ],
 "metadata": {
  "kernelspec": {
   "display_name": "Python 3 (ipykernel)",
   "language": "python",
   "name": "python3"
  },
  "language_info": {
   "codemirror_mode": {
    "name": "ipython",
    "version": 3
   },
   "file_extension": ".py",
   "mimetype": "text/x-python",
   "name": "python",
   "nbconvert_exporter": "python",
   "pygments_lexer": "ipython3",
   "version": "3.12.3"
  }
 },
 "nbformat": 4,
 "nbformat_minor": 5
}
