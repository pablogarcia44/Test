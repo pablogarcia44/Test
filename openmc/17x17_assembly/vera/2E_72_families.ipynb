{
 "cells": [
  {
   "cell_type": "markdown",
   "id": "cdd8a24a-a018-4a2b-aaed-7eae9c99a62b",
   "metadata": {},
   "source": [
    "# 3x3 assembly inputfile that: "
   ]
  },
  {
   "cell_type": "markdown",
   "id": "880099d7-f1e0-4a4f-9a03-3d4c52de6943",
   "metadata": {},
   "source": [
    "### Import module/Set up XS path/Create openMC model/Clean directory"
   ]
  },
  {
   "cell_type": "code",
   "execution_count": 1,
   "id": "e4b5e472-92fe-4d54-b9df-c70131c052a1",
   "metadata": {},
   "outputs": [],
   "source": [
    "import sys\n",
    "import os \n",
    "import openmc\n",
    "import numpy as np\n",
    "import matplotlib.pyplot as plt\n",
    "import openmc.mgxs as mgxs\n",
    "import pandas as pd\n",
    "from IPython.display import Image\n",
    "import glob"
   ]
  },
  {
   "cell_type": "markdown",
   "id": "e02f7d89-8f36-4c72-80d6-f1b53646d94e",
   "metadata": {},
   "source": [
    "### Pablo environnement"
   ]
  },
  {
   "cell_type": "code",
   "execution_count": 2,
   "id": "1e7cc449-037d-4c4f-aa2e-6f21e06bd185",
   "metadata": {},
   "outputs": [],
   "source": [
    "model=openmc.Model()\n",
    "\n",
    "clean_file_list = [\"model.xml\", \"materials.xml\", \"geometry.xml\",\"plots.xml\",\"geometry.xml\",\"settings.xml\",\"tallies.out\",\"summary.h5\",\"statepoint.50.h5\"]\n",
    "for file in clean_file_list :\n",
    "    path_file = os.path.join(os.getcwd(), file)\n",
    "    if os.path.exists(path_file):\n",
    "        os.remove(path_file)"
   ]
  },
  {
   "cell_type": "markdown",
   "id": "d759264e-22d9-45ed-9b06-58531a984021",
   "metadata": {},
   "source": [
    "### Define Materials"
   ]
  },
  {
   "cell_type": "code",
   "execution_count": 3,
   "id": "50dee80c-d7a7-49e1-99ef-5094e87b5808",
   "metadata": {},
   "outputs": [],
   "source": [
    "uo2 = openmc.Material(name='uo2')\n",
    "uo2.add_nuclide('U234', 6.11864E-06, 'ao')\n",
    "uo2.add_nuclide('U235', 7.18132E-04, 'ao')\n",
    "uo2.add_nuclide('U236', 3.29861E-06, 'ao')\n",
    "uo2.add_nuclide('U238', 2.21546E-02, 'ao')\n",
    "uo2.add_nuclide('O16', 4.57642E-02, 'ao')\n",
    "uo2.set_density('g/cm3', 10.257 )\n",
    "uo2.temperature=600\n",
    "\n",
    "zirconium = openmc.Material(name=\"zirconium\")\n",
    "zirconium.add_nuclide('Zr90', 2.18865E-02, 'ao')\n",
    "zirconium.add_nuclide('Zr91', 4.77292E-03, 'ao')\n",
    "zirconium.add_nuclide('Zr92', 7.29551E-03, 'ao')\n",
    "zirconium.add_nuclide('Zr94', 7.39335E-03, 'ao')\n",
    "zirconium.add_nuclide('Zr96', 1.19110E-03, 'ao')\n",
    "zirconium.add_nuclide('Sn112',4.68066E-06, 'ao')\n",
    "zirconium.add_nuclide('Sn114', 3.18478E-06, 'ao')\n",
    "zirconium.add_nuclide('Sn115', 1.64064E-06, 'ao')\n",
    "zirconium.add_nuclide('Sn116', 7.01616E-05, 'ao')\n",
    "zirconium.add_nuclide('Sn117', 3.70592E-05, 'ao')\n",
    "zirconium.add_nuclide('Sn118', 1.16872E-04, 'ao')\n",
    "zirconium.add_nuclide('Sn119', 4.14504E-05, 'ao')\n",
    "zirconium.add_nuclide('Sn120', 1.57212E-04, 'ao')\n",
    "zirconium.add_nuclide('Sn122', 2.23417E-05, 'ao')\n",
    "zirconium.add_nuclide('Sn124', 2.79392E-05, 'ao')\n",
    "zirconium.add_nuclide('Fe54', 8.68307E-06, 'ao')\n",
    "zirconium.add_nuclide('Fe56', 1.36306E-04, 'ao')\n",
    "zirconium.add_nuclide('Fe57', 3.14789E-06, 'ao')\n",
    "zirconium.add_nuclide('Fe58', 4.18926E-07, 'ao')\n",
    "zirconium.add_nuclide('Cr50', 3.30121E-06, 'ao')\n",
    "zirconium.add_nuclide('Cr52', 6.36606E-05, 'ao')\n",
    "zirconium.add_nuclide('Cr53', 7.21860E-06, 'ao')\n",
    "zirconium.add_nuclide('Cr54', 1.79686E-06, 'ao')\n",
    "zirconium.add_nuclide('Hf174', 3.54138E-09, 'ao')\n",
    "zirconium.add_nuclide('Hf176', 1.16423E-07, 'ao')\n",
    "zirconium.add_nuclide('Hf177', 4.11686E-07, 'ao')\n",
    "zirconium.add_nuclide('Hf178', 6.03806E-07, 'ao')\n",
    "zirconium.add_nuclide('Hf179', 3.01460E-07, 'ao')\n",
    "zirconium.add_nuclide('Hf180', 7.76449E-07, 'ao')\n",
    "zirconium.set_density('g/cm3',  6.56)\n",
    "zirconium.temperature=600\n",
    "\n",
    "\n",
    "water = openmc.Material(name=\"water\")\n",
    "water.add_nuclide('H1',4.96224E-02, 'ao')\n",
    "water.add_nuclide('O16', 2.48112E-02, 'ao')\n",
    "water.add_nuclide('B10', 1.07070E-05, 'ao')\n",
    "water.add_nuclide('B11', 4.30971E-05, 'ao')\n",
    "water.temperature=600\n",
    "water.set_density('g/cm3', 0.743)\n",
    "water.add_s_alpha_beta('c_H_in_H2O')\n",
    "\n",
    "helium = openmc.Material(name=\"helium\")\n",
    "helium.add_nuclide('He4',1, 'ao')\n",
    "helium.temperature=600\n",
    "helium.set_density('g/cm3', 0.17860E-03)\n",
    "\n",
    "pyrex_mat = openmc.Material(name=\"pyrex_mat\")\n",
    "pyrex_mat.add_nuclide('B10',9.63266E-04, 'ao')\n",
    "pyrex_mat.add_nuclide('B11',3.90172E-03, 'ao')\n",
    "pyrex_mat.add_nuclide('O16',4.67761E-02, 'ao')\n",
    "pyrex_mat.add_nuclide('Si28',1.81980E-02, 'ao')\n",
    "pyrex_mat.add_nuclide('Si29',9.24474E-04, 'ao')\n",
    "pyrex_mat.add_nuclide('Si30',6.10133E-04, 'ao')\n",
    "pyrex_mat.set_density('g/cm3', 2.25 )\n",
    "pyrex_mat.temperature=600\n",
    "\n",
    "\n",
    "SS304 = openmc.Material(name=\"SS304\")\n",
    "SS304.add_nuclide('C0',3.20895E-04, 'ao')\n",
    "SS304.add_nuclide('Si28',1.58197E-03, 'ao')\n",
    "SS304.add_nuclide('Si29',8.03653E-05, 'ao')\n",
    "SS304.add_nuclide('Si30',5.30394E-05, 'ao')\n",
    "SS304.add_nuclide('P31',6.99938E-05, 'ao')\n",
    "SS304.add_nuclide('Cr50',7.64915E-04, 'ao')\n",
    "SS304.add_nuclide('Cr52',1.47506E-02, 'ao')\n",
    "SS304.add_nuclide('Cr53',1.67260E-03, 'ao')\n",
    "SS304.add_nuclide('Cr54',4.16346E-04, 'ao')\n",
    "SS304.add_nuclide('Mn55',1.75387E-03, 'ao')\n",
    "SS304.add_nuclide('Fe54',3.44776E-03, 'ao')\n",
    "SS304.add_nuclide('Fe56',5.41225E-02, 'ao')\n",
    "SS304.add_nuclide('Fe57',1.24992E-03, 'ao')\n",
    "SS304.add_nuclide('Fe58',1.66342E-04, 'ao')\n",
    "SS304.add_nuclide('Ni58',5.30854E-03, 'ao')\n",
    "SS304.add_nuclide('Ni60',2.04484E-03, 'ao')\n",
    "SS304.add_nuclide('Ni61',8.88879E-05, 'ao')\n",
    "SS304.add_nuclide('Ni62',2.83413E-04, 'ao')\n",
    "SS304.add_nuclide('Ni64',7.21770E-05, 'ao')\n",
    "SS304.set_density('g/cm3', 8.00 )\n",
    "SS304.temperature=600\n",
    "\n",
    "\n",
    "model.materials = openmc.Materials([uo2, zirconium, water,helium,pyrex_mat,SS304]) \n",
    "#Perso path\n",
    "model.materials.cross_sections = '/home/pablo/internship/xs_for_input/cross_sections.xml'\n",
    "#Mac path\n",
    "#model.materials.cross_sections = '/Users/pablogarcia44/repo/endfb-vii.1-hdf5/cross_sections.xml'"
   ]
  },
  {
   "cell_type": "markdown",
   "id": "ffd5255c-47f3-4394-836f-140dddeef018",
   "metadata": {},
   "source": [
    "### Create pincell"
   ]
  },
  {
   "cell_type": "code",
   "execution_count": 4,
   "id": "d6b9097d-01da-4e73-bdf5-c201c38f570e",
   "metadata": {},
   "outputs": [],
   "source": [
    "def pincell(index_x,index_y):\n",
    "    fuel_outer_radius = openmc.ZCylinder(r=0.4096)\n",
    "    clad_inner_radius = openmc.ZCylinder(r=0.418)\n",
    "    clad_outer_radius = openmc.ZCylinder(r=0.475)\n",
    "    pitch = 1.26\n",
    "    left = openmc.XPlane(-pitch/2, boundary_type='transmission')\n",
    "    right = openmc.XPlane(pitch/2, boundary_type='transmission')\n",
    "    bottom = openmc.YPlane(-pitch/2, boundary_type='transmission')\n",
    "    top = openmc.YPlane(pitch/2, boundary_type='transmission')\n",
    "    fuel_region = -fuel_outer_radius\n",
    "    gap_region = +fuel_outer_radius & -clad_inner_radius\n",
    "    clad_region = +clad_inner_radius & -clad_outer_radius\n",
    "    water_region = +left & -right & +bottom & -top & +clad_outer_radius\n",
    "    fuel = openmc.Cell(name='fuel'+'_'+str(index_x)+'_'+str(index_y))\n",
    "    fuel.fill = uo2\n",
    "    fuel.region = fuel_region\n",
    "    gap = openmc.Cell(name='gap'+'_'+str(index_x)+'_'+str(index_y))\n",
    "    gap.region = gap_region\n",
    "    gap.fill = helium\n",
    "    clad = openmc.Cell(name='clad'+'_'+str(index_x)+'_'+str(index_y))\n",
    "    clad.fill = zirconium\n",
    "    clad.region = clad_region\n",
    "    moderator = openmc.Cell(name='moderator'+'_'+str(index_x)+'_'+str(index_y))\n",
    "    moderator.fill = water\n",
    "    moderator.region = water_region \n",
    "    u = openmc.Universe(name='u'+'_'+str(index_x)+'_'+str(index_y),cells=(fuel, gap, clad, moderator))\n",
    "    return(u,fuel,gap,clad,moderator)"
   ]
  },
  {
   "cell_type": "markdown",
   "id": "54553cbc-a489-4d17-985b-5d3c7427e819",
   "metadata": {},
   "source": [
    "### Create guide tube"
   ]
  },
  {
   "cell_type": "code",
   "execution_count": 5,
   "id": "5bc2f291-46b1-4d26-96cd-be3b66cbb53b",
   "metadata": {},
   "outputs": [],
   "source": [
    "def guide(index_x,index_y):\n",
    "    clad_inner_radius = openmc.ZCylinder(r=0.561)\n",
    "    clad_outer_radius = openmc.ZCylinder(r=0.602)\n",
    "    pitch = 1.26\n",
    "    left = openmc.XPlane(-pitch/2, boundary_type='transmission')\n",
    "    right = openmc.XPlane(pitch/2, boundary_type='transmission')\n",
    "    bottom = openmc.YPlane(-pitch/2, boundary_type='transmission')\n",
    "    top = openmc.YPlane(pitch/2, boundary_type='transmission')       \n",
    "    clad_region = +clad_inner_radius & -clad_outer_radius\n",
    "    water_region = +left & -right & +bottom & -top & +clad_outer_radius\n",
    "    water_guide_region= -clad_inner_radius\n",
    "    water_guide = openmc.Cell(name='water_guide'+'_'+str(index_x)+'_'+str(index_y))\n",
    "    water_guide.fill = water\n",
    "    water_guide.region = water_guide_region\n",
    "    clad = openmc.Cell(name='clad_guide'+'_'+str(index_x)+'_'+str(index_y))\n",
    "    clad.fill = zirconium\n",
    "    clad.region = clad_region\n",
    "    moderator = openmc.Cell(name='moderator'+'_'+str(index_x)+'_'+str(index_y))\n",
    "    moderator.fill = water\n",
    "    moderator.region = water_region \n",
    "    u = openmc.Universe(name='u_guide'+'_'+str(index_x)+'_'+str(index_y),cells=(water_guide, clad, moderator))\n",
    "    return(u,water_guide,water_guide,clad,moderator)"
   ]
  },
  {
   "cell_type": "markdown",
   "id": "017e1c31-c1d9-4788-92c4-07e64a565b27",
   "metadata": {},
   "source": [
    "### Create instrumentation tube"
   ]
  },
  {
   "cell_type": "code",
   "execution_count": 6,
   "id": "1c2bf85b-7a79-4917-b8a5-5fa8d0a75450",
   "metadata": {},
   "outputs": [],
   "source": [
    "def instru(index_x,index_y):\n",
    "    clad_inner_radius = openmc.ZCylinder(r=0.559)\n",
    "    clad_outer_radius = openmc.ZCylinder(r=0.605)\n",
    "    pitch = 1.26\n",
    "    left = openmc.XPlane(-pitch/2, boundary_type='transmission')\n",
    "    right = openmc.XPlane(pitch/2, boundary_type='transmission')\n",
    "    bottom = openmc.YPlane(-pitch/2, boundary_type='transmission')\n",
    "    top = openmc.YPlane(pitch/2, boundary_type='transmission')       \n",
    "    clad_region = +clad_inner_radius & -clad_outer_radius\n",
    "    water_region = +left & -right & +bottom & -top & +clad_outer_radius\n",
    "    water_guide_region= -clad_inner_radius\n",
    "    water_guide = openmc.Cell(name='water_guide'+'_'+str(index_x)+'_'+str(index_y))\n",
    "    water_guide.fill = water\n",
    "    water_guide.region = water_guide_region\n",
    "    clad = openmc.Cell(name='clad_guide'+'_'+str(index_x)+'_'+str(index_y))\n",
    "    clad.fill = zirconium\n",
    "    clad.region = clad_region\n",
    "    moderator = openmc.Cell(name='moderator'+'_'+str(index_x)+'_'+str(index_y))\n",
    "    moderator.fill = water\n",
    "    moderator.region = water_region \n",
    "    u = openmc.Universe(name='u_guide'+'_'+str(index_x)+'_'+str(index_y),cells=(water_guide, clad, moderator))\n",
    "    return(u,water_guide,water_guide,clad,moderator)"
   ]
  },
  {
   "cell_type": "markdown",
   "id": "3626d0da-df21-4bb6-a718-1ca7a761d236",
   "metadata": {},
   "source": [
    "### Create pyrex tube"
   ]
  },
  {
   "cell_type": "code",
   "execution_count": 7,
   "id": "6807be04-08a6-4f5b-8dae-2bf3059fbbd0",
   "metadata": {},
   "outputs": [],
   "source": [
    "def pyrex_pin(index_x,index_y):\n",
    "    guide_inner_radius = openmc.ZCylinder(r=0.559)\n",
    "    guide_outer_radius = openmc.ZCylinder(r=0.605)\n",
    "    Inner_Tube_Inner_Radius= openmc.ZCylinder(r=0.214)\n",
    "    Inner_Tube_Outer_Radius= openmc.ZCylinder(r= 0.231)\n",
    "    Pyrex_Inner_Radius= openmc.ZCylinder(r= 0.241)\n",
    "    Pyrex_Outer_Radius= openmc.ZCylinder(r= 0.427)\n",
    "    Cladding_Inner_Radius= openmc.ZCylinder(r= 0.437)\n",
    "    Cladding_Outer_Radius= openmc.ZCylinder(r= 0.484)\n",
    "    pitch = 1.26\n",
    "    left = openmc.XPlane(-pitch/2, boundary_type='transmission')\n",
    "    right = openmc.XPlane(pitch/2, boundary_type='transmission')\n",
    "    bottom = openmc.YPlane(-pitch/2, boundary_type='transmission')\n",
    "    top = openmc.YPlane(pitch/2, boundary_type='transmission')\n",
    "    \n",
    "    pyrex_region= +Pyrex_Inner_Radius & -Pyrex_Outer_Radius\n",
    "    water_region = +left & -right & +bottom & -top & +guide_outer_radius | +Cladding_Outer_Radius & -guide_inner_radius |-Inner_Tube_Inner_Radius\n",
    "    guide_region = +guide_inner_radius & -guide_outer_radius\n",
    "    steel_region = +Cladding_Inner_Radius & -Cladding_Outer_Radius | +Inner_Tube_Inner_Radius & -Inner_Tube_Outer_Radius\n",
    "    gap_region = +Inner_Tube_Outer_Radius & -Pyrex_Inner_Radius |  +Pyrex_Outer_Radius & - Cladding_Inner_Radius\n",
    "     \n",
    "    steel_cell = openmc.Cell(name='steel_cell'+'_'+str(index_x)+'_'+str(index_y))\n",
    "    steel_cell.fill = SS304\n",
    "    steel_cell.region = steel_region    \n",
    "    gap_cell = openmc.Cell(name='gap_cell'+'_'+str(index_x)+'_'+str(index_y))\n",
    "    gap_cell.region = gap_region \n",
    "    gap_cell.fill = helium\n",
    "    pyrex_cell = openmc.Cell(name='pyrex_cell'+'_'+str(index_x)+'_'+str(index_y))\n",
    "    pyrex_cell.fill = pyrex_mat\n",
    "    pyrex_cell.region = pyrex_region     \n",
    "    water_cell = openmc.Cell(name='water_cell'+'_'+str(index_x)+'_'+str(index_y))\n",
    "    water_cell.fill = water\n",
    "    water_cell.region = water_region\n",
    "    guide_cell = openmc.Cell(name='guide_cell'+'_'+str(index_x)+'_'+str(index_y))\n",
    "    guide_cell.fill = zirconium\n",
    "    guide_cell.region = guide_region\n",
    "    \n",
    "    \n",
    "    u = openmc.Universe(name='u_pyrex'+'_'+str(index_x)+'_'+str(index_y),cells=(steel_cell,gap_cell,pyrex_cell,guide_cell,water_cell))\n",
    "    return(u,steel_cell,gap_cell,pyrex_cell,guide_cell,water_cell)"
   ]
  },
  {
   "cell_type": "markdown",
   "id": "86d220c6-2336-466d-9e9d-7bac2efe8dc0",
   "metadata": {},
   "source": [
    "### Mappping"
   ]
  },
  {
   "cell_type": "code",
   "execution_count": 8,
   "id": "d3074464-adca-4a6c-84eb-180da05339f7",
   "metadata": {},
   "outputs": [],
   "source": [
    "GT=[(8,2),(3,3),(5,5),(2,8)]\n",
    "IT=[(8,8)]\n",
    "PT=[(5,2),(2,5),(8,5),(5,8)]\n",
    "\n",
    "GT_left=[]\n",
    "GT_full=[]\n",
    "for X in GT:\n",
    "    GT_left.append((X[0],X[1]))\n",
    "    GT_left.append((X[0],16-X[1]))\n",
    "for X in GT_left:\n",
    "    GT_full.append((X[0],X[1]))\n",
    "    GT_full.append((16-X[0],X[1]))    \n",
    "GT_full = list(set(GT_full))\n",
    "\n",
    "PT_left=[]\n",
    "PT_full=[]\n",
    "for X in PT:\n",
    "    PT_left.append((X[0],X[1]))\n",
    "    PT_left.append((X[0],16-X[1]))\n",
    "for X in PT_left:\n",
    "    PT_full.append((X[0],X[1]))\n",
    "    PT_full.append((16-X[0],X[1]))    \n",
    "PT_full = list(set(PT_full))\n"
   ]
  },
  {
   "cell_type": "markdown",
   "id": "6367df82-7c94-493c-b736-10a8d34cf7de",
   "metadata": {},
   "source": [
    "### Define assembly"
   ]
  },
  {
   "cell_type": "code",
   "execution_count": 9,
   "id": "f4ed7020-661c-42ed-8772-7786f6d55470",
   "metadata": {},
   "outputs": [],
   "source": [
    "assembly = openmc.RectLattice()\n",
    "pitch=1.26\n",
    "\n",
    "dr=4e-2 # cm of water that is outside assembly\n",
    "size=17 #size of the assembly \n",
    "pitch_assembly=size*pitch+2*dr \n",
    "assembly.pitch = (pitch,pitch)\n",
    "\n",
    "assembly.lower_left = (-size/2*pitch, -size/2*pitch)\n",
    "\n",
    "\n",
    "A= np.empty((size, size), dtype=openmc.universe.Universe)\n",
    "   \n",
    "\n",
    "for ix in range(size):\n",
    "    for iy in range(size):\n",
    "        if (ix,iy) in GT_full : \n",
    "            A[ix][iy]=guide(ix,iy)[0]\n",
    "        elif (ix,iy) in PT_full :\n",
    "            A[ix][iy]=pyrex_pin(ix,iy)[0]\n",
    "        elif (ix,iy) in IT:\n",
    "            A[ix][iy]=instru(ix,iy)[0]           \n",
    "        else:\n",
    "            A[ix][iy]=pincell(ix,iy)[0]\n",
    "            \n",
    "          \n",
    "            \n",
    "            \n",
    "\n",
    "        \n",
    "assembly.universes = A\n",
    "\n",
    "moderator_outside = openmc.Cell()\n",
    "moderator_outside.fill = water\n",
    "all_water = openmc.Universe()\n",
    "all_water.add_cell(moderator_outside)\n",
    "assembly.outer=all_water\n",
    "\n",
    "rod_height=385.1\n",
    "# 1/4 assembly\n",
    "min_x = openmc.XPlane(x0=-(size/2*pitch+dr), boundary_type='reflective')\n",
    "max_x = openmc.XPlane(x0=0, boundary_type='reflective')\n",
    "min_y = openmc.YPlane(y0=0, boundary_type='reflective')\n",
    "max_y = openmc.YPlane(y0=+(size/2*pitch+dr), boundary_type='reflective')\n",
    "min_z = openmc.ZPlane(z0=-rod_height/2, boundary_type='reflective')\n",
    "max_z = openmc.ZPlane(z0=+rod_height/2, boundary_type='reflective')\n",
    "\n",
    "\n",
    "\n",
    "root_cell = openmc.Cell(name='root cell', fill=assembly)\n",
    "root_cell.region = +min_x & -max_x & +min_y & -max_y & +min_z & -max_z\n",
    "\n",
    "model.geometry.root_universe = openmc.Universe(name='root universe')\n",
    "model.geometry.root_universe.add_cell(root_cell)"
   ]
  },
  {
   "cell_type": "markdown",
   "id": "de242f56-575c-4162-9850-e01d316406e4",
   "metadata": {},
   "source": [
    "### Plot"
   ]
  },
  {
   "cell_type": "code",
   "execution_count": 10,
   "id": "3dc92edb-a70f-4dfd-9b5a-d5bdc7502195",
   "metadata": {},
   "outputs": [
    {
     "data": {
      "image/png": "[encoded data removed]",
      "text/plain": [
       "<IPython.core.display.Image object>"
      ]
     },
     "execution_count": 10,
     "metadata": {},
     "output_type": "execute_result"
    }
   ],
   "source": [
    "model.materials.export_to_xml()\n",
    "model.geometry.export_to_xml()\n",
    "plot = openmc.Plot.from_geometry(model.geometry)\n",
    "plot.pixels = (500, 500)\n",
    "plot.width = (pitch_assembly+dr, pitch_assembly+dr)\n",
    "plot.origin = (0., 0., 0)\n",
    "plot.color_by = 'cell'\n",
    "plot.to_ipython_image()"
   ]
  },
  {
   "cell_type": "markdown",
   "id": "90c73240-9aae-4a8e-ab35-fbc68032fb85",
   "metadata": {},
   "source": [
    "### Choose settings"
   ]
  },
  {
   "cell_type": "code",
   "execution_count": 11,
   "id": "42b13809-e8ac-45b5-8e4d-af2f00a57694",
   "metadata": {},
   "outputs": [],
   "source": [
    "bounds = [-pitch_assembly/2, 0, -rod_height/2, 0, +pitch_assembly/2, rod_height/2]\n",
    "#bounds = [-pitch_assembly/2, 0, -10, 0, +pitch_assembly/2, 10]\n",
    "uniform_dist = openmc.stats.Box(bounds[:3], bounds[3:], only_fissionable=True)\n",
    "source = openmc.IndependentSource(space=uniform_dist)\n",
    "source.time = openmc.stats.Uniform(0, 1e-6)\n",
    "settings = openmc.Settings()\n",
    "settings.source = source\n",
    "settings = openmc.Settings()\n",
    "settings.source = source\n",
    "settings.batches = 50\n",
    "settings.inactive = 10\n",
    "settings.particles = 50000\n",
    "settings.output = {'tallies':True}\n",
    "settings.temperature['method'] = 'interpolation'\n",
    "model.settings = settings"
   ]
  },
  {
   "cell_type": "markdown",
   "id": "709977dc-3ea8-48a7-ab09-bb9cecc54ffa",
   "metadata": {},
   "source": [
    "### Define and choose energy group"
   ]
  },
  {
   "cell_type": "code",
   "execution_count": 12,
   "id": "fbc12bc6-1180-46b2-af7e-d54c0cedb555",
   "metadata": {},
   "outputs": [],
   "source": [
    "choose_group=openmc.mgxs.GROUP_STRUCTURES['XMAS-172']\n",
    "name_group='XMAS172'"
   ]
  },
  {
   "cell_type": "markdown",
   "id": "c4e87c13-a743-4039-b93c-001057d7b3af",
   "metadata": {},
   "source": [
    "### Create MGXS tallies for mgxs directory"
   ]
  },
  {
   "cell_type": "markdown",
   "id": "ec395709-2bae-4f07-b355-b3d7aaf5a4fe",
   "metadata": {},
   "source": [
    "mgxs_lib = openmc.mgxs.Library(model.geometry)\n",
    "groups = openmc.mgxs.EnergyGroups(choose_group)\n",
    "mgxs_lib.energy_groups = groups\n",
    "mgxs_lib.scatter_format = \"legendre\"\n",
    "mgxs_lib.legendre_order = 3\n",
    "mgxs_lib.mgxs_types = ['total', 'absorption', 'fission', 'nu-fission', 'chi', 'scatter matrix', 'nu-scatter matrix', 'inverse-velocity']\n",
    "mgxs_lib.tally_trigger =openmc.Trigger('std_dev', 1e-2)\n",
    "mgxs_lib.by_nuclide = False\n",
    "mgxs_lib.domain_type = 'cell'\n",
    "mgxs_lib.domains = model.geometry.get_all_material_cells().values()\n",
    "mgxs_lib.build_library()\n",
    "tallies = openmc.Tallies()\n",
    "mgxs_lib.add_to_tallies_file(tallies, merge=True)\n",
    "model.tallies = tallies\n",
    "\n",
    "#model.export_to_xml()\n",
    "model.export_to_model_xml('model_2A_1_family.xml')"
   ]
  },
  {
   "cell_type": "markdown",
   "id": "aac9b55c-58f4-43b6-8234-6357d898c087",
   "metadata": {},
   "source": [
    "### Create power tally"
   ]
  },
  {
   "cell_type": "code",
   "execution_count": 13,
   "id": "57464905-3f7a-49e3-85d6-6d06cbda97a5",
   "metadata": {},
   "outputs": [],
   "source": [
    "tally_power = openmc.Tally(name='power')\n",
    "tally_flux = openmc.Tally(name='flux')\n",
    "tally_fission = openmc.Tally(name='fission')\n",
    "\n",
    "\n",
    "all_cell=model.geometry.get_all_material_cells().values()\n",
    "A=[]\n",
    "for cell in all_cell:\n",
    "    A.append(cell)   \n",
    "all_cell=openmc.CellFilter(A)\n",
    "tally_power.scores = ['heating']\n",
    "tally_power.filters = [all_cell]\n",
    "tally_fission.scores = ['fission']\n",
    "tally_fission.filters = [all_cell]\n",
    "energy_filter = openmc.EnergyFilter([0.0, 4.0, 1.0e6])\n",
    "tally_flux.scores = ['flux']\n",
    "tally_flux.filters = [all_cell,energy_filter]\n",
    "\n",
    "\n",
    "tallies = openmc.Tallies([tally_power,tally_flux,tally_fission])\n",
    "model.tallies=tallies\n",
    "\n",
    "#model.export_to_xml()\n",
    "model.export_to_model_xml('model_2E_72_families_power.xml')"
   ]
  },
  {
   "cell_type": "markdown",
   "id": "971540b5-5bfb-47be-86f6-9d8b80a38f27",
   "metadata": {},
   "source": [
    "### Run OpenMC model"
   ]
  },
  {
   "cell_type": "markdown",
   "id": "e370875d-bae1-4f27-9c27-422f748cbd15",
   "metadata": {},
   "source": [
    "sp_file = model.run()"
   ]
  }
 ],
 "metadata": {
  "kernelspec": {
   "display_name": "Python 3 (ipykernel)",
   "language": "python",
   "name": "python3"
  },
  "language_info": {
   "codemirror_mode": {
    "name": "ipython",
    "version": 3
   },
   "file_extension": ".py",
   "mimetype": "text/x-python",
   "name": "python",
   "nbconvert_exporter": "python",
   "pygments_lexer": "ipython3",
   "version": "3.12.3"
  }
 },
 "nbformat": 4,
 "nbformat_minor": 5
}
