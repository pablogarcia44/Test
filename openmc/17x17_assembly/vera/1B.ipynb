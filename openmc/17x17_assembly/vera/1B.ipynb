{
 "cells": [
  {
   "cell_type": "markdown",
   "id": "cdd8a24a-a018-4a2b-aaed-7eae9c99a62b",
   "metadata": {},
   "source": [
    "# 3x3 assembly inputfile that: "
   ]
  },
  {
   "cell_type": "markdown",
   "id": "880099d7-f1e0-4a4f-9a03-3d4c52de6943",
   "metadata": {},
   "source": [
    "### Import module/Set up XS path/Create openMC model/Clean directory"
   ]
  },
  {
   "cell_type": "code",
   "execution_count": 108,
   "id": "e4b5e472-92fe-4d54-b9df-c70131c052a1",
   "metadata": {},
   "outputs": [],
   "source": [
    "import sys\n",
    "import os \n",
    "import openmc\n",
    "import numpy as np\n",
    "import matplotlib.pyplot as plt\n",
    "import openmc.mgxs as mgxs\n",
    "import pandas as pd\n",
    "from IPython.display import Image\n",
    "import glob"
   ]
  },
  {
   "cell_type": "markdown",
   "id": "e02f7d89-8f36-4c72-80d6-f1b53646d94e",
   "metadata": {},
   "source": [
    "### Pablo environnement"
   ]
  },
  {
   "cell_type": "code",
   "execution_count": 109,
   "id": "1e7cc449-037d-4c4f-aa2e-6f21e06bd185",
   "metadata": {},
   "outputs": [],
   "source": [
    "model=openmc.Model()\n",
    "\n",
    "clean_file_list = [\"model.xml\", \"materials.xml\", \"geometry.xml\",\"plots.xml\",\"geometry.xml\",\"settings.xml\",\"tallies.out\",\"summary.h5\",\"statepoint.50.h5\"]\n",
    "for file in clean_file_list :\n",
    "    path_file = os.path.join(os.getcwd(), file)\n",
    "    if os.path.exists(path_file):\n",
    "        os.remove(path_file)"
   ]
  },
  {
   "cell_type": "markdown",
   "id": "d759264e-22d9-45ed-9b06-58531a984021",
   "metadata": {},
   "source": [
    "### Define Materials"
   ]
  },
  {
   "cell_type": "code",
   "execution_count": 110,
   "id": "e6eb591e-415e-4779-a536-d7f96b712af5",
   "metadata": {},
   "outputs": [],
   "source": [
    "uo2 = openmc.Material(name='uo2')\n",
    "uo2.add_nuclide('U234', 6.11864E-06, 'ao')\n",
    "uo2.add_nuclide('U235', 7.18132E-04, 'ao')\n",
    "uo2.add_nuclide('U236', 3.29861E-06, 'ao')\n",
    "uo2.add_nuclide('U238', 2.21546E-02, 'ao')\n",
    "uo2.add_nuclide('O16', 4.57642E-02, 'ao')\n",
    "uo2.set_density('g/cm3', 10.257 )\n",
    "uo2.temperature=600\n",
    "\n",
    "zirconium = openmc.Material(name=\"zirconium\")\n",
    "zirconium.add_nuclide('Zr90', 2.18865E-02, 'ao')\n",
    "zirconium.add_nuclide('Zr91', 4.77292E-03, 'ao')\n",
    "zirconium.add_nuclide('Zr92', 7.29551E-03, 'ao')\n",
    "zirconium.add_nuclide('Zr94', 7.39335E-03, 'ao')\n",
    "zirconium.add_nuclide('Zr96', 1.19110E-03, 'ao')\n",
    "zirconium.add_nuclide('Sn112',4.68066E-06, 'ao')\n",
    "zirconium.add_nuclide('Sn114', 3.18478E-06, 'ao')\n",
    "zirconium.add_nuclide('Sn115', 1.64064E-06, 'ao')\n",
    "zirconium.add_nuclide('Sn116', 7.01616E-05, 'ao')\n",
    "zirconium.add_nuclide('Sn117', 3.70592E-05, 'ao')\n",
    "zirconium.add_nuclide('Sn118', 1.16872E-04, 'ao')\n",
    "zirconium.add_nuclide('Sn119', 4.14504E-05, 'ao')\n",
    "zirconium.add_nuclide('Sn120', 1.57212E-04, 'ao')\n",
    "zirconium.add_nuclide('Sn122', 2.23417E-05, 'ao')\n",
    "zirconium.add_nuclide('Sn124', 2.79392E-05, 'ao')\n",
    "zirconium.add_nuclide('Fe54', 8.68307E-06, 'ao')\n",
    "zirconium.add_nuclide('Fe56', 1.36306E-04, 'ao')\n",
    "zirconium.add_nuclide('Fe57', 3.14789E-06, 'ao')\n",
    "zirconium.add_nuclide('Fe58', 4.18926E-07, 'ao')\n",
    "zirconium.add_nuclide('Cr50', 3.30121E-06, 'ao')\n",
    "zirconium.add_nuclide('Cr52', 6.36606E-05, 'ao')\n",
    "zirconium.add_nuclide('Cr53', 7.21860E-06, 'ao')\n",
    "zirconium.add_nuclide('Cr54', 1.79686E-06, 'ao')\n",
    "zirconium.add_nuclide('Hf174', 3.54138E-09, 'ao')\n",
    "zirconium.add_nuclide('Hf176', 1.16423E-07, 'ao')\n",
    "zirconium.add_nuclide('Hf177', 4.11686E-07, 'ao')\n",
    "zirconium.add_nuclide('Hf178', 6.03806E-07, 'ao')\n",
    "zirconium.add_nuclide('Hf179', 3.01460E-07, 'ao')\n",
    "zirconium.add_nuclide('Hf180', 7.76449E-07, 'ao')\n",
    "zirconium.set_density('g/cm3',  6.56)\n",
    "\n",
    "water = openmc.Material(name=\"water\")\n",
    "water.add_nuclide('H1',4.41459E-02, 'ao')\n",
    "water.add_nuclide('O16', 2.20729E-02, 'ao')\n",
    "water.add_nuclide('B10', 9.52537E-06, 'ao')\n",
    "water.add_nuclide('B11', 3.83408E-05, 'ao')\n",
    "water.set_density('g/cm3', 0.661)\n",
    "water.add_s_alpha_beta('c_H_in_H2O')\n",
    "water.temperature=600\n",
    "\n",
    "helium = openmc.Material(name=\"helium\")\n",
    "helium.add_nuclide('He4',1, 'ao')\n",
    "helium.temperature=600\n",
    "helium.set_density('g/cm3', 0.17860E-03)\n",
    "\n",
    "model.materials = openmc.Materials([uo2, zirconium, water,helium]) \n",
    "#Perso path\n",
    "#model.materials.cross_sections = '/home/pablo/internship/xs_for_input/cross_sections.xml'\n",
    "#Mac path\n",
    "model.materials.cross_sections = '/Users/pablogarcia44/repo/endfb-vii.1-hdf5/cross_sections.xml'"
   ]
  },
  {
   "cell_type": "markdown",
   "id": "ffd5255c-47f3-4394-836f-140dddeef018",
   "metadata": {},
   "source": [
    "### Create pincell"
   ]
  },
  {
   "cell_type": "code",
   "execution_count": 111,
   "id": "d6b9097d-01da-4e73-bdf5-c201c38f570e",
   "metadata": {},
   "outputs": [],
   "source": [
    "fuel_outer_radius = openmc.ZCylinder(r=0.4096)\n",
    "clad_inner_radius = openmc.ZCylinder(r=0.418)\n",
    "clad_outer_radius = openmc.ZCylinder(r=0.475)\n",
    "pitch = 1.26\n",
    "rod_height=385.1\n",
    "left = openmc.XPlane(-pitch/2, boundary_type='reflective')\n",
    "right = openmc.XPlane(pitch/2, boundary_type='reflective')\n",
    "bottom = openmc.YPlane(-pitch/2, boundary_type='reflective')\n",
    "top = openmc.YPlane(pitch/2, boundary_type='reflective')\n",
    "min_z = openmc.ZPlane(-rod_height/2, boundary_type='reflective')\n",
    "max_z = openmc.ZPlane(+rod_height/2, boundary_type='reflective')\n",
    "fuel_region = -fuel_outer_radius #& +min_z & -max_z\n",
    "gap_region = +fuel_outer_radius & -clad_inner_radius #& +min_z & -max_z\n",
    "clad_region = +clad_inner_radius & -clad_outer_radius #& +min_z & -max_z\n",
    "water_region = +left & -right & +bottom & -top & +clad_outer_radius #& +min_z & -max_z\n",
    "fuel = openmc.Cell(name='fuel')\n",
    "fuel.fill = uo2\n",
    "fuel.region = fuel_region\n",
    "gap = openmc.Cell(name='gap')\n",
    "gap.region = gap_region\n",
    "gap.fill = helium\n",
    "clad = openmc.Cell(name='clad')\n",
    "clad.fill = zirconium\n",
    "clad.region = clad_region\n",
    "moderator = openmc.Cell(name='moderator')\n",
    "moderator.fill = water\n",
    "moderator.region = water_region \n",
    "root_universe = openmc.Universe(cells=(fuel, gap, clad, moderator))\n",
    "model.geometry = openmc.Geometry(root_universe)\n"
   ]
  },
  {
   "cell_type": "markdown",
   "id": "de242f56-575c-4162-9850-e01d316406e4",
   "metadata": {},
   "source": [
    "### Plot"
   ]
  },
  {
   "cell_type": "markdown",
   "id": "f8e4b370-3bab-4477-bfc5-20381b78d4d3",
   "metadata": {},
   "source": [
    "model.materials.export_to_xml()\n",
    "model.geometry.export_to_xml()\n",
    "plot = openmc.Plot.from_geometry(model.geometry)\n",
    "plot.pixels = (500, 500)\n",
    "plot.width = (pitch_assembly+dr, pitch_assembly+dr)\n",
    "plot.origin = (0., 0., 0)\n",
    "plot.color_by = 'cell'\n",
    "plots.append(plot)\n",
    "model.plots=openmc.Plots(plots)\n",
    "#plot.to_ipython_image(openmc_exec='openmc', cwd='/Users/pablogarcia44/repo/perso/openmc/17x17_assembly/vera')"
   ]
  },
  {
   "cell_type": "markdown",
   "id": "90c73240-9aae-4a8e-ab35-fbc68032fb85",
   "metadata": {},
   "source": [
    "### Choose settings"
   ]
  },
  {
   "cell_type": "code",
   "execution_count": 112,
   "id": "42b13809-e8ac-45b5-8e4d-af2f00a57694",
   "metadata": {},
   "outputs": [],
   "source": [
    "bounds = [-pitch/2, 0, -rod_height/2, 0, +pitch/2, rod_height/2]\n",
    "uniform_dist = openmc.stats.Box(bounds[:3], bounds[3:], only_fissionable=True)\n",
    "source = openmc.IndependentSource(space=uniform_dist)\n",
    "source.time = openmc.stats.Uniform(0, 1e-6)\n",
    "settings = openmc.Settings()\n",
    "settings.source = source\n",
    "settings = openmc.Settings()\n",
    "settings.source = source\n",
    "settings.batches = 50\n",
    "settings.inactive = 10\n",
    "settings.particles = 1000000\n",
    "settings.output = {'tallies':True}\n",
    "model.settings = settings"
   ]
  },
  {
   "cell_type": "markdown",
   "id": "709977dc-3ea8-48a7-ab09-bb9cecc54ffa",
   "metadata": {},
   "source": [
    "### Define and choose energy group"
   ]
  },
  {
   "cell_type": "code",
   "execution_count": 113,
   "id": "fbc12bc6-1180-46b2-af7e-d54c0cedb555",
   "metadata": {},
   "outputs": [],
   "source": [
    "choose_group=openmc.mgxs.GROUP_STRUCTURES['XMAS-172']\n",
    "name_group='XMAS172'"
   ]
  },
  {
   "cell_type": "markdown",
   "id": "c4e87c13-a743-4039-b93c-001057d7b3af",
   "metadata": {},
   "source": [
    "### Create MGXS tallies for mgxs directory"
   ]
  },
  {
   "cell_type": "markdown",
   "id": "ec395709-2bae-4f07-b355-b3d7aaf5a4fe",
   "metadata": {},
   "source": [
    "mgxs_lib = openmc.mgxs.Library(model.geometry)\n",
    "groups = openmc.mgxs.EnergyGroups(choose_group)\n",
    "mgxs_lib.energy_groups = groups\n",
    "mgxs_lib.scatter_format = \"legendre\"\n",
    "mgxs_lib.legendre_order = 3\n",
    "mgxs_lib.mgxs_types = ['total', 'absorption', 'fission', 'nu-fission', 'chi', 'scatter matrix', 'nu-scatter matrix', 'inverse-velocity']\n",
    "mgxs_lib.tally_trigger =openmc.Trigger('std_dev', 1e-2)\n",
    "mgxs_lib.by_nuclide = False\n",
    "mgxs_lib.domain_type = 'cell'\n",
    "mgxs_lib.domains = model.geometry.get_all_material_cells().values()\n",
    "mgxs_lib.build_library()\n",
    "tallies = openmc.Tallies()\n",
    "mgxs_lib.add_to_tallies_file(tallies, merge=True)\n",
    "model.tallies = tallies\n",
    "\n",
    "#model.export_to_xml()\n",
    "model.export_to_model_xml('model_2A_1_family.xml')"
   ]
  },
  {
   "cell_type": "markdown",
   "id": "aac9b55c-58f4-43b6-8234-6357d898c087",
   "metadata": {},
   "source": [
    "### Create power tally"
   ]
  },
  {
   "cell_type": "code",
   "execution_count": 114,
   "id": "57464905-3f7a-49e3-85d6-6d06cbda97a5",
   "metadata": {},
   "outputs": [],
   "source": [
    "model.export_to_model_xml('model_1B.xml')"
   ]
  },
  {
   "cell_type": "markdown",
   "id": "971540b5-5bfb-47be-86f6-9d8b80a38f27",
   "metadata": {},
   "source": [
    "### Run OpenMC model"
   ]
  },
  {
   "cell_type": "markdown",
   "id": "e370875d-bae1-4f27-9c27-422f748cbd15",
   "metadata": {},
   "source": [
    "sp_file = model.run()"
   ]
  },
  {
   "cell_type": "code",
   "execution_count": null,
   "id": "4fc2888f-8ce8-420a-a6d3-3a15ec022424",
   "metadata": {},
   "outputs": [],
   "source": []
  }
 ],
 "metadata": {
  "kernelspec": {
   "display_name": "Python 3 (ipykernel)",
   "language": "python",
   "name": "python3"
  },
  "language_info": {
   "codemirror_mode": {
    "name": "ipython",
    "version": 3
   },
   "file_extension": ".py",
   "mimetype": "text/x-python",
   "name": "python",
   "nbconvert_exporter": "python",
   "pygments_lexer": "ipython3",
   "version": "3.12.3"
  }
 },
 "nbformat": 4,
 "nbformat_minor": 5
}
