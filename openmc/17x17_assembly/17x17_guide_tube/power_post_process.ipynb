{
 "cells": [
  {
   "cell_type": "code",
   "execution_count": 282,
   "id": "4bbfbc69-1aec-41dc-a344-0a79fa71d7d7",
   "metadata": {},
   "outputs": [],
   "source": [
    "import sys\n",
    "import os \n",
    "import openmc\n",
    "import numpy as np\n",
    "import matplotlib.pyplot as plt\n",
    "import openmc.mgxs as mgxs\n",
    "import pandas as pd\n",
    "from IPython.display import Image\n",
    "import glob"
   ]
  },
  {
   "cell_type": "markdown",
   "id": "03ce40af-c266-4d75-b3e2-606203ce327a",
   "metadata": {},
   "source": [
    "### Import output"
   ]
  },
  {
   "cell_type": "code",
   "execution_count": 283,
   "id": "b4f3971a-29b2-42c9-93f6-7e065902418a",
   "metadata": {
    "scrolled": true
   },
   "outputs": [
    {
     "name": "stderr",
     "output_type": "stream",
     "text": [
      "/opt/anaconda3/envs/openmc-env/lib/python3.12/site-packages/openmc/statepoint.py:671: RuntimeWarning: A Summary object has already been linked.\n",
      "  warnings.warn('A Summary object has already been linked.',\n"
     ]
    }
   ],
   "source": [
    "sp_file='/Users/pablogarcia44/repo/perso/openmc/17x17_assembly/vera/statepoint.50.h5'\n",
    "sm_file='/Users/pablogarcia44/repo/perso/openmc/17x17_assembly/vera/summary.h5'\n",
    "sm=openmc.Summary(sm_file)\n",
    "sp = openmc.StatePoint(sp_file)\n",
    "sp.link_with_summary(sm)\n",
    "model=openmc.model.Model\n",
    "model_file='/Users/pablogarcia44/repo/perso/openmc/17x17_assembly/vera/model_2B_72_families_power.xml'\n",
    "model=openmc.model.Model.from_model_xml(model_file)"
   ]
  },
  {
   "cell_type": "markdown",
   "id": "660440d1-1733-4b06-979f-2b59c897abf7",
   "metadata": {},
   "source": [
    "### Get Power and Flux values"
   ]
  },
  {
   "cell_type": "code",
   "execution_count": 284,
   "id": "b6cad964-6afb-4fe7-a8fe-5d9c839de629",
   "metadata": {},
   "outputs": [],
   "source": [
    "for index, tally in enumerate(sp.tallies):\n",
    "    if index==0:\n",
    "        t_power=sp.tallies[tally]\n",
    "    if index==1:\n",
    "        t_flux=sp.tallies[tally]\n",
    "    if index==2:\n",
    "        t_fission=sp.tallies[tally]\n",
    "\n",
    "def tally_cell(cell,x,y): \n",
    "    A=[]\n",
    "    cell_index = 99\n",
    "    cell_id=99\n",
    "    i=0\n",
    "    for all_cell in model.geometry.get_all_material_cells().values():\n",
    "        i=i+1\n",
    "        if all_cell.name==cell+'_'+str(x)+'_'+str(y):\n",
    "            cell_index=all_cell.id\n",
    "            cell_id=i-1\n",
    "    tally_data_reshaped =t_power.get_reshaped_data()\n",
    "    power=tally_data_reshaped[cell_id]\n",
    "    if x==8 or y==8:\n",
    "        A.append(2*power[0][0])\n",
    "    else : \n",
    "        A.append(power[0][0])\n",
    "    tally_data_reshaped =t_flux.get_reshaped_data()\n",
    "    flux=tally_data_reshaped[cell_id]\n",
    "    A.append([flux[0][0][0],flux[1][0][0]])\n",
    "\n",
    "    tally_data_reshaped =t_fission.get_reshaped_data()\n",
    "    fission=tally_data_reshaped[cell_id]\n",
    "    if x==8 or y==8:\n",
    "        A.append(2*fission[0][0])\n",
    "    else : \n",
    "        A.append(fission[0][0])\n",
    "    return(A)\n",
    "\n",
    "def power_cell(cell,x,y):\n",
    "    return(tally_cell(cell,x,y)[0])\n",
    "\n",
    "def flux_cell(cell,x,y):\n",
    "    return(tally_cell(cell,x,y)[1])\n",
    "\n",
    "def fission_cell(cell,x,y):\n",
    "    return(tally_cell(cell,x,y)[2])\n",
    "\n"
   ]
  },
  {
   "cell_type": "code",
   "execution_count": 285,
   "id": "6fd8a544-1882-47f7-9e8a-dc6cff67b2e7",
   "metadata": {},
   "outputs": [
    {
     "name": "stdout",
     "output_type": "stream",
     "text": [
      "[1328550.4921856122, [0.020019177060316078, 0.05743978575609926], 0.007545751011476627]\n",
      "1328550.4921856122\n",
      "[0.020019177060316078, 0.05743978575609926]\n",
      "0.007545751011476627\n"
     ]
    }
   ],
   "source": [
    "print(tally_cell('fuel',7,8))\n",
    "\n",
    "print(power_cell('fuel',7,8))\n",
    "print(flux_cell('fuel',7,8))\n",
    "print(fission_cell('fuel',7,8))"
   ]
  },
  {
   "cell_type": "markdown",
   "id": "1b576bcd-6922-42fe-a1c8-e163866aed07",
   "metadata": {},
   "source": [
    "### Mapping geom"
   ]
  },
  {
   "cell_type": "code",
   "execution_count": 286,
   "id": "7e572ae7-7727-41b7-8e8b-ed39d83552d0",
   "metadata": {},
   "outputs": [],
   "source": [
    "def flux_cell(cell,x,y):    \n",
    "    cell_index = 99\n",
    "    cell_id=99\n",
    "    i=0\n",
    "    for all_cell in model.geometry.get_all_material_cells().values():\n",
    "        i=i+1\n",
    "        if all_cell.name==cell+'_'+str(x)+'_'+str(y):\n",
    "            cell_index=all_cell.id\n",
    "            cell_id=i-1\n",
    "    tally_data_reshaped =t_flux.get_reshaped_data()\n",
    "    flux=tally_data_reshaped[cell_id]\n",
    "    flux_return=[flux[0][0][0],flux[1][0][0]]\n",
    "    return(flux_return)"
   ]
  },
  {
   "cell_type": "code",
   "execution_count": 287,
   "id": "87ea233b-d544-419f-93fe-895c084ea438",
   "metadata": {},
   "outputs": [],
   "source": [
    "GT=[(5,2),(8,2),(3,3),(2,5),(5,5),(8,5),(2,8),(5,8)]\n",
    "IT=[(8,8)]"
   ]
  },
  {
   "cell_type": "markdown",
   "id": "2f6418c1-9831-4552-a443-ff77a3e99424",
   "metadata": {},
   "source": [
    "### Mapping benchmark"
   ]
  },
  {
   "cell_type": "code",
   "execution_count": 288,
   "id": "faaf22d3-cfaa-4e37-8f0c-98850ec77e83",
   "metadata": {},
   "outputs": [],
   "source": [
    "A2=[(0,0,0.9476),(1,0,0.9418),(2,0,0.9458),(3,0,0.9551),(4,0,0.9645),(5,0,0.9739),(6,0,0.9714),(7,0,0.9721),(8,0,0.9764),(1,1,0.9389),(2,1,0.9483 ),(3,1,0.9649 ),(4,1,0.9837),(5,1,1.0115),(6,1,0.9880),(7,1,0.9880),(8,1,1.0122),(2,2,0.9736),(3,2,1.0180),(4,2,1.0360),(6,2,1.0281),(7,2,1.0266),(4,3,1.0516),(5,3,1.0458),(6,3,1.0089),(7,3,1.0053),(8,3,1.0328),(4,4,1.0313),(5,4,1.0451),(6,4,1.0118),(7,4,1.0089),(8,4,1.0353),(6,5,1.0386),(7,5,1.0368),(6,6,1.0104),(7,6,1.0093 ),(8,6,1.0371),(7,7,1.0089),(8,7,1.0364)]\n",
    "B2=[(0,0,0.9478),(1,0,0.9435),(2,0,0.9475),(3,0,0.9565),(4,0,0.9662),(5,0,0.9752 ),(6,0,0.9738),(7,0,0.9742),(8,0,0.9781),(1,1,0.9406),(2,1,0.9503 ),(3,1,0.9666 ),(4,1,0.9839),(5,1,1.0099),(6,1,0.9893),(7,1,0.9893),(8,1,1.0103 ),(2,2,0.9745),(3,2, 1.0146),(4,2,1.0326),(6,2,1.0258),(7,2,1.0243),(4,3,1.0474),(5,3,1.0427),(6,3,1.0095),(7,3,1.0066),(8,3,1.0308),(4,4,  1.0308 ),(5,4,1.0424),(6,4,1.0124),(7,4,1.0099),(8,4,1.0337),(6,5,1.0373),(7,5,1.0359),(6,6,1.0121),(7,6,1.0113),(8,6,1.0362),(7,7,1.0113),(8,7,1.0355)]"
   ]
  },
  {
   "cell_type": "markdown",
   "id": "1367e67f-7e95-4390-8a83-a86be1b0a9aa",
   "metadata": {},
   "source": [
    "### Create Power RD list"
   ]
  },
  {
   "cell_type": "code",
   "execution_count": 292,
   "id": "c6d44871-6b0f-47ca-9bb2-3d978ee6d1f3",
   "metadata": {},
   "outputs": [
    {
     "name": "stdout",
     "output_type": "stream",
     "text": [
      "[0, 0, 0.9478910493224066, 0.9476, 0.030714364964821085]\n",
      "[1, 0, 0.9457434260899411, 0.9418, 0.41871162560428304]\n",
      "[2, 0, 0.9555066171759131, 0.9458, 1.0262864427905631]\n",
      "[3, 0, 0.9592104828686447, 0.9551, 0.4303719891785985]\n",
      "[4, 0, 0.9709816689577269, 0.9645, 0.672023738489045]\n",
      "[5, 0, 0.9672396216222702, 0.9739, -0.6838872962039033]\n",
      "[6, 0, 0.9771131866153702, 0.9714, 0.5881394498013305]\n",
      "[7, 0, 0.9724670233153972, 0.9721, 0.03775571601659147]\n",
      "[8, 0, 0.9815332244175043, 0.9764, 0.5257296617681586]\n",
      "[1, 1, 0.9456637920922389, 0.9389, 0.7203953660921275]\n",
      "[2, 1, 0.9432796705035826, 0.9483, -0.5294030893617417]\n",
      "[3, 1, 0.9686364704109588, 0.9649, 0.38723913472471905]\n",
      "[4, 1, 0.9886823846165708, 0.9837, 0.5064943190577152]\n",
      "[5, 1, 1.007980487635489, 1.0115, -0.3479498135947692]\n",
      "[6, 1, 0.9808799191059151, 0.988, -0.7206559609397662]\n",
      "[7, 1, 0.9841211219999728, 0.988, -0.39259898785700154]\n",
      "[8, 1, 1.0030367972386842, 1.0122, -0.9052759100292205]\n",
      "[2, 2, 0.9725788315153503, 0.9736, -0.10488583449565797]\n",
      "[3, 2, 1.0205438058907612, 1.018, 0.24988270046770109]\n",
      "[4, 2, 1.0347596859503918, 1.036, -0.11972143335986743]\n",
      "[6, 2, 1.0207251350052986, 1.0281, -0.717329539412646]\n",
      "[7, 2, 1.0190599383773138, 1.0266, -0.734469279435629]\n",
      "[4, 3, 1.0550968253216535, 1.0516, 0.3325242793508375]\n",
      "[5, 3, 1.0430215346507055, 1.0458, -0.26567846139745654]\n",
      "[6, 3, 1.0075541239728332, 1.0089, -0.13340033969340243]\n",
      "[7, 3, 1.0026418118702747, 1.0053, -0.26441740074857284]\n",
      "[8, 3, 1.0202060230945942, 1.0328, -1.2194013270145]\n",
      "[4, 4, 1.0274731693536074, 1.0313, -0.3710686169293769]\n",
      "[5, 4, 1.0468472907019146, 1.0451, 0.16718885292457236]\n",
      "[6, 4, 1.0116726121612367, 1.0118, -0.012590219288724587]\n",
      "[7, 4, 1.0128053621754167, 1.0089, 0.3870911066921217]\n",
      "[8, 4, 1.0384068619322313, 1.0353, 0.30009291338077826]\n",
      "[6, 5, 1.031703189340899, 1.0386, -0.6640487828905229]\n",
      "[7, 5, 1.0373993082067317, 1.0368, 0.05780364648261072]\n",
      "[6, 6, 1.0154941925782004, 1.0104, 0.5041758291964004]\n",
      "[7, 6, 1.0069311824245504, 1.0093, -0.23469905632118407]\n",
      "[8, 6, 1.0302306953303502, 1.0371, -0.6623570214684935]\n",
      "[7, 7, 1.0068074193679648, 1.0089, -0.20741209555308768]\n",
      "[8, 7, 1.038074056789132, 1.0364, 0.16152612785912937]\n"
     ]
    }
   ],
   "source": [
    "rd_list=[]\n",
    "#Create power lis\n",
    "for pos in A2:\n",
    "    result=power_cell('fuel',pos[0],pos[1])\n",
    "    bench=pos[2]\n",
    "    rd=100*(result-bench)#/bench\n",
    "    rd_list.append([pos[0],pos[1],result,bench,0])\n",
    "    \n",
    "#Sum\n",
    "sum_power=0\n",
    "N=0\n",
    "for k in range((len(rd_list))):\n",
    "    sum_power=sum_power+rd_list[k][2]\n",
    "    N=N+1\n",
    "    \n",
    "#Normalisation \n",
    "avg_power=sum_power/N\n",
    "for k in range((len(rd_list))):\n",
    "    rd_list[k][2]=rd_list[k][2]/avg_power\n",
    "\n",
    "#Calcul rd\n",
    "for pos in rd_list:\n",
    "    pos[4]=100*(pos[2]-pos[3])/pos[3]\n",
    "    \n",
    "#Print\n",
    "for k in range((len(rd_list))):\n",
    "    print(rd_list[k])"
   ]
  },
  {
   "cell_type": "markdown",
   "id": "9ab3856d-aa31-49f3-8eb1-d6b9c81af11e",
   "metadata": {},
   "source": [
    "### Verify Power Normalisation"
   ]
  },
  {
   "cell_type": "code",
   "execution_count": 293,
   "id": "827d5034-9284-4562-981c-6650f34711e4",
   "metadata": {},
   "outputs": [
    {
     "name": "stdout",
     "output_type": "stream",
     "text": [
      "1.0000000000000004\n"
     ]
    }
   ],
   "source": [
    "test=0\n",
    "N=0\n",
    "for A in rd_list:\n",
    "    test=test+A[2]\n",
    "    N=N+1\n",
    "print(test/N) "
   ]
  },
  {
   "cell_type": "markdown",
   "id": "8fbf41e8-fcec-4bf5-b9a4-54937bc37aa6",
   "metadata": {},
   "source": [
    "### Maximum rd"
   ]
  },
  {
   "cell_type": "code",
   "execution_count": 305,
   "id": "305f423b-970f-4231-8a2c-6160edbf4537",
   "metadata": {
    "scrolled": true
   },
   "outputs": [
    {
     "name": "stdout",
     "output_type": "stream",
     "text": [
      "8 3 -1.2194013270145\n"
     ]
    }
   ],
   "source": [
    "rd_max=0\n",
    "x=99\n",
    "y=99\n",
    "for A in rd_list:\n",
    "    if abs(A[4])>abs(rd_max):\n",
    "        rd_max=A[4]\n",
    "        x=A[0]\n",
    "        y=A[1]\n",
    "print(x,y,rd_max)   "
   ]
  },
  {
   "cell_type": "code",
   "execution_count": null,
   "id": "8629ae50-d7ac-4703-aaf0-66230b848ba8",
   "metadata": {},
   "outputs": [],
   "source": []
  }
 ],
 "metadata": {
  "kernelspec": {
   "display_name": "Python 3 (ipykernel)",
   "language": "python",
   "name": "python3"
  },
  "language_info": {
   "codemirror_mode": {
    "name": "ipython",
    "version": 3
   },
   "file_extension": ".py",
   "mimetype": "text/x-python",
   "name": "python",
   "nbconvert_exporter": "python",
   "pygments_lexer": "ipython3",
   "version": "3.12.3"
  }
 },
 "nbformat": 4,
 "nbformat_minor": 5
}
