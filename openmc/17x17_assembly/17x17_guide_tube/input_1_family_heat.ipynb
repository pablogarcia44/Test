{
 "cells": [
  {
   "cell_type": "markdown",
   "id": "cdd8a24a-a018-4a2b-aaed-7eae9c99a62b",
   "metadata": {},
   "source": [
    "# 3x3 assembly inputfile that: "
   ]
  },
  {
   "cell_type": "markdown",
   "id": "880099d7-f1e0-4a4f-9a03-3d4c52de6943",
   "metadata": {},
   "source": [
    "### Import module/Set up XS path/Create openMC model/Clean directory"
   ]
  },
  {
   "cell_type": "code",
   "execution_count": 78,
   "id": "e4b5e472-92fe-4d54-b9df-c70131c052a1",
   "metadata": {},
   "outputs": [],
   "source": [
    "import sys\n",
    "import os \n",
    "import openmc\n",
    "import numpy as np\n",
    "import matplotlib.pyplot as plt\n",
    "import openmc.mgxs as mgxs\n",
    "import pandas as pd\n",
    "from IPython.display import Image\n",
    "import glob"
   ]
  },
  {
   "cell_type": "markdown",
   "id": "1c6bc5c7-2dcc-40b3-98c0-f0b7fc3f5ac5",
   "metadata": {},
   "source": [
    "### Ragusa environnement"
   ]
  },
  {
   "cell_type": "markdown",
   "id": "99b24d1d-e008-48ce-bdee-c3878c477f87",
   "metadata": {},
   "source": [
    "import os\n",
    "\n",
    "# Add path to OpenMC binary\n",
    "# os.environ['PATH'] += r':/path/to/openmc/bin'\n",
    "os.environ['PATH'] += r':/Users/jean.ragusa/repo/openmc/local/bin'\n",
    "\n",
    "# Add location of OpenMC xs data\n",
    "%env OPENMC_CROSS_SECTIONS=/Users/jean.ragusa/repo/endfb-viii.0-hdf5/cross_sections.xml\n",
    "# %env OPENMC_CROSS_SECTIONS=/Users/jean.ragusa/repo/nndc_hdf5/cross_sections.xml"
   ]
  },
  {
   "cell_type": "markdown",
   "id": "e02f7d89-8f36-4c72-80d6-f1b53646d94e",
   "metadata": {},
   "source": [
    "### Pablo environnement"
   ]
  },
  {
   "cell_type": "code",
   "execution_count": 79,
   "id": "1e7cc449-037d-4c4f-aa2e-6f21e06bd185",
   "metadata": {},
   "outputs": [],
   "source": [
    "model=openmc.Model()\n",
    "\n",
    "clean_file_list = [\"model.xml\", \"materials.xml\", \"geometry.xml\",\"plots.xml\",\"geometry.xml\",\"settings.xml\",\"tallies.out\",\"summary.h5\",\"statepoint.50.h5\"]\n",
    "for file in clean_file_list :\n",
    "    path_file = os.path.join(os.getcwd(), file)\n",
    "    if os.path.exists(path_file):\n",
    "        os.remove(path_file)"
   ]
  },
  {
   "cell_type": "markdown",
   "id": "d759264e-22d9-45ed-9b06-58531a984021",
   "metadata": {},
   "source": [
    "### Define Materials"
   ]
  },
  {
   "cell_type": "code",
   "execution_count": 80,
   "id": "50dee80c-d7a7-49e1-99ef-5094e87b5808",
   "metadata": {},
   "outputs": [],
   "source": [
    "uo2 = openmc.Material(name='uo2')\n",
    "uo2.add_nuclide('U235', 0.03)\n",
    "uo2.add_nuclide('U238', 0.97)\n",
    "uo2.add_nuclide('O16', 2.0)\n",
    "uo2.set_density('g/cm3', 10.0)\n",
    "zirconium = openmc.Material(name=\"zirconium\")\n",
    "zirconium.add_element('Zr', 1.0)\n",
    "zirconium.set_density('g/cm3', 6.6)\n",
    "water = openmc.Material(name=\"water\")\n",
    "water.add_nuclide('H1', 2.0)\n",
    "water.add_nuclide('O16', 1.0)\n",
    "water.set_density('g/cm3', 1.0)\n",
    "water.add_s_alpha_beta('c_H_in_H2O')\n",
    "model.materials = openmc.Materials([uo2, zirconium, water]) \n",
    "#Perso path\n",
    "#model.materials.cross_sections = '/home/pablo/internship/xs_for_input/cross_sections.xml'\n",
    "#Mac path\n",
    "model.materials.cross_sections = '/Users/pablogarcia44/repo/cross_sections.xml'"
   ]
  },
  {
   "cell_type": "markdown",
   "id": "ffd5255c-47f3-4394-836f-140dddeef018",
   "metadata": {},
   "source": [
    "### Create pincell"
   ]
  },
  {
   "cell_type": "code",
   "execution_count": 81,
   "id": "035e9bfb-7a4d-4a19-93bc-8e720035fd3b",
   "metadata": {},
   "outputs": [],
   "source": [
    "fuel_outer_radius = openmc.ZCylinder(r=0.39)\n",
    "clad_inner_radius = openmc.ZCylinder(r=0.40)\n",
    "clad_outer_radius = openmc.ZCylinder(r=0.46)\n",
    "pitch = 1.26\n",
    "left = openmc.XPlane(-pitch/2, boundary_type='transmission')\n",
    "right = openmc.XPlane(pitch/2, boundary_type='transmission')\n",
    "bottom = openmc.YPlane(-pitch/2, boundary_type='transmission')\n",
    "top = openmc.YPlane(pitch/2, boundary_type='transmission')\n",
    "fuel_region = -fuel_outer_radius\n",
    "gap_region = +fuel_outer_radius & -clad_inner_radius\n",
    "clad_region = +clad_inner_radius & -clad_outer_radius\n",
    "water_region = +left & -right & +bottom & -top & +clad_outer_radius\n",
    "fuel = openmc.Cell(name='fuel_1_family')\n",
    "fuel.fill = uo2\n",
    "fuel.region = fuel_region\n",
    "gap = openmc.Cell(name='gap_1_family')\n",
    "gap.region = gap_region\n",
    "clad = openmc.Cell(name='clad_1_family')\n",
    "clad.fill = zirconium\n",
    "clad.region = clad_region\n",
    "moderator = openmc.Cell(name='moderator_1_family')\n",
    "moderator.fill = water\n",
    "moderator.region = water_region \n",
    "pincell = openmc.Universe(name='pincell_1_family',cells=(fuel, gap, clad, moderator))"
   ]
  },
  {
   "cell_type": "markdown",
   "id": "54553cbc-a489-4d17-985b-5d3c7427e819",
   "metadata": {},
   "source": [
    "### Create guide tube"
   ]
  },
  {
   "cell_type": "code",
   "execution_count": 82,
   "id": "5bc2f291-46b1-4d26-96cd-be3b66cbb53b",
   "metadata": {},
   "outputs": [],
   "source": [
    "clad_inner_radius = openmc.ZCylinder(r=0.5610)\n",
    "clad_outer_radius = openmc.ZCylinder(r=0.6020)\n",
    "pitch = 1.26\n",
    "left = openmc.XPlane(-pitch/2, boundary_type='transmission')\n",
    "right = openmc.XPlane(pitch/2, boundary_type='transmission')\n",
    "bottom = openmc.YPlane(-pitch/2, boundary_type='transmission')\n",
    "top = openmc.YPlane(pitch/2, boundary_type='transmission')       \n",
    "clad_region = +clad_inner_radius & -clad_outer_radius\n",
    "water_region = +left & -right & +bottom & -top & +clad_outer_radius\n",
    "water_guide_region= -clad_inner_radius\n",
    "water_guide = openmc.Cell(name='water_guide_1_family')\n",
    "water_guide.fill = water\n",
    "water_guide.region = water_guide_region\n",
    "clad = openmc.Cell(name='clad_guide_1_family')\n",
    "clad.fill = zirconium\n",
    "clad.region = clad_region\n",
    "moderator = openmc.Cell(name='moderator_1_family')\n",
    "moderator.fill = water\n",
    "moderator.region = water_region \n",
    "guide = openmc.Universe(name='guide_1_family',cells=(water_guide, clad, moderator))"
   ]
  },
  {
   "cell_type": "markdown",
   "id": "a18e946c-3871-43ce-974c-b9e004f5e549",
   "metadata": {},
   "source": [
    "### Mapping GT"
   ]
  },
  {
   "cell_type": "code",
   "execution_count": 83,
   "id": "50ebe9d9-7b77-4bd5-86c8-7050f73ee60d",
   "metadata": {},
   "outputs": [],
   "source": [
    "GT=[(5,2),(8,2),(3,3),(2,5),(5,5),(8,5),(2,8),(5,8),(8,8)]\n",
    "GT_left=[]\n",
    "GT_full=[]\n",
    "for X in GT:\n",
    "    GT_left.append((X[0],X[1]))\n",
    "    GT_left.append((X[0],16-X[1]))\n",
    "for X in GT_left:\n",
    "    GT_full.append((X[0],X[1]))\n",
    "    GT_full.append((16-X[0],X[1]))    \n",
    "GT_full = list(set(GT_full))"
   ]
  },
  {
   "cell_type": "markdown",
   "id": "6367df82-7c94-493c-b736-10a8d34cf7de",
   "metadata": {},
   "source": [
    "### Define assembly"
   ]
  },
  {
   "cell_type": "code",
   "execution_count": 84,
   "id": "f4ed7020-661c-42ed-8772-7786f6d55470",
   "metadata": {},
   "outputs": [],
   "source": [
    "assembly = openmc.RectLattice()\n",
    "pitch=1.26\n",
    "\n",
    "dr=2e-1 # cm of water that is outside assembly\n",
    "size=17 #size of the assembly \n",
    "pitch_assembly=size*pitch+2*dr #(17x1,26)\n",
    "assembly.pitch = (pitch,pitch)\n",
    "\n",
    "assembly.lower_left = (-size/2*pitch, -size/2*pitch)\n",
    "\n",
    "\n",
    "A= np.empty((size, size), dtype=openmc.universe.Universe)\n",
    "\n",
    "for ix in range(size):\n",
    "    for iy in range(size):\n",
    "        if (ix,iy) in GT : \n",
    "            A[ix][iy]=guide\n",
    "        else:\n",
    "            A[ix][iy]=pincell            \n",
    "\n",
    "            \n",
    "assembly.universes = A\n",
    "\n",
    "moderator_outside = openmc.Cell()\n",
    "moderator_outside.fill = water\n",
    "all_water = openmc.Universe()\n",
    "all_water.add_cell(moderator_outside)\n",
    "assembly.outer=all_water\n",
    "\n",
    "# 1/4 assembly\n",
    "min_x = openmc.XPlane(x0=-(size/2*pitch+dr), boundary_type='reflective')\n",
    "max_x = openmc.XPlane(x0=0, boundary_type='reflective')\n",
    "min_y = openmc.YPlane(y0=0, boundary_type='reflective')\n",
    "max_y = openmc.YPlane(y0=+(size/2*pitch+dr), boundary_type='reflective')\n",
    "min_z = openmc.ZPlane(z0=-10., boundary_type='reflective')\n",
    "max_z = openmc.ZPlane(z0=+10., boundary_type='reflective')\n",
    "\n",
    "\n",
    "root_cell = openmc.Cell(name='root cell', fill=assembly)\n",
    "root_cell.region = +min_x & -max_x & +min_y & -max_y & +min_z & -max_z\n",
    "\n",
    "model.geometry.root_universe = openmc.Universe(name='root universe')\n",
    "model.geometry.root_universe.add_cell(root_cell)"
   ]
  },
  {
   "cell_type": "markdown",
   "id": "d30e125e-7f10-4cd7-a4d6-7107168b8eea",
   "metadata": {},
   "source": [
    "### Plot"
   ]
  },
  {
   "cell_type": "markdown",
   "id": "55b896be-e31c-4992-8b28-aac619e8f545",
   "metadata": {},
   "source": [
    "model.materials.export_to_xml()\n",
    "model.geometry.export_to_xml()\n",
    "plot = openmc.Plot.from_geometry(model.geometry)\n",
    "plot.pixels = (500, 500)\n",
    "plot.width = (pitch_assembly+dr, pitch_assembly+dr)\n",
    "plot.origin = (0., 0., 0)\n",
    "plot.color_by = 'cell'\n",
    "# plot.colors = {\n",
    "#     water: 'blue',\n",
    "#     zirconium: 'black',\n",
    "#     helium: 'yellow',\n",
    "#     uo2_in: (100, 0, 0),\n",
    "#     uo2_out: (255, 0, 0)\n",
    "# }\n",
    "plot.to_ipython_image(cwd='/Users/pablogarcia44/repo/perso/openmc/17x17_assembly/17x17_guide_tube')"
   ]
  },
  {
   "cell_type": "markdown",
   "id": "90c73240-9aae-4a8e-ab35-fbc68032fb85",
   "metadata": {},
   "source": [
    "### Choose settings"
   ]
  },
  {
   "cell_type": "code",
   "execution_count": 85,
   "id": "42b13809-e8ac-45b5-8e4d-af2f00a57694",
   "metadata": {},
   "outputs": [],
   "source": [
    "bounds = [-pitch_assembly/2, 0, -10, 0, +pitch_assembly/2, 10]\n",
    "uniform_dist = openmc.stats.Box(bounds[:3], bounds[3:], only_fissionable=True)\n",
    "source = openmc.IndependentSource(space=uniform_dist)\n",
    "source.time = openmc.stats.Uniform(0, 1e-6)\n",
    "settings = openmc.Settings()\n",
    "settings.source = source\n",
    "settings = openmc.Settings()\n",
    "settings.source = source\n",
    "settings.batches = 50\n",
    "settings.inactive = 10\n",
    "settings.particles = 5000\n",
    "settings.output = {'tallies':True}\n",
    "model.settings = settings"
   ]
  },
  {
   "cell_type": "markdown",
   "id": "709977dc-3ea8-48a7-ab09-bb9cecc54ffa",
   "metadata": {},
   "source": [
    "### Define and choose energy group"
   ]
  },
  {
   "cell_type": "code",
   "execution_count": 86,
   "id": "fbc12bc6-1180-46b2-af7e-d54c0cedb555",
   "metadata": {},
   "outputs": [],
   "source": [
    "choose_group=openmc.mgxs.GROUP_STRUCTURES['XMAS-172']\n",
    "name_group='XMAS172'"
   ]
  },
  {
   "cell_type": "markdown",
   "id": "c4e87c13-a743-4039-b93c-001057d7b3af",
   "metadata": {},
   "source": [
    "### Create MGXS tallies for mgxs directory"
   ]
  },
  {
   "cell_type": "code",
   "execution_count": 87,
   "id": "a323cc06-df7d-48a6-9cf1-c79117dad6b0",
   "metadata": {},
   "outputs": [],
   "source": [
    "tally = openmc.Tally(name='power')\n",
    "all_cell=model.geometry.get_all_material_cells().values()\n",
    "\n",
    "A=[]\n",
    "for cell in all_cell:\n",
    "    A.append(cell)   \n",
    "    \n",
    "\n",
    "\n",
    "\n",
    "fuel_cell=openmc.CellFilter(A)\n",
    "\n",
    "tally.scores = ['heating']\n",
    "tally.filters = [fuel_cell]\n",
    "tallies = openmc.Tallies([tally])\n",
    "model.tallies=tallies\n",
    "\n",
    "\n",
    "\n",
    "model.export_to_model_xml(path='model_1_family_heat.xml')"
   ]
  },
  {
   "cell_type": "markdown",
   "id": "971540b5-5bfb-47be-86f6-9d8b80a38f27",
   "metadata": {},
   "source": [
    "### Run OpenMC model"
   ]
  },
  {
   "cell_type": "markdown",
   "id": "8ec705df-7494-4b0a-bfc3-5ff8ed073d5d",
   "metadata": {},
   "source": []
  },
  {
   "cell_type": "code",
   "execution_count": 88,
   "id": "9ddb75c1-bcab-4d38-a0b0-1ce88d8e85ce",
   "metadata": {},
   "outputs": [
    {
     "name": "stdout",
     "output_type": "stream",
     "text": [
      "                                %%%%%%%%%%%%%%%\n",
      "                           %%%%%%%%%%%%%%%%%%%%%%%%\n",
      "                        %%%%%%%%%%%%%%%%%%%%%%%%%%%%%%\n",
      "                      %%%%%%%%%%%%%%%%%%%%%%%%%%%%%%%%%%\n",
      "                    %%%%%%%%%%%%%%%%%%%%%%%%%%%%%%%%%%%%%%\n",
      "                   %%%%%%%%%%%%%%%%%%%%%%%%%%%%%%%%%%%%%%%%\n",
      "                                    %%%%%%%%%%%%%%%%%%%%%%%%\n",
      "                                     %%%%%%%%%%%%%%%%%%%%%%%%\n",
      "                 ###############      %%%%%%%%%%%%%%%%%%%%%%%%\n",
      "                ##################     %%%%%%%%%%%%%%%%%%%%%%%\n",
      "                ###################     %%%%%%%%%%%%%%%%%%%%%%%\n",
      "                ####################     %%%%%%%%%%%%%%%%%%%%%%\n",
      "                #####################     %%%%%%%%%%%%%%%%%%%%%\n",
      "                ######################     %%%%%%%%%%%%%%%%%%%%\n",
      "                #######################     %%%%%%%%%%%%%%%%%%\n",
      "                 #######################     %%%%%%%%%%%%%%%%%\n",
      "                 ######################     %%%%%%%%%%%%%%%%%\n",
      "                  ####################     %%%%%%%%%%%%%%%%%\n",
      "                    #################     %%%%%%%%%%%%%%%%%\n",
      "                     ###############     %%%%%%%%%%%%%%%%\n",
      "                       ############     %%%%%%%%%%%%%%%\n",
      "                          ########     %%%%%%%%%%%%%%\n",
      "                                      %%%%%%%%%%%\n",
      "\n",
      "                 | The OpenMC Monte Carlo Code\n",
      "       Copyright | 2011-2023 MIT, UChicago Argonne LLC, and contributors\n",
      "         License | https://docs.openmc.org/en/latest/license.html\n",
      "         Version | 0.14.0\n",
      "       Date/Time | 2024-06-03 16:20:41\n",
      "  OpenMP Threads | 16\n",
      "\n",
      " Reading model XML file './model.xml' ...\n",
      " Reading cross sections XML file...\n",
      " Reading U235 from /Users/pablogarcia44/repo/jeff-3.3-hdf5/U235.h5\n",
      " Reading U238 from /Users/pablogarcia44/repo/jeff-3.3-hdf5/U238.h5\n",
      " Reading O16 from /Users/pablogarcia44/repo/jeff-3.3-hdf5/O16.h5\n",
      " Reading Zr90 from /Users/pablogarcia44/repo/jeff-3.3-hdf5/Zr90.h5\n",
      " Reading Zr91 from /Users/pablogarcia44/repo/jeff-3.3-hdf5/Zr91.h5\n",
      " Reading Zr92 from /Users/pablogarcia44/repo/jeff-3.3-hdf5/Zr92.h5\n",
      " Reading Zr94 from /Users/pablogarcia44/repo/jeff-3.3-hdf5/Zr94.h5\n",
      " Reading Zr96 from /Users/pablogarcia44/repo/jeff-3.3-hdf5/Zr96.h5\n",
      " Reading H1 from /Users/pablogarcia44/repo/jeff-3.3-hdf5/H1.h5\n",
      " Reading c_H_in_H2O from /Users/pablogarcia44/repo/jeff-3.3-hdf5/c_H_in_H2O.h5\n",
      " Minimum neutron data temperature: 294 K\n",
      " Maximum neutron data temperature: 294 K\n",
      " Preparing distributed cell instances...\n",
      " Writing summary.h5 file...\n",
      " Maximum neutron transport energy: 20000000 eV for H1\n",
      " Initializing source particles...\n",
      "\n",
      " ====================>     K EIGENVALUE SIMULATION     <====================\n",
      "\n",
      "  Bat./Gen.      k            Average k\n",
      "  =========   ========   ====================\n",
      "        1/1    1.39714\n",
      "        2/1    1.40129\n",
      "        3/1    1.36985\n",
      "        4/1    1.36295\n",
      "        5/1    1.44014\n",
      "        6/1    1.40606\n",
      "        7/1    1.41210\n",
      "        8/1    1.40572\n",
      "        9/1    1.39799\n",
      "       10/1    1.43121\n",
      "       11/1    1.43397\n",
      "       12/1    1.37500    1.40448 +/- 0.02949\n",
      "       13/1    1.41123    1.40673 +/- 0.01717\n",
      "       14/1    1.39449    1.40367 +/- 0.01252\n",
      "       15/1    1.44110    1.41116 +/- 0.01225\n",
      "       16/1    1.43829    1.41568 +/- 0.01098\n",
      "       17/1    1.40422    1.41404 +/- 0.00942\n",
      "       18/1    1.40658    1.41311 +/- 0.00821\n",
      "       19/1    1.37270    1.40862 +/- 0.00852\n",
      "       20/1    1.38841    1.40660 +/- 0.00789\n",
      "       21/1    1.39659    1.40569 +/- 0.00719\n",
      "       22/1    1.40016    1.40523 +/- 0.00658\n",
      "       23/1    1.43045    1.40717 +/- 0.00636\n",
      "       24/1    1.44635    1.40997 +/- 0.00652\n",
      "       25/1    1.41791    1.41050 +/- 0.00609\n",
      "       26/1    1.38335    1.40880 +/- 0.00594\n",
      "       27/1    1.43474    1.41033 +/- 0.00579\n",
      "       28/1    1.40782    1.41019 +/- 0.00546\n",
      "       29/1    1.38168    1.40869 +/- 0.00538\n",
      "       30/1    1.37254    1.40688 +/- 0.00541\n",
      "       31/1    1.41123    1.40709 +/- 0.00515\n",
      "       32/1    1.41649    1.40751 +/- 0.00493\n",
      "       33/1    1.37258    1.40599 +/- 0.00495\n",
      "       34/1    1.41606    1.40641 +/- 0.00476\n",
      "       35/1    1.39413    1.40592 +/- 0.00459\n",
      "       36/1    1.41125    1.40613 +/- 0.00441\n",
      "       37/1    1.36954    1.40477 +/- 0.00446\n",
      "       38/1    1.39826    1.40454 +/- 0.00430\n",
      "       39/1    1.42553    1.40526 +/- 0.00421\n",
      "       40/1    1.40334    1.40520 +/- 0.00407\n",
      "       41/1    1.41547    1.40553 +/- 0.00395\n",
      "       42/1    1.37126    1.40446 +/- 0.00397\n",
      "       43/1    1.38757    1.40395 +/- 0.00389\n",
      "       44/1    1.39329    1.40363 +/- 0.00378\n",
      "       45/1    1.43802    1.40462 +/- 0.00380\n",
      "       46/1    1.37451    1.40378 +/- 0.00379\n",
      "       47/1    1.43331    1.40458 +/- 0.00377\n",
      "       48/1    1.39711    1.40438 +/- 0.00367\n",
      "       49/1    1.43023    1.40505 +/- 0.00364\n",
      "       50/1    1.41067    1.40519 +/- 0.00355\n",
      " Creating state point statepoint.50.h5...\n",
      "\n",
      " =======================>     TIMING STATISTICS     <=======================\n",
      "\n",
      " Total time for initialization     = 1.4231e+00 seconds\n",
      "   Reading cross sections          = 1.3757e+00 seconds\n",
      " Total time in simulation          = 2.5551e+00 seconds\n",
      "   Time in transport only          = 2.5230e+00 seconds\n",
      "   Time in inactive batches        = 4.2968e-01 seconds\n",
      "   Time in active batches          = 2.1254e+00 seconds\n",
      "   Time synchronizing fission bank = 1.8544e-02 seconds\n",
      "     Sampling source sites         = 1.7198e-02 seconds\n",
      "     SEND/RECV source sites        = 1.3239e-03 seconds\n",
      "   Time accumulating tallies       = 1.7202e-03 seconds\n",
      "   Time writing statepoints        = 5.7535e-03 seconds\n",
      " Total time for finalization       = 2.5027e-04 seconds\n",
      " Total time elapsed                = 3.9848e+00 seconds\n",
      " Calculation Rate (inactive)       = 116365 particles/second\n",
      " Calculation Rate (active)         = 94101.1 particles/second\n",
      "\n",
      " ============================>     RESULTS     <============================\n",
      "\n",
      " k-effective (Collision)     = 1.40202 +/- 0.00260\n",
      " k-effective (Track-length)  = 1.40519 +/- 0.00355\n",
      " k-effective (Absorption)    = 1.40428 +/- 0.00251\n",
      " Combined k-effective        = 1.40360 +/- 0.00222\n",
      " Leakage Fraction            = 0.00000 +/- 0.00000\n",
      "\n"
     ]
    }
   ],
   "source": [
    "sp_file = model.run()"
   ]
  },
  {
   "cell_type": "code",
   "execution_count": 89,
   "id": "143e6eea-db5d-4299-b1fe-3e71deeb9ecf",
   "metadata": {},
   "outputs": [
    {
     "data": {
      "text/plain": [
       "{44: Tally\n",
       " \tID             =\t44\n",
       " \tName           =\tpower\n",
       " \tFilters        =\tCellFilter, CellFilter\n",
       " \tNuclides       =\ttotal\n",
       " \tScores         =\t['total', 'fission', 'absorption', '(n,gamma)', 'heating']\n",
       " \tEstimator      =\ttracklength\n",
       " \tMultiply dens. =\tTrue}"
      ]
     },
     "execution_count": 89,
     "metadata": {},
     "output_type": "execute_result"
    }
   ],
   "source": [
    "sp = openmc.StatePoint(sp_file)\n",
    "sp.tallies"
   ]
  },
  {
   "cell_type": "code",
   "execution_count": null,
   "id": "853ae45c-0973-4900-a406-5979cfd3ec68",
   "metadata": {},
   "outputs": [],
   "source": []
  }
 ],
 "metadata": {
  "kernelspec": {
   "display_name": "Python 3 (ipykernel)",
   "language": "python",
   "name": "python3"
  },
  "language_info": {
   "codemirror_mode": {
    "name": "ipython",
    "version": 3
   },
   "file_extension": ".py",
   "mimetype": "text/x-python",
   "name": "python",
   "nbconvert_exporter": "python",
   "pygments_lexer": "ipython3",
   "version": "3.12.3"
  }
 },
 "nbformat": 4,
 "nbformat_minor": 5
}
