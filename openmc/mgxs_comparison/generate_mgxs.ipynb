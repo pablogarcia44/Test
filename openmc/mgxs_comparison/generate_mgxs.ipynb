{
 "cells": [
  {
   "cell_type": "markdown",
   "id": "cdd8a24a-a018-4a2b-aaed-7eae9c99a62b",
   "metadata": {},
   "source": [
    "# 3x3 assembly inputfile that: "
   ]
  },
  {
   "cell_type": "markdown",
   "id": "880099d7-f1e0-4a4f-9a03-3d4c52de6943",
   "metadata": {},
   "source": [
    "### Import module/Set up XS path/Create openMC model/Clean directory"
   ]
  },
  {
   "cell_type": "code",
   "execution_count": 12,
   "id": "e4b5e472-92fe-4d54-b9df-c70131c052a1",
   "metadata": {},
   "outputs": [],
   "source": [
    "import sys\n",
    "import os \n",
    "import openmc\n",
    "import numpy as np\n",
    "import matplotlib.pyplot as plt\n",
    "import openmc.mgxs as mgxs\n",
    "import pandas as pd\n",
    "from IPython.display import Image\n",
    "import glob"
   ]
  },
  {
   "cell_type": "markdown",
   "id": "1c6bc5c7-2dcc-40b3-98c0-f0b7fc3f5ac5",
   "metadata": {},
   "source": [
    "### Ragusa environnement"
   ]
  },
  {
   "cell_type": "markdown",
   "id": "99b24d1d-e008-48ce-bdee-c3878c477f87",
   "metadata": {},
   "source": [
    "import os\n",
    "\n",
    "# Add path to OpenMC binary\n",
    "# os.environ['PATH'] += r':/path/to/openmc/bin'\n",
    "os.environ['PATH'] += r':/Users/jean.ragusa/repo/openmc/local/bin'\n",
    "\n",
    "# Add location of OpenMC xs data\n",
    "%env OPENMC_CROSS_SECTIONS=/Users/jean.ragusa/repo/endfb-viii.0-hdf5/cross_sections.xml\n",
    "# %env OPENMC_CROSS_SECTIONS=/Users/jean.ragusa/repo/nndc_hdf5/cross_sections.xml"
   ]
  },
  {
   "cell_type": "markdown",
   "id": "e02f7d89-8f36-4c72-80d6-f1b53646d94e",
   "metadata": {},
   "source": [
    "### Pablo environnement"
   ]
  },
  {
   "cell_type": "code",
   "execution_count": 13,
   "id": "1e7cc449-037d-4c4f-aa2e-6f21e06bd185",
   "metadata": {},
   "outputs": [
    {
     "name": "stdout",
     "output_type": "stream",
     "text": [
      "env: OPENMC_CROSS_SECTIONS=/home/pablo/internship/xs_for_input/cross_sections.xml\n"
     ]
    }
   ],
   "source": [
    "%env OPENMC_CROSS_SECTIONS=/home/pablo/internship/xs_for_input/cross_sections.xml\n",
    "model=openmc.Model()\n",
    "\n",
    "clean_file_list = [\"model.xml\", \"materials.xml\", \"geometry.xml\",\"plots.xml\",\"geometry.xml\",\"settings.xml\",\"tallies.out\",\"summary.h5\",\"statepoint.50.h5\"]\n",
    "\n",
    "for file in clean_file_list :\n",
    "    path_file = os.path.join(os.getcwd(), file)\n",
    "    if os.path.exists(path_file):\n",
    "        os.remove(path_file)\n",
    "\n",
    "### Define Materials"
   ]
  },
  {
   "cell_type": "code",
   "execution_count": 14,
   "id": "50dee80c-d7a7-49e1-99ef-5094e87b5808",
   "metadata": {},
   "outputs": [],
   "source": [
    "uo2 = openmc.Material(name='uo2')\n",
    "uo2.add_nuclide('U235', 0.03)\n",
    "uo2.add_nuclide('U238', 0.97)\n",
    "uo2.add_nuclide('O16', 2.0)\n",
    "uo2.set_density('g/cm3', 10.0)\n",
    "zirconium = openmc.Material(name=\"zirconium\")\n",
    "zirconium.add_element('Zr', 1.0)\n",
    "zirconium.set_density('g/cm3', 6.6)\n",
    "water = openmc.Material(name=\"water\")\n",
    "water.add_nuclide('H1', 2.0)\n",
    "water.add_nuclide('O16', 1.0)\n",
    "water.set_density('g/cm3', 1.0)\n",
    "water.add_s_alpha_beta('c_H_in_H2O')\n",
    "\n",
    "    \n",
    "model.materials = openmc.Materials([uo2, zirconium, water]) \n",
    "model.materials.export_to_xml()"
   ]
  },
  {
   "cell_type": "markdown",
   "id": "ffd5255c-47f3-4394-836f-140dddeef018",
   "metadata": {},
   "source": [
    "### Create pincell"
   ]
  },
  {
   "cell_type": "code",
   "execution_count": 15,
   "id": "035e9bfb-7a4d-4a19-93bc-8e720035fd3b",
   "metadata": {},
   "outputs": [],
   "source": [
    "def pincell(index_x,index_y):\n",
    "    fuel_outer_radius = openmc.ZCylinder(r=0.39)\n",
    "    clad_inner_radius = openmc.ZCylinder(r=0.40)\n",
    "    clad_outer_radius = openmc.ZCylinder(r=0.46)\n",
    "    pitch = 1.26\n",
    "    \n",
    "    left = openmc.XPlane(-pitch/2, boundary_type='transmission')\n",
    "    right = openmc.XPlane(pitch/2, boundary_type='transmission')\n",
    "    bottom = openmc.YPlane(-pitch/2, boundary_type='transmission')\n",
    "    top = openmc.YPlane(pitch/2, boundary_type='transmission')\n",
    "    \n",
    "    fuel_region = -fuel_outer_radius\n",
    "    gap_region = +fuel_outer_radius & -clad_inner_radius\n",
    "    clad_region = +clad_inner_radius & -clad_outer_radius\n",
    "    water_region = +left & -right & +bottom & -top & +clad_outer_radius\n",
    "    \n",
    "    fuel = openmc.Cell(name='fuel'+'_'+str(index_x)+'_'+str(index_y))\n",
    "    fuel.fill = uo2\n",
    "    fuel.region = fuel_region\n",
    "    gap = openmc.Cell(name='gap'+'_'+str(index_x)+'_'+str(index_y))\n",
    "    gap.region = gap_region\n",
    "    clad = openmc.Cell(name='clad'+'_'+str(index_x)+'_'+str(index_y))\n",
    "    clad.fill = zirconium\n",
    "    clad.region = clad_region\n",
    "    moderator = openmc.Cell(name='moderator'+'_'+str(index_x)+'_'+str(index_y))\n",
    "    moderator.fill = water\n",
    "    moderator.region = water_region\n",
    "    \n",
    "    u = openmc.Universe(name='u'+'_'+str(index_x)+'_'+str(index_y),cells=(fuel, gap, clad, moderator))\n",
    "    return(u,fuel,gap,clad,moderator)"
   ]
  },
  {
   "cell_type": "markdown",
   "id": "54553cbc-a489-4d17-985b-5d3c7427e819",
   "metadata": {},
   "source": [
    "### Create guide tube"
   ]
  },
  {
   "cell_type": "code",
   "execution_count": 16,
   "id": "5bc2f291-46b1-4d26-96cd-be3b66cbb53b",
   "metadata": {},
   "outputs": [],
   "source": [
    "def guide(index_x,index_y):\n",
    "    \n",
    "    clad_inner_radius = openmc.ZCylinder(r=0.5610)\n",
    "    clad_outer_radius = openmc.ZCylinder(r=0.6020)\n",
    "    pitch = 1.26\n",
    "    \n",
    "    left = openmc.XPlane(-pitch/2, boundary_type='transmission')\n",
    "    right = openmc.XPlane(pitch/2, boundary_type='transmission')\n",
    "    bottom = openmc.YPlane(-pitch/2, boundary_type='transmission')\n",
    "    top = openmc.YPlane(pitch/2, boundary_type='transmission')\n",
    "    \n",
    "    \n",
    "    \n",
    "    clad_region = +clad_inner_radius & -clad_outer_radius\n",
    "    water_region = +left & -right & +bottom & -top & +clad_outer_radius\n",
    "    water_guide_region= -clad_inner_radius\n",
    "\n",
    "    water_guide = openmc.Cell(name='water_guide'+'_'+str(index_x)+'_'+str(index_y))\n",
    "    water_guide.fill = water\n",
    "    water_guide.region = water_guide_region\n",
    "    clad = openmc.Cell(name='clad_guide'+'_'+str(index_x)+'_'+str(index_y))\n",
    "    clad.fill = zirconium\n",
    "    clad.region = clad_region\n",
    "    moderator = openmc.Cell(name='moderator'+'_'+str(index_x)+'_'+str(index_y))\n",
    "    moderator.fill = water\n",
    "    moderator.region = water_region\n",
    "    \n",
    "    u = openmc.Universe(name='u_guide'+'_'+str(index_x)+'_'+str(index_y),cells=(water_guide, clad, moderator))\n",
    "    return(u,water_guide,water_guide,clad,moderator)"
   ]
  },
  {
   "cell_type": "markdown",
   "id": "6367df82-7c94-493c-b736-10a8d34cf7de",
   "metadata": {},
   "source": [
    "### Define assembly"
   ]
  },
  {
   "cell_type": "code",
   "execution_count": 17,
   "id": "f4ed7020-661c-42ed-8772-7786f6d55470",
   "metadata": {},
   "outputs": [],
   "source": [
    "assembly = openmc.RectLattice()\n",
    "pitch=1.26\n",
    "\n",
    "dr=2e-1 # cm of water that is outside assembly\n",
    "size=17 #size of the assembly \n",
    "pitch_assembly=size*pitch+2*dr #(17x1,26)\n",
    "assembly.pitch = (pitch,pitch)\n",
    "\n",
    "assembly.lower_left = (-size/2*pitch, -size/2*pitch)\n",
    "\n",
    "# Template for guide tube position \n",
    "# template_x = np.array([1])\n",
    "# template_y = np.array([1])\n",
    "\n",
    "\n",
    "#template 17x17\n",
    "template_x = np.array([5, 8, 11, 3, 13, 2, 5, 8, 11, 14, 2, 5, 8,\n",
    "                           11, 14, 2, 5, 8, 11, 14, 3, 13, 5, 8, 11])\n",
    "template_y = np.array([2, 2, 2, 3, 3, 5, 5, 5, 5, 5, 8, 8, 8, 8,\n",
    "                           8, 11, 11, 11, 11, 11, 13, 13, 14, 14, 14])\n",
    "\n",
    "\n",
    "\n",
    "A= np.empty((size, size), dtype=openmc.universe.Universe)\n",
    "\n",
    "for ix in range(size):\n",
    "    for iy in range(size):\n",
    "        indices_x = np.where(template_x == ix)[0]\n",
    "        indices_y = np.where(template_y == iy)[0]\n",
    "        if any(i in indices_y for i in indices_x):\n",
    "            A[ix][iy]=guide(ix,iy)[0]\n",
    "        else:\n",
    "            A[ix][iy]=pincell(ix,iy)[0]\n",
    "\n",
    "        \n",
    "assembly.universes = A\n",
    "\n",
    "moderator_outside = openmc.Cell()\n",
    "moderator_outside.fill = water\n",
    "all_water = openmc.Universe()\n",
    "all_water.add_cell(moderator_outside)\n",
    "assembly.outer=all_water\n",
    "\n",
    "\n",
    "# full assembly\n",
    "# min_x = openmc.XPlane(x0=-pitch_assembly/2, boundary_type='reflective')\n",
    "# max_x = openmc.XPlane(x0=+pitch_assembly/2, boundary_type='reflective')\n",
    "# min_y = openmc.YPlane(y0=-pitch_assembly/2, boundary_type='reflective')\n",
    "# max_y = openmc.YPlane(y0=+pitch_assembly/2, boundary_type='reflective')\n",
    "# min_z = openmc.ZPlane(z0=-10., boundary_type='reflective')\n",
    "# max_z = openmc.ZPlane(z0=+10., boundary_type='reflective')\n",
    "\n",
    "# 1/4 assembly\n",
    "min_x = openmc.XPlane(x0=-(size/2*pitch+dr), boundary_type='reflective')\n",
    "max_x = openmc.XPlane(x0=0, boundary_type='reflective')\n",
    "min_y = openmc.YPlane(y0=0, boundary_type='reflective')\n",
    "max_y = openmc.YPlane(y0=+(size/2*pitch+dr), boundary_type='reflective')\n",
    "min_z = openmc.ZPlane(z0=-10., boundary_type='reflective')\n",
    "max_z = openmc.ZPlane(z0=+10., boundary_type='reflective')\n",
    "\n",
    "\n",
    "root_cell = openmc.Cell(name='root cell', fill=assembly)\n",
    "root_cell.region = +min_x & -max_x & +min_y & -max_y & +min_z & -max_z\n",
    "\n",
    "model.geometry.root_universe = openmc.Universe(name='root universe')\n",
    "model.geometry.root_universe.add_cell(root_cell)\n",
    "\n",
    "model.geometry.export_to_xml()"
   ]
  },
  {
   "cell_type": "markdown",
   "id": "cb57e6ef-e360-4240-b603-5c9388897f2f",
   "metadata": {},
   "source": [
    "### Plot assembly"
   ]
  },
  {
   "cell_type": "code",
   "execution_count": 18,
   "id": "e0624b2a-f160-4fb4-8a69-995d9b7f7e65",
   "metadata": {},
   "outputs": [
    {
     "data": {
      "image/png": "[encoded data removed]",
      "text/plain": [
       "<IPython.core.display.Image object>"
      ]
     },
     "execution_count": 18,
     "metadata": {},
     "output_type": "execute_result"
    }
   ],
   "source": [
    "plot = openmc.Plot.from_geometry(model.geometry)\n",
    "plot.pixels = (500, 500)\n",
    "plot.width = (pitch_assembly+dr, pitch_assembly+dr)\n",
    "plot.origin = (0., 0., 0)\n",
    "plot.color_by = 'cell'\n",
    "# plot.colors = {\n",
    "#     water: 'blue',\n",
    "#     zirconium: 'black',\n",
    "#     helium: 'yellow',\n",
    "#     uo2_in: (100, 0, 0),\n",
    "#     uo2_out: (255, 0, 0)\n",
    "# }\n",
    "plot.to_ipython_image()"
   ]
  },
  {
   "cell_type": "markdown",
   "id": "90c73240-9aae-4a8e-ab35-fbc68032fb85",
   "metadata": {},
   "source": [
    "### Choose settings"
   ]
  },
  {
   "cell_type": "code",
   "execution_count": 19,
   "id": "42b13809-e8ac-45b5-8e4d-af2f00a57694",
   "metadata": {},
   "outputs": [],
   "source": [
    "\n",
    "\n",
    "bounds = [-pitch_assembly/2, 0, -10, 0, +pitch_assembly/2, 10]\n",
    "uniform_dist = openmc.stats.Box(bounds[:3], bounds[3:], only_fissionable=True)\n",
    "source = openmc.IndependentSource(space=uniform_dist)\n",
    "\n",
    "# source = openmc.IndependentSource()\n",
    "# source.space = openmc.stats.Point((0.1,0.1,0.))\n",
    "# source.angle = openmc.stats.Isotropic()\n",
    "# source.energy = openmc.stats.Discrete([10.0e6], [1.0])\n",
    "source.time = openmc.stats.Uniform(0, 1e-6)\n",
    "settings = openmc.Settings()\n",
    "settings.source = source\n",
    "settings = openmc.Settings()\n",
    "settings.source = source\n",
    "settings.batches = 50\n",
    "settings.inactive = 10\n",
    "settings.particles = 500000\n",
    "settings.output = {'tallies':True}\n",
    "model.settings = settings\n",
    "model.settings.export_to_xml()"
   ]
  },
  {
   "cell_type": "markdown",
   "id": "709977dc-3ea8-48a7-ab09-bb9cecc54ffa",
   "metadata": {},
   "source": [
    "### Define and choose energy group"
   ]
  },
  {
   "cell_type": "code",
   "execution_count": 20,
   "id": "fbc12bc6-1180-46b2-af7e-d54c0cedb555",
   "metadata": {},
   "outputs": [],
   "source": [
    "choose_group=openmc.mgxs.GROUP_STRUCTURES['XMAS-172']\n",
    "name_group='XMAS172'"
   ]
  },
  {
   "cell_type": "markdown",
   "id": "c4e87c13-a743-4039-b93c-001057d7b3af",
   "metadata": {},
   "source": [
    "### Create MGXS tallies for mgxs directory"
   ]
  },
  {
   "cell_type": "code",
   "execution_count": 21,
   "id": "a323cc06-df7d-48a6-9cf1-c79117dad6b0",
   "metadata": {},
   "outputs": [
    {
     "name": "stderr",
     "output_type": "stream",
     "text": [
      "/home/pablo/anaconda3/envs/openmc-env/lib/python3.12/site-packages/openmc/mgxs/library.py:401: RuntimeWarning: The P0 correction will be ignored since the scattering order 3 is greater than zero\n",
      "  warn(msg, RuntimeWarning)\n"
     ]
    }
   ],
   "source": [
    "mgxs_lib = openmc.mgxs.Library(model.geometry)\n",
    "groups = openmc.mgxs.EnergyGroups(choose_group)\n",
    "mgxs_lib.energy_groups = groups\n",
    "mgxs_lib.scatter_format = \"legendre\"\n",
    "mgxs_lib.legendre_order = 3\n",
    "mgxs_lib.mgxs_types = ['total', 'absorption', 'fission', 'nu-fission', 'chi']#, 'scatter matrix', 'nu-scatter matrix', 'inverse-velocity']\n",
    "mgxs_lib.tally_trigger =openmc.Trigger('std_dev', 1e-2)\n",
    "mgxs_lib.by_nuclide = False\n",
    "mgxs_lib.domain_type = 'cell'\n",
    "mgxs_lib.domains = model.geometry.get_all_material_cells().values()\n",
    "mgxs_lib.build_library()\n",
    "tallies = openmc.Tallies()\n",
    "mgxs_lib.add_to_tallies_file(tallies, merge=True)\n",
    "#tally_flux.merge_tallies()\n",
    "model.tallies = tallies\n",
    "#print(model.tallies)"
   ]
  },
  {
   "cell_type": "markdown",
   "id": "971540b5-5bfb-47be-86f6-9d8b80a38f27",
   "metadata": {},
   "source": [
    "### Run OpenMC model"
   ]
  },
  {
   "cell_type": "code",
   "execution_count": 22,
   "id": "671d9ecc-de0d-462b-8fa6-60cbff66fe86",
   "metadata": {},
   "outputs": [
    {
     "name": "stderr",
     "output_type": "stream",
     "text": [
      "/home/pablo/anaconda3/envs/openmc-env/lib/python3.12/site-packages/openmc/mixin.py:70: IDWarning: Another Filter instance already exists with id=23447.\n",
      "  warn(msg, IDWarning)\n"
     ]
    },
    {
     "name": "stdout",
     "output_type": "stream",
     "text": [
      "[Machine2:17498] mca_base_component_repository_open: unable to open mca_btl_openib: librdmacm.so.1: cannot open shared object file: No such file or directory (ignored)\n",
      "                                %%%%%%%%%%%%%%%\n",
      "                           %%%%%%%%%%%%%%%%%%%%%%%%\n",
      "                        %%%%%%%%%%%%%%%%%%%%%%%%%%%%%%\n",
      "                      %%%%%%%%%%%%%%%%%%%%%%%%%%%%%%%%%%\n",
      "                    %%%%%%%%%%%%%%%%%%%%%%%%%%%%%%%%%%%%%%\n",
      "                   %%%%%%%%%%%%%%%%%%%%%%%%%%%%%%%%%%%%%%%%\n",
      "                                    %%%%%%%%%%%%%%%%%%%%%%%%\n",
      "                                     %%%%%%%%%%%%%%%%%%%%%%%%\n",
      "                 ###############      %%%%%%%%%%%%%%%%%%%%%%%%\n",
      "                ##################     %%%%%%%%%%%%%%%%%%%%%%%\n",
      "                ###################     %%%%%%%%%%%%%%%%%%%%%%%\n",
      "                ####################     %%%%%%%%%%%%%%%%%%%%%%\n",
      "                #####################     %%%%%%%%%%%%%%%%%%%%%\n",
      "                ######################     %%%%%%%%%%%%%%%%%%%%\n",
      "                #######################     %%%%%%%%%%%%%%%%%%\n",
      "                 #######################     %%%%%%%%%%%%%%%%%\n",
      "                 ######################     %%%%%%%%%%%%%%%%%\n",
      "                  ####################     %%%%%%%%%%%%%%%%%\n",
      "                    #################     %%%%%%%%%%%%%%%%%\n",
      "                     ###############     %%%%%%%%%%%%%%%%\n",
      "                       ############     %%%%%%%%%%%%%%%\n",
      "                          ########     %%%%%%%%%%%%%%\n",
      "                                      %%%%%%%%%%%\n",
      "\n",
      "                 | The OpenMC Monte Carlo Code\n",
      "       Copyright | 2011-2023 MIT, UChicago Argonne LLC, and contributors\n",
      "         License | https://docs.openmc.org/en/latest/license.html\n",
      "         Version | 0.14.0\n",
      "        Git SHA1 | e1a8ee7794b441c992426f17fafe216391cbba83\n",
      "       Date/Time | 2024-05-27 18:30:18\n",
      "   MPI Processes | 1\n",
      "  OpenMP Threads | 5\n",
      "\n",
      " Reading model XML file './model.xml' ...\n",
      " WARNING: Other XML file input(s) are present. These files may be ignored in\n",
      "          favor of the ./model.xml file.\n",
      " Reading cross sections XML file...\n",
      " Reading U235 from /home/pablo/internship/xs_for_input/jeff-3.3-hdf5/U235.h5\n",
      " Reading U238 from /home/pablo/internship/xs_for_input/jeff-3.3-hdf5/U238.h5\n",
      " Reading O16 from /home/pablo/internship/xs_for_input/jeff-3.3-hdf5/O16.h5\n",
      " Reading Zr90 from /home/pablo/internship/xs_for_input/jeff-3.3-hdf5/Zr90.h5\n",
      " Reading Zr91 from /home/pablo/internship/xs_for_input/jeff-3.3-hdf5/Zr91.h5\n",
      " Reading Zr92 from /home/pablo/internship/xs_for_input/jeff-3.3-hdf5/Zr92.h5\n",
      " Reading Zr94 from /home/pablo/internship/xs_for_input/jeff-3.3-hdf5/Zr94.h5\n",
      " Reading Zr96 from /home/pablo/internship/xs_for_input/jeff-3.3-hdf5/Zr96.h5\n",
      " Reading H1 from /home/pablo/internship/xs_for_input/jeff-3.3-hdf5/H1.h5\n",
      " Reading c_H_in_H2O from\n",
      " /home/pablo/internship/xs_for_input/jeff-3.3-hdf5/c_H_in_H2O.h5\n",
      " Minimum neutron data temperature: 294 K\n",
      " Maximum neutron data temperature: 294 K\n",
      " Preparing distributed cell instances...\n",
      " Reading plot XML file...\n",
      " Writing summary.h5 file...\n",
      " Maximum neutron transport energy: 20000000 eV for H1\n",
      " Initializing source particles...\n",
      "\n",
      " ====================>     K EIGENVALUE SIMULATION     <====================\n",
      "\n",
      "  Bat./Gen.      k            Average k\n",
      "  =========   ========   ====================\n",
      "        1/1    1.40148\n",
      "        2/1    1.40332\n",
      "        3/1    1.40224\n",
      "        4/1    1.40296\n",
      "        5/1    1.39959\n",
      "        6/1    1.40280\n",
      "        7/1    1.40434\n",
      "        8/1    1.40022\n",
      "        9/1    1.40076\n",
      "       10/1    1.39891\n",
      "       11/1    1.40387\n",
      "       12/1    1.39988    1.40187 +/- 0.00199\n",
      "       13/1    1.40179    1.40184 +/- 0.00115\n",
      "       14/1    1.40397    1.40237 +/- 0.00097\n",
      "       15/1    1.39840    1.40158 +/- 0.00110\n",
      "       16/1    1.40245    1.40173 +/- 0.00091\n",
      "       17/1    1.40306    1.40192 +/- 0.00079\n",
      "       18/1    1.40255    1.40200 +/- 0.00069\n",
      "       19/1    1.40282    1.40209 +/- 0.00061\n",
      "       20/1    1.40419    1.40230 +/- 0.00059\n",
      "       21/1    1.40232    1.40230 +/- 0.00053\n",
      "       22/1    1.39818    1.40196 +/- 0.00059\n",
      "       23/1    1.40110    1.40189 +/- 0.00055\n",
      "       24/1    1.40347    1.40200 +/- 0.00052\n",
      "       25/1    1.40544    1.40223 +/- 0.00054\n",
      "       26/1    1.40538    1.40243 +/- 0.00054\n",
      "       27/1    1.39894    1.40222 +/- 0.00055\n",
      "       28/1    1.39895    1.40204 +/- 0.00055\n",
      "       29/1    1.40127    1.40200 +/- 0.00052\n",
      "       30/1    1.40136    1.40197 +/- 0.00049\n",
      "       31/1    1.40161    1.40195 +/- 0.00047\n",
      "       32/1    1.40131    1.40192 +/- 0.00045\n",
      "       33/1    1.40307    1.40197 +/- 0.00043\n",
      "       34/1    1.40684    1.40218 +/- 0.00046\n",
      "       35/1    1.40418    1.40226 +/- 0.00045\n",
      "       36/1    1.39479    1.40197 +/- 0.00052\n",
      "       37/1    1.40239    1.40198 +/- 0.00050\n",
      "       38/1    1.40471    1.40208 +/- 0.00049\n",
      "       39/1    1.40330    1.40212 +/- 0.00048\n",
      "       40/1    1.40159    1.40211 +/- 0.00046\n",
      "       41/1    1.40104    1.40207 +/- 0.00045\n",
      "       42/1    1.40176    1.40206 +/- 0.00043\n",
      "       43/1    1.40107    1.40203 +/- 0.00042\n",
      "       44/1    1.40091    1.40200 +/- 0.00041\n",
      "       45/1    1.40236    1.40201 +/- 0.00040\n",
      "       46/1    1.40181    1.40200 +/- 0.00039\n",
      "       47/1    1.40272    1.40202 +/- 0.00038\n",
      "       48/1    1.40412    1.40208 +/- 0.00037\n",
      "       49/1    1.40055    1.40204 +/- 0.00036\n",
      "       50/1    1.40093    1.40201 +/- 0.00035\n",
      " Creating state point statepoint.50.h5...\n",
      "\n",
      " =======================>     TIMING STATISTICS     <=======================\n",
      "\n",
      " Total time for initialization     = 2.9483e+00 seconds\n",
      "   Reading cross sections          = 2.2218e+00 seconds\n",
      " Total time in simulation          = 4.6521e+02 seconds\n",
      "   Time in transport only          = 4.5856e+02 seconds\n",
      "   Time in inactive batches        = 7.0696e+01 seconds\n",
      "   Time in active batches          = 3.9451e+02 seconds\n",
      "   Time synchronizing fission bank = 5.1757e+00 seconds\n",
      "     Sampling source sites         = 4.9317e+00 seconds\n",
      "     SEND/RECV source sites        = 2.4364e-01 seconds\n",
      "   Time accumulating tallies       = 1.0808e-01 seconds\n",
      "   Time writing statepoints        = 1.0961e-01 seconds\n",
      " Total time for finalization       = 5.3084e-01 seconds\n",
      " Total time elapsed                = 4.6907e+02 seconds\n",
      " Calculation Rate (inactive)       = 70725.4 particles/second\n",
      " Calculation Rate (active)         = 50695.8 particles/second\n",
      "\n",
      " ============================>     RESULTS     <============================\n",
      "\n",
      " k-effective (Collision)     = 1.40185 +/- 0.00033\n",
      " k-effective (Track-length)  = 1.40201 +/- 0.00035\n",
      " k-effective (Absorption)    = 1.40175 +/- 0.00023\n",
      " Combined k-effective        = 1.40180 +/- 0.00023\n",
      " Leakage Fraction            = 0.00000 +/- 0.00000\n",
      "\n"
     ]
    }
   ],
   "source": [
    "model.export_to_xml()\n",
    "sp_file = model.run()\n",
    "sp = openmc.StatePoint(sp_file)"
   ]
  },
  {
   "cell_type": "markdown",
   "id": "e5faaea2-8ba3-4bb9-924e-7a3674e769a7",
   "metadata": {},
   "source": [
    "## Plot and Print Datas"
   ]
  },
  {
   "cell_type": "markdown",
   "id": "4aab0d3a-2242-443e-bbf8-50d30637cabb",
   "metadata": {},
   "source": [
    "### Plot Flux"
   ]
  },
  {
   "cell_type": "code",
   "execution_count": 23,
   "id": "f06b0fe2-2baf-41ec-b558-6e37749dfa84",
   "metadata": {
    "scrolled": true
   },
   "outputs": [
    {
     "data": {
      "image/png": "[encoded data removed]",
      "text/plain": [
       "<Figure size 640x480 with 1 Axes>"
      ]
     },
     "metadata": {},
     "output_type": "display_data"
    }
   ],
   "source": [
    "from matplotlib.ticker import FixedLocator\n",
    "from matplotlib.ticker import LogLocator\n",
    "\n",
    "#Enter the name of the cell type string// example: fuel_out = openmc.Cell(name='fuel_out') ///\n",
    "cell_plot=['fuel_7_8','fuel_7_7','fuel_0_0','fuel_1_0']#,'clad','moderator']\n",
    "\n",
    "\n",
    "sp = openmc.StatePoint(sp_file)\n",
    "sp.tallies\n",
    "tally_flux_id=[]\n",
    "for index, tally in enumerate(sp.tallies):\n",
    "    # print(index)\n",
    "    # print(tally)\n",
    "    if index==0:\n",
    "        index_tally=tally\n",
    "    # if sp.tallies[tally].scores==['flux']:\n",
    "    #     t=sp.tallies[tally]\n",
    "t=sp.tallies[index_tally]\n",
    "def flux_cell(cell):\n",
    "    \n",
    "    cell_index = 99\n",
    "    cell_id=99\n",
    "    # print(model.geometry.get_all_material_cells().values())\n",
    "    i=0\n",
    "    for all_cell in model.geometry.get_all_material_cells().values():\n",
    "        i=i+1\n",
    "        if all_cell.name==cell:\n",
    "            cell_index=all_cell.id\n",
    "            cell_id=i-1\n",
    "            # print(cell_id)\n",
    "            \n",
    "    tally_data_reshaped =t.get_reshaped_data()\n",
    "    flux=tally_data_reshaped[cell_id]\n",
    "    \n",
    "    liste_reduced = []\n",
    "    for under_liste in flux:\n",
    "        nombre = under_liste[0][0]\n",
    "        liste_reduced.append(nombre)\n",
    "    flux=liste_reduced\n",
    "    return(flux)\n",
    "    \n",
    "\n",
    "dE=np.diff(choose_group)\n",
    "Emid=choose_group[:-1]+dE/2\n",
    "\n",
    "fig, ax = plt.subplots()\n",
    "for i,cell in enumerate(cell_plot):\n",
    "    flux=flux_cell(cell_plot[i])\n",
    "    mg_spectrum=flux / np.sum(flux)\n",
    "    # print(mg_spectrum)\n",
    "    # print(flux)\n",
    "    # print(np.sum(flux))    \n",
    "    ax.step(choose_group[:-1], Emid*mg_spectrum/dE, where='post', label=cell_plot[i])\n",
    "ax.set_xscale('log')\n",
    "ax.xaxis.set_major_locator(FixedLocator(locs=np.logspace(-5, 7, 13)))\n",
    "locmin=LogLocator(base=10,subs=np.linspace(0,1.0,11)[1:-1],numticks=1000)\n",
    "ax.xaxis.set_minor_locator(locmin)\n",
    "ax.set_xlabel('Energy [eV]')\n",
    "ax.set_ylabel('Flux [n-cm/eV-src]')\n",
    "ax.grid()\n",
    "ax.legend()\n",
    "plt.show()\n"
   ]
  },
  {
   "cell_type": "markdown",
   "id": "828f2d7f-51d5-4edf-8e1a-69e59836b808",
   "metadata": {},
   "source": [
    "### Print MGXS"
   ]
  },
  {
   "cell_type": "code",
   "execution_count": 1,
   "id": "9a517d57-4fc0-45df-8fb5-f437e155aa51",
   "metadata": {},
   "outputs": [
    {
     "ename": "NameError",
     "evalue": "name 'mgxs_lib' is not defined",
     "output_type": "error",
     "traceback": [
      "\u001b[0;31m---------------------------------------------------------------------------\u001b[0m",
      "\u001b[0;31mNameError\u001b[0m                                 Traceback (most recent call last)",
      "Cell \u001b[0;32mIn[1], line 1\u001b[0m\n\u001b[0;32m----> 1\u001b[0m \u001b[43mmgxs_lib\u001b[49m\u001b[38;5;241m.\u001b[39mload_from_statepoint(sp)\n\u001b[1;32m      2\u001b[0m reaction_print \u001b[38;5;241m=\u001b[39m \u001b[38;5;124m'\u001b[39m\u001b[38;5;124mtotal\u001b[39m\u001b[38;5;124m'\u001b[39m\n\u001b[1;32m      3\u001b[0m cell_print \u001b[38;5;241m=\u001b[39m \u001b[38;5;124m'\u001b[39m\u001b[38;5;124mfuel_0_0\u001b[39m\u001b[38;5;124m'\u001b[39m\n",
      "\u001b[0;31mNameError\u001b[0m: name 'mgxs_lib' is not defined"
     ]
    }
   ],
   "source": [
    "mgxs_lib.load_from_statepoint(sp)\n",
    "reaction_print = 'total'\n",
    "cell_print = 'fuel_0_0'\n",
    "\n",
    "#Enter the name of the cell type openmc.Cell /// example: fuel_out = openmc.Cell(name='fuel_out') ///\n",
    "def cell_id(cell_name):\n",
    "    for k in range(len(mgxs_lib.domains)):\n",
    "        if mgxs_lib.domains[k].name==cell_name:\n",
    "            return(mgxs_lib.domains[k].id)\n",
    "print(cell_id(cell_print))\n",
    "df_mgxs = mgxs_lib.get_mgxs(cell_id(cell_print), reaction_print)\n",
    "df_mgxs.print_xs()"
   ]
  },
  {
   "cell_type": "markdown",
   "id": "b660bdb6-73e7-49cd-b5db-153a6d77aad9",
   "metadata": {},
   "source": [
    "### Plot MGXS from mgxs directory"
   ]
  },
  {
   "cell_type": "code",
   "execution_count": 28,
   "id": "7b3d5674-d33b-4dd7-83a0-fd5e462f8751",
   "metadata": {},
   "outputs": [
    {
     "data": {
      "image/png": "[encoded data removed]",
      "text/plain": [
       "<Figure size 640x480 with 1 Axes>"
      ]
     },
     "metadata": {},
     "output_type": "display_data"
    }
   ],
   "source": [
    "#Enter the name of the cell type openmc.Cell /// example: fuel_out = openmc.Cell(name='fuel_out') ///\n",
    "\n",
    "reaction_plot = 'fission'\n",
    "cell_plot_1 = 'fuel_8_6'\n",
    "cell_plot_2 = 'fuel_6_8'\n",
    "cell_plot_3 = 'fuel_0_0'\n",
    "cell_plot_4 = 'fuel_1_0'\n",
    "\n",
    "\n",
    "def cell_domain(cell_name):\n",
    "    for k in range(len(mgxs_lib.domains)):\n",
    "        if mgxs_lib.domains[k].name==cell_name:\n",
    "            return(mgxs_lib.domains[k].id)\n",
    "\n",
    "\n",
    "\n",
    "\n",
    "mgxs_plot_1 = mgxs_lib.get_mgxs(cell_domain(cell_plot_1), reaction_plot)\n",
    "mgxs1=mgxs_plot_1.get_pandas_dataframe(xs_type='macro')['mean'].values\n",
    "mgxs_plot_2 = mgxs_lib.get_mgxs(cell_domain(cell_plot_2), reaction_plot)\n",
    "mgxs2=mgxs_plot_2.get_pandas_dataframe(xs_type='macro')['mean'].values\n",
    "mgxs_plot_3 = mgxs_lib.get_mgxs(cell_domain(cell_plot_3), reaction_plot)\n",
    "mgxs3=mgxs_plot_3.get_pandas_dataframe(xs_type='macro')['mean'].values\n",
    "mgxs_plot_4 = mgxs_lib.get_mgxs(cell_domain(cell_plot_4), reaction_plot)\n",
    "mgxs4=mgxs_plot_4.get_pandas_dataframe(xs_type='macro')['mean'].values\n",
    "\n",
    "\n",
    "fig, ax = plt.subplots()\n",
    "ax.step(choose_group[:-1], np.flip(mgxs1), where='post', label=cell_plot_1) \n",
    "ax.step(choose_group[:-1], np.flip(mgxs2), where='post', label=cell_plot_2) \n",
    "ax.step(choose_group[:-1], np.flip(mgxs3), where='post', label=cell_plot_3) \n",
    "ax.step(choose_group[:-1], np.flip(mgxs4), where='post', label=cell_plot_4) \n",
    "\n",
    "        \n",
    "ax.set_xscale('log')\n",
    "\n",
    "ax.set_xlabel('Energy [eV]')\n",
    "ax.set_ylabel('MGXS [cm-1]')\n",
    "ax.grid() \n",
    "# bbox = ax.get_position()\n",
    "# ax.text(bbox.x1 - 0.05, bbox.y0 - 0.05, reaction_plot, fontsize=15, color='red', ha='right')\n",
    "ax.legend()\n",
    "plt.show()"
   ]
  },
  {
   "cell_type": "markdown",
   "id": "3e840e0b-94a5-4c5d-bde7-b7737986beff",
   "metadata": {},
   "source": [
    "## MGXS Comparison"
   ]
  },
  {
   "cell_type": "markdown",
   "id": "94d08ff4-c7ce-42b5-a9fb-866ab1942cf3",
   "metadata": {},
   "source": [
    "### Familly maping"
   ]
  },
  {
   "cell_type": "code",
   "execution_count": 158,
   "id": "1b7ff2ac-5a47-431d-9e62-fe4594e334a9",
   "metadata": {},
   "outputs": [],
   "source": [
    "C=[(0,0)]\n",
    "E=[(1,0),(0,1),(2,0),(0,2),(3,0),(0,3),(4,0),(0,4),(5,0),(0,5),(6,0),(0,6),(7,0),(0,7),(8,0),(0,8)]\n",
    "N=[(1,1),(2,1),(1,2),(3,1),(1,3)]\n",
    "D=[(1,4),(4,1),(1,5),(6,1),(1,6),(7,1),(1,7),(2,2),(7,3),(3,7),(4,4),(6,4),(4,6),(7,4),(4,7),(6,6),(7,6),(6,7),(7,7),(6,3),(3,6)]\n",
    "F=[(5,1),(1,5),(8,1),(1,8),(3,2),(2,3),(2,6),(6,2),(2,7),(7,2),(5,3),(3,5),(8,3),(3,8),(5,4),(4,5),(8,4),(4,8),(6,5),(5,6),(7,5),(5,7),(8,6),(6,8),(8,7),(7,8)]\n",
    "FD=[(4,2),(2,4),(4,3),(3,4)]\n",
    "GT=[(5,2),(8,2),(3,3),(2,5),(5,5),(8,5),(2,8),(5,8),(8,8)]"
   ]
  },
  {
   "cell_type": "markdown",
   "id": "9de50617-2bd5-4d04-91c0-4f48d67239ab",
   "metadata": {},
   "source": [
    "### Function that create a list of the 172 values"
   ]
  },
  {
   "cell_type": "code",
   "execution_count": 151,
   "id": "f6f800f7-8c52-4059-9510-87f73b6775ea",
   "metadata": {},
   "outputs": [],
   "source": [
    "def mgxs_value(X,reaction,cell_type):  \n",
    "    cell_name=cell_type+'_'+str(X[0])+'_'+str(X[1])\n",
    "    cell=cell_domain(cell_name)\n",
    "    mgxs_plot = mgxs_lib.get_mgxs(cell, reaction)\n",
    "    mgxs=mgxs_plot.get_pandas_dataframe(xs_type='macro')['mean'].values\n",
    "    return(mgxs)"
   ]
  },
  {
   "cell_type": "markdown",
   "id": "8ea3631c-4605-4046-a1b6-b5ebfaa31f25",
   "metadata": {},
   "source": [
    "### 1 families mgxs"
   ]
  },
  {
   "cell_type": "code",
   "execution_count": 167,
   "id": "d0a21a1e-1f4a-44de-ab2e-32e34a289283",
   "metadata": {},
   "outputs": [],
   "source": [
    "def one_family(reaction,cell_type):\n",
    "    one_family_mgxs=np.array([])\n",
    "    for x in range(9):\n",
    "        for y in range(9):\n",
    "            X=(x,y)\n",
    "            if X not in GT:\n",
    "                one_family_mgxs=np.append(one_family_mgxs,mgxs_value(X,reaction,cell_type)[1:])\n",
    "                one_family_mgxs=np.array_split(one_family_mgxs, len(one_family_mgxs) // 171)\n",
    "    return(one_family_mgxs)                "
   ]
  },
  {
   "cell_type": "markdown",
   "id": "4eb89ad4-9843-4629-b76c-6a5a78f3f625",
   "metadata": {},
   "source": [
    "### 6 families mgxs"
   ]
  },
  {
   "cell_type": "code",
   "execution_count": 161,
   "id": "bfc7cffb-2633-45a4-b892-c7947ffe9d64",
   "metadata": {},
   "outputs": [],
   "source": [
    "reaction='fission'\n",
    "cell_type='fuel'\n",
    "C_mgxs=np.array([])\n",
    "E_mgxs=np.array([])\n",
    "N_mgxs=np.array([])\n",
    "D_mgxs=np.array([])\n",
    "F_mgxs=np.array([])\n",
    "FD_mgxs=np.array([])\n",
    "for x in range(9):\n",
    "    for y in range(9):\n",
    "        X=(x,y)\n",
    "        if X in C:\n",
    "            C_mgxs=np.append(C_mgxs,mgxs_value(X,reaction,cell_type)[1:])\n",
    "            C_mgxs=np.array_split(C_mgxs, len(C_mgxs) // 171)\n",
    "        if X in E:\n",
    "            E_mgxs=np.append(E_mgxs,mgxs_value(X,reaction,cell_type)[1:])           \n",
    "            E_mgxs=np.array_split(E_mgxs, len(E_mgxs) // 171)\n",
    "        if X in N:\n",
    "            N_mgxs=np.append(N_mgxs,mgxs_value(X,reaction,cell_type)[1:])\n",
    "            N_mgxs=np.array_split(N_mgxs, len(N_mgxs) // 171)\n",
    "        if X in D:\n",
    "            D_mgxs=np.append(D_mgxs,mgxs_value(X,reaction,cell_type)[1:])\n",
    "            D_mgxs=np.array_split(D_mgxs, len(D_mgxs) // 171)\n",
    "        if X in F:\n",
    "            F_mgxs=np.append(F_mgxs,mgxs_value(X,reaction,cell_type)[1:])   \n",
    "            F_mgxs=np.array_split(F_mgxs, len(F_mgxs) // 171)\n",
    "        if X in FD:\n",
    "            FD_mgxs=np.append(FD_mgxs,mgxs_value(X,reaction,cell_type)[1:])\n",
    "            FD_mgxs=np.array_split(FD_mgxs, len(FD_mgxs) // 171)"
   ]
  },
  {
   "cell_type": "markdown",
   "id": "f14ce574-e000-455a-a1c3-67f9957afcab",
   "metadata": {},
   "source": [
    "### Maximum Relative Deviation"
   ]
  },
  {
   "cell_type": "code",
   "execution_count": 162,
   "id": "1f02a921-9c76-4eba-ad2c-d956fee22a9c",
   "metadata": {},
   "outputs": [],
   "source": [
    "def rd_max(mgxs1_l,mgxs2_l):\n",
    "    if len(mgxs1_l)==172:\n",
    "        mgxs1=np.array([mgxs1_l])\n",
    "    else:\n",
    "        mgxs1=mgxs1_l\n",
    "    if len(mgxs2_l)==172:    \n",
    "        mgxs2=np.array([mgxs2_l])\n",
    "    else:\n",
    "        mgxs2=mgxs2_l    \n",
    "    rd=0\n",
    "    avg=0\n",
    "    index=0\n",
    "    for i in range (171):\n",
    "        sum1=0\n",
    "        sum2=0\n",
    "        rd=0\n",
    "        rd_max=0\n",
    "        for k in range(len(mgxs1)):\n",
    "            sum1=sum1+mgxs1[k][i]\n",
    "            avg1=sum1/len(mgxs1)\n",
    "        for k in range(len(mgxs2)):\n",
    "            sum2=sum2+mgxs2[k][i]\n",
    "            avg2=sum2/len(mgxs2)\n",
    "        # print(avg1)\n",
    "        if avg1!=0:\n",
    "            rd=abs(avg1-avg2)/avg1             \n",
    "        if rd>rd_max:\n",
    "            rd_max=rd\n",
    "            index=i\n",
    "        return(100*rd_max)      "
   ]
  },
  {
   "cell_type": "code",
   "execution_count": 177,
   "id": "b6935368-b2e7-4488-a46d-ded81c5514ef",
   "metadata": {},
   "outputs": [
    {
     "data": {
      "text/plain": [
       "0.18888711289123267"
      ]
     },
     "execution_count": 177,
     "metadata": {},
     "output_type": "execute_result"
    }
   ],
   "source": [
    "rd_max(E_mgxs,FD_mgxs)"
   ]
  },
  {
   "cell_type": "markdown",
   "id": "976ce722-8d5e-411a-bb4e-6543bcca5ed7",
   "metadata": {},
   "source": [
    "## Statistical Noise"
   ]
  },
  {
   "cell_type": "code",
   "execution_count": 164,
   "id": "5ba744fb-6e90-454a-a217-7cb7df332981",
   "metadata": {},
   "outputs": [
    {
     "name": "stdout",
     "output_type": "stream",
     "text": [
      "(8, 7)\n",
      "2.1297050679005514%\n"
     ]
    }
   ],
   "source": [
    "X_mgxs=np.array([])\n",
    "X_bis_mgxs=np.array([])\n",
    "max_stat_noise=0\n",
    "X_noise_max=(100,100)\n",
    "for x in range(9):\n",
    "    for y in range(9):\n",
    "        X=(x,y)\n",
    "        X_bis=(y,x)\n",
    "        if X not in GT and X_bis not in GT:            \n",
    "            if rd_max(mgxs_value(X,'fission','fuel'),mgxs_value(X_bis,'fission','fuel'))>max_stat_noise:\n",
    "                max_stat_noise=rd_max(mgxs_value(X,'fission','fuel'),mgxs_value(X_bis,'fission','fuel'))\n",
    "                X_noise_max=X\n",
    "            X_mgxs=np.array([])\n",
    "            X_bis_mgxs=np.array([])\n",
    "        else:\n",
    "            X_mgxs=np.array([])\n",
    "            X_bis_mgxs=np.array([])\n",
    "print(X_noise_max)\n",
    "print(str(max_stat_noise)+'%')           "
   ]
  },
  {
   "cell_type": "code",
   "execution_count": null,
   "id": "15f5b7c5-6327-46f3-9100-724524e3ac52",
   "metadata": {},
   "outputs": [],
   "source": []
  }
 ],
 "metadata": {
  "kernelspec": {
   "display_name": "Python 3 (ipykernel)",
   "language": "python",
   "name": "python3"
  },
  "language_info": {
   "codemirror_mode": {
    "name": "ipython",
    "version": 3
   },
   "file_extension": ".py",
   "mimetype": "text/x-python",
   "name": "python",
   "nbconvert_exporter": "python",
   "pygments_lexer": "ipython3",
   "version": "3.12.3"
  }
 },
 "nbformat": 4,
 "nbformat_minor": 5
}
