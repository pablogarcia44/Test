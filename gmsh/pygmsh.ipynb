{
 "cells": [
  {
   "cell_type": "code",
   "execution_count": 18,
   "id": "3f807b56-c49f-4fee-979e-3fbe44ce3d4b",
   "metadata": {},
   "outputs": [],
   "source": [
    "import pygmsh\n",
    "import gmsh\n",
    "import sys\n",
    "\n",
    "with pygmsh.occ.Geometry() as geom:\n",
    "    fuel=geom.add_cylinder([0.0, 0.0,-10.0],[0.0, 0.0,10.0], 0.39, mesh_size=0.5)\n",
    "    box=geom.add_box([-1.26/2,-1.26/2,-10],[1.26,1.26,10],mesh_size=0.5)\n",
    "    mesh = geom.generate_mesh()\n",
    "\n",
    "    gmsh.option.setNumber(\"Mesh.MshFileVersion\",2.2)\n",
    "    pygmsh.write(\"out.msh\")\n",
    "\n",
    "!gmsh out.msh\n",
    "\n"
   ]
  },
  {
   "cell_type": "code",
   "execution_count": 1,
   "id": "39ff5fc7-f456-4690-b23f-298b2dd3a3aa",
   "metadata": {},
   "outputs": [
    {
     "ename": "TypeError",
     "evalue": "Geometry.boolean_difference() missing 1 required positional argument: 'd1'",
     "output_type": "error",
     "traceback": [
      "\u001b[0;31m---------------------------------------------------------------------------\u001b[0m",
      "\u001b[0;31mTypeError\u001b[0m                                 Traceback (most recent call last)",
      "Cell \u001b[0;32mIn[1], line 11\u001b[0m\n\u001b[1;32m      8\u001b[0m disk_clad_outer \u001b[38;5;241m=\u001b[39m geom\u001b[38;5;241m.\u001b[39madd_disk([\u001b[38;5;241m0.\u001b[39m, \u001b[38;5;241m0.\u001b[39m, \u001b[38;5;241m0.\u001b[39m], \u001b[38;5;241m0.46\u001b[39m)\n\u001b[1;32m     10\u001b[0m rectangle \u001b[38;5;241m=\u001b[39m geom\u001b[38;5;241m.\u001b[39madd_rectangle([\u001b[38;5;241m-\u001b[39mpitch\u001b[38;5;241m/\u001b[39m\u001b[38;5;241m2\u001b[39m, \u001b[38;5;241m-\u001b[39mpitch\u001b[38;5;241m/\u001b[39m\u001b[38;5;241m2\u001b[39m, \u001b[38;5;241m0.0\u001b[39m], pitch, pitch)\n\u001b[0;32m---> 11\u001b[0m flat_gap \u001b[38;5;241m=\u001b[39m \u001b[43mgeom\u001b[49m\u001b[38;5;241;43m.\u001b[39;49m\u001b[43mboolean_difference\u001b[49m\u001b[43m(\u001b[49m\u001b[43m[\u001b[49m\u001b[43mdisk_clad_inner\u001b[49m\u001b[43m,\u001b[49m\u001b[43mdisk_fuel_inner\u001b[49m\u001b[43m]\u001b[49m\u001b[43m)\u001b[49m\n\u001b[1;32m     12\u001b[0m \u001b[38;5;66;03m# flat_clad = geom.boolean_intersection([disk_clad_outer,disk_clad_inner])\u001b[39;00m\n\u001b[1;32m     13\u001b[0m \u001b[38;5;66;03m# flat_moderator = geom.boolean_intersection([rectangle,disk_clad_outer])\u001b[39;00m\n\u001b[1;32m     16\u001b[0m geom\u001b[38;5;241m.\u001b[39mextrude(flat_gap, [\u001b[38;5;241m0\u001b[39m, \u001b[38;5;241m0\u001b[39m, \u001b[38;5;241m0.3\u001b[39m])\n",
      "\u001b[0;31mTypeError\u001b[0m: Geometry.boolean_difference() missing 1 required positional argument: 'd1'"
     ]
    }
   ],
   "source": [
    "import pygmsh\n",
    "import gmsh\n",
    "import sys\n",
    "pitch=1.26\n",
    "with pygmsh.occ.Geometry() as geom:\n",
    "    disk_fuel_inner = geom.add_disk([0., 0., 0.], 0.39)\n",
    "    disk_clad_inner = geom.add_disk([0., 0., 0.], 0.40)\n",
    "    disk_clad_outer = geom.add_disk([0., 0., 0.], 0.46)\n",
    "    \n",
    "    rectangle = geom.add_rectangle([-pitch/2, -pitch/2, 0.0], pitch, pitch)\n",
    "    flat_gap = geom.boolean_difference([disk_clad_inner,disk_fuel_inner])\n",
    "    # flat_clad = geom.boolean_intersection([disk_clad_outer,disk_clad_inner])\n",
    "    # flat_moderator = geom.boolean_intersection([rectangle,disk_clad_outer])\n",
    "\n",
    "    \n",
    "    geom.extrude(flat_gap, [0, 0, 0.3])\n",
    "    \n",
    "    mesh = geom.generate_mesh()\n",
    "\n",
    "    gmsh.option.setNumber(\"Mesh.MshFileVersion\",2.2)\n",
    "    pygmsh.write(\"out.msh\")\n",
    "\n",
    "!gmsh out.msh\n",
    "\n",
    "\n"
   ]
  },
  {
   "cell_type": "code",
   "execution_count": null,
   "id": "f00d2110-e743-4c68-9831-b757985fce36",
   "metadata": {},
   "outputs": [],
   "source": []
  }
 ],
 "metadata": {
  "kernelspec": {
   "display_name": "Python 3 (ipykernel)",
   "language": "python",
   "name": "python3"
  },
  "language_info": {
   "codemirror_mode": {
    "name": "ipython",
    "version": 3
   },
   "file_extension": ".py",
   "mimetype": "text/x-python",
   "name": "python",
   "nbconvert_exporter": "python",
   "pygments_lexer": "ipython3",
   "version": "3.12.3"
  }
 },
 "nbformat": 4,
 "nbformat_minor": 5
}
