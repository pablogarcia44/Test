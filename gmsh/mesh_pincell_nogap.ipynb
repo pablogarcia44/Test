{
 "cells": [
  {
   "cell_type": "code",
   "execution_count": 1,
   "id": "07e88e4e-9d5c-4e11-96e3-cef9a99daa78",
   "metadata": {},
   "outputs": [],
   "source": [
    "import numpy as np\n",
    "import gmsh \n",
    "import sys"
   ]
  },
  {
   "cell_type": "markdown",
   "id": "dc0bd1d6-a66b-4c1b-8385-ef0cedbf477e",
   "metadata": {},
   "source": [
    "### Create Mesh"
   ]
  },
  {
   "cell_type": "code",
   "execution_count": 1,
   "id": "2ab1eeb5-b41b-4933-88b4-a6c5175c6cb7",
   "metadata": {},
   "outputs": [
    {
     "name": "stderr",
     "output_type": "stream",
     "text": [
      "Error   : Unknown mesh format '/Users/pablogarcia44/Library/Jupyter/runtime/kernel-582d5974-a5e7-4ed6-b418-9bfb12a35e52.json'\n"
     ]
    },
    {
     "name": "stdout",
     "output_type": "stream",
     "text": [
      "Info    : Meshing 1D...                                                                                                                        \n",
      "Info    : [  0%] Meshing curve 5 (Ellipse)\n",
      "Info    : [ 20%] Meshing curve 6 (Ellipse)\n",
      "Info    : [ 40%] Meshing curve 7 (Line)\n",
      "Info    : [ 60%] Meshing curve 8 (Line)\n",
      "Info    : [ 70%] Meshing curve 9 (Line)\n",
      "Info    : [ 90%] Meshing curve 10 (Line)\n",
      "Info    : Done meshing 1D (Wall 0.000867875s, CPU 0.000891s)\n",
      "Info    : Meshing 2D...\n",
      "Info    : [  0%] Meshing surface 1 (Plane, Frontal-Delaunay for Quads)\n",
      "Info    : [  0%] Blossom: 26664 internal 803 closed\n",
      "Info    : [  0%] Blossom recombination completed (Wall 0.274477s, CPU 0.269371s): 8984 quads, 0 triangles, 0 invalid quads, 0 quads with Q < 0.1, avg Q = 0.934062, min Q = 0.445435\n",
      "Info    : [ 40%] Meshing surface 2 (Plane, Frontal-Delaunay for Quads)\n",
      "Info    : [ 70%] Meshing surface 3 (Plane, Frontal-Delaunay for Quads)\n",
      "Info    : Done meshing 2D (Wall 1.02121s, CPU 1.01039s)\n",
      "Info    : 16606 nodes 24795 elements\n",
      "Info    : Writing 'Pincell_nogap.msh'...\n",
      "Info    : Done writing 'Pincell_nogap.msh'\n",
      "-------------------------------------------------------\n",
      "Version       : 4.13.1\n",
      "License       : GNU General Public License\n",
      "Build OS      : MacOSX-sdk\n",
      "Build date    : 20240524\n",
      "Build host    : gmsh.info\n",
      "Build options : 64Bit ALGLIB[contrib] ANN[contrib] Bamg Blas[petsc] Blossom Cgns DIntegration Dlopen DomHex Eigen[contrib] Fltk GMP Gmm[contrib] Hxt Jpeg Kbipack Lapack[petsc] MathEx[contrib] Med Mesh Metis[contrib] Mmg Mpeg Netgen Nii2mesh ONELAB ONELABMetamodel OpenCASCADE OpenCASCADE-CAF OpenGL OpenMP OptHom PETSc Parser Plugins Png Post QuadMeshingTools QuadTri Solver TetGen/BR TinyXML2[contrib] TouchBar Untangle Voro++[contrib] WinslowUntangler Zlib\n",
      "FLTK version  : 1.4.0\n",
      "PETSc version : 3.15.0 (real arithmtic)\n",
      "OCC version   : 7.7.2\n",
      "MED version   : 4.1.0\n",
      "Packaged by   : geuzaine\n",
      "Web site      : https://gmsh.info\n",
      "Issue tracker : https://gitlab.onelab.info/gmsh/gmsh/issues\n",
      "-------------------------------------------------------\n"
     ]
    }
   ],
   "source": [
    "import numpy as np\n",
    "import gmsh \n",
    "import sys\n",
    "\n",
    "gmsh.initialize(sys.argv)\n",
    "gmsh.model.add(\"Pincell_nogap\")\n",
    "\n",
    "dim = 2\n",
    "h = 0.01\n",
    "\n",
    "pitch = 1.26\n",
    "pin = [-0.63,0.63*1.5,-0.63,0.63,0.0,385.1]\n",
    "\n",
    "r_fuel = 0.4096\n",
    "r_clad_inner = 0.418\n",
    "r_clad_outer = 0.475\n",
    "\n",
    "\n",
    "# Geometry\n",
    "tag = 1\n",
    "moderator = gmsh.model.occ.addRectangle(-pitch/2,pitch/2,0,\n",
    "                            pitch,\n",
    "                            -pitch,\n",
    "                            tag=tag)\n",
    "moderator_tag=[tag]\n",
    "tag += 1\n",
    "\n",
    "clad = gmsh.model.occ.addDisk(0,0,0,r_clad_outer,r_clad_outer,tag)\n",
    "clad_tag=[tag]\n",
    "tag += 1\n",
    "\n",
    "fuel = gmsh.model.occ.addDisk(0,0,0,r_clad_inner,r_clad_inner,tag)\n",
    "fuel_tag=[tag]\n",
    "tag += 1\n",
    "\n",
    "\n",
    "\n",
    "gmsh.model.occ.cut([(dim,moderator)],\n",
    "                    [(dim,clad)],\n",
    "                    removeTool=False)\n",
    "\n",
    "\n",
    "gmsh.model.occ.cut([(dim,clad)],\n",
    "                    [(dim,fuel)],\n",
    "                    removeTool=False)\n",
    "\n",
    "\n",
    "\n",
    "\n",
    "# Grouping\n",
    "gmsh.model.occ.synchronize()\n",
    "gmsh.model.addPhysicalGroup(dim,tags=moderator_tag,name=\"moderator\")\n",
    "gmsh.model.addPhysicalGroup(dim,tags=clad_tag,name=\"clad\")\n",
    "gmsh.model.addPhysicalGroup(dim,tags=fuel_tag,name=\"fuel\")\n",
    "\n",
    "\n",
    "\n",
    "\n",
    "# gmsh.model.occ.synchronize()\n",
    "gmsh.option.setNumber(\"Mesh.MeshSizeExtendFromBoundary\", 0)\n",
    "gmsh.option.setNumber(\"Mesh.MeshSizeFromPoints\", 0)\n",
    "gmsh.option.setNumber(\"Mesh.MeshSizeFromCurvature\", 0)\n",
    "gmsh.option.setNumber(\"Mesh.MeshSizeMax\", h)\n",
    "\n",
    "# Meshing\n",
    "# Export Mesh to specified version for OpenSn\n",
    "gmsh.option.setNumber(\"Mesh.MshFileVersion\",2.2)\n",
    "\n",
    "# gmsh.option.setNumber(\"Mesh.Algorithm\", 6)\n",
    "\n",
    "gmsh.model.mesh.setRecombine(dim,1)\n",
    "gmsh.option.setNumber(\"Mesh.Algorithm\", 8)\n",
    "\n",
    "gmsh.model.mesh.generate(dim)\n",
    "gmsh.write(\"Pincell_nogap.msh\")\n",
    "gmsh.fltk.run()\n",
    "gmsh.finalize()"
   ]
  },
  {
   "cell_type": "markdown",
   "id": "ba76ae15-73d9-4ade-94f0-eb57c5244397",
   "metadata": {},
   "source": [
    "cutpoint1 = gmsh.model.occ.addPoint(pitch/2,pitch/2,0.0)\n",
    "cutpoint2 = gmsh.model.occ.addPoint(pitch/2,-pitch/2,0.0)\n",
    "cutline = gmsh.model.occ.addLine(cutpoint1,cutpoint2)"
   ]
  },
  {
   "cell_type": "markdown",
   "id": "67268e14-8b97-41c7-85e6-4601ac221f73",
   "metadata": {
    "jp-MarkdownHeadingCollapsed": true
   },
   "source": [
    "### Add Mesh Field"
   ]
  },
  {
   "cell_type": "markdown",
   "id": "d90c0717-cb51-4b97-8524-ce741273ce5c",
   "metadata": {},
   "source": [
    "gmsh.model.mesh.field.add(\"Distance\", 1)\n",
    "gmsh.model.mesh.field.setNumbers(1, \"CurvesList\", [cutline])\n",
    "gmsh.model.mesh.field.setNumber(1, \"Sampling\", 100)\n",
    "gmsh.model.mesh.field.add(\"Threshold\", 2)\n",
    "gmsh.model.mesh.field.setNumber(2, \"InField\", 1)\n",
    "gmsh.model.mesh.field.setNumber(2, \"SizeMin\", h/2)\n",
    "gmsh.model.mesh.field.setNumber(2, \"SizeMax\", h)\n",
    "gmsh.model.mesh.field.setNumber(2, \"DistMin\", h*10)\n",
    "gmsh.model.mesh.field.setNumber(2, \"DistMax\", h*20)\n",
    "\n",
    "gmsh.model.mesh.field.add(\"Min\", 4)\n",
    "gmsh.model.mesh.field.setNumbers(4, \"FieldsList\", [2])\n",
    "gmsh.model.mesh.field.setAsBackgroundMesh(4)"
   ]
  }
 ],
 "metadata": {
  "kernelspec": {
   "display_name": "Python 3 (ipykernel)",
   "language": "python",
   "name": "python3"
  },
  "language_info": {
   "codemirror_mode": {
    "name": "ipython",
    "version": 3
   },
   "file_extension": ".py",
   "mimetype": "text/x-python",
   "name": "python",
   "nbconvert_exporter": "python",
   "pygments_lexer": "ipython3",
   "version": "3.12.3"
  }
 },
 "nbformat": 4,
 "nbformat_minor": 5
}
