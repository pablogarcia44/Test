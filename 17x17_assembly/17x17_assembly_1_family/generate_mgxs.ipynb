{
 "cells": [
  {
   "cell_type": "markdown",
   "id": "cdd8a24a-a018-4a2b-aaed-7eae9c99a62b",
   "metadata": {},
   "source": [
    "# 3x3 assembly inputfile that: "
   ]
  },
  {
   "cell_type": "markdown",
   "id": "880099d7-f1e0-4a4f-9a03-3d4c52de6943",
   "metadata": {},
   "source": [
    "### Import module/Set up XS path/Create openMC model/Clean directory"
   ]
  },
  {
   "cell_type": "code",
   "execution_count": 60,
   "id": "e4b5e472-92fe-4d54-b9df-c70131c052a1",
   "metadata": {},
   "outputs": [],
   "source": [
    "import sys\n",
    "import os \n",
    "import openmc\n",
    "import numpy as np\n",
    "import matplotlib.pyplot as plt\n",
    "import openmc.mgxs as mgxs\n",
    "import pandas as pd\n",
    "from IPython.display import Image\n",
    "import glob"
   ]
  },
  {
   "cell_type": "markdown",
   "id": "1c6bc5c7-2dcc-40b3-98c0-f0b7fc3f5ac5",
   "metadata": {},
   "source": [
    "### Ragusa environnement"
   ]
  },
  {
   "cell_type": "markdown",
   "id": "99b24d1d-e008-48ce-bdee-c3878c477f87",
   "metadata": {},
   "source": [
    "import os\n",
    "\n",
    "# Add path to OpenMC binary\n",
    "# os.environ['PATH'] += r':/path/to/openmc/bin'\n",
    "os.environ['PATH'] += r':/Users/jean.ragusa/repo/openmc/local/bin'\n",
    "\n",
    "# Add location of OpenMC xs data\n",
    "%env OPENMC_CROSS_SECTIONS=/Users/jean.ragusa/repo/endfb-viii.0-hdf5/cross_sections.xml\n",
    "# %env OPENMC_CROSS_SECTIONS=/Users/jean.ragusa/repo/nndc_hdf5/cross_sections.xml"
   ]
  },
  {
   "cell_type": "markdown",
   "id": "e02f7d89-8f36-4c72-80d6-f1b53646d94e",
   "metadata": {},
   "source": [
    "### Pablo environnement"
   ]
  },
  {
   "cell_type": "code",
   "execution_count": 61,
   "id": "1e7cc449-037d-4c4f-aa2e-6f21e06bd185",
   "metadata": {},
   "outputs": [
    {
     "name": "stdout",
     "output_type": "stream",
     "text": [
      "env: OPENMC_CROSS_SECTIONS=/home/pablo/internship/xs_for_input/cross_sections.xml\n"
     ]
    }
   ],
   "source": [
    "%env OPENMC_CROSS_SECTIONS=/home/pablo/internship/xs_for_input/cross_sections.xml\n",
    "model=openmc.Model()\n",
    "\n",
    "clean_file_list = [\"model.xml\", \"materials.xml\", \"geometry.xml\",\"plots.xml\",\"geometry.xml\",\"settings.xml\",\"tallies.out\",\"summary.h5\",\"statepoint.50.h5\"]\n",
    "\n",
    "for file in clean_file_list :\n",
    "    path_file = os.path.join(os.getcwd(), file)\n",
    "    if os.path.exists(path_file):\n",
    "        os.remove(path_file)\n",
    "\n",
    "### Define Materials"
   ]
  },
  {
   "cell_type": "code",
   "execution_count": 62,
   "id": "50dee80c-d7a7-49e1-99ef-5094e87b5808",
   "metadata": {},
   "outputs": [],
   "source": [
    "uo2 = openmc.Material(name='uo2')\n",
    "uo2.add_nuclide('U235', 0.03)\n",
    "uo2.add_nuclide('U238', 0.97)\n",
    "uo2.add_nuclide('O16', 2.0)\n",
    "uo2.set_density('g/cm3', 10.0)\n",
    "zirconium = openmc.Material(name=\"zirconium\")\n",
    "zirconium.add_element('Zr', 1.0)\n",
    "zirconium.set_density('g/cm3', 6.6)\n",
    "helium=openmc.Material(name='helium')\n",
    "helium.add_element('helium',1)\n",
    "helium.set_density('g/cm3',8e-4)\n",
    "water = openmc.Material(name=\"water\")\n",
    "water.add_nuclide('H1', 2.0)\n",
    "water.add_nuclide('O16', 1.0)\n",
    "water.set_density('g/cm3', 1.0)\n",
    "water.add_s_alpha_beta('c_H_in_H2O')\n",
    "\n",
    "    \n",
    "model.materials = openmc.Materials([uo2, zirconium, water,helium]) \n",
    "model.materials.export_to_xml()"
   ]
  },
  {
   "cell_type": "markdown",
   "id": "ffd5255c-47f3-4394-836f-140dddeef018",
   "metadata": {},
   "source": [
    "### Create pincell_in"
   ]
  },
  {
   "cell_type": "code",
   "execution_count": 63,
   "id": "ce67e753-777f-4ed7-a24c-89791d3d6b54",
   "metadata": {},
   "outputs": [],
   "source": [
    "fuel_outer_radius = openmc.ZCylinder(r=0.39)\n",
    "gap_outer_radius = openmc.ZCylinder(r=0.40)\n",
    "clad_outer_radius = openmc.ZCylinder(r=0.46)\n",
    "pitch = 1.26\n",
    "left = openmc.XPlane(-pitch/2, boundary_type='transmission')\n",
    "right = openmc.XPlane(pitch/2, boundary_type='transmission')\n",
    "bottom = openmc.YPlane(-pitch/2, boundary_type='transmission')\n",
    "top = openmc.YPlane(pitch/2, boundary_type='transmission')\n",
    "    \n",
    "fuel_region = -fuel_outer_radius\n",
    "gap_region = +fuel_outer_radius & -gap_outer_radius\n",
    "clad_region = +gap_outer_radius & -clad_outer_radius\n",
    "water_region = +left & -right & +bottom & -top & +clad_outer_radius\n",
    "    \n",
    "fuel = openmc.Cell(name='fuel')\n",
    "fuel.fill = uo2\n",
    "fuel.region = fuel_region\n",
    "gap = openmc.Cell(name='gap')\n",
    "gap.region = gap_region\n",
    "clad = openmc.Cell(name='clad')\n",
    "clad.fill = zirconium\n",
    "clad.region = clad_region\n",
    "moderator = openmc.Cell(name='moderator')\n",
    "moderator.fill = water\n",
    "moderator.region = water_region\n",
    "\n",
    "u = openmc.Universe(cells=(fuel, gap, clad, moderator))"
   ]
  },
  {
   "cell_type": "markdown",
   "id": "8a8dcab6-605c-44e4-81de-6444cc6b75cc",
   "metadata": {},
   "source": [
    "### Plot Pincell"
   ]
  },
  {
   "cell_type": "markdown",
   "id": "8ed9147c-243c-4755-b645-b834b344e8d3",
   "metadata": {
    "jp-MarkdownHeadingCollapsed": true
   },
   "source": [
    "### Create pincell_out"
   ]
  },
  {
   "cell_type": "markdown",
   "id": "1ec800b3-ff0d-47ad-93ad-df470f860055",
   "metadata": {},
   "source": [
    "fuel_out = openmc.Cell(name='fuel_out')\n",
    "fuel_out.fill = uo2\n",
    "fuel_out.region = fuel_region\n",
    "gap_out = openmc.Cell(name='gap_out')\n",
    "gap_out.fill=helium\n",
    "gap_out.region = gap_region\n",
    "clad_out = openmc.Cell(name='clad_out')\n",
    "clad_out.fill = zirconium\n",
    "clad_out.region = clad_region\n",
    "moderator_out = openmc.Cell(name='moderator_out')\n",
    "moderator_out.fill = water\n",
    "moderator_out.region = water_region\n",
    "    \n",
    "u_out = openmc.Universe(cells=(fuel_out, gap_out, clad_out, moderator_out))"
   ]
  },
  {
   "cell_type": "markdown",
   "id": "6367df82-7c94-493c-b736-10a8d34cf7de",
   "metadata": {},
   "source": [
    "### Define assembly"
   ]
  },
  {
   "cell_type": "code",
   "execution_count": 64,
   "id": "1069e3ad-664b-4230-b4eb-f024e4117c52",
   "metadata": {},
   "outputs": [],
   "source": [
    "assembly = openmc.RectLattice()\n",
    "pitch_assembly=21.42 #(17x1,26)\n",
    "assembly.pitch = (pitch_assembly,pitch_assembly)\n",
    "\n",
    "assembly.lower_left = (-0.5*pitch_assembly, -0.5*pitch_assembly)\n",
    "assembly.pitch = (1.26, 1.26)\n",
    "assembly.universes = np.tile(u, (17, 17))\n",
    "\n",
    "\n",
    "# full assembly\n",
    "# min_x = openmc.XPlane(x0=-pitch_assembly/2, boundary_type='reflective')\n",
    "# max_x = openmc.XPlane(x0=+pitch_assembly/2, boundary_type='reflective')\n",
    "# min_y = openmc.YPlane(y0=-pitch_assembly/2, boundary_type='reflective')\n",
    "# max_y = openmc.YPlane(y0=+pitch_assembly/2, boundary_type='reflective')\n",
    "# 1/4 assembly\n",
    "min_x = openmc.XPlane(x0=0, boundary_type='reflective')\n",
    "max_x = openmc.XPlane(x0=+pitch_assembly/2, boundary_type='reflective')\n",
    "min_y = openmc.YPlane(y0=0, boundary_type='reflective')\n",
    "max_y = openmc.YPlane(y0=+pitch_assembly/2, boundary_type='reflective')\n",
    "min_z = openmc.ZPlane(z0=-10., boundary_type='reflective')\n",
    "max_z = openmc.ZPlane(z0=+10., boundary_type='reflective')\n",
    "\n",
    "root_cell.region = +min_x & -max_x & +min_y & -max_y & +min_z & -max_z\n",
    "\n",
    "root_cell = openmc.Cell(name='root cell', fill=assembly)\n",
    "root_cell.region = +min_x & -max_x & +min_y & -max_y\n",
    "    \n",
    "\n",
    "model.geometry.root_universe = openmc.Universe(name='root universe')\n",
    "model.geometry.root_universe.add_cell(root_cell)\n",
    "\n",
    "model.geometry.export_to_xml()\n"
   ]
  },
  {
   "cell_type": "markdown",
   "id": "cb57e6ef-e360-4240-b603-5c9388897f2f",
   "metadata": {},
   "source": [
    "### Plot assembly"
   ]
  },
  {
   "cell_type": "code",
   "execution_count": 65,
   "id": "e0624b2a-f160-4fb4-8a69-995d9b7f7e65",
   "metadata": {},
   "outputs": [
    {
     "data": {
      "image/png": "[encoded data removed]",
      "text/plain": [
       "<IPython.core.display.Image object>"
      ]
     },
     "execution_count": 65,
     "metadata": {},
     "output_type": "execute_result"
    }
   ],
   "source": [
    "plot = openmc.Plot.from_geometry(model.geometry)\n",
    "plot.pixels = (500, 500)\n",
    "plot.width = (pitch_assembly, pitch_assembly)\n",
    "plot.origin = (0., 0., 0)\n",
    "plot.color_by = 'cell'\n",
    "# plot.colors = {\n",
    "#     water: 'blue',\n",
    "#     zirconium: 'black',\n",
    "#     helium: 'yellow',\n",
    "#     uo2_in: (100, 0, 0),\n",
    "#     uo2_out: (255, 0, 0)\n",
    "# }\n",
    "plot.to_ipython_image()"
   ]
  },
  {
   "cell_type": "markdown",
   "id": "90c73240-9aae-4a8e-ab35-fbc68032fb85",
   "metadata": {},
   "source": [
    "### Choose settings"
   ]
  },
  {
   "cell_type": "code",
   "execution_count": 66,
   "id": "42b13809-e8ac-45b5-8e4d-af2f00a57694",
   "metadata": {},
   "outputs": [],
   "source": [
    "source = openmc.IndependentSource()\n",
    "source.space = openmc.stats.Point((0.1,0.1,0.))\n",
    "source.angle = openmc.stats.Isotropic()\n",
    "source.energy = openmc.stats.Discrete([10.0e6], [1.0])\n",
    "source.time = openmc.stats.Uniform(0, 1e-6)\n",
    "settings = openmc.Settings()\n",
    "settings.source = source\n",
    "settings = openmc.Settings()\n",
    "settings.source = source\n",
    "settings.batches = 50\n",
    "settings.inactive = 10\n",
    "settings.particles = 50000\n",
    "settings.output = {'tallies':True}\n",
    "model.settings = settings\n",
    "model.settings.export_to_xml()"
   ]
  },
  {
   "cell_type": "markdown",
   "id": "709977dc-3ea8-48a7-ab09-bb9cecc54ffa",
   "metadata": {},
   "source": [
    "### Define and choose energy group"
   ]
  },
  {
   "cell_type": "code",
   "execution_count": 67,
   "id": "fbc12bc6-1180-46b2-af7e-d54c0cedb555",
   "metadata": {},
   "outputs": [],
   "source": [
    "choose_group=openmc.mgxs.GROUP_STRUCTURES['XMAS-172']\n",
    "name_group='XMAS172'"
   ]
  },
  {
   "cell_type": "markdown",
   "id": "c4e87c13-a743-4039-b93c-001057d7b3af",
   "metadata": {},
   "source": [
    "### Create MGXS tallies for mgxs directory"
   ]
  },
  {
   "cell_type": "code",
   "execution_count": 68,
   "id": "a323cc06-df7d-48a6-9cf1-c79117dad6b0",
   "metadata": {},
   "outputs": [
    {
     "name": "stderr",
     "output_type": "stream",
     "text": [
      "/home/pablo/anaconda3/envs/openmc-env/lib/python3.12/site-packages/openmc/mgxs/library.py:401: RuntimeWarning: The P0 correction will be ignored since the scattering order 3 is greater than zero\n",
      "  warn(msg, RuntimeWarning)\n"
     ]
    }
   ],
   "source": [
    "mgxs_lib = openmc.mgxs.Library(model.geometry)\n",
    "groups = openmc.mgxs.EnergyGroups(choose_group)\n",
    "mgxs_lib.energy_groups = groups\n",
    "mgxs_lib.scatter_format = \"legendre\"\n",
    "mgxs_lib.legendre_order = 3\n",
    "mgxs_lib.mgxs_types = ['total', 'absorption', 'fission', 'nu-fission', 'chi', 'scatter matrix', 'nu-scatter matrix', 'inverse-velocity']\n",
    "mgxs_lib.tally_trigger =openmc.Trigger('std_dev', 1e-2)\n",
    "mgxs_lib.by_nuclide = False\n",
    "mgxs_lib.domain_type = 'cell'\n",
    "mgxs_lib.domains = model.geometry.get_all_material_cells().values()\n",
    "mgxs_lib.build_library()\n",
    "tallies = openmc.Tallies()\n",
    "mgxs_lib.add_to_tallies_file(tallies, merge=True)\n",
    "#tally_flux.merge_tallies()\n",
    "model.tallies = tallies\n",
    "#print(model.tallies)"
   ]
  },
  {
   "cell_type": "markdown",
   "id": "971540b5-5bfb-47be-86f6-9d8b80a38f27",
   "metadata": {},
   "source": [
    "### Run OpenMC model"
   ]
  },
  {
   "cell_type": "code",
   "execution_count": null,
   "id": "671d9ecc-de0d-462b-8fa6-60cbff66fe86",
   "metadata": {},
   "outputs": [
    {
     "name": "stderr",
     "output_type": "stream",
     "text": [
      "/home/pablo/anaconda3/envs/openmc-env/lib/python3.12/site-packages/openmc/mixin.py:70: IDWarning: Another Filter instance already exists with id=380.\n",
      "  warn(msg, IDWarning)\n",
      "/home/pablo/anaconda3/envs/openmc-env/lib/python3.12/site-packages/openmc/mixin.py:70: IDWarning: Another Filter instance already exists with id=287.\n",
      "  warn(msg, IDWarning)\n",
      "/home/pablo/anaconda3/envs/openmc-env/lib/python3.12/site-packages/openmc/mixin.py:70: IDWarning: Another Filter instance already exists with id=295.\n",
      "  warn(msg, IDWarning)\n"
     ]
    },
    {
     "name": "stdout",
     "output_type": "stream",
     "text": [
      "[Machine2:53904] mca_base_component_repository_open: unable to open mca_btl_openib: librdmacm.so.1: cannot open shared object file: No such file or directory (ignored)\n",
      "                                %%%%%%%%%%%%%%%\n",
      "                           %%%%%%%%%%%%%%%%%%%%%%%%\n",
      "                        %%%%%%%%%%%%%%%%%%%%%%%%%%%%%%\n",
      "                      %%%%%%%%%%%%%%%%%%%%%%%%%%%%%%%%%%\n",
      "                    %%%%%%%%%%%%%%%%%%%%%%%%%%%%%%%%%%%%%%\n",
      "                   %%%%%%%%%%%%%%%%%%%%%%%%%%%%%%%%%%%%%%%%\n",
      "                                    %%%%%%%%%%%%%%%%%%%%%%%%\n",
      "                                     %%%%%%%%%%%%%%%%%%%%%%%%\n",
      "                 ###############      %%%%%%%%%%%%%%%%%%%%%%%%\n",
      "                ##################     %%%%%%%%%%%%%%%%%%%%%%%\n",
      "                ###################     %%%%%%%%%%%%%%%%%%%%%%%\n",
      "                ####################     %%%%%%%%%%%%%%%%%%%%%%\n",
      "                #####################     %%%%%%%%%%%%%%%%%%%%%\n",
      "                ######################     %%%%%%%%%%%%%%%%%%%%\n",
      "                #######################     %%%%%%%%%%%%%%%%%%\n",
      "                 #######################     %%%%%%%%%%%%%%%%%\n",
      "                 ######################     %%%%%%%%%%%%%%%%%\n",
      "                  ####################     %%%%%%%%%%%%%%%%%\n",
      "                    #################     %%%%%%%%%%%%%%%%%\n",
      "                     ###############     %%%%%%%%%%%%%%%%\n",
      "                       ############     %%%%%%%%%%%%%%%\n",
      "                          ########     %%%%%%%%%%%%%%\n",
      "                                      %%%%%%%%%%%\n",
      "\n",
      "                 | The OpenMC Monte Carlo Code\n",
      "       Copyright | 2011-2023 MIT, UChicago Argonne LLC, and contributors\n",
      "         License | https://docs.openmc.org/en/latest/license.html\n",
      "         Version | 0.14.0\n",
      "        Git SHA1 | e1a8ee7794b441c992426f17fafe216391cbba83\n",
      "       Date/Time | 2024-05-16 17:45:23\n",
      "   MPI Processes | 1\n",
      "  OpenMP Threads | 5\n",
      "\n",
      " Reading model XML file './model.xml' ...\n",
      " WARNING: Other XML file input(s) are present. These files may be ignored in\n",
      "          favor of the ./model.xml file.\n",
      " Reading cross sections XML file...\n",
      " Reading U235 from /home/pablo/internship/xs_for_input/jeff-3.3-hdf5/U235.h5\n",
      " Reading U238 from /home/pablo/internship/xs_for_input/jeff-3.3-hdf5/U238.h5\n",
      " Reading O16 from /home/pablo/internship/xs_for_input/jeff-3.3-hdf5/O16.h5\n",
      " Reading Zr90 from /home/pablo/internship/xs_for_input/jeff-3.3-hdf5/Zr90.h5\n",
      " Reading Zr91 from /home/pablo/internship/xs_for_input/jeff-3.3-hdf5/Zr91.h5\n",
      " Reading Zr92 from /home/pablo/internship/xs_for_input/jeff-3.3-hdf5/Zr92.h5\n",
      " Reading Zr94 from /home/pablo/internship/xs_for_input/jeff-3.3-hdf5/Zr94.h5\n",
      " Reading Zr96 from /home/pablo/internship/xs_for_input/jeff-3.3-hdf5/Zr96.h5\n",
      " Reading He3 from /home/pablo/internship/xs_for_input/jeff-3.3-hdf5/He3.h5\n",
      " Reading He4 from /home/pablo/internship/xs_for_input/jeff-3.3-hdf5/He4.h5\n",
      " Reading H1 from /home/pablo/internship/xs_for_input/jeff-3.3-hdf5/H1.h5\n",
      " Reading c_H_in_H2O from\n",
      " /home/pablo/internship/xs_for_input/jeff-3.3-hdf5/c_H_in_H2O.h5\n",
      " Minimum neutron data temperature: 250 K\n",
      " Maximum neutron data temperature: 2500 K\n",
      " Preparing distributed cell instances...\n",
      " Reading plot XML file...\n",
      " Writing summary.h5 file...\n",
      " Maximum neutron transport energy: 20000000 eV for He3\n",
      " Initializing source particles...\n",
      "\n",
      " ====================>     K EIGENVALUE SIMULATION     <====================\n",
      "\n"
     ]
    }
   ],
   "source": [
    "model.export_to_xml()\n",
    "sp_file = model.run()\n",
    "sp = openmc.StatePoint(sp_file)"
   ]
  },
  {
   "cell_type": "markdown",
   "id": "4aab0d3a-2242-443e-bbf8-50d30637cabb",
   "metadata": {},
   "source": [
    "### Plot Flux"
   ]
  },
  {
   "cell_type": "code",
   "execution_count": null,
   "id": "f06b0fe2-2baf-41ec-b558-6e37749dfa84",
   "metadata": {
    "scrolled": true
   },
   "outputs": [],
   "source": [
    "from matplotlib.ticker import FixedLocator\n",
    "from matplotlib.ticker import LogLocator\n",
    "\n",
    "#Enter the name of the cell type string// example: fuel_out = openmc.Cell(name='fuel_out') ///\n",
    "cell_plot=['fuel','clad','moderator']\n",
    "\n",
    "\n",
    "sp = openmc.StatePoint(sp_file)\n",
    "sp.tallies\n",
    "tally_flux_id=[]\n",
    "for index, tally in enumerate(sp.tallies):\n",
    "    if sp.tallies[tally].scores==['flux']:\n",
    "        t=sp.tallies[tally]\n",
    "\n",
    "def flux_cell(cell):\n",
    "    \n",
    "    cell_index = 99\n",
    "    cell_id=99\n",
    "    # print(model.geometry.get_all_material_cells().values())\n",
    "    i=0\n",
    "    for all_cell in model.geometry.get_all_material_cells().values():\n",
    "        i=i+1\n",
    "        if all_cell.name==cell:\n",
    "            cell_index=all_cell.id\n",
    "            cell_id=i-1\n",
    "            # print(cell_id)\n",
    "            \n",
    "    tally_data_reshaped =t.get_reshaped_data()\n",
    "    flux=tally_data_reshaped[cell_id]\n",
    "    \n",
    "    liste_reduced = []\n",
    "    for under_liste in flux:\n",
    "        nombre = under_liste[0][0]\n",
    "        liste_reduced.append(nombre)\n",
    "    flux=liste_reduced\n",
    "    return(flux)\n",
    "    \n",
    "\n",
    "dE=np.diff(choose_group)\n",
    "Emid=choose_group[:-1]+dE/2\n",
    "\n",
    "fig, ax = plt.subplots()\n",
    "for i,cell in enumerate(cell_plot):\n",
    "    flux=flux_cell(cell_plot[i])    \n",
    "    mg_spectrum=flux / np.sum(flux)\n",
    "    ax.step(choose_group[:-1], Emid*mg_spectrum/dE, where='post', label=cell_plot[i])\n",
    "ax.set_xscale('log')\n",
    "ax.xaxis.set_major_locator(FixedLocator(locs=np.logspace(-5, 7, 13)))\n",
    "locmin=LogLocator(base=10,subs=np.linspace(0,1.0,11)[1:-1],numticks=1000)\n",
    "ax.xaxis.set_minor_locator(locmin)\n",
    "ax.set_xlabel('Energy [eV]')\n",
    "ax.set_ylabel('Flux [n-cm/eV-src]')\n",
    "ax.grid()\n",
    "ax.legend()\n",
    "plt.show()\n"
   ]
  },
  {
   "cell_type": "markdown",
   "id": "828f2d7f-51d5-4edf-8e1a-69e59836b808",
   "metadata": {},
   "source": [
    "### Print MGXS"
   ]
  },
  {
   "cell_type": "code",
   "execution_count": null,
   "id": "9a517d57-4fc0-45df-8fb5-f437e155aa51",
   "metadata": {},
   "outputs": [],
   "source": [
    "mgxs_lib.load_from_statepoint(sp)\n",
    "type(mgxs_lib)\n",
    "reaction_print = 'total'\n",
    "#Enter the name of the cell type openmc.Cell /// example: fuel_out = openmc.Cell(name='fuel_out') ///\n",
    "cell_print=fuel\n",
    "df_mgxs = mgxs_lib.get_mgxs(cell_print, reaction_print)\n",
    "df_mgxs.print_xs()"
   ]
  },
  {
   "cell_type": "markdown",
   "id": "b660bdb6-73e7-49cd-b5db-153a6d77aad9",
   "metadata": {},
   "source": [
    "### Plot MGXS from mgxs directory"
   ]
  },
  {
   "cell_type": "code",
   "execution_count": null,
   "id": "7b3d5674-d33b-4dd7-83a0-fd5e462f8751",
   "metadata": {},
   "outputs": [],
   "source": [
    "#Enter the name of the cell type openmc.Cell /// example: fuel_out = openmc.Cell(name='fuel_out') ///\n",
    "\n",
    "reaction_plot = 'total'\n",
    "cell_plot_1 = fuel\n",
    "cell_name_1='fuel'\n",
    "cell_plot_2 = moderator\n",
    "cell_name_2='moderator'\n",
    "\n",
    "\n",
    "mgxs_plot_1 = mgxs_lib.get_mgxs(cell_plot_1, reaction_plot)\n",
    "\n",
    "mgxs1=mgxs_plot_1.get_pandas_dataframe(xs_type='macro')['mean'].values\n",
    "mgxs_plot_2 = mgxs_lib.get_mgxs(cell_plot_2, reaction_plot)\n",
    "mgxs2=mgxs_plot_2.get_pandas_dataframe(xs_type='macro')['mean'].values\n",
    "\n",
    "\n",
    "fig, ax = plt.subplots()\n",
    "ax.step(choose_group[:-1], np.flip(mgxs1), where='post', label=cell_name_1) \n",
    "ax.step(choose_group[:-1], np.flip(mgxs2), where='post', label=cell_name_2) \n",
    "\n",
    "        \n",
    "ax.set_xscale('log')\n",
    "\n",
    "ax.set_xlabel('Energy [MeV]')\n",
    "ax.set_ylabel('MGXS [cm-1]')\n",
    "ax.grid() \n",
    "# bbox = ax.get_position()\n",
    "# ax.text(bbox.x1 - 0.05, bbox.y0 - 0.05, reaction_plot, fontsize=15, color='red', ha='right')\n",
    "ax.legend()\n",
    "plt.show()"
   ]
  },
  {
   "cell_type": "code",
   "execution_count": null,
   "id": "5700c68c-6e3c-4763-bc41-0a1af998b591",
   "metadata": {},
   "outputs": [],
   "source": []
  }
 ],
 "metadata": {
  "kernelspec": {
   "display_name": "Python 3 (ipykernel)",
   "language": "python",
   "name": "python3"
  },
  "language_info": {
   "codemirror_mode": {
    "name": "ipython",
    "version": 3
   },
   "file_extension": ".py",
   "mimetype": "text/x-python",
   "name": "python",
   "nbconvert_exporter": "python",
   "pygments_lexer": "ipython3",
   "version": "3.12.3"
  }
 },
 "nbformat": 4,
 "nbformat_minor": 5
}
