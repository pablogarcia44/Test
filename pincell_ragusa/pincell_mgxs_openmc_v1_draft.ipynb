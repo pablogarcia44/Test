{
 "cells": [
  {
   "cell_type": "markdown",
   "id": "394d1d5f",
   "metadata": {},
   "source": [
    "# Generation of MGXS for a fuel pin cell, using OpenMC"
   ]
  },
  {
   "cell_type": "markdown",
   "id": "d93b852e",
   "metadata": {},
   "source": [
    "## Environment"
   ]
  },
  {
   "cell_type": "code",
   "execution_count": 128,
   "id": "a861146a",
   "metadata": {},
   "outputs": [],
   "source": [
    "import math\n",
    "import numpy as np\n",
    "\n",
    "import matplotlib as mpl\n",
    "import matplotlib.pyplot as plt\n",
    "\n",
    "import openmc\n",
    "import openmc.mgxs"
   ]
  },
  {
   "cell_type": "markdown",
   "id": "ef1c97a9-2612-4ac0-a9fe-200c232cde4d",
   "metadata": {},
   "source": [
    "### Ragusa environnement"
   ]
  },
  {
   "cell_type": "markdown",
   "id": "cade67a0-1ea0-4e94-82f5-fbbe673b4022",
   "metadata": {},
   "source": [
    "import os\n",
    "\n",
    "# Add path to OpenMC binary\n",
    "# os.environ['PATH'] += r':/path/to/openmc/bin'\n",
    "os.environ['PATH'] += r':/Users/jean.ragusa/repo/openmc/local/bin'\n",
    "\n",
    "# Add location of OpenMC xs data\n",
    "%env OPENMC_CROSS_SECTIONS=/Users/jean.ragusa/repo/endfb-viii.0-hdf5/cross_sections.xml\n",
    "# %env OPENMC_CROSS_SECTIONS=/Users/jean.ragusa/repo/nndc_hdf5/cross_sections.xml"
   ]
  },
  {
   "cell_type": "markdown",
   "id": "2c4cc894-d588-41ec-ab1b-439a52285040",
   "metadata": {},
   "source": [
    "### Pablo Environnement"
   ]
  },
  {
   "cell_type": "code",
   "execution_count": 129,
   "id": "87b5efdc",
   "metadata": {},
   "outputs": [
    {
     "name": "stdout",
     "output_type": "stream",
     "text": [
      "env: OPENMC_CROSS_SECTIONS=/home/pablo/internship/xs_for_input/cross_sections.xml\n"
     ]
    }
   ],
   "source": [
    "import os\n",
    "\n",
    "%env OPENMC_CROSS_SECTIONS=/home/pablo/internship/xs_for_input/cross_sections.xml\n",
    "model=openmc.Model()\n",
    "\n",
    "clean_file_list = [\"model.xml\", \"materials.xml\", \"geometry.xml\",\"plots.xml\",\"geometry.xml\",\"settings.xml\",\"tallies.out\",\"summary.h5\",\"statepoint.50.h5\"]\n",
    "\n",
    "for file in clean_file_list :\n",
    "    path_file = os.path.join(os.getcwd(), file)\n",
    "    if os.path.exists(path_file):\n",
    "        os.remove(path_file)\n"
   ]
  },
  {
   "cell_type": "markdown",
   "id": "e3322b53",
   "metadata": {},
   "source": [
    "## Initialize empty model"
   ]
  },
  {
   "cell_type": "code",
   "execution_count": 130,
   "id": "a7683c29",
   "metadata": {},
   "outputs": [],
   "source": [
    "model = openmc.Model()"
   ]
  },
  {
   "cell_type": "markdown",
   "id": "14cd6acc",
   "metadata": {},
   "source": [
    "## Materials\n",
    "- name is optional\n",
    "\n",
    "- use `add_nuclide` for nuclides\n",
    "- use `add_element` for elements\n",
    "\n",
    "- do not forget $S(\\alpha,\\beta)$ when needed"
   ]
  },
  {
   "cell_type": "code",
   "execution_count": 131,
   "id": "5bab6838",
   "metadata": {},
   "outputs": [],
   "source": [
    "uo2 = openmc.Material(name='UO2')\n",
    "uo2.add_nuclide('U235', 0.03)\n",
    "uo2.add_nuclide('U238', 0.97)\n",
    "uo2.add_element('O', 2.0)\n",
    "uo2.set_density('g/cm3', 10.0)"
   ]
  },
  {
   "cell_type": "code",
   "execution_count": 132,
   "id": "25d45e41",
   "metadata": {},
   "outputs": [],
   "source": [
    "zirconium = openmc.Material(name='Zirc')\n",
    "zirconium.add_element('Zr', 1.0)\n",
    "zirconium.set_density('g/cm3', 6.6)"
   ]
  },
  {
   "cell_type": "code",
   "execution_count": 133,
   "id": "c21cefd9",
   "metadata": {},
   "outputs": [],
   "source": [
    "water = openmc.Material(name='H2O')\n",
    "water.add_element('H', 2.0)\n",
    "water.add_nuclide('O16', 1.0)\n",
    "water.set_density('g/cm3', 0.7)\n",
    "\n",
    "water.add_s_alpha_beta('c_H_in_H2O')"
   ]
  },
  {
   "cell_type": "code",
   "execution_count": 134,
   "id": "e162b90d",
   "metadata": {},
   "outputs": [],
   "source": [
    "model.materials = openmc.Materials([uo2, zirconium, water])"
   ]
  },
  {
   "cell_type": "code",
   "execution_count": 135,
   "id": "42fd7d0b",
   "metadata": {},
   "outputs": [
    {
     "name": "stdout",
     "output_type": "stream",
     "text": [
      "Material\n",
      "\tID             =\t10\n",
      "\tName           =\tUO2\n",
      "\tTemperature    =\tNone\n",
      "\tDensity        =\t10.0 [g/cm3]\n",
      "\tVolume         =\tNone [cm^3]\n",
      "\tDepletable     =\tTrue\n",
      "\tS(a,b) Tables  \n",
      "\tNuclides       \n",
      "\tU235           =\t0.03         [ao]\n",
      "\tU238           =\t0.97         [ao]\n",
      "\tO16            =\t1.9952412    [ao]\n",
      "\tO17            =\t0.000758     [ao]\n",
      "\tO18            =\t0.0040008    [ao]\n",
      "\n"
     ]
    }
   ],
   "source": [
    "print(uo2)"
   ]
  },
  {
   "cell_type": "markdown",
   "id": "1d83e291",
   "metadata": {},
   "source": [
    "## Geometry\n",
    "### Surfaces"
   ]
  },
  {
   "cell_type": "code",
   "execution_count": 136,
   "id": "bab4440c",
   "metadata": {},
   "outputs": [],
   "source": [
    "fuel_or = openmc.ZCylinder(r=0.39)\n",
    "clad_ir = openmc.ZCylinder(r=0.40)\n",
    "clad_or = openmc.ZCylinder(r=0.46)\n",
    "\n",
    "pitch  = 1.26\n",
    "left   = openmc.XPlane(x0 =-pitch/2, boundary_type='reflective')\n",
    "right  = openmc.XPlane(x0 = pitch/2, boundary_type='reflective')\n",
    "bottom = openmc.YPlane(y0 =-pitch/2, boundary_type='reflective')\n",
    "top    = openmc.YPlane(y0 = pitch/2, boundary_type='reflective')"
   ]
  },
  {
   "cell_type": "markdown",
   "id": "3a858708",
   "metadata": {},
   "source": [
    "### Regions based on surfaces"
   ]
  },
  {
   "cell_type": "code",
   "execution_count": 137,
   "id": "2e0b581e",
   "metadata": {},
   "outputs": [],
   "source": [
    "fuel_region  = -fuel_or\n",
    "gap_region   = +fuel_or & -clad_ir\n",
    "clad_region  = +clad_ir & -clad_or\n",
    "water_region = +left & -right & +bottom & -top & +clad_or"
   ]
  },
  {
   "cell_type": "code",
   "execution_count": 138,
   "id": "65478fdf",
   "metadata": {},
   "outputs": [
    {
     "name": "stdout",
     "output_type": "stream",
     "text": [
      "-22\n"
     ]
    }
   ],
   "source": [
    "print(fuel_region)"
   ]
  },
  {
   "cell_type": "markdown",
   "id": "523a4eb7",
   "metadata": {},
   "source": [
    "### Cells (= regions + materials)"
   ]
  },
  {
   "cell_type": "code",
   "execution_count": 139,
   "id": "ae6c180e",
   "metadata": {},
   "outputs": [],
   "source": [
    "fuel_cell = openmc.Cell(name='Fuel')\n",
    "fuel_cell.fill = uo2\n",
    "fuel_cell.region = fuel_region\n",
    "\n",
    "gap_cell = openmc.Cell(name='Gap')\n",
    "# gap.fill = 'void'\n",
    "gap_cell.region = gap_region\n",
    "\n",
    "clad_cell = openmc.Cell(name='Clad')\n",
    "clad_cell.fill = zirconium\n",
    "clad_cell.region = clad_region\n",
    "\n",
    "moderator_cell = openmc.Cell(name='Moderator')\n",
    "moderator_cell.fill = water\n",
    "moderator_cell.region = water_region"
   ]
  },
  {
   "cell_type": "code",
   "execution_count": 140,
   "id": "43cf0203",
   "metadata": {},
   "outputs": [
    {
     "name": "stdout",
     "output_type": "stream",
     "text": [
      "Cell\n",
      "\tID             =\t13\n",
      "\tName           =\tFuel\n",
      "\tFill           =\tMaterial 10\n",
      "\tRegion         =\t-22\n",
      "\tRotation       =\tNone\n",
      "\tTemperature    =\tNone\n",
      "\tTranslation    =\tNone\n",
      "\tVolume         =\tNone\n",
      "\n",
      "Cell\n",
      "\tID             =\t14\n",
      "\tName           =\tGap\n",
      "\tFill           =\tNone\n",
      "\tRegion         =\t(22 -23)\n",
      "\tRotation       =\tNone\n",
      "\tTranslation    =\tNone\n",
      "\tVolume         =\tNone\n",
      "\n"
     ]
    }
   ],
   "source": [
    "print(fuel_cell)\n",
    "print(gap_cell)"
   ]
  },
  {
   "cell_type": "markdown",
   "id": "23987d21",
   "metadata": {},
   "source": [
    "## Universes"
   ]
  },
  {
   "cell_type": "code",
   "execution_count": 141,
   "id": "e26de5c2",
   "metadata": {},
   "outputs": [],
   "source": [
    "root_universe = openmc.Universe(cells=(fuel_cell, gap_cell, \\\n",
    "                                       clad_cell, moderator_cell))"
   ]
  },
  {
   "cell_type": "code",
   "execution_count": 142,
   "id": "2541d9a1",
   "metadata": {},
   "outputs": [],
   "source": [
    "model.geometry = openmc.Geometry(root_universe)"
   ]
  },
  {
   "cell_type": "markdown",
   "id": "cb218544",
   "metadata": {},
   "source": [
    "## Exports to XML"
   ]
  },
  {
   "cell_type": "code",
   "execution_count": 143,
   "id": "0f75a8ba",
   "metadata": {},
   "outputs": [],
   "source": [
    "# model.geometry.export_to_xml()"
   ]
  },
  {
   "cell_type": "code",
   "execution_count": 144,
   "id": "d0fccb93",
   "metadata": {},
   "outputs": [],
   "source": [
    "# !cat geometry.xml"
   ]
  },
  {
   "cell_type": "markdown",
   "id": "bf34965e",
   "metadata": {},
   "source": [
    "## Simulations parameters"
   ]
  },
  {
   "cell_type": "code",
   "execution_count": 145,
   "id": "d3ff831d",
   "metadata": {},
   "outputs": [],
   "source": [
    "# Create a point source\n",
    "# point = openmc.stats.Point((0, 0, 0))\n",
    "# source = openmc.IndependentSource(space=point)\n",
    "\n",
    "# Create an initial uniform spatial source distribution over fissionable zones\n",
    "bounds = [-pitch/2, -pitch/2, -pitch/2, pitch/2, pitch/2, pitch/2]\n",
    "uniform_dist = openmc.stats.Box(bounds[:3], bounds[3:], only_fissionable=True)\n",
    "source = openmc.IndependentSource(space=uniform_dist)"
   ]
  },
  {
   "cell_type": "code",
   "execution_count": 146,
   "id": "27f4ba19",
   "metadata": {},
   "outputs": [],
   "source": [
    "batches = 50\n",
    "inactive = 10\n",
    "particles = 2500\n",
    "\n",
    "# Instantiate a Settings object\n",
    "settings = openmc.Settings()\n",
    "\n",
    "settings.source = source\n",
    "settings.batches = batches\n",
    "settings.inactive = inactive\n",
    "settings.particles = particles\n",
    "settings.run_mode = 'eigenvalue'\n",
    "settings.output = {'tallies': True}\n",
    "\n",
    "model.settings = settings\n",
    "# model.settings.export_to_xml()"
   ]
  },
  {
   "cell_type": "code",
   "execution_count": 147,
   "id": "100dd8fd",
   "metadata": {},
   "outputs": [],
   "source": [
    "# !cat settings.xml"
   ]
  },
  {
   "cell_type": "code",
   "execution_count": 148,
   "id": "1e6d23bb",
   "metadata": {},
   "outputs": [
    {
     "name": "stdout",
     "output_type": "stream",
     "text": [
      "CASMO-2\n",
      "CASMO-4\n",
      "CASMO-8\n",
      "CASMO-16\n",
      "CASMO-25\n",
      "CASMO-40\n",
      "VITAMIN-J-42\n",
      "SCALE-44\n",
      "MPACT-51\n",
      "MPACT-60\n",
      "MPACT-69\n",
      "CASMO-70\n",
      "XMAS-172\n",
      "VITAMIN-J-175\n",
      "SCALE-252\n",
      "TRIPOLI-315\n",
      "SHEM-361\n",
      "CCFE-709\n",
      "UKAEA-1102\n",
      "ECCO-1968\n"
     ]
    }
   ],
   "source": [
    "for key in openmc.mgxs.GROUP_STRUCTURES.keys():\n",
    "    print(key)"
   ]
  },
  {
   "cell_type": "code",
   "execution_count": 149,
   "id": "14a60f98",
   "metadata": {},
   "outputs": [],
   "source": [
    "#choose_group = openmc.mgxs.EnergyGroups(group_edges='XMAS-172')\n",
    "choose_group=openmc.mgxs.GROUP_STRUCTURES['XMAS-172']"
   ]
  },
  {
   "cell_type": "code",
   "execution_count": 150,
   "id": "46214a5a",
   "metadata": {},
   "outputs": [
    {
     "name": "stderr",
     "output_type": "stream",
     "text": [
      "/home/pablo/anaconda3/envs/openmc-env/lib/python3.12/site-packages/openmc/mgxs/library.py:401: RuntimeWarning: The P0 correction will be ignored since the scattering order 3 is greater than zero\n",
      "  warn(msg, RuntimeWarning)\n"
     ]
    }
   ],
   "source": [
    "mgxs_lib = openmc.mgxs.Library(model.geometry)\n",
    "groups = openmc.mgxs.EnergyGroups(choose_group)\n",
    "mgxs_lib.energy_groups = groups\n",
    "mgxs_lib.scatter_format = \"legendre\"\n",
    "mgxs_lib.legendre_order = 3\n",
    "mgxs_lib.mgxs_types = ['total', 'absorption', 'fission', 'nu-fission', 'chi', 'scatter matrix', 'nu-scatter matrix', 'inverse-velocity']\n",
    "mgxs_lib.tally_trigger =openmc.Trigger('std_dev', 1e-2)\n",
    "mgxs_lib.by_nuclide = False\n",
    "mgxs_lib.domain_type = 'cell'\n",
    "mgxs_lib.domains = model.geometry.get_all_material_cells().values()\n",
    "mgxs_lib.build_library()\n",
    "tallies = openmc.Tallies()\n",
    "mgxs_lib.add_to_tallies_file(tallies, merge=True)\n",
    "#tally_flux.merge_tallies()\n",
    "model.tallies = tallies\n",
    "#print(model.tallies)"
   ]
  },
  {
   "cell_type": "markdown",
   "id": "5cb530f0",
   "metadata": {},
   "source": [
    "## Run OpenMC"
   ]
  },
  {
   "cell_type": "code",
   "execution_count": 151,
   "id": "338ac42e",
   "metadata": {},
   "outputs": [
    {
     "name": "stderr",
     "output_type": "stream",
     "text": [
      "/home/pablo/anaconda3/envs/openmc-env/lib/python3.12/site-packages/openmc/mixin.py:70: IDWarning: Another Filter instance already exists with id=391.\n",
      "  warn(msg, IDWarning)\n",
      "/home/pablo/anaconda3/envs/openmc-env/lib/python3.12/site-packages/openmc/mixin.py:70: IDWarning: Another Filter instance already exists with id=298.\n",
      "  warn(msg, IDWarning)\n",
      "/home/pablo/anaconda3/envs/openmc-env/lib/python3.12/site-packages/openmc/mixin.py:70: IDWarning: Another Filter instance already exists with id=306.\n",
      "  warn(msg, IDWarning)\n"
     ]
    },
    {
     "name": "stdout",
     "output_type": "stream",
     "text": [
      "[Machine2:07635] mca_base_component_repository_open: unable to open mca_btl_openib: librdmacm.so.1: cannot open shared object file: No such file or directory (ignored)\n",
      "                                %%%%%%%%%%%%%%%\n",
      "                           %%%%%%%%%%%%%%%%%%%%%%%%\n",
      "                        %%%%%%%%%%%%%%%%%%%%%%%%%%%%%%\n",
      "                      %%%%%%%%%%%%%%%%%%%%%%%%%%%%%%%%%%\n",
      "                    %%%%%%%%%%%%%%%%%%%%%%%%%%%%%%%%%%%%%%\n",
      "                   %%%%%%%%%%%%%%%%%%%%%%%%%%%%%%%%%%%%%%%%\n",
      "                                    %%%%%%%%%%%%%%%%%%%%%%%%\n",
      "                                     %%%%%%%%%%%%%%%%%%%%%%%%\n",
      "                 ###############      %%%%%%%%%%%%%%%%%%%%%%%%\n",
      "                ##################     %%%%%%%%%%%%%%%%%%%%%%%\n",
      "                ###################     %%%%%%%%%%%%%%%%%%%%%%%\n",
      "                ####################     %%%%%%%%%%%%%%%%%%%%%%\n",
      "                #####################     %%%%%%%%%%%%%%%%%%%%%\n",
      "                ######################     %%%%%%%%%%%%%%%%%%%%\n",
      "                #######################     %%%%%%%%%%%%%%%%%%\n",
      "                 #######################     %%%%%%%%%%%%%%%%%\n",
      "                 ######################     %%%%%%%%%%%%%%%%%\n",
      "                  ####################     %%%%%%%%%%%%%%%%%\n",
      "                    #################     %%%%%%%%%%%%%%%%%\n",
      "                     ###############     %%%%%%%%%%%%%%%%\n",
      "                       ############     %%%%%%%%%%%%%%%\n",
      "                          ########     %%%%%%%%%%%%%%\n",
      "                                      %%%%%%%%%%%\n",
      "\n",
      "                 | The OpenMC Monte Carlo Code\n",
      "       Copyright | 2011-2023 MIT, UChicago Argonne LLC, and contributors\n",
      "         License | https://docs.openmc.org/en/latest/license.html\n",
      "         Version | 0.14.0\n",
      "        Git SHA1 | e1a8ee7794b441c992426f17fafe216391cbba83\n",
      "       Date/Time | 2024-05-15 16:12:40\n",
      "   MPI Processes | 1\n",
      "  OpenMP Threads | 5\n",
      "\n",
      " Reading model XML file './model.xml' ...\n",
      " Reading cross sections XML file...\n",
      " Reading U235 from /home/pablo/internship/xs_for_input/jeff-3.3-hdf5/U235.h5\n",
      " Reading U238 from /home/pablo/internship/xs_for_input/jeff-3.3-hdf5/U238.h5\n",
      " Reading O16 from /home/pablo/internship/xs_for_input/jeff-3.3-hdf5/O16.h5\n",
      " Reading O17 from /home/pablo/internship/xs_for_input/jeff-3.3-hdf5/O17.h5\n",
      " Reading O18 from /home/pablo/internship/xs_for_input/jeff-3.3-hdf5/O18.h5\n",
      " Reading Zr90 from /home/pablo/internship/xs_for_input/jeff-3.3-hdf5/Zr90.h5\n",
      " Reading Zr91 from /home/pablo/internship/xs_for_input/jeff-3.3-hdf5/Zr91.h5\n",
      " Reading Zr92 from /home/pablo/internship/xs_for_input/jeff-3.3-hdf5/Zr92.h5\n",
      " Reading Zr94 from /home/pablo/internship/xs_for_input/jeff-3.3-hdf5/Zr94.h5\n",
      " Reading Zr96 from /home/pablo/internship/xs_for_input/jeff-3.3-hdf5/Zr96.h5\n",
      " Reading H1 from /home/pablo/internship/xs_for_input/jeff-3.3-hdf5/H1.h5\n",
      " Reading H2 from /home/pablo/internship/xs_for_input/jeff-3.3-hdf5/H2.h5\n",
      " Reading c_H_in_H2O from\n",
      " /home/pablo/internship/xs_for_input/jeff-3.3-hdf5/c_H_in_H2O.h5\n",
      " Minimum neutron data temperature: 294 K\n",
      " Maximum neutron data temperature: 294 K\n",
      " Preparing distributed cell instances...\n",
      " Writing summary.h5 file...\n",
      " Maximum neutron transport energy: 20000000 eV for O17\n",
      " Initializing source particles...\n",
      "\n",
      " ====================>     K EIGENVALUE SIMULATION     <====================\n",
      "\n",
      "  Bat./Gen.      k            Average k\n",
      "  =========   ========   ====================\n",
      "        1/1    1.32911\n",
      "        2/1    1.32225\n",
      "        3/1    1.36510\n",
      "        4/1    1.36241\n",
      "        5/1    1.36790\n",
      "        6/1    1.34877\n",
      "        7/1    1.38215\n",
      "        8/1    1.35701\n",
      "        9/1    1.43116\n",
      "       10/1    1.40150\n",
      "       11/1    1.40826\n",
      "       12/1    1.30511    1.35669 +/- 0.05158\n",
      "       13/1    1.34009    1.35116 +/- 0.03029\n",
      "       14/1    1.38296    1.35911 +/- 0.02284\n",
      "       15/1    1.39215    1.36572 +/- 0.01889\n",
      "       16/1    1.37132    1.36665 +/- 0.01545\n",
      "       17/1    1.29894    1.35698 +/- 0.01625\n",
      "       18/1    1.35097    1.35623 +/- 0.01409\n",
      "       19/1    1.31546    1.35170 +/- 0.01323\n",
      "       20/1    1.35577    1.35210 +/- 0.01184\n",
      "       21/1    1.30712    1.34801 +/- 0.01146\n",
      "       22/1    1.28500    1.34276 +/- 0.01171\n",
      "       23/1    1.41845    1.34859 +/- 0.01224\n",
      "       24/1    1.39655    1.35201 +/- 0.01184\n",
      "       25/1    1.40316    1.35542 +/- 0.01154\n",
      "       26/1    1.32649    1.35361 +/- 0.01094\n",
      "       27/1    1.39944    1.35631 +/- 0.01063\n",
      "       28/1    1.40335    1.35892 +/- 0.01036\n",
      "       29/1    1.38637    1.36037 +/- 0.00990\n",
      "       30/1    1.31246    1.35797 +/- 0.00969\n",
      "       31/1    1.35003    1.35759 +/- 0.00923\n",
      "       32/1    1.29889    1.35493 +/- 0.00919\n",
      "       33/1    1.36842    1.35551 +/- 0.00881\n",
      "       34/1    1.32890    1.35440 +/- 0.00850\n",
      "       35/1    1.42153    1.35709 +/- 0.00859\n",
      "       36/1    1.40971    1.35911 +/- 0.00849\n",
      "       37/1    1.34607    1.35863 +/- 0.00819\n",
      "       38/1    1.33956    1.35795 +/- 0.00792\n",
      "       39/1    1.43242    1.36052 +/- 0.00806\n",
      "       40/1    1.35807    1.36044 +/- 0.00779\n",
      "       41/1    1.30209    1.35855 +/- 0.00776\n",
      "       42/1    1.37655    1.35912 +/- 0.00754\n",
      "       43/1    1.43078    1.36129 +/- 0.00762\n",
      "       44/1    1.38973    1.36212 +/- 0.00744\n",
      "       45/1    1.37741    1.36256 +/- 0.00724\n",
      "       46/1    1.40221    1.36366 +/- 0.00712\n",
      "       47/1    1.39686    1.36456 +/- 0.00698\n",
      "       48/1    1.30052    1.36287 +/- 0.00700\n",
      "       49/1    1.31420    1.36163 +/- 0.00693\n",
      "       50/1    1.31611    1.36049 +/- 0.00685\n",
      " Creating state point statepoint.50.h5...\n",
      "\n",
      " =======================>     TIMING STATISTICS     <=======================\n",
      "\n",
      " Total time for initialization     = 1.1572e+00 seconds\n",
      "   Reading cross sections          = 1.1403e+00 seconds\n",
      " Total time in simulation          = 2.5124e+00 seconds\n",
      "   Time in transport only          = 2.2672e+00 seconds\n",
      "   Time in inactive batches        = 3.2773e-01 seconds\n",
      "   Time in active batches          = 2.1847e+00 seconds\n",
      "   Time synchronizing fission bank = 6.4983e-03 seconds\n",
      "     Sampling source sites         = 5.3874e-03 seconds\n",
      "     SEND/RECV source sites        = 8.4495e-04 seconds\n",
      "   Time accumulating tallies       = 1.8447e-01 seconds\n",
      "   Time writing statepoints        = 4.0773e-02 seconds\n",
      " Total time for finalization       = 7.2572e-01 seconds\n",
      " Total time elapsed                = 4.4065e+00 seconds\n",
      " Calculation Rate (inactive)       = 76282.4 particles/second\n",
      " Calculation Rate (active)         = 45773.2 particles/second\n",
      "\n",
      " ============================>     RESULTS     <============================\n",
      "\n",
      " k-effective (Collision)     = 1.36605 +/- 0.00527\n",
      " k-effective (Track-length)  = 1.36049 +/- 0.00685\n",
      " k-effective (Absorption)    = 1.36263 +/- 0.00308\n",
      " Combined k-effective        = 1.36257 +/- 0.00327\n",
      " Leakage Fraction            = 0.00000 +/- 0.00000\n",
      "\n"
     ]
    }
   ],
   "source": [
    "sp_file = model.run()"
   ]
  },
  {
   "cell_type": "code",
   "execution_count": 152,
   "id": "c43c378f",
   "metadata": {},
   "outputs": [
    {
     "name": "stdout",
     "output_type": "stream",
     "text": [
      "total 74576\n",
      "drwxrwxr-x 5 pablo pablo     4096 May 15 15:36 ..\n",
      "drwxrwxr-x 2 pablo pablo     4096 May 15 15:37 .ipynb_checkpoints\n",
      "-rw-rw-r-- 1 pablo pablo   110251 May 15 16:11 pincell_mgxs_openmc_v1_draft.ipynb\n",
      "-rw-rw-r-- 1 pablo pablo     9158 May 15 16:12 model.xml\n",
      "-rw-rw-r-- 1 pablo pablo    47976 May 15 16:12 summary.h5\n",
      "-rw-rw-r-- 1 pablo pablo 11736400 May 15 16:12 statepoint.50.h5\n",
      "drwxrwxr-x 3 pablo pablo     4096 May 15 16:12 .\n",
      "-rw-rw-r-- 1 pablo pablo 64439756 May 15 16:12 tallies.out\n"
     ]
    }
   ],
   "source": [
    "!ls -lart\n"
   ]
  },
  {
   "cell_type": "markdown",
   "id": "d3eace41",
   "metadata": {},
   "source": [
    "## Tally data processing"
   ]
  },
  {
   "cell_type": "code",
   "execution_count": 153,
   "id": "d9290f85",
   "metadata": {},
   "outputs": [],
   "source": [
    "# Load the last statepoint file\n",
    "sp = openmc.StatePoint(sp_file)"
   ]
  },
  {
   "cell_type": "code",
   "execution_count": 154,
   "id": "d7162e94",
   "metadata": {},
   "outputs": [
    {
     "data": {
      "text/plain": [
       "{566: Tally\n",
       " \tID             =\t566\n",
       " \tName           =\t\n",
       " \tFilters        =\tCellFilter, EnergyFilter\n",
       " \tNuclides       =\ttotal\n",
       " \tScores         =\t['flux', 'total', 'absorption', 'fission', 'nu-fission', 'inverse-velocity']\n",
       " \tEstimator      =\ttracklength\n",
       " \tMultiply dens. =\tTrue,\n",
       " 553: Tally\n",
       " \tID             =\t553\n",
       " \tName           =\t\n",
       " \tFilters        =\tCellFilter, EnergyFilter\n",
       " \tNuclides       =\ttotal\n",
       " \tScores         =\t['nu-fission']\n",
       " \tEstimator      =\tanalog\n",
       " \tMultiply dens. =\tTrue,\n",
       " 554: Tally\n",
       " \tID             =\t554\n",
       " \tName           =\t\n",
       " \tFilters        =\tCellFilter, EnergyoutFilter\n",
       " \tNuclides       =\ttotal\n",
       " \tScores         =\t['nu-fission']\n",
       " \tEstimator      =\tanalog\n",
       " \tMultiply dens. =\tTrue,\n",
       " 561: Tally\n",
       " \tID             =\t561\n",
       " \tName           =\t\n",
       " \tFilters        =\tCellFilter, EnergyFilter\n",
       " \tNuclides       =\ttotal\n",
       " \tScores         =\t['flux']\n",
       " \tEstimator      =\tanalog\n",
       " \tMultiply dens. =\tTrue,\n",
       " 562: Tally\n",
       " \tID             =\t562\n",
       " \tName           =\t\n",
       " \tFilters        =\tCellFilter, EnergyFilter, EnergyoutFilter, LegendreFilter\n",
       " \tNuclides       =\ttotal\n",
       " \tScores         =\t['scatter', 'nu-scatter']\n",
       " \tEstimator      =\tanalog\n",
       " \tMultiply dens. =\tTrue}"
      ]
     },
     "execution_count": 154,
     "metadata": {},
     "output_type": "execute_result"
    }
   ],
   "source": [
    "sp.tallies"
   ]
  },
  {
   "cell_type": "code",
   "execution_count": 155,
   "id": "5fef03fe-413a-40b5-85be-0aef002700a0",
   "metadata": {},
   "outputs": [
    {
     "name": "stdout",
     "output_type": "stream",
     "text": [
      "0\n",
      "2\n",
      "1\n"
     ]
    },
    {
     "data": {
      "image/png": "[encoded data removed]",
      "text/plain": [
       "<Figure size 640x480 with 1 Axes>"
      ]
     },
     "metadata": {},
     "output_type": "display_data"
    }
   ],
   "source": [
    "from matplotlib.ticker import FixedLocator\n",
    "from matplotlib.ticker import LogLocator\n",
    "\n",
    "#Enter the name of the cell type string// example: fuel_cell = openmc.Cell(name='Fuel') ///\n",
    "cell_plot=['Fuel','Moderator','Clad']\n",
    "\n",
    "\n",
    "sp = openmc.StatePoint(sp_file)\n",
    "sp.tallies\n",
    "tally_flux_id=[]\n",
    "for index, tally in enumerate(sp.tallies):\n",
    "    if sp.tallies[tally].scores==['flux']:\n",
    "        t=sp.tallies[tally]\n",
    "\n",
    "def flux_cell(cell):\n",
    "    \n",
    "    cell_index = 99\n",
    "    cell_id=99\n",
    "    # print(model.geometry.get_all_material_cells().values())\n",
    "    i=0\n",
    "    for all_cell in model.geometry.get_all_material_cells().values():\n",
    "        i=i+1\n",
    "        if all_cell.name==cell:\n",
    "            cell_index=all_cell.id\n",
    "            cell_id=i-1\n",
    "            print(cell_id)\n",
    "            \n",
    "    tally_data_reshaped =t.get_reshaped_data()\n",
    "    flux=tally_data_reshaped[cell_id]\n",
    "    \n",
    "    liste_reduced = []\n",
    "    for under_liste in flux:\n",
    "        nombre = under_liste[0][0]\n",
    "        liste_reduced.append(nombre)\n",
    "    flux=liste_reduced\n",
    "    return(flux)\n",
    "    \n",
    "\n",
    "dE=np.diff(choose_group)\n",
    "Emid=choose_group[:-1]+dE/2\n",
    "\n",
    "fig, ax = plt.subplots()\n",
    "for i,cell in enumerate(cell_plot):\n",
    "    flux=flux_cell(cell_plot[i])    \n",
    "    mg_spectrum=flux / np.sum(flux)\n",
    "    ax.step(choose_group[:-1], Emid*mg_spectrum/dE, where='post', label=cell_plot[i])\n",
    "ax.set_xscale('log')\n",
    "ax.xaxis.set_major_locator(FixedLocator(locs=np.logspace(-5, 7, 13)))\n",
    "locmin=LogLocator(base=10,subs=np.linspace(0,1.0,11)[1:-1],numticks=1000)\n",
    "ax.xaxis.set_minor_locator(locmin)\n",
    "ax.set_xlabel('Energy [eV]')\n",
    "ax.set_ylabel('Flux [n-cm/eV-src]')\n",
    "ax.grid()\n",
    "ax.legend()\n",
    "plt.show()\n"
   ]
  },
  {
   "cell_type": "markdown",
   "id": "5f50c054-d596-4d0b-8589-b2e2ec1a3ed1",
   "metadata": {},
   "source": [
    "### Print MGXS"
   ]
  },
  {
   "cell_type": "code",
   "execution_count": 156,
   "id": "82b5f065",
   "metadata": {},
   "outputs": [
    {
     "name": "stdout",
     "output_type": "stream",
     "text": [
      "Multi-Group XS\n",
      "\tReaction Type  =\ttotal\n",
      "\tDomain Type    =\tcell\n",
      "\tDomain ID      =\t13\n",
      "\tCross Sections [cm^-1]:\n",
      "            Group 1 [17332500.0 - 19640300.0eV]:\t0.00e+00 +/- 0.00e+00%\n",
      "            Group 2 [14918200.0 - 17332500.0eV]:\t2.05e-01 +/- 1.41e+02%\n",
      "            Group 3 [13840300.0 - 14918200.0eV]:\t2.03e-01 +/- 7.15e+01%\n",
      "            Group 4 [11618300.0 - 13840300.0eV]:\t2.02e-01 +/- 4.28e+01%\n",
      "            Group 5 [10000000.0 - 11618300.0eV]:\t1.91e-01 +/- 1.75e+01%\n",
      "            Group 6 [8187310.0  - 10000000.0eV]:\t1.91e-01 +/- 8.54e+00%\n",
      "            Group 7 [6703200.0  - 8187310.0 eV]:\t1.97e-01 +/- 5.71e+00%\n",
      "            Group 8 [6065310.0  - 6703200.0 eV]:\t1.97e-01 +/- 4.50e+00%\n",
      "            Group 9 [5488120.0  - 6065310.0 eV]:\t2.24e-01 +/- 4.83e+00%\n",
      "            Group 10 [4493290.0  - 5488120.0 eV]:\t2.29e-01 +/- 3.31e+00%\n",
      "            Group 11 [3678790.0  - 4493290.0 eV]:\t2.74e-01 +/- 2.43e+00%\n",
      "            Group 12 [3011940.0  - 3678790.0 eV]:\t2.90e-01 +/- 1.84e+00%\n",
      "            Group 13 [2465970.0  - 3011940.0 eV]:\t2.23e-01 +/- 1.81e+00%\n",
      "            Group 14 [2231300.0  - 2465970.0 eV]:\t1.95e-01 +/- 1.97e+00%\n",
      "            Group 15 [2018970.0  - 2231300.0 eV]:\t2.28e-01 +/- 2.23e+00%\n",
      "            Group 16 [1652990.0  - 2018970.0 eV]:\t2.47e-01 +/- 1.61e+00%\n",
      "            Group 17 [1353350.0  - 1652990.0 eV]:\t2.58e-01 +/- 1.47e+00%\n",
      "            Group 18 [1224560.0  - 1353350.0 eV]:\t3.31e-01 +/- 2.09e+00%\n",
      "            Group 19 [1108030.0  - 1224560.0 eV]:\t2.85e-01 +/- 2.08e+00%\n",
      "            Group 20 [1002590.0  - 1108030.0 eV]:\t3.91e-01 +/- 2.07e+00%\n",
      "            Group 21 [907180.0   - 1002590.0 eV]:\t4.01e-01 +/- 2.05e+00%\n",
      "            Group 22 [820850.0   - 907180.0  eV]:\t2.94e-01 +/- 1.78e+00%\n",
      "            Group 23 [608101.0   - 820850.0  eV]:\t2.98e-01 +/- 1.02e+00%\n",
      "            Group 24 [550232.0   - 608101.0  eV]:\t3.26e-01 +/- 2.04e+00%\n",
      "            Group 25 [497871.0   - 550232.0  eV]:\t3.61e-01 +/- 1.97e+00%\n",
      "            Group 26 [450492.0   - 497871.0  eV]:\t5.00e-01 +/- 1.61e+00%\n",
      "            Group 27 [407622.0   - 450492.0  eV]:\t7.89e-01 +/- 1.76e+00%\n",
      "            Group 28 [301974.0   - 407622.0  eV]:\t4.02e-01 +/- 8.90e-01%\n",
      "            Group 29 [273237.0   - 301974.0  eV]:\t3.74e-01 +/- 1.45e+00%\n",
      "            Group 30 [247235.0   - 273237.0  eV]:\t3.78e-01 +/- 2.35e+00%\n",
      "            Group 31 [183156.0   - 247235.0  eV]:\t3.89e-01 +/- 1.06e+00%\n",
      "            Group 32 [122773.0   - 183156.0  eV]:\t4.09e-01 +/- 1.14e+00%\n",
      "            Group 33 [111090.0   - 122773.0  eV]:\t4.21e-01 +/- 2.09e+00%\n",
      "            Group 34 [82297.5    - 111090.0  eV]:\t4.32e-01 +/- 1.64e+00%\n",
      "            Group 35 [67379.5    - 82297.5   eV]:\t4.44e-01 +/- 1.68e+00%\n",
      "            Group 36 [55165.6    - 67379.5   eV]:\t4.48e-01 +/- 1.49e+00%\n",
      "            Group 37 [40867.7    - 55165.6   eV]:\t4.55e-01 +/- 1.65e+00%\n",
      "            Group 38 [36978.6    - 40867.7   eV]:\t4.60e-01 +/- 2.16e+00%\n",
      "            Group 39 [29283.0    - 36978.6   eV]:\t4.65e-01 +/- 1.45e+00%\n",
      "            Group 40 [27394.4    - 29283.0   eV]:\t4.67e-01 +/- 3.32e+00%\n",
      "            Group 41 [24787.5    - 27394.4   eV]:\t4.70e-01 +/- 2.25e+00%\n",
      "            Group 42 [16615.6    - 24787.5   eV]:\t4.82e-01 +/- 1.15e+00%\n",
      "            Group 43 [15034.4    - 16615.6   eV]:\t4.88e-01 +/- 3.01e+00%\n",
      "            Group 44 [11137.8    - 15034.4   eV]:\t4.95e-01 +/- 1.63e+00%\n",
      "            Group 45 [9118.82    - 11137.8   eV]:\t4.87e-01 +/- 1.92e+00%\n",
      "            Group 46 [7465.86    - 9118.82   eV]:\t4.96e-01 +/- 2.03e+00%\n",
      "            Group 47 [5530.84    - 7465.86   eV]:\t5.01e-01 +/- 1.62e+00%\n",
      "            Group 48 [5004.51    - 5530.84   eV]:\t4.80e-01 +/- 2.63e+00%\n",
      "            Group 49 [3526.62    - 5004.51   eV]:\t5.23e-01 +/- 1.39e+00%\n",
      "            Group 50 [3354.63    - 3526.62   eV]:\t5.48e-01 +/- 3.21e+00%\n",
      "            Group 51 [2248.67    - 3354.63   eV]:\t5.41e-01 +/- 1.18e+00%\n",
      "            Group 52 [2034.68    - 2248.67   eV]:\t5.23e-01 +/- 3.02e+00%\n",
      "            Group 53 [1507.33    - 2034.68   eV]:\t5.28e-01 +/- 1.87e+00%\n",
      "            Group 54 [1433.82    - 1507.33   eV]:\t4.60e-01 +/- 3.67e+00%\n",
      "            Group 55 [1234.1     - 1433.82   eV]:\t5.06e-01 +/- 1.92e+00%\n",
      "            Group 56 [1010.39    - 1234.1    eV]:\t5.14e-01 +/- 1.68e+00%\n",
      "            Group 57 [914.242    - 1010.39   eV]:\t5.46e-01 +/- 2.44e+00%\n",
      "            Group 58 [748.518    - 914.242   eV]:\t4.78e-01 +/- 2.27e+00%\n",
      "            Group 59 [677.287    - 748.518   eV]:\t5.02e-01 +/- 2.67e+00%\n",
      "            Group 60 [453.999    - 677.287   eV]:\t4.97e-01 +/- 1.16e+00%\n",
      "            Group 61 [371.703    - 453.999   eV]:\t4.93e-01 +/- 2.16e+00%\n",
      "            Group 62 [304.325    - 371.703   eV]:\t5.00e-01 +/- 1.85e+00%\n",
      "            Group 63 [203.995    - 304.325   eV]:\t5.73e-01 +/- 1.42e+00%\n",
      "            Group 64 [148.625    - 203.995   eV]:\t5.61e-01 +/- 1.46e+00%\n",
      "            Group 65 [136.742    - 148.625   eV]:\t4.75e-01 +/- 3.40e+00%\n",
      "            Group 66 [91.6609    - 136.742   eV]:\t6.30e-01 +/- 1.61e+00%\n",
      "            Group 67 [75.6736    - 91.6609   eV]:\t4.83e-01 +/- 1.90e+00%\n",
      "            Group 68 [67.9041    - 75.6736   eV]:\t5.24e-01 +/- 2.38e+00%\n",
      "            Group 69 [55.5951    - 67.9041   eV]:\t6.12e-01 +/- 2.06e+00%\n",
      "            Group 70 [51.578     - 55.5951   eV]:\t4.64e-01 +/- 2.95e+00%\n",
      "            Group 71 [48.2516    - 51.578    eV]:\t4.98e-01 +/- 2.74e+00%\n",
      "            Group 72 [45.5174    - 48.2516   eV]:\t4.97e-01 +/- 2.80e+00%\n",
      "            Group 73 [40.169     - 45.5174   eV]:\t5.74e-01 +/- 2.12e+00%\n",
      "            Group 74 [37.2665    - 40.169    eV]:\t1.12e+00 +/- 3.31e+00%\n",
      "            Group 75 [33.7201    - 37.2665   eV]:\t1.45e+00 +/- 3.45e+00%\n",
      "            Group 76 [30.5113    - 33.7201   eV]:\t3.68e-01 +/- 3.24e+00%\n",
      "            Group 77 [27.6077    - 30.5113   eV]:\t3.84e-01 +/- 3.03e+00%\n",
      "            Group 78 [24.9805    - 27.6077   eV]:\t4.34e-01 +/- 2.92e+00%\n",
      "            Group 79 [22.6033    - 24.9805   eV]:\t5.42e-01 +/- 2.84e+00%\n",
      "            Group 80 [19.4548    - 22.6033   eV]:\t1.25e+00 +/- 2.67e+00%\n",
      "            Group 81 [15.9283    - 19.4548   eV]:\t3.99e-01 +/- 1.82e+00%\n",
      "            Group 82 [13.7096    - 15.9283   eV]:\t3.93e-01 +/- 2.93e+00%\n",
      "            Group 83 [11.2245    - 13.7096   eV]:\t4.58e-01 +/- 1.62e+00%\n",
      "            Group 84 [9.90555    - 11.2245   eV]:\t4.14e-01 +/- 2.29e+00%\n",
      "            Group 85 [9.18981    - 9.90555   eV]:\t4.48e-01 +/- 3.16e+00%\n",
      "            Group 86 [8.31529    - 9.18981   eV]:\t6.01e-01 +/- 2.94e+00%\n",
      "            Group 87 [7.52398    - 8.31529   eV]:\t4.83e-01 +/- 2.70e+00%\n",
      "            Group 88 [6.16012    - 7.52398   eV]:\t1.51e+00 +/- 2.06e+00%\n",
      "            Group 89 [5.34643    - 6.16012   eV]:\t4.43e-01 +/- 2.44e+00%\n",
      "            Group 90 [5.04348    - 5.34643   eV]:\t3.87e-01 +/- 3.77e+00%\n",
      "            Group 91 [4.12925    - 5.04348   eV]:\t3.97e-01 +/- 2.47e+00%\n",
      "            Group 92 [4.0        - 4.12925   eV]:\t3.78e-01 +/- 5.15e+00%\n",
      "            Group 93 [3.38075    - 4.0       eV]:\t4.08e-01 +/- 2.04e+00%\n",
      "            Group 94 [3.3        - 3.38075   eV]:\t3.93e-01 +/- 5.31e+00%\n",
      "            Group 95 [2.76792    - 3.3       eV]:\t4.02e-01 +/- 1.70e+00%\n",
      "            Group 96 [2.72       - 2.76792   eV]:\t3.87e-01 +/- 5.56e+00%\n",
      "            Group 97 [2.6        - 2.72      eV]:\t3.87e-01 +/- 3.59e+00%\n",
      "            Group 98 [2.55       - 2.6       eV]:\t3.88e-01 +/- 6.87e+00%\n",
      "            Group 99 [2.36       - 2.55      eV]:\t3.89e-01 +/- 3.67e+00%\n",
      "            Group 100 [2.13       - 2.36      eV]:\t3.91e-01 +/- 3.24e+00%\n",
      "            Group 101 [2.1        - 2.13      eV]:\t3.99e-01 +/- 6.56e+00%\n",
      "            Group 102 [2.02       - 2.1       eV]:\t4.26e-01 +/- 4.48e+00%\n",
      "            Group 103 [1.93       - 2.02      eV]:\t4.10e-01 +/- 3.87e+00%\n",
      "            Group 104 [1.84       - 1.93      eV]:\t3.95e-01 +/- 5.15e+00%\n",
      "            Group 105 [1.755      - 1.84      eV]:\t3.95e-01 +/- 5.56e+00%\n",
      "            Group 106 [1.67       - 1.755     eV]:\t3.95e-01 +/- 4.58e+00%\n",
      "            Group 107 [1.59       - 1.67      eV]:\t3.96e-01 +/- 4.20e+00%\n",
      "            Group 108 [1.5        - 1.59      eV]:\t3.97e-01 +/- 3.39e+00%\n",
      "            Group 109 [1.475      - 1.5       eV]:\t3.98e-01 +/- 6.77e+00%\n",
      "            Group 110 [1.44498    - 1.475     eV]:\t3.99e-01 +/- 5.61e+00%\n",
      "            Group 111 [1.37       - 1.44498   eV]:\t4.01e-01 +/- 4.13e+00%\n",
      "            Group 112 [1.3375     - 1.37      eV]:\t4.05e-01 +/- 5.33e+00%\n",
      "            Group 113 [1.3        - 1.3375    eV]:\t4.09e-01 +/- 6.22e+00%\n",
      "            Group 114 [1.235      - 1.3       eV]:\t4.15e-01 +/- 3.07e+00%\n",
      "            Group 115 [1.17       - 1.235     eV]:\t4.48e-01 +/- 3.35e+00%\n",
      "            Group 116 [1.15       - 1.17      eV]:\t4.79e-01 +/- 6.33e+00%\n",
      "            Group 117 [1.12535    - 1.15      eV]:\t4.86e-01 +/- 6.27e+00%\n",
      "            Group 118 [1.11       - 1.12535   eV]:\t4.83e-01 +/- 7.51e+00%\n",
      "            Group 119 [1.097      - 1.11      eV]:\t4.78e-01 +/- 7.31e+00%\n",
      "            Group 120 [1.071      - 1.097     eV]:\t4.68e-01 +/- 5.21e+00%\n",
      "            Group 121 [1.045      - 1.071     eV]:\t4.57e-01 +/- 5.43e+00%\n",
      "            Group 122 [1.035      - 1.045     eV]:\t4.50e-01 +/- 7.89e+00%\n",
      "            Group 123 [1.02       - 1.035     eV]:\t4.47e-01 +/- 8.08e+00%\n",
      "            Group 124 [0.996      - 1.02      eV]:\t4.42e-01 +/- 5.56e+00%\n",
      "            Group 125 [0.986      - 0.996     eV]:\t4.39e-01 +/- 8.11e+00%\n",
      "            Group 126 [0.972      - 0.986     eV]:\t4.38e-01 +/- 6.55e+00%\n",
      "            Group 127 [0.95       - 0.972     eV]:\t4.36e-01 +/- 6.64e+00%\n",
      "            Group 128 [0.93       - 0.95      eV]:\t4.34e-01 +/- 5.75e+00%\n",
      "            Group 129 [0.91       - 0.93      eV]:\t4.33e-01 +/- 5.65e+00%\n",
      "            Group 130 [0.86       - 0.91      eV]:\t4.32e-01 +/- 3.69e+00%\n",
      "            Group 131 [0.85       - 0.86      eV]:\t4.31e-01 +/- 8.15e+00%\n",
      "            Group 132 [0.79       - 0.85      eV]:\t4.32e-01 +/- 3.16e+00%\n",
      "            Group 133 [0.78       - 0.79      eV]:\t4.32e-01 +/- 4.88e+00%\n",
      "            Group 134 [0.705      - 0.78      eV]:\t4.34e-01 +/- 2.73e+00%\n",
      "            Group 135 [0.625      - 0.705     eV]:\t4.38e-01 +/- 2.39e+00%\n",
      "            Group 136 [0.54       - 0.625     eV]:\t4.46e-01 +/- 2.48e+00%\n",
      "            Group 137 [0.5        - 0.54      eV]:\t4.54e-01 +/- 3.77e+00%\n",
      "            Group 138 [0.485      - 0.5       eV]:\t4.59e-01 +/- 4.27e+00%\n",
      "            Group 139 [0.433      - 0.485     eV]:\t4.67e-01 +/- 2.86e+00%\n",
      "            Group 140 [0.4        - 0.433     eV]:\t4.81e-01 +/- 3.79e+00%\n",
      "            Group 141 [0.391      - 0.4       eV]:\t4.90e-01 +/- 5.82e+00%\n",
      "            Group 142 [0.35       - 0.391     eV]:\t5.04e-01 +/- 3.06e+00%\n",
      "            Group 143 [0.32       - 0.35      eV]:\t5.30e-01 +/- 2.60e+00%\n",
      "            Group 144 [0.3145     - 0.32      eV]:\t5.44e-01 +/- 6.98e+00%\n",
      "            Group 145 [0.3        - 0.3145    eV]:\t5.52e-01 +/- 3.34e+00%\n",
      "            Group 146 [0.28       - 0.3       eV]:\t5.61e-01 +/- 3.95e+00%\n",
      "            Group 147 [0.248      - 0.28      eV]:\t5.64e-01 +/- 2.23e+00%\n",
      "            Group 148 [0.22       - 0.248     eV]:\t5.56e-01 +/- 2.15e+00%\n",
      "            Group 149 [0.189      - 0.22      eV]:\t5.51e-01 +/- 2.19e+00%\n",
      "            Group 150 [0.18       - 0.189     eV]:\t5.53e-01 +/- 3.60e+00%\n",
      "            Group 151 [0.16       - 0.18      eV]:\t5.57e-01 +/- 2.66e+00%\n",
      "            Group 152 [0.14       - 0.16      eV]:\t5.67e-01 +/- 2.03e+00%\n",
      "            Group 153 [0.134      - 0.14      eV]:\t5.75e-01 +/- 3.13e+00%\n",
      "            Group 154 [0.115      - 0.134     eV]:\t5.86e-01 +/- 2.02e+00%\n",
      "            Group 155 [0.100001   - 0.115     eV]:\t6.04e-01 +/- 1.48e+00%\n",
      "            Group 156 [0.095      - 0.100001  eV]:\t6.18e-01 +/- 2.62e+00%\n",
      "            Group 157 [0.08       - 0.095     eV]:\t6.35e-01 +/- 1.81e+00%\n",
      "            Group 158 [0.077      - 0.08      eV]:\t6.51e-01 +/- 3.00e+00%\n",
      "            Group 159 [0.067      - 0.077     eV]:\t6.66e-01 +/- 1.71e+00%\n",
      "            Group 160 [0.058      - 0.067     eV]:\t6.92e-01 +/- 1.93e+00%\n",
      "            Group 161 [0.05       - 0.058     eV]:\t7.20e-01 +/- 1.77e+00%\n",
      "            Group 162 [0.042      - 0.05      eV]:\t7.54e-01 +/- 1.57e+00%\n",
      "            Group 163 [0.035      - 0.042     eV]:\t7.94e-01 +/- 1.70e+00%\n",
      "            Group 164 [0.03       - 0.035     eV]:\t8.35e-01 +/- 2.10e+00%\n",
      "            Group 165 [0.025      - 0.03      eV]:\t8.79e-01 +/- 1.69e+00%\n",
      "            Group 166 [0.02       - 0.025     eV]:\t9.38e-01 +/- 1.57e+00%\n",
      "            Group 167 [0.015      - 0.02      eV]:\t1.02e+00 +/- 1.91e+00%\n",
      "            Group 168 [0.01       - 0.015     eV]:\t1.14e+00 +/- 2.38e+00%\n",
      "            Group 169 [0.0069     - 0.01      eV]:\t1.32e+00 +/- 3.00e+00%\n",
      "            Group 170 [0.005      - 0.0069    eV]:\t1.51e+00 +/- 3.66e+00%\n",
      "            Group 171 [0.003      - 0.005     eV]:\t1.76e+00 +/- 4.96e+00%\n",
      "            Group 172 [1.00001e-05 - 0.003     eV]:\t2.46e+00 +/- 6.25e+00%\n",
      "\n",
      "\n",
      "\n"
     ]
    },
    {
     "name": "stderr",
     "output_type": "stream",
     "text": [
      "/home/pablo/anaconda3/envs/openmc-env/lib/python3.12/site-packages/openmc/tallies.py:1278: RuntimeWarning: invalid value encountered in divide\n",
      "  data = self.std_dev[indices] / self.mean[indices]\n"
     ]
    }
   ],
   "source": [
    "#Enter the name of the cell type (openmc.Cell) /// example: fuel_cell = openmc.Cell(name='Fuel') ///\n",
    "\n",
    "mgxs_lib.load_from_statepoint(sp)\n",
    "type(mgxs_lib)\n",
    "reaction_print = 'total'\n",
    "cell_print=fuel_cell\n",
    "df_mgxs = mgxs_lib.get_mgxs(cell_print, reaction_print)\n",
    "df_mgxs.print_xs()"
   ]
  },
  {
   "cell_type": "code",
   "execution_count": 157,
   "id": "c3abf7d8",
   "metadata": {},
   "outputs": [
    {
     "data": {
      "image/png": "[encoded data removed]",
      "text/plain": [
       "<Figure size 640x480 with 1 Axes>"
      ]
     },
     "metadata": {},
     "output_type": "display_data"
    }
   ],
   "source": [
    "#Enter the name of the cell type (openmc.Cell) /// example: fuel_cell = openmc.Cell(name='Fuel') ///\n",
    "\n",
    "reaction_plot = 'total'\n",
    "cell_plot_1 = fuel_cell\n",
    "cell_name_1='fuel'\n",
    "cell_plot_2 = moderator_cell\n",
    "cell_name_2='moderator'\n",
    "\n",
    "\n",
    "mgxs_plot_1 = mgxs_lib.get_mgxs(cell_plot_1, reaction_plot)\n",
    "\n",
    "mgxs1=mgxs_plot_1.get_pandas_dataframe(xs_type='macro')['mean'].values\n",
    "mgxs_plot_2 = mgxs_lib.get_mgxs(cell_plot_2, reaction_plot)\n",
    "mgxs2=mgxs_plot_2.get_pandas_dataframe(xs_type='macro')['mean'].values\n",
    "\n",
    "\n",
    "fig, ax = plt.subplots()\n",
    "ax.step(choose_group[:-1], np.flip(mgxs1), where='post', label=cell_name_1) \n",
    "ax.step(choose_group[:-1], np.flip(mgxs2), where='post', label=cell_name_2) \n",
    "\n",
    "        \n",
    "ax.set_xscale('log')\n",
    "ax.set_yscale('log')\n",
    "ax.set_xlabel('Energy [MeV]')\n",
    "ax.set_ylabel('MGXS [cm-1]')\n",
    "ax.grid() \n",
    "# bbox = ax.get_position()\n",
    "# ax.text(bbox.x1 - 0.05, bbox.y0 - 0.05, reaction_plot, fontsize=15, color='red', ha='right')\n",
    "ax.legend()\n",
    "plt.show()"
   ]
  },
  {
   "cell_type": "code",
   "execution_count": null,
   "id": "fe245d3e-4d51-444b-85fd-a5820c659773",
   "metadata": {},
   "outputs": [],
   "source": []
  }
 ],
 "metadata": {
  "kernelspec": {
   "display_name": "Python 3 (ipykernel)",
   "language": "python",
   "name": "python3"
  },
  "language_info": {
   "codemirror_mode": {
    "name": "ipython",
    "version": 3
   },
   "file_extension": ".py",
   "mimetype": "text/x-python",
   "name": "python",
   "nbconvert_exporter": "python",
   "pygments_lexer": "ipython3",
   "version": "3.12.3"
  }
 },
 "nbformat": 4,
 "nbformat_minor": 5
}
