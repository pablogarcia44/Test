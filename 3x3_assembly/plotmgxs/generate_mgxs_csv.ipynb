{
 "cells": [
  {
   "cell_type": "markdown",
   "id": "880099d7-f1e0-4a4f-9a03-3d4c52de6943",
   "metadata": {},
   "source": [
    "Import module/Set up XS path/Create openMC model/Clean directory"
   ]
  },
  {
   "cell_type": "code",
   "execution_count": 207,
   "id": "f259654c-b079-44cf-b9c3-02dac2e1bf70",
   "metadata": {},
   "outputs": [
    {
     "name": "stdout",
     "output_type": "stream",
     "text": [
      "env: OPENMC_CROSS_SECTIONS=/home/pablo/internship/xs_for_input/cross_sections.xml\n"
     ]
    }
   ],
   "source": [
    "import sys\n",
    "import os \n",
    "import openmc\n",
    "import numpy as np\n",
    "import matplotlib.pyplot as plt\n",
    "import openmc.mgxs as mgxs\n",
    "import pandas as pd\n",
    "from IPython.display import Image\n",
    "import glob\n",
    "\n",
    "%env OPENMC_CROSS_SECTIONS=/home/pablo/internship/xs_for_input/cross_sections.xml\n",
    "model=openmc.Model()\n",
    "\n",
    "clean_file_list = [\"model.xml\", \"materials.xml\", \"geometry.xml\",\"plots.xml\",\"geometry.xml\",\"settings.xml\",\"tallies.out\",\"summary.h5\",\"statepoint.50.h5\"]\n",
    "\n",
    "for file in clean_file_list :\n",
    "    path_file = os.path.join(os.getcwd(), file)\n",
    "    if os.path.exists(path_file):\n",
    "        os.remove(path_file)"
   ]
  },
  {
   "cell_type": "markdown",
   "id": "46d2334b-8f33-4956-96fd-5d58194b6ee4",
   "metadata": {},
   "source": [
    "Define Materials"
   ]
  },
  {
   "cell_type": "code",
   "execution_count": 208,
   "id": "50dee80c-d7a7-49e1-99ef-5094e87b5808",
   "metadata": {},
   "outputs": [],
   "source": [
    "uo2 = openmc.Material(name='uo2')\n",
    "uo2.add_nuclide('U235', 0.03)\n",
    "uo2.add_nuclide('U238', 0.97)\n",
    "uo2.add_nuclide('O16', 2.0)\n",
    "uo2.set_density('g/cm3', 10.0)\n",
    "zirconium = openmc.Material(name=\"zirconium\")\n",
    "zirconium.add_element('Zr', 1.0)\n",
    "zirconium.set_density('g/cm3', 6.6)\n",
    "helium=openmc.Material(name='helium')\n",
    "helium.add_element('helium',1)\n",
    "helium.set_density('g/cm3',8e-4)\n",
    "water = openmc.Material(name=\"water\")\n",
    "water.add_nuclide('H1', 2.0)\n",
    "water.add_nuclide('O16', 1.0)\n",
    "water.set_density('g/cm3', 1.0)\n",
    "water.add_s_alpha_beta('c_H_in_H2O')\n",
    "\n",
    "    \n",
    "model.materials = openmc.Materials([uo2, zirconium, water,helium]) \n",
    "model.materials.export_to_xml()"
   ]
  },
  {
   "cell_type": "markdown",
   "id": "ffd5255c-47f3-4394-836f-140dddeef018",
   "metadata": {},
   "source": [
    "Create pincell_in"
   ]
  },
  {
   "cell_type": "code",
   "execution_count": 209,
   "id": "ce67e753-777f-4ed7-a24c-89791d3d6b54",
   "metadata": {},
   "outputs": [],
   "source": [
    "fuel_outer_radius = openmc.ZCylinder(r=0.39)\n",
    "gap_outer_radius = openmc.ZCylinder(r=0.40)\n",
    "clad_outer_radius = openmc.ZCylinder(r=0.46)\n",
    "pitch = 1.26\n",
    "left = openmc.XPlane(-pitch/2, boundary_type='reflective')\n",
    "right = openmc.XPlane(pitch/2, boundary_type='reflective')\n",
    "bottom = openmc.YPlane(-pitch/2, boundary_type='reflective')\n",
    "top = openmc.YPlane(pitch/2, boundary_type='reflective')\n",
    "    \n",
    "fuel_region = -fuel_outer_radius\n",
    "gap_region = +fuel_outer_radius & -gap_outer_radius\n",
    "clad_region = +gap_outer_radius & -clad_outer_radius\n",
    "water_region = +left & -right & +bottom & -top & +clad_outer_radius\n",
    "    \n",
    "fuel_in = openmc.Cell(name='fuel_in')\n",
    "fuel_in.fill = uo2\n",
    "fuel_in.region = fuel_region\n",
    "gap_in = openmc.Cell(name='gap_in')\n",
    "gap_in.fill=helium\n",
    "gap_in.region = gap_region\n",
    "clad_in = openmc.Cell(name='clad_in')\n",
    "clad_in.fill = zirconium\n",
    "clad_in.region = clad_region\n",
    "moderator_in = openmc.Cell(name='moderator_in')\n",
    "moderator_in.fill = water\n",
    "moderator_in.region = water_region\n",
    "\n",
    "u_in = openmc.Universe(cells=(fuel_in, gap_in, clad_in, moderator_in))"
   ]
  },
  {
   "cell_type": "markdown",
   "id": "8ed9147c-243c-4755-b645-b834b344e8d3",
   "metadata": {},
   "source": [
    "Create pincell_out"
   ]
  },
  {
   "cell_type": "code",
   "execution_count": 210,
   "id": "543d7f0a-88d7-46b5-8bcd-11a83368f8e2",
   "metadata": {},
   "outputs": [],
   "source": [
    "fuel_out = openmc.Cell(name='fuel_out')\n",
    "fuel_out.fill = uo2\n",
    "fuel_out.region = fuel_region\n",
    "gap_out = openmc.Cell(name='gap_out')\n",
    "gap_out.fill=helium\n",
    "gap_out.region = gap_region\n",
    "clad_out = openmc.Cell(name='clad_out')\n",
    "clad_out.fill = zirconium\n",
    "clad_out.region = clad_region\n",
    "moderator_out = openmc.Cell(name='moderator_out')\n",
    "moderator_out.fill = water\n",
    "moderator_out.region = water_region\n",
    "    \n",
    "u_out = openmc.Universe(cells=(fuel_out, gap_out, clad_out, moderator_out))"
   ]
  },
  {
   "cell_type": "markdown",
   "id": "6367df82-7c94-493c-b736-10a8d34cf7de",
   "metadata": {},
   "source": [
    "Define assembly"
   ]
  },
  {
   "cell_type": "code",
   "execution_count": 211,
   "id": "1069e3ad-664b-4230-b4eb-f024e4117c52",
   "metadata": {},
   "outputs": [
    {
     "name": "stderr",
     "output_type": "stream",
     "text": [
      "/home/pablo/anaconda3/envs/openmc-env/lib/python3.12/site-packages/openmc/mixin.py:70: IDWarning: Another UniverseBase instance already exists with id=0.\n",
      "  warn(msg, IDWarning)\n"
     ]
    }
   ],
   "source": [
    "   assembly = openmc.RectLattice()\n",
    "assembly.lower_left = (-1.5*pitch, -1.5*pitch)\n",
    "assembly.pitch = (1.26, 1.26)\n",
    "assembly.universes = [[u_out, u_out, u_out],\n",
    "                      [u_out, u_in, u_out],\n",
    "                      [u_out, u_out, u_out]]\n",
    "            \n",
    "    \n",
    "    \n",
    "root_cell = openmc.Cell(name='root cell')\n",
    "root_cell.fill = assembly\n",
    "\n",
    "min_x = openmc.XPlane(x0=0., boundary_type='reflective')\n",
    "max_x = openmc.XPlane(x0=+1.5*pitch, boundary_type='reflective')\n",
    "min_y = openmc.YPlane(y0=-0., boundary_type='reflective')\n",
    "max_y = openmc.YPlane(y0=+1.5*pitch, boundary_type='reflective')\n",
    "min_z = openmc.ZPlane(z0=-10., boundary_type='reflective')\n",
    "max_z = openmc.ZPlane(z0=+10., boundary_type='reflective')\n",
    "root_cell.region = +min_x & -max_x & +min_y & -max_y & +min_z & -max_z\n",
    "    \n",
    "    \n",
    "root_universe = openmc.Universe(universe_id=0, name='root universe')\n",
    "root_universe.add_cell(root_cell)\n",
    "model.geometry = openmc.Geometry(root_universe)\n",
    "model.geometry.export_to_xml()\n"
   ]
  },
  {
   "cell_type": "markdown",
   "id": "cb57e6ef-e360-4240-b603-5c9388897f2f",
   "metadata": {},
   "source": [
    "Plot assembly"
   ]
  },
  {
   "cell_type": "code",
   "execution_count": 212,
   "id": "e0624b2a-f160-4fb4-8a69-995d9b7f7e65",
   "metadata": {},
   "outputs": [
    {
     "data": {
      "image/png": "[encoded data removed]",
      "text/plain": [
       "<IPython.core.display.Image object>"
      ]
     },
     "execution_count": 212,
     "metadata": {},
     "output_type": "execute_result"
    }
   ],
   "source": [
    "plot = openmc.Plot.from_geometry(model.geometry)\n",
    "plot.pixels = (500, 500)\n",
    "plot.width = (3*pitch, 3*pitch)\n",
    "plot.origin = (0., 0., 0)\n",
    "plot.color_by = 'cell'\n",
    "# plot.colors = {\n",
    "#     water: 'blue',\n",
    "#     zirconium: 'black',\n",
    "#     helium: 'yellow',\n",
    "#     uo2_in: (100, 0, 0),\n",
    "#     uo2_out: (255, 0, 0)\n",
    "# }\n",
    "plot.to_ipython_image()"
   ]
  },
  {
   "cell_type": "markdown",
   "id": "90c73240-9aae-4a8e-ab35-fbc68032fb85",
   "metadata": {},
   "source": [
    "Choose settings"
   ]
  },
  {
   "cell_type": "code",
   "execution_count": 213,
   "id": "42b13809-e8ac-45b5-8e4d-af2f00a57694",
   "metadata": {},
   "outputs": [],
   "source": [
    "source = openmc.IndependentSource()\n",
    "source.space = openmc.stats.Point((0.1,0.1,0.))\n",
    "source.angle = openmc.stats.Isotropic()\n",
    "source.energy = openmc.stats.Discrete([10.0e6], [1.0])\n",
    "source.time = openmc.stats.Uniform(0, 1e-6)\n",
    "settings = openmc.Settings()\n",
    "settings.source = source\n",
    "settings = openmc.Settings()\n",
    "settings.source = source\n",
    "settings.batches = 50\n",
    "settings.inactive = 10\n",
    "settings.particles = 1000\n",
    "settings.output = {'tallies':True}\n",
    "model.settings = settings\n",
    "model.settings.export_to_xml()"
   ]
  },
  {
   "cell_type": "markdown",
   "id": "b96eefd2-ddfd-4b96-a3fb-a32792a931d3",
   "metadata": {},
   "source": [
    "Create MGXS tallies"
   ]
  },
  {
   "cell_type": "code",
   "execution_count": 214,
   "id": "1fbd748d-d73b-4b45-b565-7e7dbe5de88e",
   "metadata": {},
   "outputs": [],
   "source": [
    "VIMS69=np.array([1e-11, 5e-09, 1e-08, 1.5e-08, 2e-08, 2.5e-08, 3e-08, 3.5e-08, 4.2e-08, 5e-08, 5.8e-08, 6.7e-08, 8e-08, 1e-07, 1.4e-07, 1.8e-07, 2.2e-07, 2.5e-07, 2.8e-07, 3e-07, 3.2e-07, 3.5e-07, 4e-07, 5e-07, 6.25e-07, 7.8e-07, 8.5e-07, 9.1e-07, 9.5e-07, 9.72e-07, 9.96e-07, 1.02e-06, 1.045e-06, 1.071e-06, 1.097e-06, 1.123e-06, 1.15e-06, 1.3e-06, 1.5e-06, 2.1e-06, 2.6e-06, 3.3e-06, 4e-06, 9.877e-06, 1.5968e-05, 2.77e-05, 4.8052e-05, 7.55014e-05, 0.000148729, 0.000367263, 0.000906899, 0.0014251, 0.00223945, 0.0035191, 0.00553, 0.009118, 0.01503, 0.02478, 0.04085, 0.06734, 0.111, 0.183, 0.3025, 0.5, 0.821, 1.353, 2.231, 3.679, 6.0655, 10.0])\n",
    "\n",
    "XMAS172=np.array([1.00001e-11, 3e-09, 5e-09, 6.9e-09, 1e-08, 1.5e-08, 2e-08, 2.5e-08, 3e-08, 3.5e-08, 4.2e-08, 5e-08, 5.8e-08, 6.7e-08, 7.7e-08, 8e-08, 9.5e-08, 1e-07, 1.15e-07, 1.34e-07, 1.4e-07, 1.6e-07, 1.8e-07, 1.89e-07, 2.2e-07, 2.48e-07, 2.8e-07, 3e-07, 3.145e-07, 3.2e-07, 3.5e-07, 3.91e-07, 4e-07, 4.33e-07, 4.85e-07, 5e-07, 5.4e-07, 6.25e-07, 7.05e-07, 7.8e-07, 7.9e-07, 8.5e-07, 8.6e-07, 9.1e-07, 9.3e-07, 9.5e-07, 9.72e-07, 9.86e-07, 9.96e-07, 1.02e-06, 1.035e-06, 1.045e-06, 1.071e-06, 1.097e-06, 1.11e-06, 1.123e-06, 1.15e-06, 1.17e-06, 1.235e-06, 1.3e-06, 1.3375e-06, 1.37e-06, 1.44e-06, 1.475e-06, 1.5e-06, 1.59e-06, 1.67e-06, 1.755e-06, 1.84e-06, 1.93e-06, 2.02e-06, 2.1e-06, 2.13e-06, 2.36e-06, 2.55e-06, 2.6e-06, 2.72e-06, 2.76792e-06, 3.3e-06, 3.38075e-06, 4e-06, 4.12925e-06, 5.043477e-06, 5.34643e-06, 6.160116e-06, 7.523983e-06, 8.315287e-06, 9.189814e-06, 9.905554e-06, 1.122446e-05, 1.370959e-05, 1.592827e-05, 1.945484e-05, 2.260329e-05, 2.49805e-05, 2.760773e-05, 3.051126e-05, 3.372015e-05, 3.726653e-05, 4.0169e-05, 4.551744e-05, 4.82516e-05, 5.157802e-05, 5.559513e-05, 6.790405e-05, 7.567357e-05, 9.166088e-05, 0.000136742, 0.0001486254, 0.000203995, 0.0003043248, 0.0003717032, 0.0004539993, 0.0006772874, 0.0007485183, 0.0009142423, 0.001010394, 0.001234098, 0.001433817, 0.001507331, 0.002034684, 0.002248673, 0.003354626, 0.003526622, 0.005004514, 0.005530844, 0.007465858, 0.00911882, 0.01113775, 0.01503439, 0.01661557, 0.02478752, 0.02739445, 0.029283, 0.03697864, 0.04086771, 0.05516564, 0.06737947, 0.08229747, 0.11109, 0.1227734, 0.1831564, 0.2472353, 0.2732372, 0.3019738, 0.407622, 0.450492, 0.4978707, 0.5502322, 0.6081006, 0.82085, 0.9071795, 1.002588, 1.108032, 1.224564, 1.353353, 1.652989, 2.018965, 2.231302, 2.46597, 3.011942, 3.678794, 4.49329, 5.488116, 6.065307, 6.7032, 8.187308, 10.0, 11.618343, 13.840307, 14.918247, 17.33253, 19.64033])\n",
    "\n",
    "choose_group=XMAS172\n",
    "name_group='XMAS172'\n",
    "groups = mgxs.EnergyGroups(group_edges = choose_group)\n",
    "\n",
    "openmc_cell=model.geometry.get_all_cells().values()\n"
   ]
  },
  {
   "cell_type": "code",
   "execution_count": 215,
   "id": "dc47c8f1-2b04-423d-8a0c-8750a8622034",
   "metadata": {},
   "outputs": [],
   "source": [
    "xs_library = {}\n",
    "for cell in openmc_cell:\n",
    "\txs_library[cell.id] = {}\n",
    "\txs_library[cell.id]['transport']  = mgxs.TransportXS(energy_groups=groups)\n",
    "\txs_library[cell.id]['fission'] = mgxs.FissionXS(energy_groups=groups)\n",
    "\txs_library[cell.id]['nu-fission'] = mgxs.FissionXS(energy_groups=groups, nu=True)\n",
    "\txs_library[cell.id]['nu-scatter'] = mgxs.ScatterMatrixXS(energy_groups=groups, nu=True)\n",
    "\txs_library[cell.id]['chi'] = mgxs.Chi(energy_groups=groups)"
   ]
  },
  {
   "cell_type": "code",
   "execution_count": 216,
   "id": "7f893083-5a85-4209-baff-b9c117ecc071",
   "metadata": {},
   "outputs": [],
   "source": [
    "tally_trigger = openmc.Trigger('std_dev', 1e-2)\n",
    "for cell in openmc_cell:\n",
    "    for mgxs_type in xs_library[cell.id]:\n",
    "        xs_library[cell.id][mgxs_type].tally_trigger = tally_trigger\n",
    "        \n",
    "\n",
    "tallies = openmc.Tallies()   \n",
    "for cell in openmc_cell:\n",
    "    for rxn_type in xs_library[cell.id]:\n",
    "        xs_library[cell.id][rxn_type].domain = cell\n",
    "        xs_library[cell.id][rxn_type].by_nuclide = False\n",
    "        for tally in xs_library[cell.id][rxn_type].tallies.values():\n",
    "            tallies.append(tally, merge=True)\n",
    "                   \n",
    "model.tallies = tallies"
   ]
  },
  {
   "cell_type": "code",
   "execution_count": 217,
   "id": "873baed8-3b69-4531-b2c4-26e0cc8e16ff",
   "metadata": {},
   "outputs": [
    {
     "name": "stderr",
     "output_type": "stream",
     "text": [
      "/home/pablo/anaconda3/envs/openmc-env/lib/python3.12/site-packages/openmc/mixin.py:70: IDWarning: Another Filter instance already exists with id=888.\n",
      "  warn(msg, IDWarning)\n",
      "/home/pablo/anaconda3/envs/openmc-env/lib/python3.12/site-packages/openmc/mixin.py:70: IDWarning: Another Filter instance already exists with id=670.\n",
      "  warn(msg, IDWarning)\n",
      "/home/pablo/anaconda3/envs/openmc-env/lib/python3.12/site-packages/openmc/mixin.py:70: IDWarning: Another Filter instance already exists with id=671.\n",
      "  warn(msg, IDWarning)\n",
      "/home/pablo/anaconda3/envs/openmc-env/lib/python3.12/site-packages/openmc/mixin.py:70: IDWarning: Another Filter instance already exists with id=672.\n",
      "  warn(msg, IDWarning)\n"
     ]
    },
    {
     "name": "stdout",
     "output_type": "stream",
     "text": [
      "[Machine2:78991] mca_base_component_repository_open: unable to open mca_btl_openib: librdmacm.so.1: cannot open shared object file: No such file or directory (ignored)\n",
      "                                %%%%%%%%%%%%%%%\n",
      "                           %%%%%%%%%%%%%%%%%%%%%%%%\n",
      "                        %%%%%%%%%%%%%%%%%%%%%%%%%%%%%%\n",
      "                      %%%%%%%%%%%%%%%%%%%%%%%%%%%%%%%%%%\n",
      "                    %%%%%%%%%%%%%%%%%%%%%%%%%%%%%%%%%%%%%%\n",
      "                   %%%%%%%%%%%%%%%%%%%%%%%%%%%%%%%%%%%%%%%%\n",
      "                                    %%%%%%%%%%%%%%%%%%%%%%%%\n",
      "                                     %%%%%%%%%%%%%%%%%%%%%%%%\n",
      "                 ###############      %%%%%%%%%%%%%%%%%%%%%%%%\n",
      "                ##################     %%%%%%%%%%%%%%%%%%%%%%%\n",
      "                ###################     %%%%%%%%%%%%%%%%%%%%%%%\n",
      "                ####################     %%%%%%%%%%%%%%%%%%%%%%\n",
      "                #####################     %%%%%%%%%%%%%%%%%%%%%\n",
      "                ######################     %%%%%%%%%%%%%%%%%%%%\n",
      "                #######################     %%%%%%%%%%%%%%%%%%\n",
      "                 #######################     %%%%%%%%%%%%%%%%%\n",
      "                 ######################     %%%%%%%%%%%%%%%%%\n",
      "                  ####################     %%%%%%%%%%%%%%%%%\n",
      "                    #################     %%%%%%%%%%%%%%%%%\n",
      "                     ###############     %%%%%%%%%%%%%%%%\n",
      "                       ############     %%%%%%%%%%%%%%%\n",
      "                          ########     %%%%%%%%%%%%%%\n",
      "                                      %%%%%%%%%%%\n",
      "\n",
      "                 | The OpenMC Monte Carlo Code\n",
      "       Copyright | 2011-2023 MIT, UChicago Argonne LLC, and contributors\n",
      "         License | https://docs.openmc.org/en/latest/license.html\n",
      "         Version | 0.14.0\n",
      "        Git SHA1 | e1a8ee7794b441c992426f17fafe216391cbba83\n",
      "       Date/Time | 2024-05-13 21:10:43\n",
      "   MPI Processes | 1\n",
      "  OpenMP Threads | 5\n",
      "\n",
      " Reading model XML file './model.xml' ...\n",
      " WARNING: Other XML file input(s) are present. These files may be ignored in\n",
      "          favor of the ./model.xml file.\n",
      " Reading cross sections XML file...\n",
      " Reading U235 from /home/pablo/internship/xs_for_input/jeff-3.3-hdf5/U235.h5\n",
      " Reading U238 from /home/pablo/internship/xs_for_input/jeff-3.3-hdf5/U238.h5\n",
      " Reading O16 from /home/pablo/internship/xs_for_input/jeff-3.3-hdf5/O16.h5\n",
      " Reading Zr90 from /home/pablo/internship/xs_for_input/jeff-3.3-hdf5/Zr90.h5\n",
      " Reading Zr91 from /home/pablo/internship/xs_for_input/jeff-3.3-hdf5/Zr91.h5\n",
      " Reading Zr92 from /home/pablo/internship/xs_for_input/jeff-3.3-hdf5/Zr92.h5\n",
      " Reading Zr94 from /home/pablo/internship/xs_for_input/jeff-3.3-hdf5/Zr94.h5\n",
      " Reading Zr96 from /home/pablo/internship/xs_for_input/jeff-3.3-hdf5/Zr96.h5\n",
      " Reading He3 from /home/pablo/internship/xs_for_input/jeff-3.3-hdf5/He3.h5\n",
      " Reading He4 from /home/pablo/internship/xs_for_input/jeff-3.3-hdf5/He4.h5\n",
      " Reading H1 from /home/pablo/internship/xs_for_input/jeff-3.3-hdf5/H1.h5\n",
      " Reading c_H_in_H2O from\n",
      " /home/pablo/internship/xs_for_input/jeff-3.3-hdf5/c_H_in_H2O.h5\n",
      " Minimum neutron data temperature: 294 K\n",
      " Maximum neutron data temperature: 294 K\n",
      " Preparing distributed cell instances...\n",
      " Reading plot XML file...\n",
      " Writing summary.h5 file...\n",
      " Maximum neutron transport energy: 20000000 eV for He3\n",
      " Initializing source particles...\n",
      "\n",
      " ====================>     K EIGENVALUE SIMULATION     <====================\n",
      "\n",
      "  Bat./Gen.      k            Average k\n",
      "  =========   ========   ====================\n",
      "        1/1    1.71316\n",
      "        2/1    1.37046\n",
      "        3/1    1.41526\n",
      "        4/1    1.31157\n",
      "        5/1    1.38199\n",
      "        6/1    1.44325\n",
      "        7/1    1.37583\n",
      "        8/1    1.34619\n",
      "        9/1    1.45131\n",
      "       10/1    1.43775\n",
      "       11/1    1.29804\n",
      "       12/1    1.37966    1.33885 +/- 0.04081\n",
      "       13/1    1.41128    1.36299 +/- 0.03373\n",
      "       14/1    1.36973    1.36468 +/- 0.02391\n",
      "       15/1    1.36945    1.36563 +/- 0.01855\n",
      "       16/1    1.39108    1.36987 +/- 0.01573\n",
      "       17/1    1.37690    1.37088 +/- 0.01333\n",
      "       18/1    1.43365    1.37872 +/- 0.01396\n",
      "       19/1    1.40820    1.38200 +/- 0.01274\n",
      "       20/1    1.31946    1.37574 +/- 0.01300\n",
      "       21/1    1.48440    1.38562 +/- 0.01535\n",
      "       22/1    1.41425    1.38801 +/- 0.01422\n",
      "       23/1    1.38701    1.38793 +/- 0.01308\n",
      "       24/1    1.44227    1.39181 +/- 0.01272\n",
      "       25/1    1.39598    1.39209 +/- 0.01184\n",
      "       26/1    1.36490    1.39039 +/- 0.01121\n",
      "       27/1    1.42194    1.39225 +/- 0.01069\n",
      "       28/1    1.44375    1.39511 +/- 0.01048\n",
      "       29/1    1.43158    1.39703 +/- 0.01009\n",
      "       30/1    1.38002    1.39618 +/- 0.00961\n",
      "       31/1    1.37888    1.39535 +/- 0.00918\n",
      "       32/1    1.35932    1.39372 +/- 0.00891\n",
      "       33/1    1.38566    1.39337 +/- 0.00852\n",
      "       34/1    1.43697    1.39518 +/- 0.00835\n",
      "       35/1    1.49779    1.39929 +/- 0.00900\n",
      "       36/1    1.42873    1.40042 +/- 0.00872\n",
      "       37/1    1.34350    1.39831 +/- 0.00865\n",
      "       38/1    1.33113    1.39591 +/- 0.00868\n",
      "       39/1    1.37945    1.39534 +/- 0.00839\n",
      "       40/1    1.41419    1.39597 +/- 0.00813\n",
      "       41/1    1.47812    1.39862 +/- 0.00830\n",
      "       42/1    1.32759    1.39640 +/- 0.00834\n",
      "       43/1    1.53486    1.40060 +/- 0.00911\n",
      "       44/1    1.44165    1.40181 +/- 0.00892\n",
      "       45/1    1.37781    1.40112 +/- 0.00868\n",
      "       46/1    1.50733    1.40407 +/- 0.00894\n",
      "       47/1    1.43016    1.40478 +/- 0.00872\n",
      "       48/1    1.33679    1.40299 +/- 0.00868\n",
      "       49/1    1.34995    1.40163 +/- 0.00856\n",
      "       50/1    1.42607    1.40224 +/- 0.00837\n",
      " Creating state point statepoint.50.h5...\n",
      "\n",
      " =======================>     TIMING STATISTICS     <=======================\n",
      "\n",
      " Total time for initialization     = 8.9609e-01 seconds\n",
      "   Reading cross sections          = 8.5362e-01 seconds\n",
      " Total time in simulation          = 1.5939e+00 seconds\n",
      "   Time in transport only          = 1.2713e+00 seconds\n",
      "   Time in inactive batches        = 3.0858e-01 seconds\n",
      "   Time in active batches          = 1.2853e+00 seconds\n",
      "   Time synchronizing fission bank = 2.8884e-03 seconds\n",
      "     Sampling source sites         = 2.2701e-03 seconds\n",
      "     SEND/RECV source sites        = 3.1509e-04 seconds\n",
      "   Time accumulating tallies       = 2.7347e-01 seconds\n",
      "   Time writing statepoints        = 2.3808e-02 seconds\n",
      " Total time for finalization       = 5.4465e-01 seconds\n",
      " Total time elapsed                = 3.0465e+00 seconds\n",
      " Calculation Rate (inactive)       = 32407 particles/second\n",
      " Calculation Rate (active)         = 31120.4 particles/second\n",
      "\n",
      " ============================>     RESULTS     <============================\n",
      "\n",
      " k-effective (Collision)     = 1.39656 +/- 0.00690\n",
      " k-effective (Track-length)  = 1.40224 +/- 0.00837\n",
      " k-effective (Absorption)    = 1.39345 +/- 0.00543\n",
      " Combined k-effective        = 1.39481 +/- 0.00505\n",
      " Leakage Fraction            = 0.00000 +/- 0.00000\n",
      "\n"
     ]
    }
   ],
   "source": [
    "model.export_to_xml()\n",
    "\n",
    "sp_file = model.run()\n",
    "sp = openmc.StatePoint(sp_file)"
   ]
  },
  {
   "cell_type": "code",
   "execution_count": 218,
   "id": "b56c8bce-e943-4e6a-b174-8e5edbc28742",
   "metadata": {
    "jp-MarkdownHeadingCollapsed": true
   },
   "outputs": [],
   "source": [
    "if not os.path.exists(\"mgxs\"):\n",
    "    os.makedirs(\"mgxs\")\n",
    "\n",
    "df_energy = pd.DataFrame(choose_group)\n",
    "df_energy[1] = str(name_group)\n",
    "csv_file_path = os.path.join(\"mgxs\", \"energy_groups.csv\")\n",
    "df_energy.to_csv(csv_file_path, index=False)\n",
    "\n",
    "for cell in openmc_cell:\n",
    "    for rxn_type in xs_library[cell.id]:\n",
    "        xs_library[cell.id][rxn_type].load_from_statepoint(sp)\n",
    "        A=xs_library[cell.id][str(rxn_type)]\n",
    "        A_xs=A.get_xs()\n",
    "        dict_name=str(rxn_type) + '_' + str(cell.name) +'_'+ 'mgxs'\n",
    "        df=A.get_pandas_dataframe(xs_type='macro') \n",
    "        csv_file_path = os.path.join(\"mgxs\", dict_name + \".csv\")\n",
    "        df.to_csv(csv_file_path, index=False)\n",
    "\n",
    "\n"
   ]
  },
  {
   "cell_type": "code",
   "execution_count": null,
   "id": "e1d00caf-766c-45f7-9c34-16bb1c56a1e2",
   "metadata": {},
   "outputs": [],
   "source": []
  }
 ],
 "metadata": {
  "kernelspec": {
   "display_name": "Python 3 (ipykernel)",
   "language": "python",
   "name": "python3"
  },
  "language_info": {
   "codemirror_mode": {
    "name": "ipython",
    "version": 3
   },
   "file_extension": ".py",
   "mimetype": "text/x-python",
   "name": "python",
   "nbconvert_exporter": "python",
   "pygments_lexer": "ipython3",
   "version": "3.12.3"
  }
 },
 "nbformat": 4,
 "nbformat_minor": 5
}
