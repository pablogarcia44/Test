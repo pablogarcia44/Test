{
 "cells": [
  {
   "cell_type": "markdown",
   "id": "cdd8a24a-a018-4a2b-aaed-7eae9c99a62b",
   "metadata": {},
   "source": [
    "# 3x3 assembly inputfile that: "
   ]
  },
  {
   "cell_type": "markdown",
   "id": "880099d7-f1e0-4a4f-9a03-3d4c52de6943",
   "metadata": {},
   "source": [
    "### Import module/Set up XS path/Create openMC model/Clean directory"
   ]
  },
  {
   "cell_type": "code",
   "execution_count": 24,
   "id": "f259654c-b079-44cf-b9c3-02dac2e1bf70",
   "metadata": {},
   "outputs": [
    {
     "name": "stdout",
     "output_type": "stream",
     "text": [
      "env: OPENMC_CROSS_SECTIONS=/home/pablo/internship/xs_for_input/cross_sections.xml\n"
     ]
    }
   ],
   "source": [
    "import sys\n",
    "import os \n",
    "import openmc\n",
    "import numpy as np\n",
    "import matplotlib.pyplot as plt\n",
    "import openmc.mgxs as mgxs\n",
    "import pandas as pd\n",
    "from IPython.display import Image\n",
    "import glob\n",
    "\n",
    "%env OPENMC_CROSS_SECTIONS=/home/pablo/internship/xs_for_input/cross_sections.xml\n",
    "model=openmc.Model()\n",
    "\n",
    "clean_file_list = [\"model.xml\", \"materials.xml\", \"geometry.xml\",\"plots.xml\",\"geometry.xml\",\"settings.xml\",\"tallies.out\",\"summary.h5\",\"statepoint.50.h5\"]\n",
    "\n",
    "for file in clean_file_list :\n",
    "    path_file = os.path.join(os.getcwd(), file)\n",
    "    if os.path.exists(path_file):\n",
    "        os.remove(path_file)"
   ]
  },
  {
   "cell_type": "markdown",
   "id": "46d2334b-8f33-4956-96fd-5d58194b6ee4",
   "metadata": {
    "jp-MarkdownHeadingCollapsed": true
   },
   "source": [
    "### Define Materials"
   ]
  },
  {
   "cell_type": "code",
   "execution_count": 25,
   "id": "50dee80c-d7a7-49e1-99ef-5094e87b5808",
   "metadata": {},
   "outputs": [],
   "source": [
    "uo2 = openmc.Material(name='uo2')\n",
    "uo2.add_nuclide('U235', 0.03)\n",
    "uo2.add_nuclide('U238', 0.97)\n",
    "uo2.add_nuclide('O16', 2.0)\n",
    "uo2.set_density('g/cm3', 10.0)\n",
    "zirconium = openmc.Material(name=\"zirconium\")\n",
    "zirconium.add_element('Zr', 1.0)\n",
    "zirconium.set_density('g/cm3', 6.6)\n",
    "helium=openmc.Material(name='helium')\n",
    "helium.add_element('helium',1)\n",
    "helium.set_density('g/cm3',8e-4)\n",
    "water = openmc.Material(name=\"water\")\n",
    "water.add_nuclide('H1', 2.0)\n",
    "water.add_nuclide('O16', 1.0)\n",
    "water.set_density('g/cm3', 1.0)\n",
    "water.add_s_alpha_beta('c_H_in_H2O')\n",
    "\n",
    "    \n",
    "model.materials = openmc.Materials([uo2, zirconium, water,helium]) \n",
    "model.materials.export_to_xml()"
   ]
  },
  {
   "cell_type": "markdown",
   "id": "ffd5255c-47f3-4394-836f-140dddeef018",
   "metadata": {
    "jp-MarkdownHeadingCollapsed": true
   },
   "source": [
    "### Create pincell_in"
   ]
  },
  {
   "cell_type": "code",
   "execution_count": 26,
   "id": "ce67e753-777f-4ed7-a24c-89791d3d6b54",
   "metadata": {},
   "outputs": [],
   "source": [
    "fuel_outer_radius = openmc.ZCylinder(r=0.39)\n",
    "gap_outer_radius = openmc.ZCylinder(r=0.40)\n",
    "clad_outer_radius = openmc.ZCylinder(r=0.46)\n",
    "pitch = 1.26\n",
    "left = openmc.XPlane(-pitch/2, boundary_type='reflective')\n",
    "right = openmc.XPlane(pitch/2, boundary_type='reflective')\n",
    "bottom = openmc.YPlane(-pitch/2, boundary_type='reflective')\n",
    "top = openmc.YPlane(pitch/2, boundary_type='reflective')\n",
    "    \n",
    "fuel_region = -fuel_outer_radius\n",
    "gap_region = +fuel_outer_radius & -gap_outer_radius\n",
    "clad_region = +gap_outer_radius & -clad_outer_radius\n",
    "water_region = +left & -right & +bottom & -top & +clad_outer_radius\n",
    "    \n",
    "fuel_in = openmc.Cell(name='fuel_in')\n",
    "fuel_in.fill = uo2\n",
    "fuel_in.region = fuel_region\n",
    "gap_in = openmc.Cell(name='gap_in')\n",
    "gap_in.fill=helium\n",
    "gap_in.region = gap_region\n",
    "clad_in = openmc.Cell(name='clad_in')\n",
    "clad_in.fill = zirconium\n",
    "clad_in.region = clad_region\n",
    "moderator_in = openmc.Cell(name='moderator_in')\n",
    "moderator_in.fill = water\n",
    "moderator_in.region = water_region\n",
    "\n",
    "u_in = openmc.Universe(cells=(fuel_in, gap_in, clad_in, moderator_in))"
   ]
  },
  {
   "cell_type": "markdown",
   "id": "8a8dcab6-605c-44e4-81de-6444cc6b75cc",
   "metadata": {
    "jp-MarkdownHeadingCollapsed": true
   },
   "source": [
    "### Plot Pincell"
   ]
  },
  {
   "cell_type": "code",
   "execution_count": null,
   "id": "4b419fde-cef8-4f36-8f0b-0407a86eac54",
   "metadata": {},
   "outputs": [],
   "source": []
  },
  {
   "cell_type": "markdown",
   "id": "8ed9147c-243c-4755-b645-b834b344e8d3",
   "metadata": {
    "jp-MarkdownHeadingCollapsed": true
   },
   "source": [
    "### Create pincell_out"
   ]
  },
  {
   "cell_type": "code",
   "execution_count": 27,
   "id": "543d7f0a-88d7-46b5-8bcd-11a83368f8e2",
   "metadata": {},
   "outputs": [],
   "source": [
    "fuel_out = openmc.Cell(name='fuel_out')\n",
    "fuel_out.fill = uo2\n",
    "fuel_out.region = fuel_region\n",
    "gap_out = openmc.Cell(name='gap_out')\n",
    "gap_out.fill=helium\n",
    "gap_out.region = gap_region\n",
    "clad_out = openmc.Cell(name='clad_out')\n",
    "clad_out.fill = zirconium\n",
    "clad_out.region = clad_region\n",
    "moderator_out = openmc.Cell(name='moderator_out')\n",
    "moderator_out.fill = water\n",
    "moderator_out.region = water_region\n",
    "    \n",
    "u_out = openmc.Universe(cells=(fuel_out, gap_out, clad_out, moderator_out))"
   ]
  },
  {
   "cell_type": "markdown",
   "id": "6367df82-7c94-493c-b736-10a8d34cf7de",
   "metadata": {
    "jp-MarkdownHeadingCollapsed": true
   },
   "source": [
    "### Define assembly"
   ]
  },
  {
   "cell_type": "code",
   "execution_count": 28,
   "id": "1069e3ad-664b-4230-b4eb-f024e4117c52",
   "metadata": {},
   "outputs": [
    {
     "name": "stderr",
     "output_type": "stream",
     "text": [
      "/home/pablo/anaconda3/envs/openmc-env/lib/python3.12/site-packages/openmc/mixin.py:70: IDWarning: Another UniverseBase instance already exists with id=0.\n",
      "  warn(msg, IDWarning)\n"
     ]
    }
   ],
   "source": [
    "   assembly = openmc.RectLattice()\n",
    "assembly.lower_left = (-1.5*pitch, -1.5*pitch)\n",
    "assembly.pitch = (1.26, 1.26)\n",
    "assembly.universes = [[u_out, u_out, u_out],\n",
    "                      [u_out, u_in, u_out],\n",
    "                      [u_out, u_out, u_out]]\n",
    "            \n",
    "    \n",
    "    \n",
    "root_cell = openmc.Cell(name='root cell')\n",
    "root_cell.fill = assembly\n",
    "\n",
    "min_x = openmc.XPlane(x0=0., boundary_type='reflective')\n",
    "max_x = openmc.XPlane(x0=+1.5*pitch, boundary_type='reflective')\n",
    "min_y = openmc.YPlane(y0=-0., boundary_type='reflective')\n",
    "max_y = openmc.YPlane(y0=+1.5*pitch, boundary_type='reflective')\n",
    "min_z = openmc.ZPlane(z0=-10., boundary_type='reflective')\n",
    "max_z = openmc.ZPlane(z0=+10., boundary_type='reflective')\n",
    "root_cell.region = +min_x & -max_x & +min_y & -max_y & +min_z & -max_z\n",
    "    \n",
    "    \n",
    "root_universe = openmc.Universe(universe_id=0, name='root universe')\n",
    "root_universe.add_cell(root_cell)\n",
    "model.geometry = openmc.Geometry(root_universe)\n",
    "model.geometry.export_to_xml()\n"
   ]
  },
  {
   "cell_type": "markdown",
   "id": "cb57e6ef-e360-4240-b603-5c9388897f2f",
   "metadata": {
    "jp-MarkdownHeadingCollapsed": true
   },
   "source": [
    "### Plot assembly"
   ]
  },
  {
   "cell_type": "code",
   "execution_count": 29,
   "id": "e0624b2a-f160-4fb4-8a69-995d9b7f7e65",
   "metadata": {},
   "outputs": [
    {
     "data": {
      "image/png": "[encoded data removed]",
      "text/plain": [
       "<IPython.core.display.Image object>"
      ]
     },
     "execution_count": 29,
     "metadata": {},
     "output_type": "execute_result"
    }
   ],
   "source": [
    "plot = openmc.Plot.from_geometry(model.geometry)\n",
    "plot.pixels = (500, 500)\n",
    "plot.width = (3*pitch, 3*pitch)\n",
    "plot.origin = (0., 0., 0)\n",
    "plot.color_by = 'cell'\n",
    "# plot.colors = {\n",
    "#     water: 'blue',\n",
    "#     zirconium: 'black',\n",
    "#     helium: 'yellow',\n",
    "#     uo2_in: (100, 0, 0),\n",
    "#     uo2_out: (255, 0, 0)\n",
    "# }\n",
    "plot.to_ipython_image()"
   ]
  },
  {
   "cell_type": "markdown",
   "id": "90c73240-9aae-4a8e-ab35-fbc68032fb85",
   "metadata": {
    "jp-MarkdownHeadingCollapsed": true
   },
   "source": [
    "### Choose settings"
   ]
  },
  {
   "cell_type": "code",
   "execution_count": 30,
   "id": "42b13809-e8ac-45b5-8e4d-af2f00a57694",
   "metadata": {},
   "outputs": [],
   "source": [
    "source = openmc.IndependentSource()\n",
    "source.space = openmc.stats.Point((0.1,0.1,0.))\n",
    "source.angle = openmc.stats.Isotropic()\n",
    "source.energy = openmc.stats.Discrete([10.0e6], [1.0])\n",
    "source.time = openmc.stats.Uniform(0, 1e-6)\n",
    "settings = openmc.Settings()\n",
    "settings.source = source\n",
    "settings = openmc.Settings()\n",
    "settings.source = source\n",
    "settings.batches = 50\n",
    "settings.inactive = 10\n",
    "settings.particles = 1000\n",
    "settings.output = {'tallies':True}\n",
    "model.settings = settings\n",
    "model.settings.export_to_xml()"
   ]
  },
  {
   "cell_type": "markdown",
   "id": "709977dc-3ea8-48a7-ab09-bb9cecc54ffa",
   "metadata": {},
   "source": [
    "### Define and choose energy group"
   ]
  },
  {
   "cell_type": "code",
   "execution_count": 31,
   "id": "fbc12bc6-1180-46b2-af7e-d54c0cedb555",
   "metadata": {},
   "outputs": [],
   "source": [
    "choose_group=openmc.mgxs.GROUP_STRUCTURES['XMAS-172']\n",
    "name_group='XMAS172'"
   ]
  },
  {
   "cell_type": "markdown",
   "id": "a1fbc926-202f-47a0-bc63-ed104764ee91",
   "metadata": {},
   "source": [
    "### Create flux tally"
   ]
  },
  {
   "cell_type": "markdown",
   "id": "a072c468-58ce-4ceb-8dc0-500fbc179991",
   "metadata": {},
   "source": [
    "tally_flux=openmc.Tally(name='tally_flux')\n",
    "flux_energy_filter = openmc.EnergyFilter(choose_group)\n",
    "#cell_filter = openmc.CellFilter([fuel.id])\n",
    "tally_flux.filters = [flux_energy_filter]#,cemll_filter]\n",
    "tally_flux.scores = ['flux']\n",
    "model.tallies.append(tally_flux)"
   ]
  },
  {
   "cell_type": "markdown",
   "id": "c4e87c13-a743-4039-b93c-001057d7b3af",
   "metadata": {},
   "source": [
    "### Create MGXS tallies for mgxs directory"
   ]
  },
  {
   "cell_type": "code",
   "execution_count": 32,
   "id": "a323cc06-df7d-48a6-9cf1-c79117dad6b0",
   "metadata": {},
   "outputs": [
    {
     "name": "stderr",
     "output_type": "stream",
     "text": [
      "/home/pablo/anaconda3/envs/openmc-env/lib/python3.12/site-packages/openmc/mgxs/library.py:401: RuntimeWarning: The P0 correction will be ignored since the scattering order 3 is greater than zero\n",
      "  warn(msg, RuntimeWarning)\n"
     ]
    }
   ],
   "source": [
    "mgxs_lib = openmc.mgxs.Library(model.geometry)\n",
    "groups = openmc.mgxs.EnergyGroups(choose_group)\n",
    "mgxs_lib.energy_groups = groups\n",
    "mgxs_lib.scatter_format = \"legendre\"\n",
    "mgxs_lib.legendre_order = 3\n",
    "mgxs_lib.mgxs_types = ['total', 'absorption', 'fission', 'nu-fission', 'chi', 'scatter matrix', 'nu-scatter matrix', 'inverse-velocity']\n",
    "mgxs_lib.tally_trigger =openmc.Trigger('std_dev', 1e-2)\n",
    "mgxs_lib.by_nuclide = False\n",
    "mgxs_lib.domain_type = 'cell'\n",
    "mgxs_lib.domains = model.geometry.get_all_material_cells().values()\n",
    "mgxs_lib.build_library()\n",
    "tallies = openmc.Tallies()\n",
    "mgxs_lib.add_to_tallies_file(tallies, merge=True)\n",
    "#tally_flux.merge_tallies()\n",
    "model.tallies = tallies\n",
    "#print(model.tallies)"
   ]
  },
  {
   "cell_type": "markdown",
   "id": "971540b5-5bfb-47be-86f6-9d8b80a38f27",
   "metadata": {},
   "source": [
    "### Run OpenMC model"
   ]
  },
  {
   "cell_type": "code",
   "execution_count": 33,
   "id": "671d9ecc-de0d-462b-8fa6-60cbff66fe86",
   "metadata": {},
   "outputs": [
    {
     "name": "stderr",
     "output_type": "stream",
     "text": [
      "/home/pablo/anaconda3/envs/openmc-env/lib/python3.12/site-packages/openmc/mixin.py:70: IDWarning: Another Filter instance already exists with id=1120.\n",
      "  warn(msg, IDWarning)\n",
      "/home/pablo/anaconda3/envs/openmc-env/lib/python3.12/site-packages/openmc/mixin.py:70: IDWarning: Another Filter instance already exists with id=842.\n",
      "  warn(msg, IDWarning)\n",
      "/home/pablo/anaconda3/envs/openmc-env/lib/python3.12/site-packages/openmc/mixin.py:70: IDWarning: Another Filter instance already exists with id=850.\n",
      "  warn(msg, IDWarning)\n"
     ]
    },
    {
     "name": "stdout",
     "output_type": "stream",
     "text": [
      "[Machine2:103855] mca_base_component_repository_open: unable to open mca_btl_openib: librdmacm.so.1: cannot open shared object file: No such file or directory (ignored)\n",
      "                                %%%%%%%%%%%%%%%\n",
      "                           %%%%%%%%%%%%%%%%%%%%%%%%\n",
      "                        %%%%%%%%%%%%%%%%%%%%%%%%%%%%%%\n",
      "                      %%%%%%%%%%%%%%%%%%%%%%%%%%%%%%%%%%\n",
      "                    %%%%%%%%%%%%%%%%%%%%%%%%%%%%%%%%%%%%%%\n",
      "                   %%%%%%%%%%%%%%%%%%%%%%%%%%%%%%%%%%%%%%%%\n",
      "                                    %%%%%%%%%%%%%%%%%%%%%%%%\n",
      "                                     %%%%%%%%%%%%%%%%%%%%%%%%\n",
      "                 ###############      %%%%%%%%%%%%%%%%%%%%%%%%\n",
      "                ##################     %%%%%%%%%%%%%%%%%%%%%%%\n",
      "                ###################     %%%%%%%%%%%%%%%%%%%%%%%\n",
      "                ####################     %%%%%%%%%%%%%%%%%%%%%%\n",
      "                #####################     %%%%%%%%%%%%%%%%%%%%%\n",
      "                ######################     %%%%%%%%%%%%%%%%%%%%\n",
      "                #######################     %%%%%%%%%%%%%%%%%%\n",
      "                 #######################     %%%%%%%%%%%%%%%%%\n",
      "                 ######################     %%%%%%%%%%%%%%%%%\n",
      "                  ####################     %%%%%%%%%%%%%%%%%\n",
      "                    #################     %%%%%%%%%%%%%%%%%\n",
      "                     ###############     %%%%%%%%%%%%%%%%\n",
      "                       ############     %%%%%%%%%%%%%%%\n",
      "                          ########     %%%%%%%%%%%%%%\n",
      "                                      %%%%%%%%%%%\n",
      "\n",
      "                 | The OpenMC Monte Carlo Code\n",
      "       Copyright | 2011-2023 MIT, UChicago Argonne LLC, and contributors\n",
      "         License | https://docs.openmc.org/en/latest/license.html\n",
      "         Version | 0.14.0\n",
      "        Git SHA1 | e1a8ee7794b441c992426f17fafe216391cbba83\n",
      "       Date/Time | 2024-05-15 00:01:13\n",
      "   MPI Processes | 1\n",
      "  OpenMP Threads | 5\n",
      "\n",
      " Reading model XML file './model.xml' ...\n",
      " WARNING: Other XML file input(s) are present. These files may be ignored in\n",
      "          favor of the ./model.xml file.\n",
      " Reading cross sections XML file...\n",
      " Reading U235 from /home/pablo/internship/xs_for_input/jeff-3.3-hdf5/U235.h5\n",
      " Reading U238 from /home/pablo/internship/xs_for_input/jeff-3.3-hdf5/U238.h5\n",
      " Reading O16 from /home/pablo/internship/xs_for_input/jeff-3.3-hdf5/O16.h5\n",
      " Reading Zr90 from /home/pablo/internship/xs_for_input/jeff-3.3-hdf5/Zr90.h5\n",
      " Reading Zr91 from /home/pablo/internship/xs_for_input/jeff-3.3-hdf5/Zr91.h5\n",
      " Reading Zr92 from /home/pablo/internship/xs_for_input/jeff-3.3-hdf5/Zr92.h5\n",
      " Reading Zr94 from /home/pablo/internship/xs_for_input/jeff-3.3-hdf5/Zr94.h5\n",
      " Reading Zr96 from /home/pablo/internship/xs_for_input/jeff-3.3-hdf5/Zr96.h5\n",
      " Reading He3 from /home/pablo/internship/xs_for_input/jeff-3.3-hdf5/He3.h5\n",
      " Reading He4 from /home/pablo/internship/xs_for_input/jeff-3.3-hdf5/He4.h5\n",
      " Reading H1 from /home/pablo/internship/xs_for_input/jeff-3.3-hdf5/H1.h5\n",
      " Reading c_H_in_H2O from\n",
      " /home/pablo/internship/xs_for_input/jeff-3.3-hdf5/c_H_in_H2O.h5\n",
      " Minimum neutron data temperature: 294 K\n",
      " Maximum neutron data temperature: 294 K\n",
      " Preparing distributed cell instances...\n",
      " Reading plot XML file...\n",
      " Writing summary.h5 file...\n",
      " Maximum neutron transport energy: 20000000 eV for He3\n",
      " Initializing source particles...\n",
      "\n",
      " ====================>     K EIGENVALUE SIMULATION     <====================\n",
      "\n",
      "  Bat./Gen.      k            Average k\n",
      "  =========   ========   ====================\n",
      "        1/1    1.71316\n",
      "        2/1    1.37046\n",
      "        3/1    1.41526\n",
      "        4/1    1.31157\n",
      "        5/1    1.38199\n",
      "        6/1    1.44325\n",
      "        7/1    1.37583\n",
      "        8/1    1.34619\n",
      "        9/1    1.45131\n",
      "       10/1    1.43775\n",
      "       11/1    1.29804\n",
      "       12/1    1.37966    1.33885 +/- 0.04081\n",
      "       13/1    1.41128    1.36299 +/- 0.03373\n",
      "       14/1    1.36973    1.36468 +/- 0.02391\n",
      "       15/1    1.36945    1.36563 +/- 0.01855\n",
      "       16/1    1.39108    1.36987 +/- 0.01573\n",
      "       17/1    1.37690    1.37088 +/- 0.01333\n",
      "       18/1    1.43365    1.37872 +/- 0.01396\n",
      "       19/1    1.40820    1.38200 +/- 0.01274\n",
      "       20/1    1.31946    1.37574 +/- 0.01300\n",
      "       21/1    1.48440    1.38562 +/- 0.01535\n",
      "       22/1    1.41425    1.38801 +/- 0.01422\n",
      "       23/1    1.38701    1.38793 +/- 0.01308\n",
      "       24/1    1.44227    1.39181 +/- 0.01272\n",
      "       25/1    1.39598    1.39209 +/- 0.01184\n",
      "       26/1    1.36490    1.39039 +/- 0.01121\n",
      "       27/1    1.42194    1.39225 +/- 0.01069\n",
      "       28/1    1.44375    1.39511 +/- 0.01048\n",
      "       29/1    1.43158    1.39703 +/- 0.01009\n",
      "       30/1    1.38002    1.39618 +/- 0.00961\n",
      "       31/1    1.37888    1.39535 +/- 0.00918\n",
      "       32/1    1.35932    1.39372 +/- 0.00891\n",
      "       33/1    1.38566    1.39337 +/- 0.00852\n",
      "       34/1    1.43697    1.39518 +/- 0.00835\n",
      "       35/1    1.49779    1.39929 +/- 0.00900\n",
      "       36/1    1.42873    1.40042 +/- 0.00872\n",
      "       37/1    1.34350    1.39831 +/- 0.00865\n",
      "       38/1    1.33113    1.39591 +/- 0.00868\n",
      "       39/1    1.37945    1.39534 +/- 0.00839\n",
      "       40/1    1.41419    1.39597 +/- 0.00813\n",
      "       41/1    1.47812    1.39862 +/- 0.00830\n",
      "       42/1    1.32759    1.39640 +/- 0.00834\n",
      "       43/1    1.53486    1.40060 +/- 0.00911\n",
      "       44/1    1.44165    1.40181 +/- 0.00892\n",
      "       45/1    1.37781    1.40112 +/- 0.00868\n",
      "       46/1    1.50733    1.40407 +/- 0.00894\n",
      "       47/1    1.43016    1.40478 +/- 0.00872\n",
      "       48/1    1.33679    1.40299 +/- 0.00868\n",
      "       49/1    1.34995    1.40163 +/- 0.00856\n",
      "       50/1    1.42607    1.40224 +/- 0.00837\n",
      " Creating state point statepoint.50.h5...\n",
      "\n",
      " =======================>     TIMING STATISTICS     <=======================\n",
      "\n",
      " Total time for initialization     = 9.2886e-01 seconds\n",
      "   Reading cross sections          = 9.0951e-01 seconds\n",
      " Total time in simulation          = 1.7068e+00 seconds\n",
      "   Time in transport only          = 1.2945e+00 seconds\n",
      "   Time in inactive batches        = 3.0389e-01 seconds\n",
      "   Time in active batches          = 1.4029e+00 seconds\n",
      "   Time synchronizing fission bank = 2.8452e-03 seconds\n",
      "     Sampling source sites         = 2.2999e-03 seconds\n",
      "     SEND/RECV source sites        = 3.3675e-04 seconds\n",
      "   Time accumulating tallies       = 3.3088e-01 seconds\n",
      "   Time writing statepoints        = 6.1195e-02 seconds\n",
      " Total time for finalization       = 1.3584e+00 seconds\n",
      " Total time elapsed                = 4.0237e+00 seconds\n",
      " Calculation Rate (inactive)       = 32906.8 particles/second\n",
      " Calculation Rate (active)         = 28511.7 particles/second\n",
      "\n",
      " ============================>     RESULTS     <============================\n",
      "\n",
      " k-effective (Collision)     = 1.39656 +/- 0.00690\n",
      " k-effective (Track-length)  = 1.40224 +/- 0.00837\n",
      " k-effective (Absorption)    = 1.39345 +/- 0.00543\n",
      " Combined k-effective        = 1.39481 +/- 0.00505\n",
      " Leakage Fraction            = 0.00000 +/- 0.00000\n",
      "\n"
     ]
    }
   ],
   "source": [
    "model.export_to_xml()\n",
    "sp_file = model.run()\n",
    "sp = openmc.StatePoint(sp_file)"
   ]
  },
  {
   "cell_type": "markdown",
   "id": "4aab0d3a-2242-443e-bbf8-50d30637cabb",
   "metadata": {},
   "source": [
    "### Plot Flux"
   ]
  },
  {
   "cell_type": "code",
   "execution_count": 34,
   "id": "f06b0fe2-2baf-41ec-b558-6e37749dfa84",
   "metadata": {
    "scrolled": true
   },
   "outputs": [
    {
     "data": {
      "image/png": "[encoded data removed]",
      "text/plain": [
       "<Figure size 640x480 with 1 Axes>"
      ]
     },
     "metadata": {},
     "output_type": "display_data"
    }
   ],
   "source": [
    "from matplotlib.ticker import FixedLocator\n",
    "from matplotlib.ticker import LogLocator\n",
    "\n",
    "cell_plot=['fuel_in','fuel_out']#,'moderator_in','clad_in']#,'fuel_out','moderator_out','clad_out']\n",
    "\n",
    "\n",
    "sp = openmc.StatePoint(sp_file)\n",
    "sp.tallies\n",
    "tally_flux_id=[]\n",
    "for index, tally in enumerate(sp.tallies):\n",
    "    if sp.tallies[tally].scores==['flux']:\n",
    "        t=sp.tallies[tally]\n",
    "\n",
    "def flux_cell(cell):\n",
    "    \n",
    "    cell_index = 99\n",
    "    cell_id=99\n",
    "    # print(model.geometry.get_all_material_cells().values())\n",
    "    i=0\n",
    "    for all_cell in model.geometry.get_all_material_cells().values():\n",
    "        i=i+1\n",
    "        if all_cell.name==cell:\n",
    "            cell_index=all_cell.id\n",
    "            cell_id=i-1\n",
    "            # print(cell_id)\n",
    "            \n",
    "    tally_data_reshaped =t.get_reshaped_data()\n",
    "    flux=tally_data_reshaped[cell_id]\n",
    "    \n",
    "    liste_reduced = []\n",
    "    for under_liste in flux:\n",
    "        nombre = under_liste[0][0]\n",
    "        liste_reduced.append(nombre)\n",
    "    flux=liste_reduced\n",
    "    return(flux)\n",
    "    \n",
    "\n",
    "dE=np.diff(choose_group)\n",
    "Emid=choose_group[:-1]+dE/2\n",
    "\n",
    "fig, ax = plt.subplots()\n",
    "for i,cell in enumerate(cell_plot):\n",
    "    flux=flux_cell(cell_plot[i])    \n",
    "    mg_spectrum=flux / np.sum(flux)\n",
    "    ax.step(choose_group[:-1], Emid*mg_spectrum/dE, where='post', label=cell_plot[i])\n",
    "ax.set_xscale('log')\n",
    "ax.xaxis.set_major_locator(FixedLocator(locs=np.logspace(-5, 7, 13)))\n",
    "locmin=LogLocator(base=10,subs=np.linspace(0,1.0,11)[1:-1],numticks=1000)\n",
    "ax.xaxis.set_minor_locator(locmin)\n",
    "ax.set_xlabel('Energy [eV]')\n",
    "ax.set_ylabel('Flux [n-cm/eV-src]')\n",
    "ax.grid()\n",
    "ax.legend()\n",
    "plt.show()\n"
   ]
  },
  {
   "cell_type": "markdown",
   "id": "828f2d7f-51d5-4edf-8e1a-69e59836b808",
   "metadata": {},
   "source": []
  },
  {
   "cell_type": "code",
   "execution_count": 35,
   "id": "9a517d57-4fc0-45df-8fb5-f437e155aa51",
   "metadata": {},
   "outputs": [
    {
     "name": "stdout",
     "output_type": "stream",
     "text": [
      "Multi-Group XS\n",
      "\tReaction Type  =\ttotal\n",
      "\tDomain Type    =\tcell\n",
      "\tDomain ID      =\t19\n",
      "\tCross Sections [cm^-1]:\n",
      "            Group 1 [17332500.0 - 19640300.0eV]:\t0.00e+00 +/- 0.00e+00%\n",
      "            Group 2 [14918200.0 - 17332500.0eV]:\t0.00e+00 +/- 0.00e+00%\n",
      "            Group 3 [13840300.0 - 14918200.0eV]:\t2.04e-01 +/- 1.03e+02%\n",
      "            Group 4 [11618300.0 - 13840300.0eV]:\t2.02e-01 +/- 5.94e+01%\n",
      "            Group 5 [10000000.0 - 11618300.0eV]:\t1.96e-01 +/- 4.58e+01%\n",
      "            Group 6 [8187310.0  - 10000000.0eV]:\t1.91e-01 +/- 2.49e+01%\n",
      "            Group 7 [6703200.0  - 8187310.0 eV]:\t1.97e-01 +/- 1.16e+01%\n",
      "            Group 8 [6065310.0  - 6703200.0 eV]:\t1.96e-01 +/- 1.10e+01%\n",
      "            Group 9 [5488120.0  - 6065310.0 eV]:\t2.24e-01 +/- 1.07e+01%\n",
      "            Group 10 [4493290.0  - 5488120.0 eV]:\t2.31e-01 +/- 6.45e+00%\n",
      "            Group 11 [3678790.0  - 4493290.0 eV]:\t2.72e-01 +/- 6.13e+00%\n",
      "            Group 12 [3011940.0  - 3678790.0 eV]:\t2.91e-01 +/- 5.07e+00%\n",
      "            Group 13 [2465970.0  - 3011940.0 eV]:\t2.23e-01 +/- 4.52e+00%\n",
      "            Group 14 [2231300.0  - 2465970.0 eV]:\t1.96e-01 +/- 4.77e+00%\n",
      "            Group 15 [2018970.0  - 2231300.0 eV]:\t2.28e-01 +/- 6.09e+00%\n",
      "            Group 16 [1652990.0  - 2018970.0 eV]:\t2.47e-01 +/- 5.22e+00%\n",
      "            Group 17 [1353350.0  - 1652990.0 eV]:\t2.57e-01 +/- 3.98e+00%\n",
      "            Group 18 [1224560.0  - 1353350.0 eV]:\t3.29e-01 +/- 5.09e+00%\n",
      "            Group 19 [1108030.0  - 1224560.0 eV]:\t2.85e-01 +/- 5.45e+00%\n",
      "            Group 20 [1002590.0  - 1108030.0 eV]:\t3.90e-01 +/- 6.08e+00%\n",
      "            Group 21 [907180.0   - 1002590.0 eV]:\t4.03e-01 +/- 4.53e+00%\n",
      "            Group 22 [820850.0   - 907180.0  eV]:\t2.94e-01 +/- 4.95e+00%\n",
      "            Group 23 [608101.0   - 820850.0  eV]:\t2.97e-01 +/- 2.76e+00%\n",
      "            Group 24 [550232.0   - 608101.0  eV]:\t3.26e-01 +/- 6.60e+00%\n",
      "            Group 25 [497871.0   - 550232.0  eV]:\t3.61e-01 +/- 5.84e+00%\n",
      "            Group 26 [450492.0   - 497871.0  eV]:\t4.95e-01 +/- 7.59e+00%\n",
      "            Group 27 [407622.0   - 450492.0  eV]:\t7.98e-01 +/- 7.05e+00%\n",
      "            Group 28 [301974.0   - 407622.0  eV]:\t4.02e-01 +/- 3.11e+00%\n",
      "            Group 29 [273237.0   - 301974.0  eV]:\t3.74e-01 +/- 6.64e+00%\n",
      "            Group 30 [247235.0   - 273237.0  eV]:\t3.78e-01 +/- 7.06e+00%\n",
      "            Group 31 [183156.0   - 247235.0  eV]:\t3.89e-01 +/- 5.10e+00%\n",
      "            Group 32 [122773.0   - 183156.0  eV]:\t4.09e-01 +/- 3.31e+00%\n",
      "            Group 33 [111090.0   - 122773.0  eV]:\t4.23e-01 +/- 8.64e+00%\n",
      "            Group 34 [82297.5    - 111090.0  eV]:\t4.29e-01 +/- 5.95e+00%\n",
      "            Group 35 [67379.5    - 82297.5   eV]:\t4.39e-01 +/- 7.11e+00%\n",
      "            Group 36 [55165.6    - 67379.5   eV]:\t4.50e-01 +/- 6.36e+00%\n",
      "            Group 37 [40867.7    - 55165.6   eV]:\t4.59e-01 +/- 6.89e+00%\n",
      "            Group 38 [36978.6    - 40867.7   eV]:\t4.56e-01 +/- 9.24e+00%\n",
      "            Group 39 [29283.0    - 36978.6   eV]:\t4.77e-01 +/- 5.16e+00%\n",
      "            Group 40 [27394.4    - 29283.0   eV]:\t4.58e-01 +/- 1.14e+01%\n",
      "            Group 41 [24787.5    - 27394.4   eV]:\t4.70e-01 +/- 1.01e+01%\n",
      "            Group 42 [16615.6    - 24787.5   eV]:\t4.83e-01 +/- 5.77e+00%\n",
      "            Group 43 [15034.4    - 16615.6   eV]:\t4.93e-01 +/- 9.83e+00%\n",
      "            Group 44 [11137.8    - 15034.4   eV]:\t4.93e-01 +/- 5.66e+00%\n",
      "            Group 45 [9118.82    - 11137.8   eV]:\t4.87e-01 +/- 9.27e+00%\n",
      "            Group 46 [7465.86    - 9118.82   eV]:\t5.17e-01 +/- 6.86e+00%\n",
      "            Group 47 [5530.84    - 7465.86   eV]:\t4.98e-01 +/- 5.71e+00%\n",
      "            Group 48 [5004.51    - 5530.84   eV]:\t4.92e-01 +/- 1.04e+01%\n",
      "            Group 49 [3526.62    - 5004.51   eV]:\t5.15e-01 +/- 6.75e+00%\n",
      "            Group 50 [3354.63    - 3526.62   eV]:\t5.27e-01 +/- 1.83e+01%\n",
      "            Group 51 [2248.67    - 3354.63   eV]:\t5.29e-01 +/- 5.48e+00%\n",
      "            Group 52 [2034.68    - 2248.67   eV]:\t5.07e-01 +/- 1.16e+01%\n",
      "            Group 53 [1507.33    - 2034.68   eV]:\t4.95e-01 +/- 7.11e+00%\n",
      "            Group 54 [1433.82    - 1507.33   eV]:\t4.47e-01 +/- 1.50e+01%\n",
      "            Group 55 [1234.1     - 1433.82   eV]:\t5.02e-01 +/- 8.71e+00%\n",
      "            Group 56 [1010.39    - 1234.1    eV]:\t5.27e-01 +/- 9.41e+00%\n",
      "            Group 57 [914.242    - 1010.39   eV]:\t5.71e-01 +/- 9.31e+00%\n",
      "            Group 58 [748.518    - 914.242   eV]:\t4.54e-01 +/- 9.78e+00%\n",
      "            Group 59 [677.287    - 748.518   eV]:\t5.02e-01 +/- 1.11e+01%\n",
      "            Group 60 [453.999    - 677.287   eV]:\t4.85e-01 +/- 5.82e+00%\n",
      "            Group 61 [371.703    - 453.999   eV]:\t5.19e-01 +/- 8.06e+00%\n",
      "            Group 62 [304.325    - 371.703   eV]:\t4.94e-01 +/- 7.66e+00%\n",
      "            Group 63 [203.995    - 304.325   eV]:\t5.93e-01 +/- 6.13e+00%\n",
      "            Group 64 [148.625    - 203.995   eV]:\t5.74e-01 +/- 7.25e+00%\n",
      "            Group 65 [136.742    - 148.625   eV]:\t4.64e-01 +/- 1.12e+01%\n",
      "            Group 66 [91.6609    - 136.742   eV]:\t6.15e-01 +/- 6.12e+00%\n",
      "            Group 67 [75.6736    - 91.6609   eV]:\t4.63e-01 +/- 8.80e+00%\n",
      "            Group 68 [67.9041    - 75.6736   eV]:\t5.24e-01 +/- 1.00e+01%\n",
      "            Group 69 [55.5951    - 67.9041   eV]:\t5.80e-01 +/- 9.38e+00%\n",
      "            Group 70 [51.578     - 55.5951   eV]:\t4.63e-01 +/- 1.53e+01%\n",
      "            Group 71 [48.2516    - 51.578    eV]:\t5.01e-01 +/- 1.56e+01%\n",
      "            Group 72 [45.5174    - 48.2516   eV]:\t4.92e-01 +/- 1.50e+01%\n",
      "            Group 73 [40.169     - 45.5174   eV]:\t5.73e-01 +/- 1.11e+01%\n",
      "            Group 74 [37.2665    - 40.169    eV]:\t1.11e+00 +/- 1.45e+01%\n",
      "            Group 75 [33.7201    - 37.2665   eV]:\t1.64e+00 +/- 1.58e+01%\n",
      "            Group 76 [30.5113    - 33.7201   eV]:\t3.58e-01 +/- 1.10e+01%\n",
      "            Group 77 [27.6077    - 30.5113   eV]:\t3.86e-01 +/- 1.19e+01%\n",
      "            Group 78 [24.9805    - 27.6077   eV]:\t4.33e-01 +/- 1.01e+01%\n",
      "            Group 79 [22.6033    - 24.9805   eV]:\t5.30e-01 +/- 9.35e+00%\n",
      "            Group 80 [19.4548    - 22.6033   eV]:\t1.31e+00 +/- 1.09e+01%\n",
      "            Group 81 [15.9283    - 19.4548   eV]:\t3.95e-01 +/- 8.94e+00%\n",
      "            Group 82 [13.7096    - 15.9283   eV]:\t3.93e-01 +/- 9.32e+00%\n",
      "            Group 83 [11.2245    - 13.7096   eV]:\t4.52e-01 +/- 9.64e+00%\n",
      "            Group 84 [9.90555    - 11.2245   eV]:\t4.12e-01 +/- 1.03e+01%\n",
      "            Group 85 [9.18981    - 9.90555   eV]:\t4.48e-01 +/- 1.19e+01%\n",
      "            Group 86 [8.31529    - 9.18981   eV]:\t6.06e-01 +/- 1.19e+01%\n",
      "            Group 87 [7.52398    - 8.31529   eV]:\t4.80e-01 +/- 1.41e+01%\n",
      "            Group 88 [6.16012    - 7.52398   eV]:\t1.62e+00 +/- 9.63e+00%\n",
      "            Group 89 [5.34643    - 6.16012   eV]:\t4.39e-01 +/- 8.47e+00%\n",
      "            Group 90 [5.04348    - 5.34643   eV]:\t3.87e-01 +/- 1.39e+01%\n",
      "            Group 91 [4.12925    - 5.04348   eV]:\t3.98e-01 +/- 8.76e+00%\n",
      "            Group 92 [4.0        - 4.12925   eV]:\t3.78e-01 +/- 2.57e+01%\n",
      "            Group 93 [3.38075    - 4.0       eV]:\t4.05e-01 +/- 1.08e+01%\n",
      "            Group 94 [3.3        - 3.38075   eV]:\t3.93e-01 +/- 2.35e+01%\n",
      "            Group 95 [2.76792    - 3.3       eV]:\t4.03e-01 +/- 8.46e+00%\n",
      "            Group 96 [2.72       - 2.76792   eV]:\t3.87e-01 +/- 2.20e+01%\n",
      "            Group 97 [2.6        - 2.72      eV]:\t3.87e-01 +/- 1.77e+01%\n",
      "            Group 98 [2.55       - 2.6       eV]:\t3.87e-01 +/- 2.30e+01%\n",
      "            Group 99 [2.36       - 2.55      eV]:\t3.89e-01 +/- 1.57e+01%\n",
      "            Group 100 [2.13       - 2.36      eV]:\t3.91e-01 +/- 1.21e+01%\n",
      "            Group 101 [2.1        - 2.13      eV]:\t3.99e-01 +/- 2.91e+01%\n",
      "            Group 102 [2.02       - 2.1       eV]:\t4.28e-01 +/- 1.74e+01%\n",
      "            Group 103 [1.93       - 2.02      eV]:\t4.10e-01 +/- 1.72e+01%\n",
      "            Group 104 [1.84       - 1.93      eV]:\t3.95e-01 +/- 1.76e+01%\n",
      "            Group 105 [1.755      - 1.84      eV]:\t3.95e-01 +/- 2.20e+01%\n",
      "            Group 106 [1.67       - 1.755     eV]:\t3.95e-01 +/- 1.61e+01%\n",
      "            Group 107 [1.59       - 1.67      eV]:\t3.96e-01 +/- 1.18e+01%\n",
      "            Group 108 [1.5        - 1.59      eV]:\t3.97e-01 +/- 1.44e+01%\n",
      "            Group 109 [1.475      - 1.5       eV]:\t3.98e-01 +/- 4.08e+01%\n",
      "            Group 110 [1.44498    - 1.475     eV]:\t3.99e-01 +/- 2.31e+01%\n",
      "            Group 111 [1.37       - 1.44498   eV]:\t4.01e-01 +/- 1.30e+01%\n",
      "            Group 112 [1.3375     - 1.37      eV]:\t4.04e-01 +/- 2.54e+01%\n",
      "            Group 113 [1.3        - 1.3375    eV]:\t4.08e-01 +/- 2.40e+01%\n",
      "            Group 114 [1.235      - 1.3       eV]:\t4.16e-01 +/- 1.68e+01%\n",
      "            Group 115 [1.17       - 1.235     eV]:\t4.47e-01 +/- 1.69e+01%\n",
      "            Group 116 [1.15       - 1.17      eV]:\t4.80e-01 +/- 2.28e+01%\n",
      "            Group 117 [1.12535    - 1.15      eV]:\t4.86e-01 +/- 2.83e+01%\n",
      "            Group 118 [1.11       - 1.12535   eV]:\t4.83e-01 +/- 3.09e+01%\n",
      "            Group 119 [1.097      - 1.11      eV]:\t4.77e-01 +/- 4.03e+01%\n",
      "            Group 120 [1.071      - 1.097     eV]:\t4.69e-01 +/- 2.54e+01%\n",
      "            Group 121 [1.045      - 1.071     eV]:\t4.56e-01 +/- 2.21e+01%\n",
      "            Group 122 [1.035      - 1.045     eV]:\t4.50e-01 +/- 4.14e+01%\n",
      "            Group 123 [1.02       - 1.035     eV]:\t4.47e-01 +/- 2.56e+01%\n",
      "            Group 124 [0.996      - 1.02      eV]:\t4.42e-01 +/- 2.44e+01%\n",
      "            Group 125 [0.986      - 0.996     eV]:\t4.39e-01 +/- 3.31e+01%\n",
      "            Group 126 [0.972      - 0.986     eV]:\t4.37e-01 +/- 2.40e+01%\n",
      "            Group 127 [0.95       - 0.972     eV]:\t4.35e-01 +/- 1.95e+01%\n",
      "            Group 128 [0.93       - 0.95      eV]:\t4.34e-01 +/- 2.21e+01%\n",
      "            Group 129 [0.91       - 0.93      eV]:\t4.33e-01 +/- 2.55e+01%\n",
      "            Group 130 [0.86       - 0.91      eV]:\t4.32e-01 +/- 1.85e+01%\n",
      "            Group 131 [0.85       - 0.86      eV]:\t4.31e-01 +/- 3.26e+01%\n",
      "            Group 132 [0.79       - 0.85      eV]:\t4.31e-01 +/- 1.28e+01%\n",
      "            Group 133 [0.78       - 0.79      eV]:\t4.32e-01 +/- 2.53e+01%\n",
      "            Group 134 [0.705      - 0.78      eV]:\t4.34e-01 +/- 1.09e+01%\n",
      "            Group 135 [0.625      - 0.705     eV]:\t4.38e-01 +/- 9.52e+00%\n",
      "            Group 136 [0.54       - 0.625     eV]:\t4.45e-01 +/- 8.18e+00%\n",
      "            Group 137 [0.5        - 0.54      eV]:\t4.54e-01 +/- 1.30e+01%\n",
      "            Group 138 [0.485      - 0.5       eV]:\t4.59e-01 +/- 1.74e+01%\n",
      "            Group 139 [0.433      - 0.485     eV]:\t4.67e-01 +/- 1.19e+01%\n",
      "            Group 140 [0.4        - 0.433     eV]:\t4.80e-01 +/- 1.07e+01%\n",
      "            Group 141 [0.391      - 0.4       eV]:\t4.90e-01 +/- 2.43e+01%\n",
      "            Group 142 [0.35       - 0.391     eV]:\t5.04e-01 +/- 8.61e+00%\n",
      "            Group 143 [0.32       - 0.35      eV]:\t5.30e-01 +/- 1.22e+01%\n",
      "            Group 144 [0.3145     - 0.32      eV]:\t5.44e-01 +/- 2.84e+01%\n",
      "            Group 145 [0.3        - 0.3145    eV]:\t5.52e-01 +/- 1.51e+01%\n",
      "            Group 146 [0.28       - 0.3       eV]:\t5.61e-01 +/- 1.34e+01%\n",
      "            Group 147 [0.248      - 0.28      eV]:\t5.63e-01 +/- 8.92e+00%\n",
      "            Group 148 [0.22       - 0.248     eV]:\t5.56e-01 +/- 8.32e+00%\n",
      "            Group 149 [0.189      - 0.22      eV]:\t5.51e-01 +/- 9.78e+00%\n",
      "            Group 150 [0.18       - 0.189     eV]:\t5.52e-01 +/- 1.34e+01%\n",
      "            Group 151 [0.16       - 0.18      eV]:\t5.57e-01 +/- 9.49e+00%\n",
      "            Group 152 [0.14       - 0.16      eV]:\t5.66e-01 +/- 7.12e+00%\n",
      "            Group 153 [0.134      - 0.14      eV]:\t5.75e-01 +/- 1.23e+01%\n",
      "            Group 154 [0.115      - 0.134     eV]:\t5.86e-01 +/- 6.41e+00%\n",
      "            Group 155 [0.100001   - 0.115     eV]:\t6.04e-01 +/- 6.17e+00%\n",
      "            Group 156 [0.095      - 0.100001  eV]:\t6.17e-01 +/- 8.84e+00%\n",
      "            Group 157 [0.08       - 0.095     eV]:\t6.34e-01 +/- 6.29e+00%\n",
      "            Group 158 [0.077      - 0.08      eV]:\t6.51e-01 +/- 1.06e+01%\n",
      "            Group 159 [0.067      - 0.077     eV]:\t6.66e-01 +/- 4.53e+00%\n",
      "            Group 160 [0.058      - 0.067     eV]:\t6.91e-01 +/- 5.29e+00%\n",
      "            Group 161 [0.05       - 0.058     eV]:\t7.20e-01 +/- 5.73e+00%\n",
      "            Group 162 [0.042      - 0.05      eV]:\t7.54e-01 +/- 4.27e+00%\n",
      "            Group 163 [0.035      - 0.042     eV]:\t7.93e-01 +/- 5.42e+00%\n",
      "            Group 164 [0.03       - 0.035     eV]:\t8.35e-01 +/- 6.28e+00%\n",
      "            Group 165 [0.025      - 0.03      eV]:\t8.78e-01 +/- 6.04e+00%\n",
      "            Group 166 [0.02       - 0.025     eV]:\t9.37e-01 +/- 6.01e+00%\n",
      "            Group 167 [0.015      - 0.02      eV]:\t1.02e+00 +/- 6.90e+00%\n",
      "            Group 168 [0.01       - 0.015     eV]:\t1.15e+00 +/- 7.93e+00%\n",
      "            Group 169 [0.0069     - 0.01      eV]:\t1.33e+00 +/- 1.13e+01%\n",
      "            Group 170 [0.005      - 0.0069    eV]:\t1.51e+00 +/- 1.54e+01%\n",
      "            Group 171 [0.003      - 0.005     eV]:\t1.76e+00 +/- 1.85e+01%\n",
      "            Group 172 [1.00001e-05 - 0.003     eV]:\t2.45e+00 +/- 2.46e+01%\n",
      "\n",
      "\n",
      "\n"
     ]
    },
    {
     "name": "stderr",
     "output_type": "stream",
     "text": [
      "/home/pablo/anaconda3/envs/openmc-env/lib/python3.12/site-packages/openmc/tallies.py:1278: RuntimeWarning: invalid value encountered in divide\n",
      "  data = self.std_dev[indices] / self.mean[indices]\n"
     ]
    }
   ],
   "source": [
    "mgxs_lib.load_from_statepoint(sp)\n",
    "type(mgxs_lib)\n",
    "reaction_print = 'total'\n",
    "cell_print=fuel_in\n",
    "df_mgxs = mgxs_lib.get_mgxs(cell_print, reaction_print)\n",
    "df_mgxs.print_xs()"
   ]
  },
  {
   "cell_type": "markdown",
   "id": "b660bdb6-73e7-49cd-b5db-153a6d77aad9",
   "metadata": {},
   "source": [
    "### Plot MGXS from mgxs directory"
   ]
  },
  {
   "cell_type": "code",
   "execution_count": 36,
   "id": "7b3d5674-d33b-4dd7-83a0-fd5e462f8751",
   "metadata": {},
   "outputs": [
    {
     "data": {
      "image/png": "[encoded data removed]",
      "text/plain": [
       "<Figure size 640x480 with 1 Axes>"
      ]
     },
     "metadata": {},
     "output_type": "display_data"
    }
   ],
   "source": [
    "reaction_plot = 'total'\n",
    "cell_plot_1 = fuel_in\n",
    "cell_name_1='fuel_in'\n",
    "cell_plot_2 = fuel_out\n",
    "cell_name_2='fuel_out'\n",
    "\n",
    "\n",
    "mgxs_plot_1 = mgxs_lib.get_mgxs(cell_plot_1, reaction_plot)\n",
    "\n",
    "mgxs1=mgxs_plot_1.get_pandas_dataframe(xs_type='macro')['mean'].values\n",
    "mgxs_plot_2 = mgxs_lib.get_mgxs(cell_plot_2, reaction_plot)\n",
    "mgxs2=mgxs_plot_2.get_pandas_dataframe(xs_type='macro')['mean'].values\n",
    "\n",
    "\n",
    "fig, ax = plt.subplots()\n",
    "ax.step(choose_group[:-1], np.flip(mgxs1), where='post', label=cell_name_1) \n",
    "ax.step(choose_group[:-1], np.flip(mgxs2), where='post', label=cell_name_2) \n",
    "\n",
    "        \n",
    "ax.set_xscale('log')\n",
    "ax.set_yscale('log')\n",
    "ax.set_xlabel('Energy [MeV]')\n",
    "ax.set_ylabel('MGXS [cm-1]')\n",
    "ax.grid() \n",
    "# bbox = ax.get_position()\n",
    "# ax.text(bbox.x1 - 0.05, bbox.y0 - 0.05, reaction_plot, fontsize=15, color='red', ha='right')\n",
    "ax.legend()\n",
    "plt.show()"
   ]
  },
  {
   "cell_type": "code",
   "execution_count": null,
   "id": "68729dd5-3595-4b6f-8f6f-a7f981b7932d",
   "metadata": {},
   "outputs": [],
   "source": []
  },
  {
   "cell_type": "code",
   "execution_count": null,
   "id": "ad5b802e-c649-47f3-8c63-2a782e947c91",
   "metadata": {},
   "outputs": [],
   "source": []
  },
  {
   "cell_type": "code",
   "execution_count": null,
   "id": "f3a342b0-d218-4aaa-8103-443848733cb2",
   "metadata": {},
   "outputs": [],
   "source": []
  },
  {
   "cell_type": "code",
   "execution_count": null,
   "id": "1655926f-d4a8-4889-8d29-d8dadf21926f",
   "metadata": {},
   "outputs": [],
   "source": []
  },
  {
   "cell_type": "code",
   "execution_count": null,
   "id": "86dc9b0c-55fe-4987-aa54-f40319c8b9c3",
   "metadata": {},
   "outputs": [],
   "source": []
  },
  {
   "cell_type": "code",
   "execution_count": null,
   "id": "dd76073d-ec99-451d-9edd-f2df193fa6a3",
   "metadata": {},
   "outputs": [],
   "source": []
  },
  {
   "cell_type": "code",
   "execution_count": null,
   "id": "0054075c-dc0c-4c9e-a765-6c1c177042ed",
   "metadata": {},
   "outputs": [],
   "source": []
  },
  {
   "cell_type": "code",
   "execution_count": null,
   "id": "d3502bbe-7520-449b-84a5-49ce90aba28b",
   "metadata": {},
   "outputs": [],
   "source": []
  },
  {
   "cell_type": "code",
   "execution_count": null,
   "id": "030981d6-0465-4343-b744-996b2ccbcca8",
   "metadata": {},
   "outputs": [],
   "source": []
  },
  {
   "cell_type": "code",
   "execution_count": null,
   "id": "043f6877-1649-4c90-a729-580a8beb1fc4",
   "metadata": {},
   "outputs": [],
   "source": []
  }
 ],
 "metadata": {
  "kernelspec": {
   "display_name": "Python 3 (ipykernel)",
   "language": "python",
   "name": "python3"
  },
  "language_info": {
   "codemirror_mode": {
    "name": "ipython",
    "version": 3
   },
   "file_extension": ".py",
   "mimetype": "text/x-python",
   "name": "python",
   "nbconvert_exporter": "python",
   "pygments_lexer": "ipython3",
   "version": "3.12.3"
  }
 },
 "nbformat": 4,
 "nbformat_minor": 5
}
