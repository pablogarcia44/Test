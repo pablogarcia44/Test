{
 "cells": [
  {
   "cell_type": "markdown",
   "id": "cdd8a24a-a018-4a2b-aaed-7eae9c99a62b",
   "metadata": {},
   "source": [
    "# 3x3 assembly inputfile that: "
   ]
  },
  {
   "cell_type": "markdown",
   "id": "880099d7-f1e0-4a4f-9a03-3d4c52de6943",
   "metadata": {},
   "source": [
    "### Import module/Set up XS path/Create openMC model/Clean directory"
   ]
  },
  {
   "cell_type": "code",
   "execution_count": 231,
   "id": "e4b5e472-92fe-4d54-b9df-c70131c052a1",
   "metadata": {},
   "outputs": [],
   "source": [
    "import sys\n",
    "import os \n",
    "import openmc\n",
    "import numpy as np\n",
    "import matplotlib.pyplot as plt\n",
    "import openmc.mgxs as mgxs\n",
    "import pandas as pd\n",
    "from IPython.display import Image\n",
    "import glob"
   ]
  },
  {
   "cell_type": "markdown",
   "id": "1c6bc5c7-2dcc-40b3-98c0-f0b7fc3f5ac5",
   "metadata": {},
   "source": [
    "### Ragusa environnement"
   ]
  },
  {
   "cell_type": "markdown",
   "id": "99b24d1d-e008-48ce-bdee-c3878c477f87",
   "metadata": {},
   "source": [
    "import os\n",
    "\n",
    "# Add path to OpenMC binary\n",
    "# os.environ['PATH'] += r':/path/to/openmc/bin'\n",
    "os.environ['PATH'] += r':/Users/jean.ragusa/repo/openmc/local/bin'\n",
    "\n",
    "# Add location of OpenMC xs data\n",
    "%env OPENMC_CROSS_SECTIONS=/Users/jean.ragusa/repo/endfb-viii.0-hdf5/cross_sections.xml\n",
    "# %env OPENMC_CROSS_SECTIONS=/Users/jean.ragusa/repo/nndc_hdf5/cross_sections.xml"
   ]
  },
  {
   "cell_type": "markdown",
   "id": "e02f7d89-8f36-4c72-80d6-f1b53646d94e",
   "metadata": {},
   "source": [
    "### Pablo environnement"
   ]
  },
  {
   "cell_type": "code",
   "execution_count": 232,
   "id": "1e7cc449-037d-4c4f-aa2e-6f21e06bd185",
   "metadata": {},
   "outputs": [
    {
     "name": "stdout",
     "output_type": "stream",
     "text": [
      "env: OPENMC_CROSS_SECTIONS=/home/pablo/internship/xs_for_input/cross_sections.xml\n"
     ]
    }
   ],
   "source": [
    "%env OPENMC_CROSS_SECTIONS=/home/pablo/internship/xs_for_input/cross_sections.xml\n",
    "model=openmc.Model()\n",
    "\n",
    "clean_file_list = [\"model.xml\", \"materials.xml\", \"geometry.xml\",\"plots.xml\",\"geometry.xml\",\"settings.xml\",\"tallies.out\",\"summary.h5\",\"statepoint.50.h5\"]\n",
    "\n",
    "for file in clean_file_list :\n",
    "    path_file = os.path.join(os.getcwd(), file)\n",
    "    if os.path.exists(path_file):\n",
    "        os.remove(path_file)\n",
    "\n",
    "### Define Materials"
   ]
  },
  {
   "cell_type": "code",
   "execution_count": 233,
   "id": "50dee80c-d7a7-49e1-99ef-5094e87b5808",
   "metadata": {},
   "outputs": [],
   "source": [
    "uo2 = openmc.Material(name='uo2')\n",
    "uo2.add_nuclide('U235', 0.03)\n",
    "uo2.add_nuclide('U238', 0.97)\n",
    "uo2.add_nuclide('O16', 2.0)\n",
    "uo2.set_density('g/cm3', 10.0)\n",
    "zirconium = openmc.Material(name=\"zirconium\")\n",
    "zirconium.add_element('Zr', 1.0)\n",
    "zirconium.set_density('g/cm3', 6.6)\n",
    "water = openmc.Material(name=\"water\")\n",
    "water.add_nuclide('H1', 2.0)\n",
    "water.add_nuclide('O16', 1.0)\n",
    "water.set_density('g/cm3', 0.2)\n",
    "water.add_s_alpha_beta('c_H_in_H2O')\n",
    "water_bis = openmc.Material(name=\"water_bis\")\n",
    "water_bis.add_nuclide('H1', 2.0)\n",
    "water_bis.add_nuclide('O16', 1.0)\n",
    "water_bis.set_density('g/cm3', 1.)\n",
    "water_bis.add_s_alpha_beta('c_H_in_H2O')\n",
    "\n",
    "\n",
    "    \n",
    "model.materials = openmc.Materials([uo2, zirconium, water,water_bis]) \n",
    "model.materials.export_to_xml()"
   ]
  },
  {
   "cell_type": "markdown",
   "id": "ffd5255c-47f3-4394-836f-140dddeef018",
   "metadata": {},
   "source": [
    "### Create region"
   ]
  },
  {
   "cell_type": "code",
   "execution_count": 234,
   "id": "1e89455a-ddd4-4068-9158-93f3722994b2",
   "metadata": {},
   "outputs": [],
   "source": [
    "fuel_outer_radius = openmc.ZCylinder(r=0.39)\n",
    "clad_inner_radius = openmc.ZCylinder(r=0.40)\n",
    "clad_outer_radius = openmc.ZCylinder(r=0.46)\n",
    "pitch = 1.26\n",
    "left = openmc.XPlane(-pitch/2, boundary_type='reflective')\n",
    "right = openmc.XPlane(pitch/2, boundary_type='reflective')\n",
    "bottom = openmc.YPlane(-pitch/2, boundary_type='reflective')\n",
    "top = openmc.YPlane(pitch/2, boundary_type='reflective')\n",
    "    \n",
    "fuel_region = -fuel_outer_radius\n",
    "gap_region = +fuel_outer_radius & -gap_outer_radius\n",
    "clad_region = +clad_inner_radius & -clad_outer_radius\n",
    "water_region = +left & -right & +bottom & -top & +clad_outer_radius\n",
    "   "
   ]
  },
  {
   "cell_type": "markdown",
   "id": "484c8888-99aa-44a1-b072-ddb74d2e2872",
   "metadata": {},
   "source": [
    "### Create pincell_side"
   ]
  },
  {
   "cell_type": "code",
   "execution_count": 235,
   "id": "05fefc1f-a71d-426a-adeb-b01ae7852b92",
   "metadata": {},
   "outputs": [],
   "source": [
    " \n",
    "fuel_side = openmc.Cell(name='fuel_side')\n",
    "fuel_side.fill = uo2\n",
    "fuel_side.region = fuel_region\n",
    "gap_side = openmc.Cell(name='gap_side')\n",
    "gap_side.region = gap_region\n",
    "clad_side = openmc.Cell(name='clad_side')\n",
    "clad_side.fill = zirconium\n",
    "clad_side.region = clad_region\n",
    "moderator_side = openmc.Cell(name='moderator_side')\n",
    "moderator_side.fill = water\n",
    "moderator_side.region = water_region\n",
    "\n",
    "u_side = openmc.Universe(cells=(fuel_side, gap_side, clad_side, moderator_side))"
   ]
  },
  {
   "cell_type": "markdown",
   "id": "8ed9147c-243c-4755-b645-b834b344e8d3",
   "metadata": {},
   "source": [
    "### Create pincell_diag"
   ]
  },
  {
   "cell_type": "code",
   "execution_count": 236,
   "id": "543d7f0a-88d7-46b5-8bcd-11a83368f8e2",
   "metadata": {},
   "outputs": [],
   "source": [
    "fuel_diag = openmc.Cell(name='fuel_diag')\n",
    "fuel_diag.fill = uo2\n",
    "fuel_diag.region = fuel_region\n",
    "gap_diag = openmc.Cell(name='gap_diag')\n",
    "gap_diag.region = gap_region\n",
    "clad_diag = openmc.Cell(name='clad_diag')\n",
    "clad_diag.fill = zirconium\n",
    "clad_diag.region = clad_region\n",
    "moderator_diag = openmc.Cell(name='moderator_diag')\n",
    "moderator_diag.fill = water_bis\n",
    "moderator_diag.region = water_region\n",
    "    \n",
    "u_diag = openmc.Universe(cells=(fuel_diag, gap_diag, clad_diag, moderator_diag))"
   ]
  },
  {
   "cell_type": "markdown",
   "id": "a3ef7eea-62cb-4fd2-938d-5912e82a29c9",
   "metadata": {},
   "source": [
    "### Create guide tube pincell"
   ]
  },
  {
   "cell_type": "code",
   "execution_count": 237,
   "id": "036448fe-baa8-4309-b949-f548778fe9f4",
   "metadata": {},
   "outputs": [],
   "source": [
    "water_guide_region= -clad_inner_radius\n",
    "\n",
    "water_guide = openmc.Cell(name='water_guide')\n",
    "water_guide.fill = water\n",
    "water_guide.region = water_guide_region\n",
    "clad_guide = openmc.Cell(name='clad_guide')\n",
    "clad_guide.fill = zirconium\n",
    "clad_guide.region = clad_region\n",
    "moderator_guide = openmc.Cell(name='moderator_guide')\n",
    "moderator_guide.fill = water\n",
    "moderator_guide.region = water_region\n",
    "    \n",
    "u_guide = openmc.Universe(cells=(water_guide, clad_guide, moderator_guide))\n",
    "\n"
   ]
  },
  {
   "cell_type": "markdown",
   "id": "6367df82-7c94-493c-b736-10a8d34cf7de",
   "metadata": {},
   "source": [
    "### Define assembly"
   ]
  },
  {
   "cell_type": "code",
   "execution_count": 238,
   "id": "1069e3ad-664b-4230-b4eb-f024e4117c52",
   "metadata": {},
   "outputs": [
    {
     "name": "stderr",
     "output_type": "stream",
     "text": [
      "/home/pablo/anaconda3/envs/openmc-env/lib/python3.12/site-packages/openmc/mixin.py:70: IDWarning: Another UniverseBase instance already exists with id=0.\n",
      "  warn(msg, IDWarning)\n"
     ]
    }
   ],
   "source": [
    "assembly = openmc.RectLattice()\n",
    "assembly.lower_left = (-1.5*pitch, -1.5*pitch)\n",
    "assembly.pitch = (1.26, 1.26)\n",
    "assembly.universes = [[u_diag, u_side, u_diag],\n",
    "                      [u_side, u_guide, u_side],\n",
    "                      [u_diag, u_side, u_diag]]\n",
    "            \n",
    "    \n",
    "    \n",
    "root_cell = openmc.Cell(name='root cell')\n",
    "root_cell.fill = assembly\n",
    "\n",
    "min_x = openmc.XPlane(x0=0., boundary_type='reflective')\n",
    "max_x = openmc.XPlane(x0=+1.5*pitch, boundary_type='reflective')\n",
    "min_y = openmc.YPlane(y0=-0., boundary_type='reflective')\n",
    "max_y = openmc.YPlane(y0=+1.5*pitch, boundary_type='reflective')\n",
    "min_z = openmc.ZPlane(z0=-10., boundary_type='reflective')\n",
    "max_z = openmc.ZPlane(z0=+10., boundary_type='reflective')\n",
    "root_cell.region = +min_x & -max_x & +min_y & -max_y & +min_z & -max_z\n",
    "    \n",
    "    \n",
    "root_universe = openmc.Universe(universe_id=0, name='root universe')\n",
    "root_universe.add_cell(root_cell)\n",
    "model.geometry = openmc.Geometry(root_universe)\n",
    "model.geometry.export_to_xml()\n",
    "\n",
    "# model.geometry.get_all_material_cells().values()\n",
    "# model.geometry.get_all_materials().values()\n"
   ]
  },
  {
   "cell_type": "markdown",
   "id": "cb57e6ef-e360-4240-b603-5c9388897f2f",
   "metadata": {},
   "source": [
    "### Plot assembly"
   ]
  },
  {
   "cell_type": "code",
   "execution_count": 239,
   "id": "bfe652c0-aa3f-442e-a6f5-6659107cda3f",
   "metadata": {},
   "outputs": [
    {
     "data": {
      "image/png": "[encoded data removed]",
      "text/plain": [
       "<IPython.core.display.Image object>"
      ]
     },
     "execution_count": 239,
     "metadata": {},
     "output_type": "execute_result"
    }
   ],
   "source": [
    "plot = openmc.Plot.from_geometry(model.geometry)\n",
    "plot.pixels = (500, 500)\n",
    "plot.width = (3*pitch, 3*pitch)\n",
    "plot.origin = (0., 0., 0)\n",
    "plot.color_by = 'cell'\n",
    "# plot.colors = {\n",
    "#     water: 'blue',\n",
    "#     zirconium: 'black',\n",
    "#     helium: 'yellow',\n",
    "#     uo2_in: (100, 0, 0),\n",
    "#     uo2_out: (255, 0, 0)\n",
    "# }\n",
    "plot.to_ipython_image()"
   ]
  },
  {
   "cell_type": "markdown",
   "id": "90c73240-9aae-4a8e-ab35-fbc68032fb85",
   "metadata": {},
   "source": [
    "### Choose settings"
   ]
  },
  {
   "cell_type": "code",
   "execution_count": 240,
   "id": "42b13809-e8ac-45b5-8e4d-af2f00a57694",
   "metadata": {},
   "outputs": [],
   "source": [
    "source = openmc.IndependentSource()\n",
    "source.space = openmc.stats.Point((0.1,0.1,0.))\n",
    "source.angle = openmc.stats.Isotropic()\n",
    "source.energy = openmc.stats.Discrete([10.0e6], [1.0])\n",
    "source.time = openmc.stats.Uniform(0, 1e-6)\n",
    "settings = openmc.Settings()\n",
    "settings.source = source\n",
    "settings = openmc.Settings()\n",
    "settings.source = source\n",
    "settings.batches = 50\n",
    "settings.inactive = 10\n",
    "settings.particles = 50000\n",
    "settings.output = {'tallies':True}\n",
    "model.settings = settings\n",
    "model.settings.export_to_xml()"
   ]
  },
  {
   "cell_type": "markdown",
   "id": "709977dc-3ea8-48a7-ab09-bb9cecc54ffa",
   "metadata": {},
   "source": [
    "### Define and choose energy group"
   ]
  },
  {
   "cell_type": "code",
   "execution_count": 241,
   "id": "fbc12bc6-1180-46b2-af7e-d54c0cedb555",
   "metadata": {},
   "outputs": [],
   "source": [
    "choose_group=openmc.mgxs.GROUP_STRUCTURES['XMAS-172']\n",
    "name_group='XMAS172'"
   ]
  },
  {
   "cell_type": "markdown",
   "id": "c4e87c13-a743-4039-b93c-001057d7b3af",
   "metadata": {},
   "source": [
    "### Create MGXS tallies for mgxs directory"
   ]
  },
  {
   "cell_type": "code",
   "execution_count": 242,
   "id": "a323cc06-df7d-48a6-9cf1-c79117dad6b0",
   "metadata": {},
   "outputs": [
    {
     "name": "stderr",
     "output_type": "stream",
     "text": [
      "/home/pablo/anaconda3/envs/openmc-env/lib/python3.12/site-packages/openmc/mgxs/library.py:401: RuntimeWarning: The P0 correction will be ignored since the scattering order 3 is greater than zero\n",
      "  warn(msg, RuntimeWarning)\n"
     ]
    }
   ],
   "source": [
    "mgxs_lib = openmc.mgxs.Library(model.geometry)\n",
    "groups = openmc.mgxs.EnergyGroups(choose_group)\n",
    "mgxs_lib.energy_groups = groups\n",
    "mgxs_lib.scatter_format = \"legendre\"\n",
    "mgxs_lib.legendre_order = 3\n",
    "mgxs_lib.mgxs_types = ['total', 'absorption', 'fission', 'nu-fission', 'chi', 'scatter matrix', 'nu-scatter matrix', 'inverse-velocity']\n",
    "mgxs_lib.tally_trigger =openmc.Trigger('std_dev', 1e-2)\n",
    "mgxs_lib.by_nuclide = False\n",
    "mgxs_lib.domain_type = 'cell'\n",
    "mgxs_lib.domains = model.geometry.get_all_material_cells().values()\n",
    "mgxs_lib.build_library()\n",
    "tallies = openmc.Tallies()\n",
    "mgxs_lib.add_to_tallies_file(tallies, merge=True)\n",
    "#tally_flux.merge_tallies()\n",
    "model.tallies = tallies\n",
    "#print(model.tallies)"
   ]
  },
  {
   "cell_type": "markdown",
   "id": "971540b5-5bfb-47be-86f6-9d8b80a38f27",
   "metadata": {},
   "source": [
    "### Run OpenMC model"
   ]
  },
  {
   "cell_type": "code",
   "execution_count": 243,
   "id": "671d9ecc-de0d-462b-8fa6-60cbff66fe86",
   "metadata": {},
   "outputs": [
    {
     "name": "stderr",
     "output_type": "stream",
     "text": [
      "/home/pablo/anaconda3/envs/openmc-env/lib/python3.12/site-packages/openmc/mixin.py:70: IDWarning: Another Filter instance already exists with id=3017.\n",
      "  warn(msg, IDWarning)\n",
      "/home/pablo/anaconda3/envs/openmc-env/lib/python3.12/site-packages/openmc/mixin.py:70: IDWarning: Another Filter instance already exists with id=2702.\n",
      "  warn(msg, IDWarning)\n",
      "/home/pablo/anaconda3/envs/openmc-env/lib/python3.12/site-packages/openmc/mixin.py:70: IDWarning: Another Filter instance already exists with id=2710.\n",
      "  warn(msg, IDWarning)\n"
     ]
    },
    {
     "name": "stdout",
     "output_type": "stream",
     "text": [
      "[Machine2:15269] mca_base_component_repository_open: unable to open mca_btl_openib: librdmacm.so.1: cannot open shared object file: No such file or directory (ignored)\n",
      "                                %%%%%%%%%%%%%%%\n",
      "                           %%%%%%%%%%%%%%%%%%%%%%%%\n",
      "                        %%%%%%%%%%%%%%%%%%%%%%%%%%%%%%\n",
      "                      %%%%%%%%%%%%%%%%%%%%%%%%%%%%%%%%%%\n",
      "                    %%%%%%%%%%%%%%%%%%%%%%%%%%%%%%%%%%%%%%\n",
      "                   %%%%%%%%%%%%%%%%%%%%%%%%%%%%%%%%%%%%%%%%\n",
      "                                    %%%%%%%%%%%%%%%%%%%%%%%%\n",
      "                                     %%%%%%%%%%%%%%%%%%%%%%%%\n",
      "                 ###############      %%%%%%%%%%%%%%%%%%%%%%%%\n",
      "                ##################     %%%%%%%%%%%%%%%%%%%%%%%\n",
      "                ###################     %%%%%%%%%%%%%%%%%%%%%%%\n",
      "                ####################     %%%%%%%%%%%%%%%%%%%%%%\n",
      "                #####################     %%%%%%%%%%%%%%%%%%%%%\n",
      "                ######################     %%%%%%%%%%%%%%%%%%%%\n",
      "                #######################     %%%%%%%%%%%%%%%%%%\n",
      "                 #######################     %%%%%%%%%%%%%%%%%\n",
      "                 ######################     %%%%%%%%%%%%%%%%%\n",
      "                  ####################     %%%%%%%%%%%%%%%%%\n",
      "                    #################     %%%%%%%%%%%%%%%%%\n",
      "                     ###############     %%%%%%%%%%%%%%%%\n",
      "                       ############     %%%%%%%%%%%%%%%\n",
      "                          ########     %%%%%%%%%%%%%%\n",
      "                                      %%%%%%%%%%%\n",
      "\n",
      "                 | The OpenMC Monte Carlo Code\n",
      "       Copyright | 2011-2023 MIT, UChicago Argonne LLC, and contributors\n",
      "         License | https://docs.openmc.org/en/latest/license.html\n",
      "         Version | 0.14.0\n",
      "        Git SHA1 | e1a8ee7794b441c992426f17fafe216391cbba83\n",
      "       Date/Time | 2024-05-15 20:57:23\n",
      "   MPI Processes | 1\n",
      "  OpenMP Threads | 5\n",
      "\n",
      " Reading model XML file './model.xml' ...\n",
      " WARNING: Other XML file input(s) are present. These files may be ignored in\n",
      "          favor of the ./model.xml file.\n",
      " Reading cross sections XML file...\n",
      " Reading U235 from /home/pablo/internship/xs_for_input/jeff-3.3-hdf5/U235.h5\n",
      " Reading U238 from /home/pablo/internship/xs_for_input/jeff-3.3-hdf5/U238.h5\n",
      " Reading O16 from /home/pablo/internship/xs_for_input/jeff-3.3-hdf5/O16.h5\n",
      " Reading Zr90 from /home/pablo/internship/xs_for_input/jeff-3.3-hdf5/Zr90.h5\n",
      " Reading Zr91 from /home/pablo/internship/xs_for_input/jeff-3.3-hdf5/Zr91.h5\n",
      " Reading Zr92 from /home/pablo/internship/xs_for_input/jeff-3.3-hdf5/Zr92.h5\n",
      " Reading Zr94 from /home/pablo/internship/xs_for_input/jeff-3.3-hdf5/Zr94.h5\n",
      " Reading Zr96 from /home/pablo/internship/xs_for_input/jeff-3.3-hdf5/Zr96.h5\n",
      " Reading H1 from /home/pablo/internship/xs_for_input/jeff-3.3-hdf5/H1.h5\n",
      " Reading c_H_in_H2O from\n",
      " /home/pablo/internship/xs_for_input/jeff-3.3-hdf5/c_H_in_H2O.h5\n",
      " Minimum neutron data temperature: 294 K\n",
      " Maximum neutron data temperature: 294 K\n",
      " Preparing distributed cell instances...\n",
      " Reading plot XML file...\n",
      " Writing summary.h5 file...\n",
      " Maximum neutron transport energy: 20000000 eV for H1\n",
      " Initializing source particles...\n",
      "\n",
      " ====================>     K EIGENVALUE SIMULATION     <====================\n",
      "\n",
      "  Bat./Gen.      k            Average k\n",
      "  =========   ========   ====================\n",
      "        1/1    1.74259\n",
      "        2/1    1.35763\n",
      "        3/1    1.34626\n",
      "        4/1    1.34465\n",
      "        5/1    1.35875\n",
      "        6/1    1.35674\n",
      "        7/1    1.33874\n",
      "        8/1    1.34410\n",
      "        9/1    1.34636\n",
      "       10/1    1.35337\n",
      "       11/1    1.34466\n",
      "       12/1    1.35013    1.34740 +/- 0.00273\n",
      "       13/1    1.36006    1.35162 +/- 0.00451\n",
      "       14/1    1.33955    1.34860 +/- 0.00439\n",
      "       15/1    1.35032    1.34895 +/- 0.00342\n",
      "       16/1    1.34660    1.34856 +/- 0.00282\n",
      "       17/1    1.35453    1.34941 +/- 0.00253\n",
      "       18/1    1.36324    1.35114 +/- 0.00279\n",
      "       19/1    1.34457    1.35041 +/- 0.00257\n",
      "       20/1    1.36289    1.35166 +/- 0.00261\n",
      "       21/1    1.35143    1.35164 +/- 0.00236\n",
      "       22/1    1.36204    1.35250 +/- 0.00233\n",
      "       23/1    1.35436    1.35265 +/- 0.00214\n",
      "       24/1    1.35444    1.35277 +/- 0.00199\n",
      "       25/1    1.35646    1.35302 +/- 0.00187\n",
      "       26/1    1.35017    1.35284 +/- 0.00176\n",
      "       27/1    1.34506    1.35238 +/- 0.00171\n",
      "       28/1    1.34291    1.35186 +/- 0.00170\n",
      "       29/1    1.33486    1.35096 +/- 0.00184\n",
      "       30/1    1.34992    1.35091 +/- 0.00174\n",
      "       31/1    1.34633    1.35069 +/- 0.00167\n",
      "       32/1    1.34803    1.35057 +/- 0.00160\n",
      "       33/1    1.34881    1.35050 +/- 0.00153\n",
      "       34/1    1.34902    1.35043 +/- 0.00147\n",
      "       35/1    1.34465    1.35020 +/- 0.00143\n",
      "       36/1    1.35079    1.35023 +/- 0.00137\n",
      "       37/1    1.34536    1.35004 +/- 0.00133\n",
      "       38/1    1.34949    1.35003 +/- 0.00128\n",
      "       39/1    1.36419    1.35051 +/- 0.00133\n",
      "       40/1    1.35530    1.35067 +/- 0.00130\n",
      "       41/1    1.35427    1.35079 +/- 0.00126\n",
      "       42/1    1.36478    1.35123 +/- 0.00129\n",
      "       43/1    1.35916    1.35147 +/- 0.00128\n",
      "       44/1    1.35478    1.35156 +/- 0.00124\n",
      "       45/1    1.34945    1.35150 +/- 0.00121\n",
      "       46/1    1.34450    1.35131 +/- 0.00119\n",
      "       47/1    1.35662    1.35145 +/- 0.00117\n",
      "       48/1    1.35590    1.35157 +/- 0.00114\n",
      "       49/1    1.35192    1.35158 +/- 0.00111\n",
      "       50/1    1.35236    1.35160 +/- 0.00108\n",
      " Creating state point statepoint.50.h5...\n",
      "\n",
      " =======================>     TIMING STATISTICS     <=======================\n",
      "\n",
      " Total time for initialization     = 1.5837e+00 seconds\n",
      "   Reading cross sections          = 1.5413e+00 seconds\n",
      " Total time in simulation          = 7.0574e+01 seconds\n",
      "   Time in transport only          = 6.9723e+01 seconds\n",
      "   Time in inactive batches        = 1.0479e+01 seconds\n",
      "   Time in active batches          = 6.0095e+01 seconds\n",
      "   Time synchronizing fission bank = 2.5477e-01 seconds\n",
      "     Sampling source sites         = 1.9997e-01 seconds\n",
      "     SEND/RECV source sites        = 5.2985e-02 seconds\n",
      "   Time accumulating tallies       = 4.2802e-01 seconds\n",
      "   Time writing statepoints        = 7.1272e-02 seconds\n",
      " Total time for finalization       = 2.2214e+00 seconds\n",
      " Total time elapsed                = 7.4447e+01 seconds\n",
      " Calculation Rate (inactive)       = 47713.1 particles/second\n",
      " Calculation Rate (active)         = 33280.7 particles/second\n",
      "\n",
      " ============================>     RESULTS     <============================\n",
      "\n",
      " k-effective (Collision)     = 1.35138 +/- 0.00104\n",
      " k-effective (Track-length)  = 1.35160 +/- 0.00108\n",
      " k-effective (Absorption)    = 1.34968 +/- 0.00059\n",
      " Combined k-effective        = 1.35005 +/- 0.00056\n",
      " Leakage Fraction            = 0.00000 +/- 0.00000\n",
      "\n"
     ]
    }
   ],
   "source": [
    "model.export_to_xml()\n",
    "sp_file = model.run()\n",
    "sp = openmc.StatePoint(sp_file)"
   ]
  },
  {
   "cell_type": "markdown",
   "id": "4aab0d3a-2242-443e-bbf8-50d30637cabb",
   "metadata": {},
   "source": [
    "### Plot Flux"
   ]
  },
  {
   "cell_type": "code",
   "execution_count": 244,
   "id": "f06b0fe2-2baf-41ec-b558-6e37749dfa84",
   "metadata": {
    "scrolled": true
   },
   "outputs": [
    {
     "data": {
      "image/png": "[encoded data removed]",
      "text/plain": [
       "<Figure size 640x480 with 1 Axes>"
      ]
     },
     "metadata": {},
     "output_type": "display_data"
    }
   ],
   "source": [
    "from matplotlib.ticker import FixedLocator\n",
    "from matplotlib.ticker import LogLocator\n",
    "\n",
    "#Enter the name of the cell type string// example: fuel_out = openmc.Cell(name='fuel_out') ///\n",
    "cell_plot=['fuel_side','fuel_diag']#,'moderator_in']\n",
    "\n",
    "\n",
    "sp = openmc.StatePoint(sp_file)\n",
    "sp.tallies\n",
    "tally_flux_id=[]\n",
    "for index, tally in enumerate(sp.tallies):\n",
    "    if sp.tallies[tally].scores==['flux']:\n",
    "        t=sp.tallies[tally]\n",
    "\n",
    "def flux_cell(cell):\n",
    "    \n",
    "    cell_index = 99\n",
    "    cell_id=99\n",
    "    # print(model.geometry.get_all_material_cells().values())\n",
    "    i=0\n",
    "    for all_cell in model.geometry.get_all_material_cells().values():\n",
    "        i=i+1\n",
    "        if all_cell.name==cell:\n",
    "            cell_index=all_cell.id\n",
    "            cell_id=i-1\n",
    "            # print(cell_id)\n",
    "           \n",
    "    tally_data_reshaped =t.get_reshaped_data()\n",
    "    flux=tally_data_reshaped[cell_id]\n",
    "    \n",
    "    liste_reduced = []\n",
    "    for under_liste in flux:\n",
    "        nombre = under_liste[0][0]\n",
    "        liste_reduced.append(nombre)\n",
    "    flux=liste_reduced\n",
    "    return(flux)\n",
    "    \n",
    "\n",
    "dE=np.diff(choose_group)\n",
    "Emid=choose_group[:-1]+dE/2\n",
    "\n",
    "fig, ax = plt.subplots()\n",
    "for i,cell in enumerate(cell_plot):\n",
    "    flux=flux_cell(cell_plot[i])    \n",
    "    mg_spectrum=flux / np.sum(flux)\n",
    "    ax.step(choose_group[:-1], Emid*mg_spectrum/dE, where='post', label=cell_plot[i])\n",
    "ax.set_xscale('log')\n",
    "ax.xaxis.set_major_locator(FixedLocator(locs=np.logspace(-5, 7, 13)))\n",
    "locmin=LogLocator(base=10,subs=np.linspace(0,1.0,11)[1:-1],numticks=1000)\n",
    "ax.xaxis.set_minor_locator(locmin)\n",
    "ax.set_xlabel('Energy [eV]')\n",
    "ax.set_ylabel('Flux [n-cm/eV-src]')\n",
    "ax.set_xlim(1e-3,1.)\n",
    "ax.set_ylim(0,0.1)\n",
    "ax.grid()\n",
    "ax.legend()\n",
    "plt.show()\n"
   ]
  },
  {
   "cell_type": "markdown",
   "id": "828f2d7f-51d5-4edf-8e1a-69e59836b808",
   "metadata": {},
   "source": [
    "### Print MGXS"
   ]
  },
  {
   "cell_type": "code",
   "execution_count": 245,
   "id": "9a517d57-4fc0-45df-8fb5-f437e155aa51",
   "metadata": {},
   "outputs": [
    {
     "name": "stdout",
     "output_type": "stream",
     "text": [
      "Multi-Group XS\n",
      "\tReaction Type  =\ttotal\n",
      "\tDomain Type    =\tcell\n",
      "\tDomain ID      =\t199\n",
      "\tCross Sections [cm^-1]:\n",
      "            Group 1 [17332500.0 - 19640300.0eV]:\t2.09e-01 +/- 9.36e+01%\n",
      "            Group 2 [14918200.0 - 17332500.0eV]:\t2.06e-01 +/- 2.67e+01%\n",
      "            Group 3 [13840300.0 - 14918200.0eV]:\t2.05e-01 +/- 2.58e+01%\n",
      "            Group 4 [11618300.0 - 13840300.0eV]:\t2.00e-01 +/- 8.84e+00%\n",
      "            Group 5 [10000000.0 - 11618300.0eV]:\t1.92e-01 +/- 4.33e+00%\n",
      "            Group 6 [8187310.0  - 10000000.0eV]:\t1.91e-01 +/- 2.44e+00%\n",
      "            Group 7 [6703200.0  - 8187310.0 eV]:\t1.97e-01 +/- 1.46e+00%\n",
      "            Group 8 [6065310.0  - 6703200.0 eV]:\t1.97e-01 +/- 1.56e+00%\n",
      "            Group 9 [5488120.0  - 6065310.0 eV]:\t2.23e-01 +/- 1.24e+00%\n",
      "            Group 10 [4493290.0  - 5488120.0 eV]:\t2.29e-01 +/- 6.38e-01%\n",
      "            Group 11 [3678790.0  - 4493290.0 eV]:\t2.73e-01 +/- 6.19e-01%\n",
      "            Group 12 [3011940.0  - 3678790.0 eV]:\t2.90e-01 +/- 4.72e-01%\n",
      "            Group 13 [2465970.0  - 3011940.0 eV]:\t2.23e-01 +/- 4.50e-01%\n",
      "            Group 14 [2231300.0  - 2465970.0 eV]:\t1.95e-01 +/- 5.54e-01%\n",
      "            Group 15 [2018970.0  - 2231300.0 eV]:\t2.28e-01 +/- 4.56e-01%\n",
      "            Group 16 [1652990.0  - 2018970.0 eV]:\t2.47e-01 +/- 4.26e-01%\n",
      "            Group 17 [1353350.0  - 1652990.0 eV]:\t2.58e-01 +/- 3.18e-01%\n",
      "            Group 18 [1224560.0  - 1353350.0 eV]:\t3.30e-01 +/- 5.09e-01%\n",
      "            Group 19 [1108030.0  - 1224560.0 eV]:\t2.85e-01 +/- 6.03e-01%\n",
      "            Group 20 [1002590.0  - 1108030.0 eV]:\t3.92e-01 +/- 4.04e-01%\n",
      "            Group 21 [907180.0   - 1002590.0 eV]:\t4.01e-01 +/- 4.73e-01%\n",
      "            Group 22 [820850.0   - 907180.0  eV]:\t2.94e-01 +/- 5.06e-01%\n",
      "            Group 23 [608101.0   - 820850.0  eV]:\t2.97e-01 +/- 2.82e-01%\n",
      "            Group 24 [550232.0   - 608101.0  eV]:\t3.26e-01 +/- 4.14e-01%\n",
      "            Group 25 [497871.0   - 550232.0  eV]:\t3.61e-01 +/- 4.40e-01%\n",
      "            Group 26 [450492.0   - 497871.0  eV]:\t5.00e-01 +/- 4.98e-01%\n",
      "            Group 27 [407622.0   - 450492.0  eV]:\t7.89e-01 +/- 5.49e-01%\n",
      "            Group 28 [301974.0   - 407622.0  eV]:\t4.01e-01 +/- 3.27e-01%\n",
      "            Group 29 [273237.0   - 301974.0  eV]:\t3.74e-01 +/- 4.28e-01%\n",
      "            Group 30 [247235.0   - 273237.0  eV]:\t3.78e-01 +/- 4.97e-01%\n",
      "            Group 31 [183156.0   - 247235.0  eV]:\t3.89e-01 +/- 3.08e-01%\n",
      "            Group 32 [122773.0   - 183156.0  eV]:\t4.08e-01 +/- 3.19e-01%\n",
      "            Group 33 [111090.0   - 122773.0  eV]:\t4.21e-01 +/- 5.81e-01%\n",
      "            Group 34 [82297.5    - 111090.0  eV]:\t4.30e-01 +/- 3.27e-01%\n",
      "            Group 35 [67379.5    - 82297.5   eV]:\t4.40e-01 +/- 5.37e-01%\n",
      "            Group 36 [55165.6    - 67379.5   eV]:\t4.48e-01 +/- 4.01e-01%\n",
      "            Group 37 [40867.7    - 55165.6   eV]:\t4.55e-01 +/- 3.37e-01%\n",
      "            Group 38 [36978.6    - 40867.7   eV]:\t4.60e-01 +/- 6.83e-01%\n",
      "            Group 39 [29283.0    - 36978.6   eV]:\t4.64e-01 +/- 4.90e-01%\n",
      "            Group 40 [27394.4    - 29283.0   eV]:\t4.69e-01 +/- 8.70e-01%\n",
      "            Group 41 [24787.5    - 27394.4   eV]:\t4.71e-01 +/- 6.81e-01%\n",
      "            Group 42 [16615.6    - 24787.5   eV]:\t4.80e-01 +/- 4.12e-01%\n",
      "            Group 43 [15034.4    - 16615.6   eV]:\t4.87e-01 +/- 6.54e-01%\n",
      "            Group 44 [11137.8    - 15034.4   eV]:\t4.90e-01 +/- 4.90e-01%\n",
      "            Group 45 [9118.82    - 11137.8   eV]:\t4.84e-01 +/- 4.94e-01%\n",
      "            Group 46 [7465.86    - 9118.82   eV]:\t4.94e-01 +/- 5.27e-01%\n",
      "            Group 47 [5530.84    - 7465.86   eV]:\t5.02e-01 +/- 4.74e-01%\n",
      "            Group 48 [5004.51    - 5530.84   eV]:\t4.77e-01 +/- 7.07e-01%\n",
      "            Group 49 [3526.62    - 5004.51   eV]:\t5.21e-01 +/- 3.74e-01%\n",
      "            Group 50 [3354.63    - 3526.62   eV]:\t5.45e-01 +/- 9.27e-01%\n",
      "            Group 51 [2248.67    - 3354.63   eV]:\t5.37e-01 +/- 4.20e-01%\n",
      "            Group 52 [2034.68    - 2248.67   eV]:\t5.15e-01 +/- 6.48e-01%\n",
      "            Group 53 [1507.33    - 2034.68   eV]:\t5.18e-01 +/- 4.75e-01%\n",
      "            Group 54 [1433.82    - 1507.33   eV]:\t4.59e-01 +/- 8.73e-01%\n",
      "            Group 55 [1234.1     - 1433.82   eV]:\t5.04e-01 +/- 6.88e-01%\n",
      "            Group 56 [1010.39    - 1234.1    eV]:\t5.14e-01 +/- 6.47e-01%\n",
      "            Group 57 [914.242    - 1010.39   eV]:\t5.45e-01 +/- 7.70e-01%\n",
      "            Group 58 [748.518    - 914.242   eV]:\t4.74e-01 +/- 5.50e-01%\n",
      "            Group 59 [677.287    - 748.518   eV]:\t4.98e-01 +/- 7.17e-01%\n",
      "            Group 60 [453.999    - 677.287   eV]:\t4.95e-01 +/- 3.98e-01%\n",
      "            Group 61 [371.703    - 453.999   eV]:\t4.91e-01 +/- 5.64e-01%\n",
      "            Group 62 [304.325    - 371.703   eV]:\t4.98e-01 +/- 4.88e-01%\n",
      "            Group 63 [203.995    - 304.325   eV]:\t5.69e-01 +/- 3.70e-01%\n",
      "            Group 64 [148.625    - 203.995   eV]:\t5.51e-01 +/- 4.51e-01%\n",
      "            Group 65 [136.742    - 148.625   eV]:\t4.77e-01 +/- 7.72e-01%\n",
      "            Group 66 [91.6609    - 136.742   eV]:\t6.16e-01 +/- 4.16e-01%\n",
      "            Group 67 [75.6736    - 91.6609   eV]:\t4.76e-01 +/- 5.71e-01%\n",
      "            Group 68 [67.9041    - 75.6736   eV]:\t5.24e-01 +/- 8.76e-01%\n",
      "            Group 69 [55.5951    - 67.9041   eV]:\t5.86e-01 +/- 7.37e-01%\n",
      "            Group 70 [51.578     - 55.5951   eV]:\t4.64e-01 +/- 8.54e-01%\n",
      "            Group 71 [48.2516    - 51.578    eV]:\t5.00e-01 +/- 8.96e-01%\n",
      "            Group 72 [45.5174    - 48.2516   eV]:\t4.97e-01 +/- 6.69e-01%\n",
      "            Group 73 [40.169     - 45.5174   eV]:\t5.74e-01 +/- 7.32e-01%\n",
      "            Group 74 [37.2665    - 40.169    eV]:\t1.13e+00 +/- 1.00e+00%\n",
      "            Group 75 [33.7201    - 37.2665   eV]:\t1.46e+00 +/- 1.03e+00%\n",
      "            Group 76 [30.5113    - 33.7201   eV]:\t3.69e-01 +/- 8.33e-01%\n",
      "            Group 77 [27.6077    - 30.5113   eV]:\t3.83e-01 +/- 7.64e-01%\n",
      "            Group 78 [24.9805    - 27.6077   eV]:\t4.34e-01 +/- 8.30e-01%\n",
      "            Group 79 [22.6033    - 24.9805   eV]:\t5.43e-01 +/- 7.40e-01%\n",
      "            Group 80 [19.4548    - 22.6033   eV]:\t1.19e+00 +/- 6.86e-01%\n",
      "            Group 81 [15.9283    - 19.4548   eV]:\t3.99e-01 +/- 5.74e-01%\n",
      "            Group 82 [13.7096    - 15.9283   eV]:\t3.92e-01 +/- 6.28e-01%\n",
      "            Group 83 [11.2245    - 13.7096   eV]:\t4.57e-01 +/- 4.82e-01%\n",
      "            Group 84 [9.90555    - 11.2245   eV]:\t4.14e-01 +/- 7.81e-01%\n",
      "            Group 85 [9.18981    - 9.90555   eV]:\t4.48e-01 +/- 8.06e-01%\n",
      "            Group 86 [8.31529    - 9.18981   eV]:\t5.96e-01 +/- 8.04e-01%\n",
      "            Group 87 [7.52398    - 8.31529   eV]:\t4.84e-01 +/- 8.22e-01%\n",
      "            Group 88 [6.16012    - 7.52398   eV]:\t1.46e+00 +/- 6.48e-01%\n",
      "            Group 89 [5.34643    - 6.16012   eV]:\t4.40e-01 +/- 8.53e-01%\n",
      "            Group 90 [5.04348    - 5.34643   eV]:\t3.87e-01 +/- 1.08e+00%\n",
      "            Group 91 [4.12925    - 5.04348   eV]:\t3.97e-01 +/- 7.17e-01%\n",
      "            Group 92 [4.0        - 4.12925   eV]:\t3.78e-01 +/- 1.41e+00%\n",
      "            Group 93 [3.38075    - 4.0       eV]:\t4.07e-01 +/- 7.35e-01%\n",
      "            Group 94 [3.3        - 3.38075   eV]:\t3.93e-01 +/- 1.60e+00%\n",
      "            Group 95 [2.76792    - 3.3       eV]:\t4.02e-01 +/- 6.78e-01%\n",
      "            Group 96 [2.72       - 2.76792   eV]:\t3.87e-01 +/- 1.73e+00%\n",
      "            Group 97 [2.6        - 2.72      eV]:\t3.87e-01 +/- 1.23e+00%\n",
      "            Group 98 [2.55       - 2.6       eV]:\t3.87e-01 +/- 1.90e+00%\n",
      "            Group 99 [2.36       - 2.55      eV]:\t3.88e-01 +/- 9.57e-01%\n",
      "            Group 100 [2.13       - 2.36      eV]:\t3.91e-01 +/- 8.99e-01%\n",
      "            Group 101 [2.1        - 2.13      eV]:\t3.98e-01 +/- 1.79e+00%\n",
      "            Group 102 [2.02       - 2.1       eV]:\t4.26e-01 +/- 1.23e+00%\n",
      "            Group 103 [1.93       - 2.02      eV]:\t4.09e-01 +/- 1.03e+00%\n",
      "            Group 104 [1.84       - 1.93      eV]:\t3.95e-01 +/- 9.99e-01%\n",
      "            Group 105 [1.755      - 1.84      eV]:\t3.95e-01 +/- 1.26e+00%\n",
      "            Group 106 [1.67       - 1.755     eV]:\t3.95e-01 +/- 1.30e+00%\n",
      "            Group 107 [1.59       - 1.67      eV]:\t3.96e-01 +/- 1.21e+00%\n",
      "            Group 108 [1.5        - 1.59      eV]:\t3.97e-01 +/- 1.06e+00%\n",
      "            Group 109 [1.475      - 1.5       eV]:\t3.98e-01 +/- 1.76e+00%\n",
      "            Group 110 [1.44498    - 1.475     eV]:\t3.99e-01 +/- 1.89e+00%\n",
      "            Group 111 [1.37       - 1.44498   eV]:\t4.01e-01 +/- 1.28e+00%\n",
      "            Group 112 [1.3375     - 1.37      eV]:\t4.04e-01 +/- 1.72e+00%\n",
      "            Group 113 [1.3        - 1.3375    eV]:\t4.09e-01 +/- 2.06e+00%\n",
      "            Group 114 [1.235      - 1.3       eV]:\t4.15e-01 +/- 1.27e+00%\n",
      "            Group 115 [1.17       - 1.235     eV]:\t4.47e-01 +/- 1.01e+00%\n",
      "            Group 116 [1.15       - 1.17      eV]:\t4.79e-01 +/- 1.88e+00%\n",
      "            Group 117 [1.12535    - 1.15      eV]:\t4.86e-01 +/- 1.82e+00%\n",
      "            Group 118 [1.11       - 1.12535   eV]:\t4.83e-01 +/- 2.02e+00%\n",
      "            Group 119 [1.097      - 1.11      eV]:\t4.77e-01 +/- 2.40e+00%\n",
      "            Group 120 [1.071      - 1.097     eV]:\t4.68e-01 +/- 1.86e+00%\n",
      "            Group 121 [1.045      - 1.071     eV]:\t4.57e-01 +/- 1.57e+00%\n",
      "            Group 122 [1.035      - 1.045     eV]:\t4.50e-01 +/- 2.62e+00%\n",
      "            Group 123 [1.02       - 1.035     eV]:\t4.47e-01 +/- 1.85e+00%\n",
      "            Group 124 [0.996      - 1.02      eV]:\t4.42e-01 +/- 1.53e+00%\n",
      "            Group 125 [0.986      - 0.996     eV]:\t4.39e-01 +/- 2.86e+00%\n",
      "            Group 126 [0.972      - 0.986     eV]:\t4.38e-01 +/- 2.01e+00%\n",
      "            Group 127 [0.95       - 0.972     eV]:\t4.36e-01 +/- 1.76e+00%\n",
      "            Group 128 [0.93       - 0.95      eV]:\t4.34e-01 +/- 1.71e+00%\n",
      "            Group 129 [0.91       - 0.93      eV]:\t4.33e-01 +/- 1.74e+00%\n",
      "            Group 130 [0.86       - 0.91      eV]:\t4.32e-01 +/- 1.03e+00%\n",
      "            Group 131 [0.85       - 0.86      eV]:\t4.31e-01 +/- 2.08e+00%\n",
      "            Group 132 [0.79       - 0.85      eV]:\t4.31e-01 +/- 7.62e-01%\n",
      "            Group 133 [0.78       - 0.79      eV]:\t4.32e-01 +/- 1.85e+00%\n",
      "            Group 134 [0.705      - 0.78      eV]:\t4.34e-01 +/- 7.16e-01%\n",
      "            Group 135 [0.625      - 0.705     eV]:\t4.38e-01 +/- 6.75e-01%\n",
      "            Group 136 [0.54       - 0.625     eV]:\t4.46e-01 +/- 6.24e-01%\n",
      "            Group 137 [0.5        - 0.54      eV]:\t4.54e-01 +/- 8.58e-01%\n",
      "            Group 138 [0.485      - 0.5       eV]:\t4.59e-01 +/- 1.63e+00%\n",
      "            Group 139 [0.433      - 0.485     eV]:\t4.67e-01 +/- 7.83e-01%\n",
      "            Group 140 [0.4        - 0.433     eV]:\t4.80e-01 +/- 9.56e-01%\n",
      "            Group 141 [0.391      - 0.4       eV]:\t4.89e-01 +/- 1.58e+00%\n",
      "            Group 142 [0.35       - 0.391     eV]:\t5.04e-01 +/- 6.56e-01%\n",
      "            Group 143 [0.32       - 0.35      eV]:\t5.30e-01 +/- 7.16e-01%\n",
      "            Group 144 [0.3145     - 0.32      eV]:\t5.44e-01 +/- 1.64e+00%\n",
      "            Group 145 [0.3        - 0.3145    eV]:\t5.52e-01 +/- 1.04e+00%\n",
      "            Group 146 [0.28       - 0.3       eV]:\t5.61e-01 +/- 1.01e+00%\n",
      "            Group 147 [0.248      - 0.28      eV]:\t5.63e-01 +/- 6.14e-01%\n",
      "            Group 148 [0.22       - 0.248     eV]:\t5.56e-01 +/- 7.55e-01%\n",
      "            Group 149 [0.189      - 0.22      eV]:\t5.51e-01 +/- 6.35e-01%\n",
      "            Group 150 [0.18       - 0.189     eV]:\t5.52e-01 +/- 9.21e-01%\n",
      "            Group 151 [0.16       - 0.18      eV]:\t5.57e-01 +/- 6.07e-01%\n",
      "            Group 152 [0.14       - 0.16      eV]:\t5.66e-01 +/- 5.76e-01%\n",
      "            Group 153 [0.134      - 0.14      eV]:\t5.75e-01 +/- 9.99e-01%\n",
      "            Group 154 [0.115      - 0.134     eV]:\t5.86e-01 +/- 5.33e-01%\n",
      "            Group 155 [0.100001   - 0.115     eV]:\t6.04e-01 +/- 5.97e-01%\n",
      "            Group 156 [0.095      - 0.100001  eV]:\t6.18e-01 +/- 9.40e-01%\n",
      "            Group 157 [0.08       - 0.095     eV]:\t6.34e-01 +/- 5.21e-01%\n",
      "            Group 158 [0.077      - 0.08      eV]:\t6.51e-01 +/- 6.57e-01%\n",
      "            Group 159 [0.067      - 0.077     eV]:\t6.66e-01 +/- 4.04e-01%\n",
      "            Group 160 [0.058      - 0.067     eV]:\t6.92e-01 +/- 4.17e-01%\n",
      "            Group 161 [0.05       - 0.058     eV]:\t7.20e-01 +/- 4.68e-01%\n",
      "            Group 162 [0.042      - 0.05      eV]:\t7.54e-01 +/- 4.46e-01%\n",
      "            Group 163 [0.035      - 0.042     eV]:\t7.94e-01 +/- 5.01e-01%\n",
      "            Group 164 [0.03       - 0.035     eV]:\t8.35e-01 +/- 5.36e-01%\n",
      "            Group 165 [0.025      - 0.03      eV]:\t8.79e-01 +/- 5.57e-01%\n",
      "            Group 166 [0.02       - 0.025     eV]:\t9.38e-01 +/- 5.74e-01%\n",
      "            Group 167 [0.015      - 0.02      eV]:\t1.02e+00 +/- 6.06e-01%\n",
      "            Group 168 [0.01       - 0.015     eV]:\t1.14e+00 +/- 7.29e-01%\n",
      "            Group 169 [0.0069     - 0.01      eV]:\t1.32e+00 +/- 1.12e+00%\n",
      "            Group 170 [0.005      - 0.0069    eV]:\t1.51e+00 +/- 1.54e+00%\n",
      "            Group 171 [0.003      - 0.005     eV]:\t1.76e+00 +/- 1.49e+00%\n",
      "            Group 172 [1.00001e-05 - 0.003     eV]:\t2.49e+00 +/- 2.31e+00%\n",
      "\n",
      "\n",
      "\n"
     ]
    }
   ],
   "source": [
    "mgxs_lib.load_from_statepoint(sp)\n",
    "type(mgxs_lib)\n",
    "reaction_print = 'total'\n",
    "#Enter the name of the cell type openmc.Cell /// example: fuel_out = openmc.Cell(name='fuel_out') ///\n",
    "cell_print=fuel_side\n",
    "df_mgxs = mgxs_lib.get_mgxs(cell_print, reaction_print)\n",
    "df_mgxs.print_xs()"
   ]
  },
  {
   "cell_type": "markdown",
   "id": "b660bdb6-73e7-49cd-b5db-153a6d77aad9",
   "metadata": {},
   "source": [
    "### Plot MGXS from mgxs directory"
   ]
  },
  {
   "cell_type": "code",
   "execution_count": 246,
   "id": "7b3d5674-d33b-4dd7-83a0-fd5e462f8751",
   "metadata": {},
   "outputs": [
    {
     "data": {
      "image/png": "[encoded data removed]",
      "text/plain": [
       "<Figure size 640x480 with 1 Axes>"
      ]
     },
     "metadata": {},
     "output_type": "display_data"
    }
   ],
   "source": [
    "#Enter the name of the cell type openmc.Cell /// example: fuel_out = openmc.Cell(name='fuel_out') ///\n",
    "\n",
    "reaction_plot = 'total'\n",
    "cell_plot_1 = fuel_side\n",
    "cell_name_1='fuel_side'\n",
    "cell_plot_2 = fuel_diag\n",
    "cell_name_2='fuel_diag'\n",
    "\n",
    "\n",
    "mgxs_plot_1 = mgxs_lib.get_mgxs(cell_plot_1, reaction_plot)\n",
    "\n",
    "mgxs1=mgxs_plot_1.get_pandas_dataframe(xs_type='macro')['mean'].values\n",
    "mgxs_plot_2 = mgxs_lib.get_mgxs(cell_plot_2, reaction_plot)\n",
    "mgxs2=mgxs_plot_2.get_pandas_dataframe(xs_type='macro')['mean'].values\n",
    "\n",
    "\n",
    "fig, ax = plt.subplots()\n",
    "ax.step(choose_group[:-1], np.flip(mgxs1), where='post', label=cell_name_1,marker='+') \n",
    "ax.step(choose_group[:-1], np.flip(mgxs2), where='post', label=cell_name_2) \n",
    "\n",
    "        \n",
    "ax.set_xscale('log')\n",
    "ax.set_xlabel('Energy [MeV]')\n",
    "ax.set_ylabel('MGXS [cm-1]')\n",
    "ax.grid() \n",
    "# bbox = ax.get_position()\n",
    "# ax.text(bbox.x1 - 0.05, bbox.y0 - 0.05, reaction_plot, fontsize=15, color='red', ha='right')\n",
    "ax.legend()\n",
    "plt.show()"
   ]
  },
  {
   "cell_type": "code",
   "execution_count": 264,
   "id": "5700c68c-6e3c-4763-bc41-0a1af998b591",
   "metadata": {},
   "outputs": [
    {
     "name": "stdout",
     "output_type": "stream",
     "text": [
      "dict_values([Cell\n",
      "\tID             =\t203\n",
      "\tName           =\tfuel_diag\n",
      "\tFill           =\tMaterial 63\n",
      "\tRegion         =\t-245\n",
      "\tRotation       =\tNone\n",
      "\tTemperature    =\tNone\n",
      "\tTranslation    =\tNone\n",
      "\tVolume         =\tNone\n",
      ", Cell\n",
      "\tID             =\t205\n",
      "\tName           =\tclad_diag\n",
      "\tFill           =\tMaterial 64\n",
      "\tRegion         =\t(246 -247)\n",
      "\tRotation       =\tNone\n",
      "\tTemperature    =\tNone\n",
      "\tTranslation    =\tNone\n",
      "\tVolume         =\tNone\n",
      ", Cell\n",
      "\tID             =\t206\n",
      "\tName           =\tmoderator_diag\n",
      "\tFill           =\tMaterial 66\n",
      "\tRegion         =\t(248 -249 250 -251 247)\n",
      "\tRotation       =\tNone\n",
      "\tTemperature    =\tNone\n",
      "\tTranslation    =\tNone\n",
      "\tVolume         =\tNone\n",
      ", Cell\n",
      "\tID             =\t199\n",
      "\tName           =\tfuel_side\n",
      "\tFill           =\tMaterial 63\n",
      "\tRegion         =\t-245\n",
      "\tRotation       =\tNone\n",
      "\tTemperature    =\tNone\n",
      "\tTranslation    =\tNone\n",
      "\tVolume         =\tNone\n",
      ", Cell\n",
      "\tID             =\t201\n",
      "\tName           =\tclad_side\n",
      "\tFill           =\tMaterial 64\n",
      "\tRegion         =\t(246 -247)\n",
      "\tRotation       =\tNone\n",
      "\tTemperature    =\tNone\n",
      "\tTranslation    =\tNone\n",
      "\tVolume         =\tNone\n",
      ", Cell\n",
      "\tID             =\t202\n",
      "\tName           =\tmoderator_side\n",
      "\tFill           =\tMaterial 65\n",
      "\tRegion         =\t(248 -249 250 -251 247)\n",
      "\tRotation       =\tNone\n",
      "\tTemperature    =\tNone\n",
      "\tTranslation    =\tNone\n",
      "\tVolume         =\tNone\n",
      ", Cell\n",
      "\tID             =\t207\n",
      "\tName           =\twater_guide\n",
      "\tFill           =\tMaterial 65\n",
      "\tRegion         =\t-246\n",
      "\tRotation       =\tNone\n",
      "\tTemperature    =\tNone\n",
      "\tTranslation    =\tNone\n",
      "\tVolume         =\tNone\n",
      ", Cell\n",
      "\tID             =\t208\n",
      "\tName           =\tclad_guide\n",
      "\tFill           =\tMaterial 64\n",
      "\tRegion         =\t(246 -247)\n",
      "\tRotation       =\tNone\n",
      "\tTemperature    =\tNone\n",
      "\tTranslation    =\tNone\n",
      "\tVolume         =\tNone\n",
      ", Cell\n",
      "\tID             =\t209\n",
      "\tName           =\tmoderator_guide\n",
      "\tFill           =\tMaterial 65\n",
      "\tRegion         =\t(248 -249 250 -251 247)\n",
      "\tRotation       =\tNone\n",
      "\tTemperature    =\tNone\n",
      "\tTranslation    =\tNone\n",
      "\tVolume         =\tNone\n",
      "])\n",
      "['flux', 'total', 'absorption', 'fission', 'nu-fission', 'inverse-velocity']\n",
      "(9, 172, 1, 6)\n"
     ]
    }
   ],
   "source": [
    "openmc_cells = model.geometry.get_all_material_cells().values()\n",
    "print(openmc_cells)\n",
    "sp.tallies\n",
    "#print(openmc_cells)\n",
    "t=sp.tallies[3687]\n",
    "sp.tallies[3687].filters\n",
    "print(sp.tallies[3687].scores)\n",
    "\n",
    "tally_data_reshaped =t.get_reshaped_data()\n",
    "print(tally_data_reshaped.shape)"
   ]
  },
  {
   "cell_type": "code",
   "execution_count": 266,
   "id": "b1cb1f9a-3258-4106-8ce0-88f1790a539a",
   "metadata": {},
   "outputs": [
    {
     "name": "stdout",
     "output_type": "stream",
     "text": [
      "(9, 172, 1, 6)\n",
      "173\n",
      "0 203\n",
      "3 199\n"
     ]
    },
    {
     "data": {
      "image/png": "[encoded data removed]",
      "text/plain": [
       "<Figure size 640x480 with 1 Axes>"
      ]
     },
     "metadata": {},
     "output_type": "display_data"
    }
   ],
   "source": [
    "#print(openmc_cells)\n",
    "t=sp.tallies[3687]\n",
    "tally_data_reshaped =t.get_reshaped_data()\n",
    "print(tally_data_reshaped.shape)\n",
    "\n",
    "flux_190=tally_data_reshaped[3]\n",
    "flux_192=tally_data_reshaped[4]\n",
    "\n",
    "# print(flux_190)\n",
    "energy_filter_id = 0\n",
    "flux_score_id = 0\n",
    "flux = tally_data_reshaped[:,:,energy_filter_id,flux_score_id]\n",
    "E = choose_group\n",
    "print(len(E))\n",
    "dE = np.diff(E)\n",
    "Emid = E[:-1] + dE/2\n",
    "plt.figure()\n",
    "\n",
    "\n",
    "\n",
    "for i,cell in enumerate(openmc_cells):\n",
    "    if cell.name=='fuel_diag' :\n",
    "        # normalize so that integral over E sums to 1.\n",
    "        mg_spectrum_diag = flux[i,:] / np.sum(flux[i,:])*Emid/dE\n",
    "        print(i,cell.id)\n",
    "    if cell.name=='fuel_side' :\n",
    "        print(i,cell.id)\n",
    "        # normalize so that integral over E sums to 1.\n",
    "        mg_spectrum_side = flux[i,:] / np.sum(flux[i,:])*Emid/dE\n",
    "plt.semilogx(Emid, mg_spectrum_diag/mg_spectrum_side)#, label=cell.name)\n",
    "#plt.legend()\n",
    "plt.grid()\n",
    "plt.show()"
   ]
  },
  {
   "cell_type": "code",
   "execution_count": null,
   "id": "f9b3b2a2-a6a4-44f0-ba6c-8a8caf529dc3",
   "metadata": {},
   "outputs": [],
   "source": []
  }
 ],
 "metadata": {
  "kernelspec": {
   "display_name": "Python 3 (ipykernel)",
   "language": "python",
   "name": "python3"
  },
  "language_info": {
   "codemirror_mode": {
    "name": "ipython",
    "version": 3
   },
   "file_extension": ".py",
   "mimetype": "text/x-python",
   "name": "python",
   "nbconvert_exporter": "python",
   "pygments_lexer": "ipython3",
   "version": "3.12.3"
  }
 },
 "nbformat": 4,
 "nbformat_minor": 5
}
